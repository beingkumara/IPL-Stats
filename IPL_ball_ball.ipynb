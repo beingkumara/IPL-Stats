{
 "cells": [
  {
   "cell_type": "markdown",
   "metadata": {
    "id": "Z6y23RJYneXH"
   },
   "source": [
    "IMPORTING THE LIBRARIES"
   ]
  },
  {
   "cell_type": "code",
   "execution_count": 76,
   "metadata": {},
   "outputs": [],
   "source": [
    "import numpy as np\n",
    "import pandas as pd\n",
    "import matplotlib.pyplot as plt\n",
    "import seaborn as sns\n",
    "import plotly.express as px\n",
    "import re"
   ]
  },
  {
   "cell_type": "markdown",
   "metadata": {},
   "source": [
    "READING THE DATASET"
   ]
  },
  {
   "cell_type": "code",
   "execution_count": 77,
   "metadata": {
    "colab": {
     "base_uri": "https://localhost:8080/",
     "height": 444
    },
    "id": "Sx2REKivoOhY",
    "outputId": "fbcff5b0-e6de-4f2b-8b96-4579584f19f7"
   },
   "outputs": [
    {
     "data": {
      "text/html": [
       "<div>\n",
       "<style scoped>\n",
       "    .dataframe tbody tr th:only-of-type {\n",
       "        vertical-align: middle;\n",
       "    }\n",
       "\n",
       "    .dataframe tbody tr th {\n",
       "        vertical-align: top;\n",
       "    }\n",
       "\n",
       "    .dataframe thead th {\n",
       "        text-align: right;\n",
       "    }\n",
       "</style>\n",
       "<table border=\"1\" class=\"dataframe\">\n",
       "  <thead>\n",
       "    <tr style=\"text-align: right;\">\n",
       "      <th></th>\n",
       "      <th>id</th>\n",
       "      <th>inning</th>\n",
       "      <th>over</th>\n",
       "      <th>ball</th>\n",
       "      <th>batsman</th>\n",
       "      <th>non_striker</th>\n",
       "      <th>bowler</th>\n",
       "      <th>batsman_runs</th>\n",
       "      <th>extra_runs</th>\n",
       "      <th>total_runs</th>\n",
       "      <th>non_boundary</th>\n",
       "      <th>is_wicket</th>\n",
       "      <th>dismissal_kind</th>\n",
       "      <th>player_dismissed</th>\n",
       "      <th>fielder</th>\n",
       "      <th>extras_type</th>\n",
       "      <th>batting_team</th>\n",
       "      <th>bowling_team</th>\n",
       "    </tr>\n",
       "  </thead>\n",
       "  <tbody>\n",
       "    <tr>\n",
       "      <th>0</th>\n",
       "      <td>335982</td>\n",
       "      <td>1</td>\n",
       "      <td>6</td>\n",
       "      <td>5</td>\n",
       "      <td>RT Ponting</td>\n",
       "      <td>BB McCullum</td>\n",
       "      <td>AA Noffke</td>\n",
       "      <td>1</td>\n",
       "      <td>0</td>\n",
       "      <td>1</td>\n",
       "      <td>0</td>\n",
       "      <td>0</td>\n",
       "      <td>NaN</td>\n",
       "      <td>NaN</td>\n",
       "      <td>NaN</td>\n",
       "      <td>NaN</td>\n",
       "      <td>Kolkata Knight Riders</td>\n",
       "      <td>Royal Challengers Bangalore</td>\n",
       "    </tr>\n",
       "    <tr>\n",
       "      <th>1</th>\n",
       "      <td>335982</td>\n",
       "      <td>1</td>\n",
       "      <td>6</td>\n",
       "      <td>6</td>\n",
       "      <td>BB McCullum</td>\n",
       "      <td>RT Ponting</td>\n",
       "      <td>AA Noffke</td>\n",
       "      <td>1</td>\n",
       "      <td>0</td>\n",
       "      <td>1</td>\n",
       "      <td>0</td>\n",
       "      <td>0</td>\n",
       "      <td>NaN</td>\n",
       "      <td>NaN</td>\n",
       "      <td>NaN</td>\n",
       "      <td>NaN</td>\n",
       "      <td>Kolkata Knight Riders</td>\n",
       "      <td>Royal Challengers Bangalore</td>\n",
       "    </tr>\n",
       "    <tr>\n",
       "      <th>2</th>\n",
       "      <td>335982</td>\n",
       "      <td>1</td>\n",
       "      <td>7</td>\n",
       "      <td>1</td>\n",
       "      <td>BB McCullum</td>\n",
       "      <td>RT Ponting</td>\n",
       "      <td>Z Khan</td>\n",
       "      <td>0</td>\n",
       "      <td>0</td>\n",
       "      <td>0</td>\n",
       "      <td>0</td>\n",
       "      <td>0</td>\n",
       "      <td>NaN</td>\n",
       "      <td>NaN</td>\n",
       "      <td>NaN</td>\n",
       "      <td>NaN</td>\n",
       "      <td>Kolkata Knight Riders</td>\n",
       "      <td>Royal Challengers Bangalore</td>\n",
       "    </tr>\n",
       "    <tr>\n",
       "      <th>3</th>\n",
       "      <td>335982</td>\n",
       "      <td>1</td>\n",
       "      <td>7</td>\n",
       "      <td>2</td>\n",
       "      <td>BB McCullum</td>\n",
       "      <td>RT Ponting</td>\n",
       "      <td>Z Khan</td>\n",
       "      <td>1</td>\n",
       "      <td>0</td>\n",
       "      <td>1</td>\n",
       "      <td>0</td>\n",
       "      <td>0</td>\n",
       "      <td>NaN</td>\n",
       "      <td>NaN</td>\n",
       "      <td>NaN</td>\n",
       "      <td>NaN</td>\n",
       "      <td>Kolkata Knight Riders</td>\n",
       "      <td>Royal Challengers Bangalore</td>\n",
       "    </tr>\n",
       "    <tr>\n",
       "      <th>4</th>\n",
       "      <td>335982</td>\n",
       "      <td>1</td>\n",
       "      <td>7</td>\n",
       "      <td>3</td>\n",
       "      <td>RT Ponting</td>\n",
       "      <td>BB McCullum</td>\n",
       "      <td>Z Khan</td>\n",
       "      <td>1</td>\n",
       "      <td>0</td>\n",
       "      <td>1</td>\n",
       "      <td>0</td>\n",
       "      <td>0</td>\n",
       "      <td>NaN</td>\n",
       "      <td>NaN</td>\n",
       "      <td>NaN</td>\n",
       "      <td>NaN</td>\n",
       "      <td>Kolkata Knight Riders</td>\n",
       "      <td>Royal Challengers Bangalore</td>\n",
       "    </tr>\n",
       "  </tbody>\n",
       "</table>\n",
       "</div>"
      ],
      "text/plain": [
       "       id  inning  over  ball      batsman  non_striker     bowler  \\\n",
       "0  335982       1     6     5   RT Ponting  BB McCullum  AA Noffke   \n",
       "1  335982       1     6     6  BB McCullum   RT Ponting  AA Noffke   \n",
       "2  335982       1     7     1  BB McCullum   RT Ponting     Z Khan   \n",
       "3  335982       1     7     2  BB McCullum   RT Ponting     Z Khan   \n",
       "4  335982       1     7     3   RT Ponting  BB McCullum     Z Khan   \n",
       "\n",
       "   batsman_runs  extra_runs  total_runs  non_boundary  is_wicket  \\\n",
       "0             1           0           1             0          0   \n",
       "1             1           0           1             0          0   \n",
       "2             0           0           0             0          0   \n",
       "3             1           0           1             0          0   \n",
       "4             1           0           1             0          0   \n",
       "\n",
       "  dismissal_kind player_dismissed fielder extras_type           batting_team  \\\n",
       "0            NaN              NaN     NaN         NaN  Kolkata Knight Riders   \n",
       "1            NaN              NaN     NaN         NaN  Kolkata Knight Riders   \n",
       "2            NaN              NaN     NaN         NaN  Kolkata Knight Riders   \n",
       "3            NaN              NaN     NaN         NaN  Kolkata Knight Riders   \n",
       "4            NaN              NaN     NaN         NaN  Kolkata Knight Riders   \n",
       "\n",
       "                  bowling_team  \n",
       "0  Royal Challengers Bangalore  \n",
       "1  Royal Challengers Bangalore  \n",
       "2  Royal Challengers Bangalore  \n",
       "3  Royal Challengers Bangalore  \n",
       "4  Royal Challengers Bangalore  "
      ]
     },
     "execution_count": 77,
     "metadata": {},
     "output_type": "execute_result"
    }
   ],
   "source": [
    "match = pd.read_csv('IPL Ball-by-Ball 2008-2020.csv')\n",
    "match.head()"
   ]
  },
  {
   "cell_type": "markdown",
   "metadata": {},
   "source": [
    "EXPLORATORY DATA ANALYSIS"
   ]
  },
  {
   "cell_type": "code",
   "execution_count": 78,
   "metadata": {},
   "outputs": [
    {
     "name": "stdout",
     "output_type": "stream",
     "text": [
      "<class 'pandas.core.frame.DataFrame'>\n",
      "RangeIndex: 193468 entries, 0 to 193467\n",
      "Data columns (total 18 columns):\n",
      " #   Column            Non-Null Count   Dtype \n",
      "---  ------            --------------   ----- \n",
      " 0   id                193468 non-null  int64 \n",
      " 1   inning            193468 non-null  int64 \n",
      " 2   over              193468 non-null  int64 \n",
      " 3   ball              193468 non-null  int64 \n",
      " 4   batsman           193468 non-null  object\n",
      " 5   non_striker       193468 non-null  object\n",
      " 6   bowler            193468 non-null  object\n",
      " 7   batsman_runs      193468 non-null  int64 \n",
      " 8   extra_runs        193468 non-null  int64 \n",
      " 9   total_runs        193468 non-null  int64 \n",
      " 10  non_boundary      193468 non-null  int64 \n",
      " 11  is_wicket         193468 non-null  int64 \n",
      " 12  dismissal_kind    9495 non-null    object\n",
      " 13  player_dismissed  9495 non-null    object\n",
      " 14  fielder           6784 non-null    object\n",
      " 15  extras_type       10233 non-null   object\n",
      " 16  batting_team      193468 non-null  object\n",
      " 17  bowling_team      193277 non-null  object\n",
      "dtypes: int64(9), object(9)\n",
      "memory usage: 26.6+ MB\n"
     ]
    }
   ],
   "source": [
    "match.info()"
   ]
  },
  {
   "cell_type": "code",
   "execution_count": 79,
   "metadata": {},
   "outputs": [
    {
     "data": {
      "text/html": [
       "<div>\n",
       "<style scoped>\n",
       "    .dataframe tbody tr th:only-of-type {\n",
       "        vertical-align: middle;\n",
       "    }\n",
       "\n",
       "    .dataframe tbody tr th {\n",
       "        vertical-align: top;\n",
       "    }\n",
       "\n",
       "    .dataframe thead th {\n",
       "        text-align: right;\n",
       "    }\n",
       "</style>\n",
       "<table border=\"1\" class=\"dataframe\">\n",
       "  <thead>\n",
       "    <tr style=\"text-align: right;\">\n",
       "      <th></th>\n",
       "      <th>id</th>\n",
       "      <th>inning</th>\n",
       "      <th>over</th>\n",
       "      <th>ball</th>\n",
       "      <th>batsman_runs</th>\n",
       "      <th>extra_runs</th>\n",
       "      <th>total_runs</th>\n",
       "      <th>non_boundary</th>\n",
       "      <th>is_wicket</th>\n",
       "    </tr>\n",
       "  </thead>\n",
       "  <tbody>\n",
       "    <tr>\n",
       "      <th>count</th>\n",
       "      <td>1.934680e+05</td>\n",
       "      <td>193468.000000</td>\n",
       "      <td>193468.000000</td>\n",
       "      <td>193468.000000</td>\n",
       "      <td>193468.000000</td>\n",
       "      <td>193468.000000</td>\n",
       "      <td>193468.000000</td>\n",
       "      <td>193468.000000</td>\n",
       "      <td>193468.000000</td>\n",
       "    </tr>\n",
       "    <tr>\n",
       "      <th>mean</th>\n",
       "      <td>7.567688e+05</td>\n",
       "      <td>1.482131</td>\n",
       "      <td>9.177027</td>\n",
       "      <td>3.615967</td>\n",
       "      <td>1.240231</td>\n",
       "      <td>0.066414</td>\n",
       "      <td>1.306645</td>\n",
       "      <td>0.000083</td>\n",
       "      <td>0.049078</td>\n",
       "    </tr>\n",
       "    <tr>\n",
       "      <th>std</th>\n",
       "      <td>3.060971e+05</td>\n",
       "      <td>0.499682</td>\n",
       "      <td>5.676848</td>\n",
       "      <td>1.807128</td>\n",
       "      <td>1.610867</td>\n",
       "      <td>0.339991</td>\n",
       "      <td>1.598802</td>\n",
       "      <td>0.009094</td>\n",
       "      <td>0.216031</td>\n",
       "    </tr>\n",
       "    <tr>\n",
       "      <th>min</th>\n",
       "      <td>3.359820e+05</td>\n",
       "      <td>1.000000</td>\n",
       "      <td>0.000000</td>\n",
       "      <td>1.000000</td>\n",
       "      <td>0.000000</td>\n",
       "      <td>0.000000</td>\n",
       "      <td>0.000000</td>\n",
       "      <td>0.000000</td>\n",
       "      <td>0.000000</td>\n",
       "    </tr>\n",
       "    <tr>\n",
       "      <th>25%</th>\n",
       "      <td>5.012270e+05</td>\n",
       "      <td>1.000000</td>\n",
       "      <td>4.000000</td>\n",
       "      <td>2.000000</td>\n",
       "      <td>0.000000</td>\n",
       "      <td>0.000000</td>\n",
       "      <td>0.000000</td>\n",
       "      <td>0.000000</td>\n",
       "      <td>0.000000</td>\n",
       "    </tr>\n",
       "    <tr>\n",
       "      <th>50%</th>\n",
       "      <td>7.292970e+05</td>\n",
       "      <td>1.000000</td>\n",
       "      <td>9.000000</td>\n",
       "      <td>4.000000</td>\n",
       "      <td>1.000000</td>\n",
       "      <td>0.000000</td>\n",
       "      <td>1.000000</td>\n",
       "      <td>0.000000</td>\n",
       "      <td>0.000000</td>\n",
       "    </tr>\n",
       "    <tr>\n",
       "      <th>75%</th>\n",
       "      <td>1.082628e+06</td>\n",
       "      <td>2.000000</td>\n",
       "      <td>14.000000</td>\n",
       "      <td>5.000000</td>\n",
       "      <td>1.000000</td>\n",
       "      <td>0.000000</td>\n",
       "      <td>1.000000</td>\n",
       "      <td>0.000000</td>\n",
       "      <td>0.000000</td>\n",
       "    </tr>\n",
       "    <tr>\n",
       "      <th>max</th>\n",
       "      <td>1.237181e+06</td>\n",
       "      <td>2.000000</td>\n",
       "      <td>19.000000</td>\n",
       "      <td>9.000000</td>\n",
       "      <td>6.000000</td>\n",
       "      <td>7.000000</td>\n",
       "      <td>7.000000</td>\n",
       "      <td>1.000000</td>\n",
       "      <td>1.000000</td>\n",
       "    </tr>\n",
       "  </tbody>\n",
       "</table>\n",
       "</div>"
      ],
      "text/plain": [
       "                 id         inning           over           ball  \\\n",
       "count  1.934680e+05  193468.000000  193468.000000  193468.000000   \n",
       "mean   7.567688e+05       1.482131       9.177027       3.615967   \n",
       "std    3.060971e+05       0.499682       5.676848       1.807128   \n",
       "min    3.359820e+05       1.000000       0.000000       1.000000   \n",
       "25%    5.012270e+05       1.000000       4.000000       2.000000   \n",
       "50%    7.292970e+05       1.000000       9.000000       4.000000   \n",
       "75%    1.082628e+06       2.000000      14.000000       5.000000   \n",
       "max    1.237181e+06       2.000000      19.000000       9.000000   \n",
       "\n",
       "        batsman_runs     extra_runs     total_runs   non_boundary  \\\n",
       "count  193468.000000  193468.000000  193468.000000  193468.000000   \n",
       "mean        1.240231       0.066414       1.306645       0.000083   \n",
       "std         1.610867       0.339991       1.598802       0.009094   \n",
       "min         0.000000       0.000000       0.000000       0.000000   \n",
       "25%         0.000000       0.000000       0.000000       0.000000   \n",
       "50%         1.000000       0.000000       1.000000       0.000000   \n",
       "75%         1.000000       0.000000       1.000000       0.000000   \n",
       "max         6.000000       7.000000       7.000000       1.000000   \n",
       "\n",
       "           is_wicket  \n",
       "count  193468.000000  \n",
       "mean        0.049078  \n",
       "std         0.216031  \n",
       "min         0.000000  \n",
       "25%         0.000000  \n",
       "50%         0.000000  \n",
       "75%         0.000000  \n",
       "max         1.000000  "
      ]
     },
     "execution_count": 79,
     "metadata": {},
     "output_type": "execute_result"
    }
   ],
   "source": [
    "match.describe()"
   ]
  },
  {
   "cell_type": "code",
   "execution_count": 80,
   "metadata": {},
   "outputs": [
    {
     "data": {
      "text/plain": [
       "id                       0\n",
       "inning                   0\n",
       "over                     0\n",
       "ball                     0\n",
       "batsman                  0\n",
       "non_striker              0\n",
       "bowler                   0\n",
       "batsman_runs             0\n",
       "extra_runs               0\n",
       "total_runs               0\n",
       "non_boundary             0\n",
       "is_wicket                0\n",
       "dismissal_kind      183973\n",
       "player_dismissed    183973\n",
       "fielder             186684\n",
       "extras_type         183235\n",
       "batting_team             0\n",
       "bowling_team           191\n",
       "dtype: int64"
      ]
     },
     "execution_count": 80,
     "metadata": {},
     "output_type": "execute_result"
    }
   ],
   "source": [
    "match.isna().sum()"
   ]
  },
  {
   "cell_type": "markdown",
   "metadata": {
    "colab": {
     "base_uri": "https://localhost:8080/"
    },
    "id": "kvF8I_L9ogey",
    "outputId": "4775fe06-fed0-464b-d6c5-77926fb8180c"
   },
   "source": [
    "RUNS SCORED BY A BATSMAN"
   ]
  },
  {
   "cell_type": "code",
   "execution_count": 82,
   "metadata": {},
   "outputs": [],
   "source": [
    "batsman = match.batsman.unique()\n",
    "runs_by_batsman = dict(zip(batsman,np.zeros(len(batsman))))\n",
    "# print(runs_by_batsman)\n",
    "for i in range(0,len(match)):\n",
    "    runs_by_batsman[match['batsman'][i]] += match['total_runs'][i]"
   ]
  },
  {
   "cell_type": "code",
   "execution_count": 83,
   "metadata": {},
   "outputs": [
    {
     "data": {
      "application/vnd.plotly.v1+json": {
       "config": {
        "plotlyServerURL": "https://plot.ly"
       },
       "data": [
        {
         "alignmentgroup": "True",
         "hovertemplate": "BATSMAN=%{x}<br>RUNS_SCORED=%{y}<extra></extra>",
         "legendgroup": "",
         "marker": {
          "color": "#636efa",
          "pattern": {
           "shape": ""
          }
         },
         "name": "",
         "offsetgroup": "",
         "orientation": "v",
         "showlegend": false,
         "textposition": "auto",
         "type": "bar",
         "x": [
          "RT Ponting",
          "BB McCullum",
          "DJ Hussey",
          "Mohammad Hafeez",
          "SC Ganguly",
          "CL White",
          "MV Boucher",
          "B Akhil",
          "AA Noffke",
          "P Kumar",
          "Z Khan",
          "SB Joshi",
          "W Jaffer",
          "JH Kallis",
          "R Dravid",
          "V Kohli",
          "K Goel",
          "MEK Hussey",
          "JR Hopes",
          "SK Raina",
          "JDP Oram",
          "S Badrinath",
          "PA Patel",
          "ML Hayden",
          "MS Dhoni",
          "KC Sangakkara",
          "Yuvraj Singh",
          "SM Katich",
          "IK Pathan",
          "T Kohli",
          "YK Pathan",
          "S Dhawan",
          "G Gambhir",
          "SK Warne",
          "D Salunkhe",
          "SK Trivedi",
          "V Sehwag",
          "SR Watson",
          "M Kaif",
          "DS Lehmann",
          "RA Jadeja",
          "M Rawat",
          "L Ronchi",
          "ST Jayasuriya",
          "DJ Thornely",
          "RV Uthappa",
          "PR Shah",
          "AM Nayar",
          "SM Pollock",
          "Harbhajan Singh",
          "S Chanderpaul",
          "LRPL Taylor",
          "WP Saha",
          "AS Yadav",
          "A Symonds",
          "SB Bangar",
          "WPUJC Vaas",
          "RP Singh",
          "AC Gilchrist",
          "Y Venugopal Rao",
          "VVS Laxman",
          "RG Sharma",
          "SB Styris",
          "LR Shukla",
          "PP Chawla",
          "Kamran Akmal",
          "DPMD Jayawardene",
          "S Sohal",
          "B Lee",
          "WA Mota",
          "Shahid Afridi",
          "DJ Bravo",
          "A Nehra",
          "MA Khote",
          "GC Smith",
          "Pankaj Singh",
          "S Sreesanth",
          "VRV Singh",
          "SS Tiwary",
          "RR Sarwan",
          "DS Kulkarni",
          "R Vinay Kumar",
          "M Kartik",
          "I Sharma",
          "AB Agarkar",
          "AM Rahane",
          "TM Srivastava",
          "Shoaib Malik",
          "MK Tiwary",
          "KD Karthik",
          "R Bhatia",
          "MF Maharoof",
          "VY Mahesh",
          "B Chipli",
          "DW Steyn",
          "DB Das",
          "MK Pandey",
          "HH Gibbs",
          "DNT Zoysa",
          "D Kalyankrishna",
          "SE Marsh",
          "SA Asnodkar",
          "BJ Hodge",
          "Sohail Tanvir",
          "Salman Butt",
          "Umar Gul",
          "AB Dinda",
          "AB de Villiers",
          "SP Fleming",
          "S Vidyut",
          "JA Morkel",
          "LPC Silva",
          "DB Ravi Teja",
          "Misbah-ul-Haq",
          "PJ Sangwan",
          "YV Takawale",
          "RR Raje",
          "Mohammad Asif",
          "GD McGrath",
          "Joginder Sharma",
          "MS Gony",
          "M Muralitharan",
          "M Ntini",
          "DT Patil",
          "A Kumble",
          "S Anirudha",
          "MM Patel",
          "CK Kapugedera",
          "A Chopra",
          "T Taibu",
          "J Arunkumar",
          "PP Ojha",
          "SP Goswami",
          "SR Tendulkar",
          "U Kaul",
          "Niraj Patel",
          "AD Mascarenhas",
          "TM Dilshan",
          "A Mishra",
          "LA Pomersbach",
          "Iqbal Abdulla",
          "Younis Khan",
          "PM Sarvesh Kumar",
          "DP Vijaykumar",
          "Shoaib Akhtar",
          "Abdur Razzak",
          "H Das",
          "DR Smith",
          "SD Chitnis",
          "CRD Fernando",
          "VS Yeligati",
          "L Balaji",
          "A Mukund",
          "RR Powar",
          "JP Duminy",
          "A Flintoff",
          "T Thushara",
          "KP Pietersen",
          "JD Ryder",
          "T Henderson",
          "Kamran Khan",
          "RS Bopara",
          "MC Henriques",
          "CH Gayle",
          "R Bishnoi",
          "KV Sharma",
          "FH Edwards",
          "AS Raut",
          "PC Valthaty",
          "RJ Quiney",
          "Yashpal Singh",
          "M Manhas",
          "AA Bilakhia",
          "AN Ghosh",
          "BAW Mendis",
          "DL Vettori",
          "MN van Wyk",
          "RE van der Merwe",
          "TL Suman",
          "Shoaib Ahmed",
          "GR Napier",
          "KP Appanna",
          "LA Carseldine",
          "NV Ojha",
          "SM Harwood",
          "M Vijay",
          "DA Warner",
          "SB Jakati",
          "RJ Harris",
          "D du Preez",
          "M Morkel",
          "AD Mathews",
          "SL Malinga",
          "C Nanda",
          "J Botha",
          "Mashrafe Mortaza",
          "A Singh",
          "GJ Bailey",
          "AB McDonald",
          "Y Nagar",
          "SS Shaikh",
          "R Ashwin",
          "Mohammad Ashraful",
          "Jaskaran Singh",
          "Anirudh Singh",
          "CA Pujara",
          "OA Shah",
          "AP Tare",
          "AT Rayudu",
          "R Sathish",
          "R McLaren",
          "AA Jhunjhunwala",
          "P Dogra",
          "A Uniyal",
          "MS Bisla",
          "YA Abdulla",
          "EJG Morgan",
          "JM Kemp",
          "S Tyagi",
          "RS Gavaskar",
          "SE Bond",
          "S Ladda",
          "DP Nannes",
          "KA Pollard",
          "DR Martyn",
          "S Narwal",
          "MJ Lumb",
          "Bipul Sharma",
          "AB Barath",
          "FY Fazal",
          "AC Voges",
          "MD Mishra",
          "UT Yadav",
          "J Theron",
          "SJ Srivastava",
          "R Sharma",
          "Mandeep Singh",
          "KM Jadhav",
          "SW Tait",
          "KB Arun Karthik",
          "KAJ Roach",
          "PD Collingwood",
          "CK Langeveldt",
          "VS Malik",
          "A Mithun",
          "AP Dole",
          "AN Ahmed",
          "RS Sodhi",
          "DE Bollinger",
          "S Sriram",
          "B Sumanth",
          "C Madan",
          "AG Paunikar",
          "MR Marsh",
          "AJ Finch",
          "STR Binny",
          "Harmeet Singh",
          "IR Jaggi",
          "DT Christian",
          "MA Agarwal",
          "RV Gomez",
          "AUK Pathan",
          "UBT Chand",
          "DJ Jacobs",
          "NJ Rimmington",
          "Sunny Singh",
          "AL Menaria",
          "WD Parnell",
          "JJ van der Wath",
          "R Ninan",
          "S Aravind",
          "MS Wade",
          "TD Paine",
          "JEC Franklin",
          "SB Wagh",
          "AC Thomas",
          "Shakib Al Hasan",
          "DH Yagnik",
          "S Randiv",
          "BJ Haddin",
          "NLTC Perera",
          "NL McCullum",
          "JE Taylor",
          "J Syed Mohammad",
          "RN ten Doeschate",
          "TR Birt",
          "AG Murtaza",
          "Harpreet Singh",
          "M Klinger",
          "AC Blizzard",
          "I Malhotra",
          "L Ablish",
          "CA Ingram",
          "S Nadeem",
          "P Parameswaran",
          "CJ Ferguson",
          "VR Aaron",
          "AA Chavan",
          "ND Doshi",
          "B Kumar",
          "Y Gnaneswara Rao",
          "S Rana",
          "BA Bhatt",
          "F du Plessis",
          "RE Levi",
          "GJ Maxwell",
          "SPD Smith",
          "SA Yadav",
          "MN Samuels",
          "KK Cooper",
          "JP Faulkner",
          "HV Patel",
          "DAJ Bracewell",
          "DJ Harris",
          "Ankit Sharma",
          "SP Narine",
          "GB Hogg",
          "RR Bhatkal",
          "CJ McKay",
          "N Saini",
          "DA Miller",
          "Azhar Mahmood",
          "P Negi",
          "RJ Peterson",
          "KMDN Kulasekara",
          "A Ashish Reddy",
          "V Pratap Singh",
          "BB Samantray",
          "MJ Clarke",
          "Gurkeerat Singh",
          "AP Majumdar",
          "PA Reddy",
          "K Upadhyay",
          "P Awana",
          "AD Russell",
          "A Chandila",
          "CA Lynn",
          "Sunny Gupta",
          "MC Juneja",
          "KK Nair",
          "GH Vihari",
          "R Shukla",
          "MDKJ Perera",
          "AS Rajpoot",
          "B Laughlin",
          "M Vohra",
          "JD Unadkat",
          "Mohammed Shami",
          "BMAJ Mendis",
          "R Rampaul",
          "CH Morris",
          "SV Samson",
          "SMSM Senanayake",
          "BJ Rohrer",
          "KL Rahul",
          "Q de Kock",
          "R Dhawan",
          "MG Johnson",
          "LJ Wright",
          "IC Pandey",
          "CM Gautam",
          "X Thalaivan Sargunam",
          "DJG Sammy",
          "KW Richardson",
          "MM Sharma",
          "UA Birla",
          "Parvez Rasool",
          "Sandeep Sharma",
          "S Kaul",
          "Sachin Baby",
          "PV Tambe",
          "NM Coulter-Nile",
          "CJ Anderson",
          "NJ Maddinson",
          "AR Patel",
          "JJ Bumrah",
          "JDS Neesham",
          "TG Southee",
          "MA Starc",
          "BR Dunk",
          "RR Rossouw",
          "Shivam Sharma",
          "YS Chahal",
          "LMP Simmons",
          "VH Zol",
          "Imran Tahir",
          "BCJ Cutting",
          "BE Hendricks",
          "S Gopal",
          "M de Lange",
          "R Tewatia",
          "JO Holder",
          "Karanveer Singh",
          "SS Iyer",
          "DJ Hooda",
          "Anureet Singh",
          "KS Williamson",
          "SA Abbott",
          "J Suchith",
          "RG More",
          "D Wiese",
          "HH Pandya",
          "SN Khan",
          "MJ McClenaghan",
          "DJ Muthuswami",
          "PJ Cummins",
          "SN Thakur",
          "JC Buttler",
          "CR Brathwaite",
          "MP Stoinis",
          "Ishan Kishan",
          "C Munro",
          "P Sahu",
          "KH Pandya",
          "AD Nath",
          "MJ Guptill",
          "KJ Abbott",
          "TM Head",
          "M Ashwin",
          "NS Naik",
          "RR Pant",
          "SW Billings",
          "KC Cariappa",
          "PSP Handscomb",
          "Swapnil Singh",
          "J Yadav",
          "UT Khawaja",
          "HM Amla",
          "F Behardien",
          "A Zampa",
          "BB Sran",
          "N Rana",
          "S Kaushik",
          "ER Dwivedi",
          "CJ Jordan",
          "A Choudhary",
          "TS Mills",
          "BA Stokes",
          "JJ Roy",
          "Vishnu Vinod",
          "Basil Thampi",
          "CR Woakes",
          "RA Tripathi",
          "DL Chahar",
          "V Shankar",
          "Rashid Khan",
          "LH Ferguson",
          "RD Chahar",
          "C de Grandhomme",
          "AF Milne",
          "S Badree",
          "Mohammad Nabi",
          "AJ Tye",
          "K Rabada",
          "Kuldeep Yadav",
          "Washington Sundar",
          "DM Bravo",
          "AR Bawne",
          "SP Jackson",
          "Ankit Soni",
          "TA Boult",
          "E Lewis",
          "MA Wood",
          "RK Singh",
          "DJM Short",
          "K Gowtham",
          "TK Curran",
          "M Markande",
          "B Stanlake",
          "Mujeeb Ur Rahman",
          "A Dananjaya",
          "Shivam Mavi",
          "Shubman Gill",
          "Mohammed Siraj",
          "H Klaasen",
          "RK Bhui",
          "JC Archer",
          "PP Shaw",
          "LE Plunkett",
          "Mustafizur Rahman",
          "AD Hales",
          "MK Lomror",
          "DR Shorey",
          "MM Ali",
          "M Prasidh Krishna",
          "P Chopra",
          "JPR Scantlebury-Searles",
          "Abhishek Sharma",
          "IS Sodhi",
          "SO Hetmyer",
          "S Dube",
          "NA Saini",
          "JM Bairstow",
          "Rasikh Salam",
          "KMA Paul",
          "N Pooran",
          "P Ray Barman",
          "S Lamichhane",
          "SM Curran",
          "GC Viljoen",
          "Avesh Khan",
          "HF Gurney",
          "SD Lad",
          "AS Joseph",
          "MJ Santner",
          "R Parag",
          "JL Denly",
          "LS Livingstone",
          "KK Ahmed",
          "AJ Turner",
          "SE Rutherford",
          "Harpreet Brar",
          "Y Prithvi Raj",
          "P Simran Singh",
          "JL Pattinson",
          "A Nortje",
          "T Banton",
          "D Padikkal",
          "YBK Jaiswal",
          "RD Gaikwad",
          "TU Deshpande",
          "Abdul Samad",
          "PK Garg",
          "JR Philippe",
          "Kartik Tyagi",
          "CV Varun",
          "KL Nagarkoti",
          "I Udana",
          "Ravi Bishnoi",
          "Shahbaz Ahmed",
          "AT Carey",
          "N Jagadeesan",
          "T Natarajan",
          "P Dubey",
          "SS Cottrell",
          "Arshdeep Singh",
          "DR Sams"
         ],
         "xaxis": "x",
         "y": [
          104,
          3099,
          1384,
          69,
          1464,
          983,
          416,
          80,
          11,
          363,
          121,
          8,
          139,
          2567,
          2270,
          6081,
          234,
          2064,
          433,
          5604,
          110,
          1515,
          3041,
          1205,
          4855,
          1780,
          2880,
          254,
          1239,
          12,
          3367,
          5452,
          4479,
          210,
          33,
          47,
          2915,
          4036,
          280,
          20,
          2288,
          59,
          37,
          843,
          53,
          4878,
          104,
          722,
          154,
          891,
          27,
          1084,
          2074,
          52,
          1028,
          53,
          84,
          59,
          2215,
          1051,
          296,
          5394,
          139,
          432,
          620,
          132,
          1923,
          400,
          133,
          63,
          82,
          1578,
          49,
          27,
          800,
          7,
          44,
          5,
          1460,
          77,
          111,
          338,
          119,
          58,
          193,
          4104,
          8,
          57,
          1777,
          3996,
          356,
          181,
          21,
          292,
          179,
          321,
          3418,
          955,
          13,
          4,
          2598,
          462,
          1477,
          40,
          211,
          44,
          30,
          5016,
          209,
          156,
          1025,
          43,
          401,
          124,
          31,
          207,
          20,
          3,
          4,
          36,
          106,
          22,
          12,
          13,
          42,
          164,
          40,
          19,
          58,
          31,
          25,
          22,
          312,
          2537,
          0,
          131,
          81,
          1251,
          402,
          330,
          97,
          3,
          1,
          1,
          3,
          0,
          2,
          2515,
          104,
          4,
          2,
          41,
          20,
          68,
          2131,
          72,
          13,
          1039,
          630,
          12,
          3,
          557,
          999,
          5103,
          19,
          343,
          4,
          204,
          539,
          114,
          49,
          544,
          78,
          7,
          3,
          141,
          175,
          170,
          701,
          1,
          15,
          3,
          87,
          1644,
          13,
          2749,
          5522,
          29,
          119,
          10,
          130,
          765,
          95,
          0,
          424,
          2,
          3,
          692,
          130,
          309,
          6,
          432,
          5,
          8,
          66,
          421,
          550,
          365,
          3798,
          288,
          172,
          235,
          131,
          4,
          894,
          1,
          1349,
          27,
          3,
          2,
          1,
          1,
          4,
          3188,
          21,
          39,
          297,
          190,
          44,
          207,
          190,
          254,
          132,
          11,
          5,
          71,
          1727,
          1200,
          23,
          64,
          10,
          213,
          8,
          9,
          37,
          35,
          38,
          4,
          24,
          39,
          36,
          22,
          56,
          234,
          2141,
          923,
          18,
          84,
          467,
          1775,
          60,
          42,
          327,
          102,
          1,
          44,
          416,
          74,
          19,
          4,
          64,
          23,
          15,
          342,
          2,
          20,
          795,
          187,
          2,
          18,
          458,
          28,
          4,
          30,
          338,
          79,
          10,
          20,
          77,
          126,
          7,
          0,
          214,
          46,
          2,
          101,
          52,
          12,
          0,
          196,
          20,
          96,
          6,
          2387,
          89,
          1596,
          2433,
          2095,
          174,
          122,
          554,
          135,
          12,
          119,
          89,
          959,
          22,
          0,
          8,
          145,
          1958,
          409,
          392,
          37,
          6,
          288,
          0,
          132,
          104,
          541,
          90,
          172,
          12,
          5,
          1604,
          4,
          1334,
          0,
          138,
          1533,
          303,
          19,
          15,
          27,
          5,
          1067,
          66,
          59,
          23,
          56,
          571,
          2663,
          11,
          205,
          2741,
          2049,
          159,
          183,
          110,
          0,
          199,
          10,
          317,
          36,
          127,
          9,
          18,
          49,
          12,
          145,
          20,
          80,
          559,
          20,
          962,
          43,
          64,
          118,
          107,
          44,
          54,
          5,
          27,
          1127,
          29,
          34,
          251,
          1,
          170,
          1,
          386,
          109,
          12,
          2290,
          652,
          40,
          1673,
          16,
          57,
          2,
          136,
          1444,
          454,
          92,
          1,
          233,
          48,
          1795,
          198,
          866,
          1254,
          185,
          19,
          1050,
          91,
          275,
          13,
          214,
          8,
          36,
          2168,
          352,
          24,
          6,
          12,
          8,
          134,
          600,
          14,
          5,
          12,
          1490,
          0,
          29,
          36,
          25,
          9,
          951,
          187,
          19,
          36,
          63,
          1031,
          84,
          679,
          153,
          45,
          17,
          317,
          7,
          15,
          152,
          104,
          134,
          59,
          197,
          6,
          12,
          38,
          9,
          12,
          464,
          3,
          84,
          123,
          191,
          109,
          31,
          5,
          13,
          4,
          24,
          967,
          52,
          68,
          8,
          205,
          850,
          1,
          1,
          152,
          89,
          16,
          324,
          3,
          8,
          8,
          155,
          10,
          284,
          175,
          30,
          832,
          5,
          22,
          539,
          20,
          0,
          287,
          6,
          4,
          1,
          15,
          15,
          35,
          259,
          0,
          72,
          0,
          4,
          82,
          22,
          0,
          32,
          15,
          7,
          20,
          502,
          40,
          220,
          21,
          113,
          142,
          86,
          4,
          13,
          23,
          15,
          7,
          1,
          34,
          35,
          3,
          8,
          0,
          0,
          0
         ],
         "yaxis": "y"
        }
       ],
       "layout": {
        "autosize": true,
        "barmode": "relative",
        "legend": {
         "tracegroupgap": 0
        },
        "template": {
         "data": {
          "bar": [
           {
            "error_x": {
             "color": "#2a3f5f"
            },
            "error_y": {
             "color": "#2a3f5f"
            },
            "marker": {
             "line": {
              "color": "#E5ECF6",
              "width": 0.5
             },
             "pattern": {
              "fillmode": "overlay",
              "size": 10,
              "solidity": 0.2
             }
            },
            "type": "bar"
           }
          ],
          "barpolar": [
           {
            "marker": {
             "line": {
              "color": "#E5ECF6",
              "width": 0.5
             },
             "pattern": {
              "fillmode": "overlay",
              "size": 10,
              "solidity": 0.2
             }
            },
            "type": "barpolar"
           }
          ],
          "carpet": [
           {
            "aaxis": {
             "endlinecolor": "#2a3f5f",
             "gridcolor": "white",
             "linecolor": "white",
             "minorgridcolor": "white",
             "startlinecolor": "#2a3f5f"
            },
            "baxis": {
             "endlinecolor": "#2a3f5f",
             "gridcolor": "white",
             "linecolor": "white",
             "minorgridcolor": "white",
             "startlinecolor": "#2a3f5f"
            },
            "type": "carpet"
           }
          ],
          "choropleth": [
           {
            "colorbar": {
             "outlinewidth": 0,
             "ticks": ""
            },
            "type": "choropleth"
           }
          ],
          "contour": [
           {
            "colorbar": {
             "outlinewidth": 0,
             "ticks": ""
            },
            "colorscale": [
             [
              0,
              "#0d0887"
             ],
             [
              0.1111111111111111,
              "#46039f"
             ],
             [
              0.2222222222222222,
              "#7201a8"
             ],
             [
              0.3333333333333333,
              "#9c179e"
             ],
             [
              0.4444444444444444,
              "#bd3786"
             ],
             [
              0.5555555555555556,
              "#d8576b"
             ],
             [
              0.6666666666666666,
              "#ed7953"
             ],
             [
              0.7777777777777778,
              "#fb9f3a"
             ],
             [
              0.8888888888888888,
              "#fdca26"
             ],
             [
              1,
              "#f0f921"
             ]
            ],
            "type": "contour"
           }
          ],
          "contourcarpet": [
           {
            "colorbar": {
             "outlinewidth": 0,
             "ticks": ""
            },
            "type": "contourcarpet"
           }
          ],
          "heatmap": [
           {
            "colorbar": {
             "outlinewidth": 0,
             "ticks": ""
            },
            "colorscale": [
             [
              0,
              "#0d0887"
             ],
             [
              0.1111111111111111,
              "#46039f"
             ],
             [
              0.2222222222222222,
              "#7201a8"
             ],
             [
              0.3333333333333333,
              "#9c179e"
             ],
             [
              0.4444444444444444,
              "#bd3786"
             ],
             [
              0.5555555555555556,
              "#d8576b"
             ],
             [
              0.6666666666666666,
              "#ed7953"
             ],
             [
              0.7777777777777778,
              "#fb9f3a"
             ],
             [
              0.8888888888888888,
              "#fdca26"
             ],
             [
              1,
              "#f0f921"
             ]
            ],
            "type": "heatmap"
           }
          ],
          "heatmapgl": [
           {
            "colorbar": {
             "outlinewidth": 0,
             "ticks": ""
            },
            "colorscale": [
             [
              0,
              "#0d0887"
             ],
             [
              0.1111111111111111,
              "#46039f"
             ],
             [
              0.2222222222222222,
              "#7201a8"
             ],
             [
              0.3333333333333333,
              "#9c179e"
             ],
             [
              0.4444444444444444,
              "#bd3786"
             ],
             [
              0.5555555555555556,
              "#d8576b"
             ],
             [
              0.6666666666666666,
              "#ed7953"
             ],
             [
              0.7777777777777778,
              "#fb9f3a"
             ],
             [
              0.8888888888888888,
              "#fdca26"
             ],
             [
              1,
              "#f0f921"
             ]
            ],
            "type": "heatmapgl"
           }
          ],
          "histogram": [
           {
            "marker": {
             "pattern": {
              "fillmode": "overlay",
              "size": 10,
              "solidity": 0.2
             }
            },
            "type": "histogram"
           }
          ],
          "histogram2d": [
           {
            "colorbar": {
             "outlinewidth": 0,
             "ticks": ""
            },
            "colorscale": [
             [
              0,
              "#0d0887"
             ],
             [
              0.1111111111111111,
              "#46039f"
             ],
             [
              0.2222222222222222,
              "#7201a8"
             ],
             [
              0.3333333333333333,
              "#9c179e"
             ],
             [
              0.4444444444444444,
              "#bd3786"
             ],
             [
              0.5555555555555556,
              "#d8576b"
             ],
             [
              0.6666666666666666,
              "#ed7953"
             ],
             [
              0.7777777777777778,
              "#fb9f3a"
             ],
             [
              0.8888888888888888,
              "#fdca26"
             ],
             [
              1,
              "#f0f921"
             ]
            ],
            "type": "histogram2d"
           }
          ],
          "histogram2dcontour": [
           {
            "colorbar": {
             "outlinewidth": 0,
             "ticks": ""
            },
            "colorscale": [
             [
              0,
              "#0d0887"
             ],
             [
              0.1111111111111111,
              "#46039f"
             ],
             [
              0.2222222222222222,
              "#7201a8"
             ],
             [
              0.3333333333333333,
              "#9c179e"
             ],
             [
              0.4444444444444444,
              "#bd3786"
             ],
             [
              0.5555555555555556,
              "#d8576b"
             ],
             [
              0.6666666666666666,
              "#ed7953"
             ],
             [
              0.7777777777777778,
              "#fb9f3a"
             ],
             [
              0.8888888888888888,
              "#fdca26"
             ],
             [
              1,
              "#f0f921"
             ]
            ],
            "type": "histogram2dcontour"
           }
          ],
          "mesh3d": [
           {
            "colorbar": {
             "outlinewidth": 0,
             "ticks": ""
            },
            "type": "mesh3d"
           }
          ],
          "parcoords": [
           {
            "line": {
             "colorbar": {
              "outlinewidth": 0,
              "ticks": ""
             }
            },
            "type": "parcoords"
           }
          ],
          "pie": [
           {
            "automargin": true,
            "type": "pie"
           }
          ],
          "scatter": [
           {
            "marker": {
             "colorbar": {
              "outlinewidth": 0,
              "ticks": ""
             }
            },
            "type": "scatter"
           }
          ],
          "scatter3d": [
           {
            "line": {
             "colorbar": {
              "outlinewidth": 0,
              "ticks": ""
             }
            },
            "marker": {
             "colorbar": {
              "outlinewidth": 0,
              "ticks": ""
             }
            },
            "type": "scatter3d"
           }
          ],
          "scattercarpet": [
           {
            "marker": {
             "colorbar": {
              "outlinewidth": 0,
              "ticks": ""
             }
            },
            "type": "scattercarpet"
           }
          ],
          "scattergeo": [
           {
            "marker": {
             "colorbar": {
              "outlinewidth": 0,
              "ticks": ""
             }
            },
            "type": "scattergeo"
           }
          ],
          "scattergl": [
           {
            "marker": {
             "colorbar": {
              "outlinewidth": 0,
              "ticks": ""
             }
            },
            "type": "scattergl"
           }
          ],
          "scattermapbox": [
           {
            "marker": {
             "colorbar": {
              "outlinewidth": 0,
              "ticks": ""
             }
            },
            "type": "scattermapbox"
           }
          ],
          "scatterpolar": [
           {
            "marker": {
             "colorbar": {
              "outlinewidth": 0,
              "ticks": ""
             }
            },
            "type": "scatterpolar"
           }
          ],
          "scatterpolargl": [
           {
            "marker": {
             "colorbar": {
              "outlinewidth": 0,
              "ticks": ""
             }
            },
            "type": "scatterpolargl"
           }
          ],
          "scatterternary": [
           {
            "marker": {
             "colorbar": {
              "outlinewidth": 0,
              "ticks": ""
             }
            },
            "type": "scatterternary"
           }
          ],
          "surface": [
           {
            "colorbar": {
             "outlinewidth": 0,
             "ticks": ""
            },
            "colorscale": [
             [
              0,
              "#0d0887"
             ],
             [
              0.1111111111111111,
              "#46039f"
             ],
             [
              0.2222222222222222,
              "#7201a8"
             ],
             [
              0.3333333333333333,
              "#9c179e"
             ],
             [
              0.4444444444444444,
              "#bd3786"
             ],
             [
              0.5555555555555556,
              "#d8576b"
             ],
             [
              0.6666666666666666,
              "#ed7953"
             ],
             [
              0.7777777777777778,
              "#fb9f3a"
             ],
             [
              0.8888888888888888,
              "#fdca26"
             ],
             [
              1,
              "#f0f921"
             ]
            ],
            "type": "surface"
           }
          ],
          "table": [
           {
            "cells": {
             "fill": {
              "color": "#EBF0F8"
             },
             "line": {
              "color": "white"
             }
            },
            "header": {
             "fill": {
              "color": "#C8D4E3"
             },
             "line": {
              "color": "white"
             }
            },
            "type": "table"
           }
          ]
         },
         "layout": {
          "annotationdefaults": {
           "arrowcolor": "#2a3f5f",
           "arrowhead": 0,
           "arrowwidth": 1
          },
          "autotypenumbers": "strict",
          "coloraxis": {
           "colorbar": {
            "outlinewidth": 0,
            "ticks": ""
           }
          },
          "colorscale": {
           "diverging": [
            [
             0,
             "#8e0152"
            ],
            [
             0.1,
             "#c51b7d"
            ],
            [
             0.2,
             "#de77ae"
            ],
            [
             0.3,
             "#f1b6da"
            ],
            [
             0.4,
             "#fde0ef"
            ],
            [
             0.5,
             "#f7f7f7"
            ],
            [
             0.6,
             "#e6f5d0"
            ],
            [
             0.7,
             "#b8e186"
            ],
            [
             0.8,
             "#7fbc41"
            ],
            [
             0.9,
             "#4d9221"
            ],
            [
             1,
             "#276419"
            ]
           ],
           "sequential": [
            [
             0,
             "#0d0887"
            ],
            [
             0.1111111111111111,
             "#46039f"
            ],
            [
             0.2222222222222222,
             "#7201a8"
            ],
            [
             0.3333333333333333,
             "#9c179e"
            ],
            [
             0.4444444444444444,
             "#bd3786"
            ],
            [
             0.5555555555555556,
             "#d8576b"
            ],
            [
             0.6666666666666666,
             "#ed7953"
            ],
            [
             0.7777777777777778,
             "#fb9f3a"
            ],
            [
             0.8888888888888888,
             "#fdca26"
            ],
            [
             1,
             "#f0f921"
            ]
           ],
           "sequentialminus": [
            [
             0,
             "#0d0887"
            ],
            [
             0.1111111111111111,
             "#46039f"
            ],
            [
             0.2222222222222222,
             "#7201a8"
            ],
            [
             0.3333333333333333,
             "#9c179e"
            ],
            [
             0.4444444444444444,
             "#bd3786"
            ],
            [
             0.5555555555555556,
             "#d8576b"
            ],
            [
             0.6666666666666666,
             "#ed7953"
            ],
            [
             0.7777777777777778,
             "#fb9f3a"
            ],
            [
             0.8888888888888888,
             "#fdca26"
            ],
            [
             1,
             "#f0f921"
            ]
           ]
          },
          "colorway": [
           "#636efa",
           "#EF553B",
           "#00cc96",
           "#ab63fa",
           "#FFA15A",
           "#19d3f3",
           "#FF6692",
           "#B6E880",
           "#FF97FF",
           "#FECB52"
          ],
          "font": {
           "color": "#2a3f5f"
          },
          "geo": {
           "bgcolor": "white",
           "lakecolor": "white",
           "landcolor": "#E5ECF6",
           "showlakes": true,
           "showland": true,
           "subunitcolor": "white"
          },
          "hoverlabel": {
           "align": "left"
          },
          "hovermode": "closest",
          "mapbox": {
           "style": "light"
          },
          "paper_bgcolor": "white",
          "plot_bgcolor": "#E5ECF6",
          "polar": {
           "angularaxis": {
            "gridcolor": "white",
            "linecolor": "white",
            "ticks": ""
           },
           "bgcolor": "#E5ECF6",
           "radialaxis": {
            "gridcolor": "white",
            "linecolor": "white",
            "ticks": ""
           }
          },
          "scene": {
           "xaxis": {
            "backgroundcolor": "#E5ECF6",
            "gridcolor": "white",
            "gridwidth": 2,
            "linecolor": "white",
            "showbackground": true,
            "ticks": "",
            "zerolinecolor": "white"
           },
           "yaxis": {
            "backgroundcolor": "#E5ECF6",
            "gridcolor": "white",
            "gridwidth": 2,
            "linecolor": "white",
            "showbackground": true,
            "ticks": "",
            "zerolinecolor": "white"
           },
           "zaxis": {
            "backgroundcolor": "#E5ECF6",
            "gridcolor": "white",
            "gridwidth": 2,
            "linecolor": "white",
            "showbackground": true,
            "ticks": "",
            "zerolinecolor": "white"
           }
          },
          "shapedefaults": {
           "line": {
            "color": "#2a3f5f"
           }
          },
          "ternary": {
           "aaxis": {
            "gridcolor": "white",
            "linecolor": "white",
            "ticks": ""
           },
           "baxis": {
            "gridcolor": "white",
            "linecolor": "white",
            "ticks": ""
           },
           "bgcolor": "#E5ECF6",
           "caxis": {
            "gridcolor": "white",
            "linecolor": "white",
            "ticks": ""
           }
          },
          "title": {
           "x": 0.05
          },
          "xaxis": {
           "automargin": true,
           "gridcolor": "white",
           "linecolor": "white",
           "ticks": "",
           "title": {
            "standoff": 15
           },
           "zerolinecolor": "white",
           "zerolinewidth": 2
          },
          "yaxis": {
           "automargin": true,
           "gridcolor": "white",
           "linecolor": "white",
           "ticks": "",
           "title": {
            "standoff": 15
           },
           "zerolinecolor": "white",
           "zerolinewidth": 2
          }
         }
        },
        "title": {
         "text": "RUNS SCORED BY A BATSMAN"
        },
        "xaxis": {
         "anchor": "y",
         "autorange": true,
         "domain": [
          0,
          1
         ],
         "range": [
          -0.5,
          536.5
         ],
         "title": {
          "text": "BATSMAN"
         },
         "type": "category"
        },
        "yaxis": {
         "anchor": "x",
         "autorange": true,
         "domain": [
          0,
          1
         ],
         "range": [
          0,
          6401.0526315789475
         ],
         "title": {
          "text": "RUNS_SCORED"
         },
         "type": "linear"
        }
       }
      },
      "image/png": "[encoded data removed]",
      "text/html": [
       "<div>                            <div id=\"d9b76786-ec3e-4a47-b2be-be2faa947bf5\" class=\"plotly-graph-div\" style=\"height:525px; width:100%;\"></div>            <script type=\"text/javascript\">                require([\"plotly\"], function(Plotly) {                    window.PLOTLYENV=window.PLOTLYENV || {};                                    if (document.getElementById(\"d9b76786-ec3e-4a47-b2be-be2faa947bf5\")) {                    Plotly.newPlot(                        \"d9b76786-ec3e-4a47-b2be-be2faa947bf5\",                        [{\"alignmentgroup\":\"True\",\"hovertemplate\":\"BATSMAN=%{x}<br>RUNS_SCORED=%{y}<extra></extra>\",\"legendgroup\":\"\",\"marker\":{\"color\":\"#636efa\",\"pattern\":{\"shape\":\"\"}},\"name\":\"\",\"offsetgroup\":\"\",\"orientation\":\"v\",\"showlegend\":false,\"textposition\":\"auto\",\"x\":[\"RT Ponting\",\"BB McCullum\",\"DJ Hussey\",\"Mohammad Hafeez\",\"SC Ganguly\",\"CL White\",\"MV Boucher\",\"B Akhil\",\"AA Noffke\",\"P Kumar\",\"Z Khan\",\"SB Joshi\",\"W Jaffer\",\"JH Kallis\",\"R Dravid\",\"V Kohli\",\"K Goel\",\"MEK Hussey\",\"JR Hopes\",\"SK Raina\",\"JDP Oram\",\"S Badrinath\",\"PA Patel\",\"ML Hayden\",\"MS Dhoni\",\"KC Sangakkara\",\"Yuvraj Singh\",\"SM Katich\",\"IK Pathan\",\"T Kohli\",\"YK Pathan\",\"S Dhawan\",\"G Gambhir\",\"SK Warne\",\"D Salunkhe\",\"SK Trivedi\",\"V Sehwag\",\"SR Watson\",\"M Kaif\",\"DS Lehmann\",\"RA Jadeja\",\"M Rawat\",\"L Ronchi\",\"ST Jayasuriya\",\"DJ Thornely\",\"RV Uthappa\",\"PR Shah\",\"AM Nayar\",\"SM Pollock\",\"Harbhajan Singh\",\"S Chanderpaul\",\"LRPL Taylor\",\"WP Saha\",\"AS Yadav\",\"A Symonds\",\"SB Bangar\",\"WPUJC Vaas\",\"RP Singh\",\"AC Gilchrist\",\"Y Venugopal Rao\",\"VVS Laxman\",\"RG Sharma\",\"SB Styris\",\"LR Shukla\",\"PP Chawla\",\"Kamran Akmal\",\"DPMD Jayawardene\",\"S Sohal\",\"B Lee\",\"WA Mota\",\"Shahid Afridi\",\"DJ Bravo\",\"A Nehra\",\"MA Khote\",\"GC Smith\",\"Pankaj Singh\",\"S Sreesanth\",\"VRV Singh\",\"SS Tiwary\",\"RR Sarwan\",\"DS Kulkarni\",\"R Vinay Kumar\",\"M Kartik\",\"I Sharma\",\"AB Agarkar\",\"AM Rahane\",\"TM Srivastava\",\"Shoaib Malik\",\"MK Tiwary\",\"KD Karthik\",\"R Bhatia\",\"MF Maharoof\",\"VY Mahesh\",\"B Chipli\",\"DW Steyn\",\"DB Das\",\"MK Pandey\",\"HH Gibbs\",\"DNT Zoysa\",\"D Kalyankrishna\",\"SE Marsh\",\"SA Asnodkar\",\"BJ Hodge\",\"Sohail Tanvir\",\"Salman Butt\",\"Umar Gul\",\"AB Dinda\",\"AB de Villiers\",\"SP Fleming\",\"S Vidyut\",\"JA Morkel\",\"LPC Silva\",\"DB Ravi Teja\",\"Misbah-ul-Haq\",\"PJ Sangwan\",\"YV Takawale\",\"RR Raje\",\"Mohammad Asif\",\"GD McGrath\",\"Joginder Sharma\",\"MS Gony\",\"M Muralitharan\",\"M Ntini\",\"DT Patil\",\"A Kumble\",\"S Anirudha\",\"MM Patel\",\"CK Kapugedera\",\"A Chopra\",\"T Taibu\",\"J Arunkumar\",\"PP Ojha\",\"SP Goswami\",\"SR Tendulkar\",\"U Kaul\",\"Niraj Patel\",\"AD Mascarenhas\",\"TM Dilshan\",\"A Mishra\",\"LA Pomersbach\",\"Iqbal Abdulla\",\"Younis Khan\",\"PM Sarvesh Kumar\",\"DP Vijaykumar\",\"Shoaib Akhtar\",\"Abdur Razzak\",\"H Das\",\"DR Smith\",\"SD Chitnis\",\"CRD Fernando\",\"VS Yeligati\",\"L Balaji\",\"A Mukund\",\"RR Powar\",\"JP Duminy\",\"A Flintoff\",\"T Thushara\",\"KP Pietersen\",\"JD Ryder\",\"T Henderson\",\"Kamran Khan\",\"RS Bopara\",\"MC Henriques\",\"CH Gayle\",\"R Bishnoi\",\"KV Sharma\",\"FH Edwards\",\"AS Raut\",\"PC Valthaty\",\"RJ Quiney\",\"Yashpal Singh\",\"M Manhas\",\"AA Bilakhia\",\"AN Ghosh\",\"BAW Mendis\",\"DL Vettori\",\"MN van Wyk\",\"RE van der Merwe\",\"TL Suman\",\"Shoaib Ahmed\",\"GR Napier\",\"KP Appanna\",\"LA Carseldine\",\"NV Ojha\",\"SM Harwood\",\"M Vijay\",\"DA Warner\",\"SB Jakati\",\"RJ Harris\",\"D du Preez\",\"M Morkel\",\"AD Mathews\",\"SL Malinga\",\"C Nanda\",\"J Botha\",\"Mashrafe Mortaza\",\"A Singh\",\"GJ Bailey\",\"AB McDonald\",\"Y Nagar\",\"SS Shaikh\",\"R Ashwin\",\"Mohammad Ashraful\",\"Jaskaran Singh\",\"Anirudh Singh\",\"CA Pujara\",\"OA Shah\",\"AP Tare\",\"AT Rayudu\",\"R Sathish\",\"R McLaren\",\"AA Jhunjhunwala\",\"P Dogra\",\"A Uniyal\",\"MS Bisla\",\"YA Abdulla\",\"EJG Morgan\",\"JM Kemp\",\"S Tyagi\",\"RS Gavaskar\",\"SE Bond\",\"S Ladda\",\"DP Nannes\",\"KA Pollard\",\"DR Martyn\",\"S Narwal\",\"MJ Lumb\",\"Bipul Sharma\",\"AB Barath\",\"FY Fazal\",\"AC Voges\",\"MD Mishra\",\"UT Yadav\",\"J Theron\",\"SJ Srivastava\",\"R Sharma\",\"Mandeep Singh\",\"KM Jadhav\",\"SW Tait\",\"KB Arun Karthik\",\"KAJ Roach\",\"PD Collingwood\",\"CK Langeveldt\",\"VS Malik\",\"A Mithun\",\"AP Dole\",\"AN Ahmed\",\"RS Sodhi\",\"DE Bollinger\",\"S Sriram\",\"B Sumanth\",\"C Madan\",\"AG Paunikar\",\"MR Marsh\",\"AJ Finch\",\"STR Binny\",\"Harmeet Singh\",\"IR Jaggi\",\"DT Christian\",\"MA Agarwal\",\"RV Gomez\",\"AUK Pathan\",\"UBT Chand\",\"DJ Jacobs\",\"NJ Rimmington\",\"Sunny Singh\",\"AL Menaria\",\"WD Parnell\",\"JJ van der Wath\",\"R Ninan\",\"S Aravind\",\"MS Wade\",\"TD Paine\",\"JEC Franklin\",\"SB Wagh\",\"AC Thomas\",\"Shakib Al Hasan\",\"DH Yagnik\",\"S Randiv\",\"BJ Haddin\",\"NLTC Perera\",\"NL McCullum\",\"JE Taylor\",\"J Syed Mohammad\",\"RN ten Doeschate\",\"TR Birt\",\"AG Murtaza\",\"Harpreet Singh\",\"M Klinger\",\"AC Blizzard\",\"I Malhotra\",\"L Ablish\",\"CA Ingram\",\"S Nadeem\",\"P Parameswaran\",\"CJ Ferguson\",\"VR Aaron\",\"AA Chavan\",\"ND Doshi\",\"B Kumar\",\"Y Gnaneswara Rao\",\"S Rana\",\"BA Bhatt\",\"F du Plessis\",\"RE Levi\",\"GJ Maxwell\",\"SPD Smith\",\"SA Yadav\",\"MN Samuels\",\"KK Cooper\",\"JP Faulkner\",\"HV Patel\",\"DAJ Bracewell\",\"DJ Harris\",\"Ankit Sharma\",\"SP Narine\",\"GB Hogg\",\"RR Bhatkal\",\"CJ McKay\",\"N Saini\",\"DA Miller\",\"Azhar Mahmood\",\"P Negi\",\"RJ Peterson\",\"KMDN Kulasekara\",\"A Ashish Reddy\",\"V Pratap Singh\",\"BB Samantray\",\"MJ Clarke\",\"Gurkeerat Singh\",\"AP Majumdar\",\"PA Reddy\",\"K Upadhyay\",\"P Awana\",\"AD Russell\",\"A Chandila\",\"CA Lynn\",\"Sunny Gupta\",\"MC Juneja\",\"KK Nair\",\"GH Vihari\",\"R Shukla\",\"MDKJ Perera\",\"AS Rajpoot\",\"B Laughlin\",\"M Vohra\",\"JD Unadkat\",\"Mohammed Shami\",\"BMAJ Mendis\",\"R Rampaul\",\"CH Morris\",\"SV Samson\",\"SMSM Senanayake\",\"BJ Rohrer\",\"KL Rahul\",\"Q de Kock\",\"R Dhawan\",\"MG Johnson\",\"LJ Wright\",\"IC Pandey\",\"CM Gautam\",\"X Thalaivan Sargunam\",\"DJG Sammy\",\"KW Richardson\",\"MM Sharma\",\"UA Birla\",\"Parvez Rasool\",\"Sandeep Sharma\",\"S Kaul\",\"Sachin Baby\",\"PV Tambe\",\"NM Coulter-Nile\",\"CJ Anderson\",\"NJ Maddinson\",\"AR Patel\",\"JJ Bumrah\",\"JDS Neesham\",\"TG Southee\",\"MA Starc\",\"BR Dunk\",\"RR Rossouw\",\"Shivam Sharma\",\"YS Chahal\",\"LMP Simmons\",\"VH Zol\",\"Imran Tahir\",\"BCJ Cutting\",\"BE Hendricks\",\"S Gopal\",\"M de Lange\",\"R Tewatia\",\"JO Holder\",\"Karanveer Singh\",\"SS Iyer\",\"DJ Hooda\",\"Anureet Singh\",\"KS Williamson\",\"SA Abbott\",\"J Suchith\",\"RG More\",\"D Wiese\",\"HH Pandya\",\"SN Khan\",\"MJ McClenaghan\",\"DJ Muthuswami\",\"PJ Cummins\",\"SN Thakur\",\"JC Buttler\",\"CR Brathwaite\",\"MP Stoinis\",\"Ishan Kishan\",\"C Munro\",\"P Sahu\",\"KH Pandya\",\"AD Nath\",\"MJ Guptill\",\"KJ Abbott\",\"TM Head\",\"M Ashwin\",\"NS Naik\",\"RR Pant\",\"SW Billings\",\"KC Cariappa\",\"PSP Handscomb\",\"Swapnil Singh\",\"J Yadav\",\"UT Khawaja\",\"HM Amla\",\"F Behardien\",\"A Zampa\",\"BB Sran\",\"N Rana\",\"S Kaushik\",\"ER Dwivedi\",\"CJ Jordan\",\"A Choudhary\",\"TS Mills\",\"BA Stokes\",\"JJ Roy\",\"Vishnu Vinod\",\"Basil Thampi\",\"CR Woakes\",\"RA Tripathi\",\"DL Chahar\",\"V Shankar\",\"Rashid Khan\",\"LH Ferguson\",\"RD Chahar\",\"C de Grandhomme\",\"AF Milne\",\"S Badree\",\"Mohammad Nabi\",\"AJ Tye\",\"K Rabada\",\"Kuldeep Yadav\",\"Washington Sundar\",\"DM Bravo\",\"AR Bawne\",\"SP Jackson\",\"Ankit Soni\",\"TA Boult\",\"E Lewis\",\"MA Wood\",\"RK Singh\",\"DJM Short\",\"K Gowtham\",\"TK Curran\",\"M Markande\",\"B Stanlake\",\"Mujeeb Ur Rahman\",\"A Dananjaya\",\"Shivam Mavi\",\"Shubman Gill\",\"Mohammed Siraj\",\"H Klaasen\",\"RK Bhui\",\"JC Archer\",\"PP Shaw\",\"LE Plunkett\",\"Mustafizur Rahman\",\"AD Hales\",\"MK Lomror\",\"DR Shorey\",\"MM Ali\",\"M Prasidh Krishna\",\"P Chopra\",\"JPR Scantlebury-Searles\",\"Abhishek Sharma\",\"IS Sodhi\",\"SO Hetmyer\",\"S Dube\",\"NA Saini\",\"JM Bairstow\",\"Rasikh Salam\",\"KMA Paul\",\"N Pooran\",\"P Ray Barman\",\"S Lamichhane\",\"SM Curran\",\"GC Viljoen\",\"Avesh Khan\",\"HF Gurney\",\"SD Lad\",\"AS Joseph\",\"MJ Santner\",\"R Parag\",\"JL Denly\",\"LS Livingstone\",\"KK Ahmed\",\"AJ Turner\",\"SE Rutherford\",\"Harpreet Brar\",\"Y Prithvi Raj\",\"P Simran Singh\",\"JL Pattinson\",\"A Nortje\",\"T Banton\",\"D Padikkal\",\"YBK Jaiswal\",\"RD Gaikwad\",\"TU Deshpande\",\"Abdul Samad\",\"PK Garg\",\"JR Philippe\",\"Kartik Tyagi\",\"CV Varun\",\"KL Nagarkoti\",\"I Udana\",\"Ravi Bishnoi\",\"Shahbaz Ahmed\",\"AT Carey\",\"N Jagadeesan\",\"T Natarajan\",\"P Dubey\",\"SS Cottrell\",\"Arshdeep Singh\",\"DR Sams\"],\"xaxis\":\"x\",\"y\":[104.0,3099.0,1384.0,69.0,1464.0,983.0,416.0,80.0,11.0,363.0,121.0,8.0,139.0,2567.0,2270.0,6081.0,234.0,2064.0,433.0,5604.0,110.0,1515.0,3041.0,1205.0,4855.0,1780.0,2880.0,254.0,1239.0,12.0,3367.0,5452.0,4479.0,210.0,33.0,47.0,2915.0,4036.0,280.0,20.0,2288.0,59.0,37.0,843.0,53.0,4878.0,104.0,722.0,154.0,891.0,27.0,1084.0,2074.0,52.0,1028.0,53.0,84.0,59.0,2215.0,1051.0,296.0,5394.0,139.0,432.0,620.0,132.0,1923.0,400.0,133.0,63.0,82.0,1578.0,49.0,27.0,800.0,7.0,44.0,5.0,1460.0,77.0,111.0,338.0,119.0,58.0,193.0,4104.0,8.0,57.0,1777.0,3996.0,356.0,181.0,21.0,292.0,179.0,321.0,3418.0,955.0,13.0,4.0,2598.0,462.0,1477.0,40.0,211.0,44.0,30.0,5016.0,209.0,156.0,1025.0,43.0,401.0,124.0,31.0,207.0,20.0,3.0,4.0,36.0,106.0,22.0,12.0,13.0,42.0,164.0,40.0,19.0,58.0,31.0,25.0,22.0,312.0,2537.0,0.0,131.0,81.0,1251.0,402.0,330.0,97.0,3.0,1.0,1.0,3.0,0.0,2.0,2515.0,104.0,4.0,2.0,41.0,20.0,68.0,2131.0,72.0,13.0,1039.0,630.0,12.0,3.0,557.0,999.0,5103.0,19.0,343.0,4.0,204.0,539.0,114.0,49.0,544.0,78.0,7.0,3.0,141.0,175.0,170.0,701.0,1.0,15.0,3.0,87.0,1644.0,13.0,2749.0,5522.0,29.0,119.0,10.0,130.0,765.0,95.0,0.0,424.0,2.0,3.0,692.0,130.0,309.0,6.0,432.0,5.0,8.0,66.0,421.0,550.0,365.0,3798.0,288.0,172.0,235.0,131.0,4.0,894.0,1.0,1349.0,27.0,3.0,2.0,1.0,1.0,4.0,3188.0,21.0,39.0,297.0,190.0,44.0,207.0,190.0,254.0,132.0,11.0,5.0,71.0,1727.0,1200.0,23.0,64.0,10.0,213.0,8.0,9.0,37.0,35.0,38.0,4.0,24.0,39.0,36.0,22.0,56.0,234.0,2141.0,923.0,18.0,84.0,467.0,1775.0,60.0,42.0,327.0,102.0,1.0,44.0,416.0,74.0,19.0,4.0,64.0,23.0,15.0,342.0,2.0,20.0,795.0,187.0,2.0,18.0,458.0,28.0,4.0,30.0,338.0,79.0,10.0,20.0,77.0,126.0,7.0,0.0,214.0,46.0,2.0,101.0,52.0,12.0,0.0,196.0,20.0,96.0,6.0,2387.0,89.0,1596.0,2433.0,2095.0,174.0,122.0,554.0,135.0,12.0,119.0,89.0,959.0,22.0,0.0,8.0,145.0,1958.0,409.0,392.0,37.0,6.0,288.0,0.0,132.0,104.0,541.0,90.0,172.0,12.0,5.0,1604.0,4.0,1334.0,0.0,138.0,1533.0,303.0,19.0,15.0,27.0,5.0,1067.0,66.0,59.0,23.0,56.0,571.0,2663.0,11.0,205.0,2741.0,2049.0,159.0,183.0,110.0,0.0,199.0,10.0,317.0,36.0,127.0,9.0,18.0,49.0,12.0,145.0,20.0,80.0,559.0,20.0,962.0,43.0,64.0,118.0,107.0,44.0,54.0,5.0,27.0,1127.0,29.0,34.0,251.0,1.0,170.0,1.0,386.0,109.0,12.0,2290.0,652.0,40.0,1673.0,16.0,57.0,2.0,136.0,1444.0,454.0,92.0,1.0,233.0,48.0,1795.0,198.0,866.0,1254.0,185.0,19.0,1050.0,91.0,275.0,13.0,214.0,8.0,36.0,2168.0,352.0,24.0,6.0,12.0,8.0,134.0,600.0,14.0,5.0,12.0,1490.0,0.0,29.0,36.0,25.0,9.0,951.0,187.0,19.0,36.0,63.0,1031.0,84.0,679.0,153.0,45.0,17.0,317.0,7.0,15.0,152.0,104.0,134.0,59.0,197.0,6.0,12.0,38.0,9.0,12.0,464.0,3.0,84.0,123.0,191.0,109.0,31.0,5.0,13.0,4.0,24.0,967.0,52.0,68.0,8.0,205.0,850.0,1.0,1.0,152.0,89.0,16.0,324.0,3.0,8.0,8.0,155.0,10.0,284.0,175.0,30.0,832.0,5.0,22.0,539.0,20.0,0.0,287.0,6.0,4.0,1.0,15.0,15.0,35.0,259.0,0.0,72.0,0.0,4.0,82.0,22.0,0.0,32.0,15.0,7.0,20.0,502.0,40.0,220.0,21.0,113.0,142.0,86.0,4.0,13.0,23.0,15.0,7.0,1.0,34.0,35.0,3.0,8.0,0.0,0.0,0.0],\"yaxis\":\"y\",\"type\":\"bar\"}],                        {\"template\":{\"data\":{\"bar\":[{\"error_x\":{\"color\":\"#2a3f5f\"},\"error_y\":{\"color\":\"#2a3f5f\"},\"marker\":{\"line\":{\"color\":\"#E5ECF6\",\"width\":0.5},\"pattern\":{\"fillmode\":\"overlay\",\"size\":10,\"solidity\":0.2}},\"type\":\"bar\"}],\"barpolar\":[{\"marker\":{\"line\":{\"color\":\"#E5ECF6\",\"width\":0.5},\"pattern\":{\"fillmode\":\"overlay\",\"size\":10,\"solidity\":0.2}},\"type\":\"barpolar\"}],\"carpet\":[{\"aaxis\":{\"endlinecolor\":\"#2a3f5f\",\"gridcolor\":\"white\",\"linecolor\":\"white\",\"minorgridcolor\":\"white\",\"startlinecolor\":\"#2a3f5f\"},\"baxis\":{\"endlinecolor\":\"#2a3f5f\",\"gridcolor\":\"white\",\"linecolor\":\"white\",\"minorgridcolor\":\"white\",\"startlinecolor\":\"#2a3f5f\"},\"type\":\"carpet\"}],\"choropleth\":[{\"colorbar\":{\"outlinewidth\":0,\"ticks\":\"\"},\"type\":\"choropleth\"}],\"contour\":[{\"colorbar\":{\"outlinewidth\":0,\"ticks\":\"\"},\"colorscale\":[[0.0,\"#0d0887\"],[0.1111111111111111,\"#46039f\"],[0.2222222222222222,\"#7201a8\"],[0.3333333333333333,\"#9c179e\"],[0.4444444444444444,\"#bd3786\"],[0.5555555555555556,\"#d8576b\"],[0.6666666666666666,\"#ed7953\"],[0.7777777777777778,\"#fb9f3a\"],[0.8888888888888888,\"#fdca26\"],[1.0,\"#f0f921\"]],\"type\":\"contour\"}],\"contourcarpet\":[{\"colorbar\":{\"outlinewidth\":0,\"ticks\":\"\"},\"type\":\"contourcarpet\"}],\"heatmap\":[{\"colorbar\":{\"outlinewidth\":0,\"ticks\":\"\"},\"colorscale\":[[0.0,\"#0d0887\"],[0.1111111111111111,\"#46039f\"],[0.2222222222222222,\"#7201a8\"],[0.3333333333333333,\"#9c179e\"],[0.4444444444444444,\"#bd3786\"],[0.5555555555555556,\"#d8576b\"],[0.6666666666666666,\"#ed7953\"],[0.7777777777777778,\"#fb9f3a\"],[0.8888888888888888,\"#fdca26\"],[1.0,\"#f0f921\"]],\"type\":\"heatmap\"}],\"heatmapgl\":[{\"colorbar\":{\"outlinewidth\":0,\"ticks\":\"\"},\"colorscale\":[[0.0,\"#0d0887\"],[0.1111111111111111,\"#46039f\"],[0.2222222222222222,\"#7201a8\"],[0.3333333333333333,\"#9c179e\"],[0.4444444444444444,\"#bd3786\"],[0.5555555555555556,\"#d8576b\"],[0.6666666666666666,\"#ed7953\"],[0.7777777777777778,\"#fb9f3a\"],[0.8888888888888888,\"#fdca26\"],[1.0,\"#f0f921\"]],\"type\":\"heatmapgl\"}],\"histogram\":[{\"marker\":{\"pattern\":{\"fillmode\":\"overlay\",\"size\":10,\"solidity\":0.2}},\"type\":\"histogram\"}],\"histogram2d\":[{\"colorbar\":{\"outlinewidth\":0,\"ticks\":\"\"},\"colorscale\":[[0.0,\"#0d0887\"],[0.1111111111111111,\"#46039f\"],[0.2222222222222222,\"#7201a8\"],[0.3333333333333333,\"#9c179e\"],[0.4444444444444444,\"#bd3786\"],[0.5555555555555556,\"#d8576b\"],[0.6666666666666666,\"#ed7953\"],[0.7777777777777778,\"#fb9f3a\"],[0.8888888888888888,\"#fdca26\"],[1.0,\"#f0f921\"]],\"type\":\"histogram2d\"}],\"histogram2dcontour\":[{\"colorbar\":{\"outlinewidth\":0,\"ticks\":\"\"},\"colorscale\":[[0.0,\"#0d0887\"],[0.1111111111111111,\"#46039f\"],[0.2222222222222222,\"#7201a8\"],[0.3333333333333333,\"#9c179e\"],[0.4444444444444444,\"#bd3786\"],[0.5555555555555556,\"#d8576b\"],[0.6666666666666666,\"#ed7953\"],[0.7777777777777778,\"#fb9f3a\"],[0.8888888888888888,\"#fdca26\"],[1.0,\"#f0f921\"]],\"type\":\"histogram2dcontour\"}],\"mesh3d\":[{\"colorbar\":{\"outlinewidth\":0,\"ticks\":\"\"},\"type\":\"mesh3d\"}],\"parcoords\":[{\"line\":{\"colorbar\":{\"outlinewidth\":0,\"ticks\":\"\"}},\"type\":\"parcoords\"}],\"pie\":[{\"automargin\":true,\"type\":\"pie\"}],\"scatter\":[{\"marker\":{\"colorbar\":{\"outlinewidth\":0,\"ticks\":\"\"}},\"type\":\"scatter\"}],\"scatter3d\":[{\"line\":{\"colorbar\":{\"outlinewidth\":0,\"ticks\":\"\"}},\"marker\":{\"colorbar\":{\"outlinewidth\":0,\"ticks\":\"\"}},\"type\":\"scatter3d\"}],\"scattercarpet\":[{\"marker\":{\"colorbar\":{\"outlinewidth\":0,\"ticks\":\"\"}},\"type\":\"scattercarpet\"}],\"scattergeo\":[{\"marker\":{\"colorbar\":{\"outlinewidth\":0,\"ticks\":\"\"}},\"type\":\"scattergeo\"}],\"scattergl\":[{\"marker\":{\"colorbar\":{\"outlinewidth\":0,\"ticks\":\"\"}},\"type\":\"scattergl\"}],\"scattermapbox\":[{\"marker\":{\"colorbar\":{\"outlinewidth\":0,\"ticks\":\"\"}},\"type\":\"scattermapbox\"}],\"scatterpolar\":[{\"marker\":{\"colorbar\":{\"outlinewidth\":0,\"ticks\":\"\"}},\"type\":\"scatterpolar\"}],\"scatterpolargl\":[{\"marker\":{\"colorbar\":{\"outlinewidth\":0,\"ticks\":\"\"}},\"type\":\"scatterpolargl\"}],\"scatterternary\":[{\"marker\":{\"colorbar\":{\"outlinewidth\":0,\"ticks\":\"\"}},\"type\":\"scatterternary\"}],\"surface\":[{\"colorbar\":{\"outlinewidth\":0,\"ticks\":\"\"},\"colorscale\":[[0.0,\"#0d0887\"],[0.1111111111111111,\"#46039f\"],[0.2222222222222222,\"#7201a8\"],[0.3333333333333333,\"#9c179e\"],[0.4444444444444444,\"#bd3786\"],[0.5555555555555556,\"#d8576b\"],[0.6666666666666666,\"#ed7953\"],[0.7777777777777778,\"#fb9f3a\"],[0.8888888888888888,\"#fdca26\"],[1.0,\"#f0f921\"]],\"type\":\"surface\"}],\"table\":[{\"cells\":{\"fill\":{\"color\":\"#EBF0F8\"},\"line\":{\"color\":\"white\"}},\"header\":{\"fill\":{\"color\":\"#C8D4E3\"},\"line\":{\"color\":\"white\"}},\"type\":\"table\"}]},\"layout\":{\"annotationdefaults\":{\"arrowcolor\":\"#2a3f5f\",\"arrowhead\":0,\"arrowwidth\":1},\"autotypenumbers\":\"strict\",\"coloraxis\":{\"colorbar\":{\"outlinewidth\":0,\"ticks\":\"\"}},\"colorscale\":{\"diverging\":[[0,\"#8e0152\"],[0.1,\"#c51b7d\"],[0.2,\"#de77ae\"],[0.3,\"#f1b6da\"],[0.4,\"#fde0ef\"],[0.5,\"#f7f7f7\"],[0.6,\"#e6f5d0\"],[0.7,\"#b8e186\"],[0.8,\"#7fbc41\"],[0.9,\"#4d9221\"],[1,\"#276419\"]],\"sequential\":[[0.0,\"#0d0887\"],[0.1111111111111111,\"#46039f\"],[0.2222222222222222,\"#7201a8\"],[0.3333333333333333,\"#9c179e\"],[0.4444444444444444,\"#bd3786\"],[0.5555555555555556,\"#d8576b\"],[0.6666666666666666,\"#ed7953\"],[0.7777777777777778,\"#fb9f3a\"],[0.8888888888888888,\"#fdca26\"],[1.0,\"#f0f921\"]],\"sequentialminus\":[[0.0,\"#0d0887\"],[0.1111111111111111,\"#46039f\"],[0.2222222222222222,\"#7201a8\"],[0.3333333333333333,\"#9c179e\"],[0.4444444444444444,\"#bd3786\"],[0.5555555555555556,\"#d8576b\"],[0.6666666666666666,\"#ed7953\"],[0.7777777777777778,\"#fb9f3a\"],[0.8888888888888888,\"#fdca26\"],[1.0,\"#f0f921\"]]},\"colorway\":[\"#636efa\",\"#EF553B\",\"#00cc96\",\"#ab63fa\",\"#FFA15A\",\"#19d3f3\",\"#FF6692\",\"#B6E880\",\"#FF97FF\",\"#FECB52\"],\"font\":{\"color\":\"#2a3f5f\"},\"geo\":{\"bgcolor\":\"white\",\"lakecolor\":\"white\",\"landcolor\":\"#E5ECF6\",\"showlakes\":true,\"showland\":true,\"subunitcolor\":\"white\"},\"hoverlabel\":{\"align\":\"left\"},\"hovermode\":\"closest\",\"mapbox\":{\"style\":\"light\"},\"paper_bgcolor\":\"white\",\"plot_bgcolor\":\"#E5ECF6\",\"polar\":{\"angularaxis\":{\"gridcolor\":\"white\",\"linecolor\":\"white\",\"ticks\":\"\"},\"bgcolor\":\"#E5ECF6\",\"radialaxis\":{\"gridcolor\":\"white\",\"linecolor\":\"white\",\"ticks\":\"\"}},\"scene\":{\"xaxis\":{\"backgroundcolor\":\"#E5ECF6\",\"gridcolor\":\"white\",\"gridwidth\":2,\"linecolor\":\"white\",\"showbackground\":true,\"ticks\":\"\",\"zerolinecolor\":\"white\"},\"yaxis\":{\"backgroundcolor\":\"#E5ECF6\",\"gridcolor\":\"white\",\"gridwidth\":2,\"linecolor\":\"white\",\"showbackground\":true,\"ticks\":\"\",\"zerolinecolor\":\"white\"},\"zaxis\":{\"backgroundcolor\":\"#E5ECF6\",\"gridcolor\":\"white\",\"gridwidth\":2,\"linecolor\":\"white\",\"showbackground\":true,\"ticks\":\"\",\"zerolinecolor\":\"white\"}},\"shapedefaults\":{\"line\":{\"color\":\"#2a3f5f\"}},\"ternary\":{\"aaxis\":{\"gridcolor\":\"white\",\"linecolor\":\"white\",\"ticks\":\"\"},\"baxis\":{\"gridcolor\":\"white\",\"linecolor\":\"white\",\"ticks\":\"\"},\"bgcolor\":\"#E5ECF6\",\"caxis\":{\"gridcolor\":\"white\",\"linecolor\":\"white\",\"ticks\":\"\"}},\"title\":{\"x\":0.05},\"xaxis\":{\"automargin\":true,\"gridcolor\":\"white\",\"linecolor\":\"white\",\"ticks\":\"\",\"title\":{\"standoff\":15},\"zerolinecolor\":\"white\",\"zerolinewidth\":2},\"yaxis\":{\"automargin\":true,\"gridcolor\":\"white\",\"linecolor\":\"white\",\"ticks\":\"\",\"title\":{\"standoff\":15},\"zerolinecolor\":\"white\",\"zerolinewidth\":2}}},\"xaxis\":{\"anchor\":\"y\",\"domain\":[0.0,1.0],\"title\":{\"text\":\"BATSMAN\"}},\"yaxis\":{\"anchor\":\"x\",\"domain\":[0.0,1.0],\"title\":{\"text\":\"RUNS_SCORED\"}},\"legend\":{\"tracegroupgap\":0},\"title\":{\"text\":\"RUNS SCORED BY A BATSMAN\"},\"barmode\":\"relative\"},                        {\"responsive\": true}                    ).then(function(){\n",
       "                            \n",
       "var gd = document.getElementById('d9b76786-ec3e-4a47-b2be-be2faa947bf5');\n",
       "var x = new MutationObserver(function (mutations, observer) {{\n",
       "        var display = window.getComputedStyle(gd).display;\n",
       "        if (!display || display === 'none') {{\n",
       "            console.log([gd, 'removed!']);\n",
       "            Plotly.purge(gd);\n",
       "            observer.disconnect();\n",
       "        }}\n",
       "}});\n",
       "\n",
       "// Listen for the removal of the full notebook cells\n",
       "var notebookContainer = gd.closest('#notebook-container');\n",
       "if (notebookContainer) {{\n",
       "    x.observe(notebookContainer, {childList: true});\n",
       "}}\n",
       "\n",
       "// Listen for the clearing of the current output cell\n",
       "var outputEl = gd.closest('.output');\n",
       "if (outputEl) {{\n",
       "    x.observe(outputEl, {childList: true});\n",
       "}}\n",
       "\n",
       "                        })                };                });            </script>        </div>"
      ]
     },
     "metadata": {},
     "output_type": "display_data"
    }
   ],
   "source": [
    "runs_data = pd.DataFrame(dict(BATSMAN = runs_by_batsman.keys(),RUNS_SCORED = runs_by_batsman.values()))\n",
    "runs_graph = px.bar(runs_data , x = 'BATSMAN',y='RUNS_SCORED',title = \"RUNS SCORED BY A BATSMAN\")\n",
    "runs_graph"
   ]
  },
  {
   "cell_type": "markdown",
   "metadata": {},
   "source": [
    "NUMBER OF FOURS"
   ]
  },
  {
   "cell_type": "code",
   "execution_count": 84,
   "metadata": {},
   "outputs": [],
   "source": [
    "bds_by_batsman = dict(zip(batsman,np.zeros(len(batsman))))\n",
    "# print(runs_by_batsman)\n",
    "for i in range(0,len(match)):\n",
    "    if(match['batsman_runs'][i] == 4):\n",
    "        bds_by_batsman[match['batsman'][i]] += 1\n"
   ]
  },
  {
   "cell_type": "code",
   "execution_count": 85,
   "metadata": {},
   "outputs": [
    {
     "data": {
      "application/vnd.plotly.v1+json": {
       "config": {
        "plotlyServerURL": "https://plot.ly"
       },
       "data": [
        {
         "alignmentgroup": "True",
         "hovertemplate": "BATSMAN=%{x}<br>NUMBER_OF_FOURS=%{y}<extra></extra>",
         "legendgroup": "",
         "marker": {
          "color": "#636efa",
          "pattern": {
           "shape": ""
          }
         },
         "name": "",
         "offsetgroup": "",
         "orientation": "v",
         "showlegend": false,
         "textposition": "auto",
         "type": "bar",
         "x": [
          "RT Ponting",
          "BB McCullum",
          "DJ Hussey",
          "Mohammad Hafeez",
          "SC Ganguly",
          "CL White",
          "MV Boucher",
          "B Akhil",
          "AA Noffke",
          "P Kumar",
          "Z Khan",
          "SB Joshi",
          "W Jaffer",
          "JH Kallis",
          "R Dravid",
          "V Kohli",
          "K Goel",
          "MEK Hussey",
          "JR Hopes",
          "SK Raina",
          "JDP Oram",
          "S Badrinath",
          "PA Patel",
          "ML Hayden",
          "MS Dhoni",
          "KC Sangakkara",
          "Yuvraj Singh",
          "SM Katich",
          "IK Pathan",
          "T Kohli",
          "YK Pathan",
          "S Dhawan",
          "G Gambhir",
          "SK Warne",
          "D Salunkhe",
          "SK Trivedi",
          "V Sehwag",
          "SR Watson",
          "M Kaif",
          "DS Lehmann",
          "RA Jadeja",
          "M Rawat",
          "L Ronchi",
          "ST Jayasuriya",
          "DJ Thornely",
          "RV Uthappa",
          "PR Shah",
          "AM Nayar",
          "SM Pollock",
          "Harbhajan Singh",
          "S Chanderpaul",
          "LRPL Taylor",
          "WP Saha",
          "AS Yadav",
          "A Symonds",
          "SB Bangar",
          "WPUJC Vaas",
          "RP Singh",
          "AC Gilchrist",
          "Y Venugopal Rao",
          "VVS Laxman",
          "RG Sharma",
          "SB Styris",
          "LR Shukla",
          "PP Chawla",
          "Kamran Akmal",
          "DPMD Jayawardene",
          "S Sohal",
          "B Lee",
          "WA Mota",
          "Shahid Afridi",
          "DJ Bravo",
          "A Nehra",
          "MA Khote",
          "GC Smith",
          "Pankaj Singh",
          "S Sreesanth",
          "VRV Singh",
          "SS Tiwary",
          "RR Sarwan",
          "DS Kulkarni",
          "R Vinay Kumar",
          "M Kartik",
          "I Sharma",
          "AB Agarkar",
          "AM Rahane",
          "TM Srivastava",
          "Shoaib Malik",
          "MK Tiwary",
          "KD Karthik",
          "R Bhatia",
          "MF Maharoof",
          "VY Mahesh",
          "B Chipli",
          "DW Steyn",
          "DB Das",
          "MK Pandey",
          "HH Gibbs",
          "DNT Zoysa",
          "D Kalyankrishna",
          "SE Marsh",
          "SA Asnodkar",
          "BJ Hodge",
          "Sohail Tanvir",
          "Salman Butt",
          "Umar Gul",
          "AB Dinda",
          "AB de Villiers",
          "SP Fleming",
          "S Vidyut",
          "JA Morkel",
          "LPC Silva",
          "DB Ravi Teja",
          "Misbah-ul-Haq",
          "PJ Sangwan",
          "YV Takawale",
          "RR Raje",
          "Mohammad Asif",
          "GD McGrath",
          "Joginder Sharma",
          "MS Gony",
          "M Muralitharan",
          "M Ntini",
          "DT Patil",
          "A Kumble",
          "S Anirudha",
          "MM Patel",
          "CK Kapugedera",
          "A Chopra",
          "T Taibu",
          "J Arunkumar",
          "PP Ojha",
          "SP Goswami",
          "SR Tendulkar",
          "U Kaul",
          "Niraj Patel",
          "AD Mascarenhas",
          "TM Dilshan",
          "A Mishra",
          "LA Pomersbach",
          "Iqbal Abdulla",
          "Younis Khan",
          "PM Sarvesh Kumar",
          "DP Vijaykumar",
          "Shoaib Akhtar",
          "Abdur Razzak",
          "H Das",
          "DR Smith",
          "SD Chitnis",
          "CRD Fernando",
          "VS Yeligati",
          "L Balaji",
          "A Mukund",
          "RR Powar",
          "JP Duminy",
          "A Flintoff",
          "T Thushara",
          "KP Pietersen",
          "JD Ryder",
          "T Henderson",
          "Kamran Khan",
          "RS Bopara",
          "MC Henriques",
          "CH Gayle",
          "R Bishnoi",
          "KV Sharma",
          "FH Edwards",
          "AS Raut",
          "PC Valthaty",
          "RJ Quiney",
          "Yashpal Singh",
          "M Manhas",
          "AA Bilakhia",
          "AN Ghosh",
          "BAW Mendis",
          "DL Vettori",
          "MN van Wyk",
          "RE van der Merwe",
          "TL Suman",
          "Shoaib Ahmed",
          "GR Napier",
          "KP Appanna",
          "LA Carseldine",
          "NV Ojha",
          "SM Harwood",
          "M Vijay",
          "DA Warner",
          "SB Jakati",
          "RJ Harris",
          "D du Preez",
          "M Morkel",
          "AD Mathews",
          "SL Malinga",
          "C Nanda",
          "J Botha",
          "Mashrafe Mortaza",
          "A Singh",
          "GJ Bailey",
          "AB McDonald",
          "Y Nagar",
          "SS Shaikh",
          "R Ashwin",
          "Mohammad Ashraful",
          "Jaskaran Singh",
          "Anirudh Singh",
          "CA Pujara",
          "OA Shah",
          "AP Tare",
          "AT Rayudu",
          "R Sathish",
          "R McLaren",
          "AA Jhunjhunwala",
          "P Dogra",
          "A Uniyal",
          "MS Bisla",
          "YA Abdulla",
          "EJG Morgan",
          "JM Kemp",
          "S Tyagi",
          "RS Gavaskar",
          "SE Bond",
          "S Ladda",
          "DP Nannes",
          "KA Pollard",
          "DR Martyn",
          "S Narwal",
          "MJ Lumb",
          "Bipul Sharma",
          "AB Barath",
          "FY Fazal",
          "AC Voges",
          "MD Mishra",
          "UT Yadav",
          "J Theron",
          "SJ Srivastava",
          "R Sharma",
          "Mandeep Singh",
          "KM Jadhav",
          "SW Tait",
          "KB Arun Karthik",
          "KAJ Roach",
          "PD Collingwood",
          "CK Langeveldt",
          "VS Malik",
          "A Mithun",
          "AP Dole",
          "AN Ahmed",
          "RS Sodhi",
          "DE Bollinger",
          "S Sriram",
          "B Sumanth",
          "C Madan",
          "AG Paunikar",
          "MR Marsh",
          "AJ Finch",
          "STR Binny",
          "Harmeet Singh",
          "IR Jaggi",
          "DT Christian",
          "MA Agarwal",
          "RV Gomez",
          "AUK Pathan",
          "UBT Chand",
          "DJ Jacobs",
          "NJ Rimmington",
          "Sunny Singh",
          "AL Menaria",
          "WD Parnell",
          "JJ van der Wath",
          "R Ninan",
          "S Aravind",
          "MS Wade",
          "TD Paine",
          "JEC Franklin",
          "SB Wagh",
          "AC Thomas",
          "Shakib Al Hasan",
          "DH Yagnik",
          "S Randiv",
          "BJ Haddin",
          "NLTC Perera",
          "NL McCullum",
          "JE Taylor",
          "J Syed Mohammad",
          "RN ten Doeschate",
          "TR Birt",
          "AG Murtaza",
          "Harpreet Singh",
          "M Klinger",
          "AC Blizzard",
          "I Malhotra",
          "L Ablish",
          "CA Ingram",
          "S Nadeem",
          "P Parameswaran",
          "CJ Ferguson",
          "VR Aaron",
          "AA Chavan",
          "ND Doshi",
          "B Kumar",
          "Y Gnaneswara Rao",
          "S Rana",
          "BA Bhatt",
          "F du Plessis",
          "RE Levi",
          "GJ Maxwell",
          "SPD Smith",
          "SA Yadav",
          "MN Samuels",
          "KK Cooper",
          "JP Faulkner",
          "HV Patel",
          "DAJ Bracewell",
          "DJ Harris",
          "Ankit Sharma",
          "SP Narine",
          "GB Hogg",
          "RR Bhatkal",
          "CJ McKay",
          "N Saini",
          "DA Miller",
          "Azhar Mahmood",
          "P Negi",
          "RJ Peterson",
          "KMDN Kulasekara",
          "A Ashish Reddy",
          "V Pratap Singh",
          "BB Samantray",
          "MJ Clarke",
          "Gurkeerat Singh",
          "AP Majumdar",
          "PA Reddy",
          "K Upadhyay",
          "P Awana",
          "AD Russell",
          "A Chandila",
          "CA Lynn",
          "Sunny Gupta",
          "MC Juneja",
          "KK Nair",
          "GH Vihari",
          "R Shukla",
          "MDKJ Perera",
          "AS Rajpoot",
          "B Laughlin",
          "M Vohra",
          "JD Unadkat",
          "Mohammed Shami",
          "BMAJ Mendis",
          "R Rampaul",
          "CH Morris",
          "SV Samson",
          "SMSM Senanayake",
          "BJ Rohrer",
          "KL Rahul",
          "Q de Kock",
          "R Dhawan",
          "MG Johnson",
          "LJ Wright",
          "IC Pandey",
          "CM Gautam",
          "X Thalaivan Sargunam",
          "DJG Sammy",
          "KW Richardson",
          "MM Sharma",
          "UA Birla",
          "Parvez Rasool",
          "Sandeep Sharma",
          "S Kaul",
          "Sachin Baby",
          "PV Tambe",
          "NM Coulter-Nile",
          "CJ Anderson",
          "NJ Maddinson",
          "AR Patel",
          "JJ Bumrah",
          "JDS Neesham",
          "TG Southee",
          "MA Starc",
          "BR Dunk",
          "RR Rossouw",
          "Shivam Sharma",
          "YS Chahal",
          "LMP Simmons",
          "VH Zol",
          "Imran Tahir",
          "BCJ Cutting",
          "BE Hendricks",
          "S Gopal",
          "M de Lange",
          "R Tewatia",
          "JO Holder",
          "Karanveer Singh",
          "SS Iyer",
          "DJ Hooda",
          "Anureet Singh",
          "KS Williamson",
          "SA Abbott",
          "J Suchith",
          "RG More",
          "D Wiese",
          "HH Pandya",
          "SN Khan",
          "MJ McClenaghan",
          "DJ Muthuswami",
          "PJ Cummins",
          "SN Thakur",
          "JC Buttler",
          "CR Brathwaite",
          "MP Stoinis",
          "Ishan Kishan",
          "C Munro",
          "P Sahu",
          "KH Pandya",
          "AD Nath",
          "MJ Guptill",
          "KJ Abbott",
          "TM Head",
          "M Ashwin",
          "NS Naik",
          "RR Pant",
          "SW Billings",
          "KC Cariappa",
          "PSP Handscomb",
          "Swapnil Singh",
          "J Yadav",
          "UT Khawaja",
          "HM Amla",
          "F Behardien",
          "A Zampa",
          "BB Sran",
          "N Rana",
          "S Kaushik",
          "ER Dwivedi",
          "CJ Jordan",
          "A Choudhary",
          "TS Mills",
          "BA Stokes",
          "JJ Roy",
          "Vishnu Vinod",
          "Basil Thampi",
          "CR Woakes",
          "RA Tripathi",
          "DL Chahar",
          "V Shankar",
          "Rashid Khan",
          "LH Ferguson",
          "RD Chahar",
          "C de Grandhomme",
          "AF Milne",
          "S Badree",
          "Mohammad Nabi",
          "AJ Tye",
          "K Rabada",
          "Kuldeep Yadav",
          "Washington Sundar",
          "DM Bravo",
          "AR Bawne",
          "SP Jackson",
          "Ankit Soni",
          "TA Boult",
          "E Lewis",
          "MA Wood",
          "RK Singh",
          "DJM Short",
          "K Gowtham",
          "TK Curran",
          "M Markande",
          "B Stanlake",
          "Mujeeb Ur Rahman",
          "A Dananjaya",
          "Shivam Mavi",
          "Shubman Gill",
          "Mohammed Siraj",
          "H Klaasen",
          "RK Bhui",
          "JC Archer",
          "PP Shaw",
          "LE Plunkett",
          "Mustafizur Rahman",
          "AD Hales",
          "MK Lomror",
          "DR Shorey",
          "MM Ali",
          "M Prasidh Krishna",
          "P Chopra",
          "JPR Scantlebury-Searles",
          "Abhishek Sharma",
          "IS Sodhi",
          "SO Hetmyer",
          "S Dube",
          "NA Saini",
          "JM Bairstow",
          "Rasikh Salam",
          "KMA Paul",
          "N Pooran",
          "P Ray Barman",
          "S Lamichhane",
          "SM Curran",
          "GC Viljoen",
          "Avesh Khan",
          "HF Gurney",
          "SD Lad",
          "AS Joseph",
          "MJ Santner",
          "R Parag",
          "JL Denly",
          "LS Livingstone",
          "KK Ahmed",
          "AJ Turner",
          "SE Rutherford",
          "Harpreet Brar",
          "Y Prithvi Raj",
          "P Simran Singh",
          "JL Pattinson",
          "A Nortje",
          "T Banton",
          "D Padikkal",
          "YBK Jaiswal",
          "RD Gaikwad",
          "TU Deshpande",
          "Abdul Samad",
          "PK Garg",
          "JR Philippe",
          "Kartik Tyagi",
          "CV Varun",
          "KL Nagarkoti",
          "I Udana",
          "Ravi Bishnoi",
          "Shahbaz Ahmed",
          "AT Carey",
          "N Jagadeesan",
          "T Natarajan",
          "P Dubey",
          "SS Cottrell",
          "Arshdeep Singh",
          "DR Sams"
         ],
         "xaxis": "x",
         "y": [
          5,
          293,
          90,
          7,
          137,
          76,
          32,
          5,
          1,
          22,
          11,
          0,
          14,
          255,
          269,
          504,
          17,
          198,
          49,
          493,
          6,
          154,
          365,
          121,
          313,
          195,
          217,
          26,
          87,
          0,
          262,
          591,
          492,
          14,
          5,
          3,
          334,
          376,
          22,
          3,
          157,
          4,
          6,
          84,
          2,
          454,
          9,
          55,
          12,
          79,
          4,
          66,
          184,
          5,
          74,
          1,
          2,
          2,
          239,
          77,
          33,
          458,
          10,
          33,
          54,
          13,
          200,
          34,
          8,
          2,
          7,
          116,
          3,
          2,
          94,
          0,
          6,
          1,
          101,
          6,
          7,
          21,
          7,
          4,
          13,
          416,
          0,
          5,
          156,
          377,
          24,
          12,
          0,
          28,
          14,
          23,
          288,
          83,
          1,
          0,
          266,
          56,
          122,
          3,
          30,
          1,
          2,
          390,
          27,
          21,
          61,
          5,
          35,
          10,
          1,
          26,
          1,
          0,
          1,
          1,
          6,
          1,
          2,
          1,
          3,
          9,
          5,
          0,
          7,
          3,
          5,
          0,
          32,
          296,
          0,
          14,
          5,
          140,
          29,
          25,
          9,
          0,
          0,
          0,
          0,
          0,
          0,
          245,
          10,
          0,
          0,
          2,
          1,
          6,
          126,
          5,
          0,
          91,
          69,
          0,
          0,
          39,
          87,
          384,
          1,
          18,
          0,
          13,
          61,
          12,
          5,
          43,
          5,
          1,
          0,
          11,
          19,
          11,
          55,
          0,
          1,
          0,
          11,
          121,
          0,
          247,
          510,
          3,
          6,
          0,
          11,
          44,
          6,
          0,
          39,
          0,
          0,
          59,
          9,
          20,
          1,
          35,
          0,
          0,
          6,
          50,
          34,
          40,
          308,
          22,
          14,
          19,
          4,
          0,
          93,
          0,
          104,
          1,
          0,
          0,
          0,
          0,
          0,
          196,
          1,
          6,
          45,
          11,
          5,
          22,
          15,
          24,
          11,
          1,
          0,
          5,
          170,
          99,
          1,
          4,
          1,
          9,
          0,
          1,
          4,
          3,
          4,
          1,
          1,
          3,
          3,
          3,
          9,
          9,
          204,
          66,
          3,
          6,
          22,
          161,
          5,
          5,
          32,
          10,
          0,
          6,
          24,
          4,
          1,
          0,
          7,
          0,
          0,
          25,
          0,
          1,
          70,
          23,
          0,
          2,
          23,
          0,
          0,
          4,
          26,
          9,
          1,
          0,
          9,
          21,
          1,
          0,
          22,
          2,
          0,
          9,
          2,
          2,
          0,
          17,
          3,
          9,
          0,
          205,
          10,
          119,
          212,
          221,
          9,
          9,
          36,
          5,
          1,
          11,
          7,
          103,
          1,
          0,
          0,
          16,
          126,
          39,
          27,
          3,
          1,
          16,
          0,
          13,
          12,
          55,
          7,
          15,
          0,
          0,
          105,
          0,
          128,
          0,
          11,
          160,
          23,
          2,
          3,
          2,
          0,
          97,
          6,
          5,
          0,
          3,
          39,
          191,
          0,
          21,
          234,
          201,
          13,
          10,
          16,
          0,
          17,
          0,
          15,
          2,
          9,
          1,
          1,
          3,
          0,
          11,
          1,
          7,
          40,
          4,
          53,
          2,
          3,
          8,
          10,
          7,
          3,
          1,
          0,
          109,
          3,
          5,
          15,
          0,
          17,
          0,
          24,
          9,
          1,
          189,
          32,
          2,
          137,
          1,
          4,
          0,
          12,
          86,
          50,
          5,
          0,
          14,
          5,
          167,
          10,
          65,
          100,
          19,
          1,
          95,
          7,
          24,
          0,
          12,
          0,
          2,
          184,
          31,
          0,
          0,
          0,
          0,
          14,
          60,
          2,
          1,
          0,
          127,
          0,
          2,
          2,
          1,
          0,
          79,
          18,
          1,
          1,
          5,
          95,
          2,
          44,
          8,
          4,
          2,
          18,
          0,
          0,
          13,
          6,
          9,
          5,
          15,
          1,
          1,
          5,
          0,
          0,
          36,
          0,
          6,
          11,
          13,
          8,
          3,
          1,
          2,
          0,
          2,
          87,
          4,
          5,
          0,
          11,
          99,
          0,
          0,
          13,
          5,
          0,
          21,
          0,
          2,
          0,
          10,
          0,
          15,
          6,
          3,
          79,
          0,
          1,
          33,
          2,
          0,
          25,
          0,
          1,
          0,
          1,
          2,
          0,
          23,
          0,
          6,
          0,
          0,
          2,
          2,
          0,
          3,
          2,
          0,
          1,
          51,
          2,
          16,
          2,
          8,
          9,
          9,
          0,
          0,
          1,
          1,
          1,
          0,
          0,
          4,
          0,
          0,
          0,
          0,
          0
         ],
         "yaxis": "y"
        }
       ],
       "layout": {
        "autosize": true,
        "barmode": "relative",
        "legend": {
         "tracegroupgap": 0
        },
        "margin": {
         "t": 60
        },
        "template": {
         "data": {
          "bar": [
           {
            "error_x": {
             "color": "#2a3f5f"
            },
            "error_y": {
             "color": "#2a3f5f"
            },
            "marker": {
             "line": {
              "color": "#E5ECF6",
              "width": 0.5
             },
             "pattern": {
              "fillmode": "overlay",
              "size": 10,
              "solidity": 0.2
             }
            },
            "type": "bar"
           }
          ],
          "barpolar": [
           {
            "marker": {
             "line": {
              "color": "#E5ECF6",
              "width": 0.5
             },
             "pattern": {
              "fillmode": "overlay",
              "size": 10,
              "solidity": 0.2
             }
            },
            "type": "barpolar"
           }
          ],
          "carpet": [
           {
            "aaxis": {
             "endlinecolor": "#2a3f5f",
             "gridcolor": "white",
             "linecolor": "white",
             "minorgridcolor": "white",
             "startlinecolor": "#2a3f5f"
            },
            "baxis": {
             "endlinecolor": "#2a3f5f",
             "gridcolor": "white",
             "linecolor": "white",
             "minorgridcolor": "white",
             "startlinecolor": "#2a3f5f"
            },
            "type": "carpet"
           }
          ],
          "choropleth": [
           {
            "colorbar": {
             "outlinewidth": 0,
             "ticks": ""
            },
            "type": "choropleth"
           }
          ],
          "contour": [
           {
            "colorbar": {
             "outlinewidth": 0,
             "ticks": ""
            },
            "colorscale": [
             [
              0,
              "#0d0887"
             ],
             [
              0.1111111111111111,
              "#46039f"
             ],
             [
              0.2222222222222222,
              "#7201a8"
             ],
             [
              0.3333333333333333,
              "#9c179e"
             ],
             [
              0.4444444444444444,
              "#bd3786"
             ],
             [
              0.5555555555555556,
              "#d8576b"
             ],
             [
              0.6666666666666666,
              "#ed7953"
             ],
             [
              0.7777777777777778,
              "#fb9f3a"
             ],
             [
              0.8888888888888888,
              "#fdca26"
             ],
             [
              1,
              "#f0f921"
             ]
            ],
            "type": "contour"
           }
          ],
          "contourcarpet": [
           {
            "colorbar": {
             "outlinewidth": 0,
             "ticks": ""
            },
            "type": "contourcarpet"
           }
          ],
          "heatmap": [
           {
            "colorbar": {
             "outlinewidth": 0,
             "ticks": ""
            },
            "colorscale": [
             [
              0,
              "#0d0887"
             ],
             [
              0.1111111111111111,
              "#46039f"
             ],
             [
              0.2222222222222222,
              "#7201a8"
             ],
             [
              0.3333333333333333,
              "#9c179e"
             ],
             [
              0.4444444444444444,
              "#bd3786"
             ],
             [
              0.5555555555555556,
              "#d8576b"
             ],
             [
              0.6666666666666666,
              "#ed7953"
             ],
             [
              0.7777777777777778,
              "#fb9f3a"
             ],
             [
              0.8888888888888888,
              "#fdca26"
             ],
             [
              1,
              "#f0f921"
             ]
            ],
            "type": "heatmap"
           }
          ],
          "heatmapgl": [
           {
            "colorbar": {
             "outlinewidth": 0,
             "ticks": ""
            },
            "colorscale": [
             [
              0,
              "#0d0887"
             ],
             [
              0.1111111111111111,
              "#46039f"
             ],
             [
              0.2222222222222222,
              "#7201a8"
             ],
             [
              0.3333333333333333,
              "#9c179e"
             ],
             [
              0.4444444444444444,
              "#bd3786"
             ],
             [
              0.5555555555555556,
              "#d8576b"
             ],
             [
              0.6666666666666666,
              "#ed7953"
             ],
             [
              0.7777777777777778,
              "#fb9f3a"
             ],
             [
              0.8888888888888888,
              "#fdca26"
             ],
             [
              1,
              "#f0f921"
             ]
            ],
            "type": "heatmapgl"
           }
          ],
          "histogram": [
           {
            "marker": {
             "pattern": {
              "fillmode": "overlay",
              "size": 10,
              "solidity": 0.2
             }
            },
            "type": "histogram"
           }
          ],
          "histogram2d": [
           {
            "colorbar": {
             "outlinewidth": 0,
             "ticks": ""
            },
            "colorscale": [
             [
              0,
              "#0d0887"
             ],
             [
              0.1111111111111111,
              "#46039f"
             ],
             [
              0.2222222222222222,
              "#7201a8"
             ],
             [
              0.3333333333333333,
              "#9c179e"
             ],
             [
              0.4444444444444444,
              "#bd3786"
             ],
             [
              0.5555555555555556,
              "#d8576b"
             ],
             [
              0.6666666666666666,
              "#ed7953"
             ],
             [
              0.7777777777777778,
              "#fb9f3a"
             ],
             [
              0.8888888888888888,
              "#fdca26"
             ],
             [
              1,
              "#f0f921"
             ]
            ],
            "type": "histogram2d"
           }
          ],
          "histogram2dcontour": [
           {
            "colorbar": {
             "outlinewidth": 0,
             "ticks": ""
            },
            "colorscale": [
             [
              0,
              "#0d0887"
             ],
             [
              0.1111111111111111,
              "#46039f"
             ],
             [
              0.2222222222222222,
              "#7201a8"
             ],
             [
              0.3333333333333333,
              "#9c179e"
             ],
             [
              0.4444444444444444,
              "#bd3786"
             ],
             [
              0.5555555555555556,
              "#d8576b"
             ],
             [
              0.6666666666666666,
              "#ed7953"
             ],
             [
              0.7777777777777778,
              "#fb9f3a"
             ],
             [
              0.8888888888888888,
              "#fdca26"
             ],
             [
              1,
              "#f0f921"
             ]
            ],
            "type": "histogram2dcontour"
           }
          ],
          "mesh3d": [
           {
            "colorbar": {
             "outlinewidth": 0,
             "ticks": ""
            },
            "type": "mesh3d"
           }
          ],
          "parcoords": [
           {
            "line": {
             "colorbar": {
              "outlinewidth": 0,
              "ticks": ""
             }
            },
            "type": "parcoords"
           }
          ],
          "pie": [
           {
            "automargin": true,
            "type": "pie"
           }
          ],
          "scatter": [
           {
            "marker": {
             "colorbar": {
              "outlinewidth": 0,
              "ticks": ""
             }
            },
            "type": "scatter"
           }
          ],
          "scatter3d": [
           {
            "line": {
             "colorbar": {
              "outlinewidth": 0,
              "ticks": ""
             }
            },
            "marker": {
             "colorbar": {
              "outlinewidth": 0,
              "ticks": ""
             }
            },
            "type": "scatter3d"
           }
          ],
          "scattercarpet": [
           {
            "marker": {
             "colorbar": {
              "outlinewidth": 0,
              "ticks": ""
             }
            },
            "type": "scattercarpet"
           }
          ],
          "scattergeo": [
           {
            "marker": {
             "colorbar": {
              "outlinewidth": 0,
              "ticks": ""
             }
            },
            "type": "scattergeo"
           }
          ],
          "scattergl": [
           {
            "marker": {
             "colorbar": {
              "outlinewidth": 0,
              "ticks": ""
             }
            },
            "type": "scattergl"
           }
          ],
          "scattermapbox": [
           {
            "marker": {
             "colorbar": {
              "outlinewidth": 0,
              "ticks": ""
             }
            },
            "type": "scattermapbox"
           }
          ],
          "scatterpolar": [
           {
            "marker": {
             "colorbar": {
              "outlinewidth": 0,
              "ticks": ""
             }
            },
            "type": "scatterpolar"
           }
          ],
          "scatterpolargl": [
           {
            "marker": {
             "colorbar": {
              "outlinewidth": 0,
              "ticks": ""
             }
            },
            "type": "scatterpolargl"
           }
          ],
          "scatterternary": [
           {
            "marker": {
             "colorbar": {
              "outlinewidth": 0,
              "ticks": ""
             }
            },
            "type": "scatterternary"
           }
          ],
          "surface": [
           {
            "colorbar": {
             "outlinewidth": 0,
             "ticks": ""
            },
            "colorscale": [
             [
              0,
              "#0d0887"
             ],
             [
              0.1111111111111111,
              "#46039f"
             ],
             [
              0.2222222222222222,
              "#7201a8"
             ],
             [
              0.3333333333333333,
              "#9c179e"
             ],
             [
              0.4444444444444444,
              "#bd3786"
             ],
             [
              0.5555555555555556,
              "#d8576b"
             ],
             [
              0.6666666666666666,
              "#ed7953"
             ],
             [
              0.7777777777777778,
              "#fb9f3a"
             ],
             [
              0.8888888888888888,
              "#fdca26"
             ],
             [
              1,
              "#f0f921"
             ]
            ],
            "type": "surface"
           }
          ],
          "table": [
           {
            "cells": {
             "fill": {
              "color": "#EBF0F8"
             },
             "line": {
              "color": "white"
             }
            },
            "header": {
             "fill": {
              "color": "#C8D4E3"
             },
             "line": {
              "color": "white"
             }
            },
            "type": "table"
           }
          ]
         },
         "layout": {
          "annotationdefaults": {
           "arrowcolor": "#2a3f5f",
           "arrowhead": 0,
           "arrowwidth": 1
          },
          "autotypenumbers": "strict",
          "coloraxis": {
           "colorbar": {
            "outlinewidth": 0,
            "ticks": ""
           }
          },
          "colorscale": {
           "diverging": [
            [
             0,
             "#8e0152"
            ],
            [
             0.1,
             "#c51b7d"
            ],
            [
             0.2,
             "#de77ae"
            ],
            [
             0.3,
             "#f1b6da"
            ],
            [
             0.4,
             "#fde0ef"
            ],
            [
             0.5,
             "#f7f7f7"
            ],
            [
             0.6,
             "#e6f5d0"
            ],
            [
             0.7,
             "#b8e186"
            ],
            [
             0.8,
             "#7fbc41"
            ],
            [
             0.9,
             "#4d9221"
            ],
            [
             1,
             "#276419"
            ]
           ],
           "sequential": [
            [
             0,
             "#0d0887"
            ],
            [
             0.1111111111111111,
             "#46039f"
            ],
            [
             0.2222222222222222,
             "#7201a8"
            ],
            [
             0.3333333333333333,
             "#9c179e"
            ],
            [
             0.4444444444444444,
             "#bd3786"
            ],
            [
             0.5555555555555556,
             "#d8576b"
            ],
            [
             0.6666666666666666,
             "#ed7953"
            ],
            [
             0.7777777777777778,
             "#fb9f3a"
            ],
            [
             0.8888888888888888,
             "#fdca26"
            ],
            [
             1,
             "#f0f921"
            ]
           ],
           "sequentialminus": [
            [
             0,
             "#0d0887"
            ],
            [
             0.1111111111111111,
             "#46039f"
            ],
            [
             0.2222222222222222,
             "#7201a8"
            ],
            [
             0.3333333333333333,
             "#9c179e"
            ],
            [
             0.4444444444444444,
             "#bd3786"
            ],
            [
             0.5555555555555556,
             "#d8576b"
            ],
            [
             0.6666666666666666,
             "#ed7953"
            ],
            [
             0.7777777777777778,
             "#fb9f3a"
            ],
            [
             0.8888888888888888,
             "#fdca26"
            ],
            [
             1,
             "#f0f921"
            ]
           ]
          },
          "colorway": [
           "#636efa",
           "#EF553B",
           "#00cc96",
           "#ab63fa",
           "#FFA15A",
           "#19d3f3",
           "#FF6692",
           "#B6E880",
           "#FF97FF",
           "#FECB52"
          ],
          "font": {
           "color": "#2a3f5f"
          },
          "geo": {
           "bgcolor": "white",
           "lakecolor": "white",
           "landcolor": "#E5ECF6",
           "showlakes": true,
           "showland": true,
           "subunitcolor": "white"
          },
          "hoverlabel": {
           "align": "left"
          },
          "hovermode": "closest",
          "mapbox": {
           "style": "light"
          },
          "paper_bgcolor": "white",
          "plot_bgcolor": "#E5ECF6",
          "polar": {
           "angularaxis": {
            "gridcolor": "white",
            "linecolor": "white",
            "ticks": ""
           },
           "bgcolor": "#E5ECF6",
           "radialaxis": {
            "gridcolor": "white",
            "linecolor": "white",
            "ticks": ""
           }
          },
          "scene": {
           "xaxis": {
            "backgroundcolor": "#E5ECF6",
            "gridcolor": "white",
            "gridwidth": 2,
            "linecolor": "white",
            "showbackground": true,
            "ticks": "",
            "zerolinecolor": "white"
           },
           "yaxis": {
            "backgroundcolor": "#E5ECF6",
            "gridcolor": "white",
            "gridwidth": 2,
            "linecolor": "white",
            "showbackground": true,
            "ticks": "",
            "zerolinecolor": "white"
           },
           "zaxis": {
            "backgroundcolor": "#E5ECF6",
            "gridcolor": "white",
            "gridwidth": 2,
            "linecolor": "white",
            "showbackground": true,
            "ticks": "",
            "zerolinecolor": "white"
           }
          },
          "shapedefaults": {
           "line": {
            "color": "#2a3f5f"
           }
          },
          "ternary": {
           "aaxis": {
            "gridcolor": "white",
            "linecolor": "white",
            "ticks": ""
           },
           "baxis": {
            "gridcolor": "white",
            "linecolor": "white",
            "ticks": ""
           },
           "bgcolor": "#E5ECF6",
           "caxis": {
            "gridcolor": "white",
            "linecolor": "white",
            "ticks": ""
           }
          },
          "title": {
           "x": 0.05
          },
          "xaxis": {
           "automargin": true,
           "gridcolor": "white",
           "linecolor": "white",
           "ticks": "",
           "title": {
            "standoff": 15
           },
           "zerolinecolor": "white",
           "zerolinewidth": 2
          },
          "yaxis": {
           "automargin": true,
           "gridcolor": "white",
           "linecolor": "white",
           "ticks": "",
           "title": {
            "standoff": 15
           },
           "zerolinecolor": "white",
           "zerolinewidth": 2
          }
         }
        },
        "xaxis": {
         "anchor": "y",
         "autorange": true,
         "domain": [
          0,
          1
         ],
         "range": [
          -0.5,
          536.5
         ],
         "title": {
          "text": "BATSMAN"
         },
         "type": "category"
        },
        "yaxis": {
         "anchor": "x",
         "autorange": true,
         "domain": [
          0,
          1
         ],
         "range": [
          0,
          622.1052631578947
         ],
         "title": {
          "text": "NUMBER_OF_FOURS"
         },
         "type": "linear"
        }
       }
      },
      "image/png": "[encoded data removed]",
      "text/html": [
       "<div>                            <div id=\"32d6f9ce-dba2-4341-80c2-b614c93bc6a4\" class=\"plotly-graph-div\" style=\"height:525px; width:100%;\"></div>            <script type=\"text/javascript\">                require([\"plotly\"], function(Plotly) {                    window.PLOTLYENV=window.PLOTLYENV || {};                                    if (document.getElementById(\"32d6f9ce-dba2-4341-80c2-b614c93bc6a4\")) {                    Plotly.newPlot(                        \"32d6f9ce-dba2-4341-80c2-b614c93bc6a4\",                        [{\"alignmentgroup\":\"True\",\"hovertemplate\":\"BATSMAN=%{x}<br>NUMBER_OF_FOURS=%{y}<extra></extra>\",\"legendgroup\":\"\",\"marker\":{\"color\":\"#636efa\",\"pattern\":{\"shape\":\"\"}},\"name\":\"\",\"offsetgroup\":\"\",\"orientation\":\"v\",\"showlegend\":false,\"textposition\":\"auto\",\"x\":[\"RT Ponting\",\"BB McCullum\",\"DJ Hussey\",\"Mohammad Hafeez\",\"SC Ganguly\",\"CL White\",\"MV Boucher\",\"B Akhil\",\"AA Noffke\",\"P Kumar\",\"Z Khan\",\"SB Joshi\",\"W Jaffer\",\"JH Kallis\",\"R Dravid\",\"V Kohli\",\"K Goel\",\"MEK Hussey\",\"JR Hopes\",\"SK Raina\",\"JDP Oram\",\"S Badrinath\",\"PA Patel\",\"ML Hayden\",\"MS Dhoni\",\"KC Sangakkara\",\"Yuvraj Singh\",\"SM Katich\",\"IK Pathan\",\"T Kohli\",\"YK Pathan\",\"S Dhawan\",\"G Gambhir\",\"SK Warne\",\"D Salunkhe\",\"SK Trivedi\",\"V Sehwag\",\"SR Watson\",\"M Kaif\",\"DS Lehmann\",\"RA Jadeja\",\"M Rawat\",\"L Ronchi\",\"ST Jayasuriya\",\"DJ Thornely\",\"RV Uthappa\",\"PR Shah\",\"AM Nayar\",\"SM Pollock\",\"Harbhajan Singh\",\"S Chanderpaul\",\"LRPL Taylor\",\"WP Saha\",\"AS Yadav\",\"A Symonds\",\"SB Bangar\",\"WPUJC Vaas\",\"RP Singh\",\"AC Gilchrist\",\"Y Venugopal Rao\",\"VVS Laxman\",\"RG Sharma\",\"SB Styris\",\"LR Shukla\",\"PP Chawla\",\"Kamran Akmal\",\"DPMD Jayawardene\",\"S Sohal\",\"B Lee\",\"WA Mota\",\"Shahid Afridi\",\"DJ Bravo\",\"A Nehra\",\"MA Khote\",\"GC Smith\",\"Pankaj Singh\",\"S Sreesanth\",\"VRV Singh\",\"SS Tiwary\",\"RR Sarwan\",\"DS Kulkarni\",\"R Vinay Kumar\",\"M Kartik\",\"I Sharma\",\"AB Agarkar\",\"AM Rahane\",\"TM Srivastava\",\"Shoaib Malik\",\"MK Tiwary\",\"KD Karthik\",\"R Bhatia\",\"MF Maharoof\",\"VY Mahesh\",\"B Chipli\",\"DW Steyn\",\"DB Das\",\"MK Pandey\",\"HH Gibbs\",\"DNT Zoysa\",\"D Kalyankrishna\",\"SE Marsh\",\"SA Asnodkar\",\"BJ Hodge\",\"Sohail Tanvir\",\"Salman Butt\",\"Umar Gul\",\"AB Dinda\",\"AB de Villiers\",\"SP Fleming\",\"S Vidyut\",\"JA Morkel\",\"LPC Silva\",\"DB Ravi Teja\",\"Misbah-ul-Haq\",\"PJ Sangwan\",\"YV Takawale\",\"RR Raje\",\"Mohammad Asif\",\"GD McGrath\",\"Joginder Sharma\",\"MS Gony\",\"M Muralitharan\",\"M Ntini\",\"DT Patil\",\"A Kumble\",\"S Anirudha\",\"MM Patel\",\"CK Kapugedera\",\"A Chopra\",\"T Taibu\",\"J Arunkumar\",\"PP Ojha\",\"SP Goswami\",\"SR Tendulkar\",\"U Kaul\",\"Niraj Patel\",\"AD Mascarenhas\",\"TM Dilshan\",\"A Mishra\",\"LA Pomersbach\",\"Iqbal Abdulla\",\"Younis Khan\",\"PM Sarvesh Kumar\",\"DP Vijaykumar\",\"Shoaib Akhtar\",\"Abdur Razzak\",\"H Das\",\"DR Smith\",\"SD Chitnis\",\"CRD Fernando\",\"VS Yeligati\",\"L Balaji\",\"A Mukund\",\"RR Powar\",\"JP Duminy\",\"A Flintoff\",\"T Thushara\",\"KP Pietersen\",\"JD Ryder\",\"T Henderson\",\"Kamran Khan\",\"RS Bopara\",\"MC Henriques\",\"CH Gayle\",\"R Bishnoi\",\"KV Sharma\",\"FH Edwards\",\"AS Raut\",\"PC Valthaty\",\"RJ Quiney\",\"Yashpal Singh\",\"M Manhas\",\"AA Bilakhia\",\"AN Ghosh\",\"BAW Mendis\",\"DL Vettori\",\"MN van Wyk\",\"RE van der Merwe\",\"TL Suman\",\"Shoaib Ahmed\",\"GR Napier\",\"KP Appanna\",\"LA Carseldine\",\"NV Ojha\",\"SM Harwood\",\"M Vijay\",\"DA Warner\",\"SB Jakati\",\"RJ Harris\",\"D du Preez\",\"M Morkel\",\"AD Mathews\",\"SL Malinga\",\"C Nanda\",\"J Botha\",\"Mashrafe Mortaza\",\"A Singh\",\"GJ Bailey\",\"AB McDonald\",\"Y Nagar\",\"SS Shaikh\",\"R Ashwin\",\"Mohammad Ashraful\",\"Jaskaran Singh\",\"Anirudh Singh\",\"CA Pujara\",\"OA Shah\",\"AP Tare\",\"AT Rayudu\",\"R Sathish\",\"R McLaren\",\"AA Jhunjhunwala\",\"P Dogra\",\"A Uniyal\",\"MS Bisla\",\"YA Abdulla\",\"EJG Morgan\",\"JM Kemp\",\"S Tyagi\",\"RS Gavaskar\",\"SE Bond\",\"S Ladda\",\"DP Nannes\",\"KA Pollard\",\"DR Martyn\",\"S Narwal\",\"MJ Lumb\",\"Bipul Sharma\",\"AB Barath\",\"FY Fazal\",\"AC Voges\",\"MD Mishra\",\"UT Yadav\",\"J Theron\",\"SJ Srivastava\",\"R Sharma\",\"Mandeep Singh\",\"KM Jadhav\",\"SW Tait\",\"KB Arun Karthik\",\"KAJ Roach\",\"PD Collingwood\",\"CK Langeveldt\",\"VS Malik\",\"A Mithun\",\"AP Dole\",\"AN Ahmed\",\"RS Sodhi\",\"DE Bollinger\",\"S Sriram\",\"B Sumanth\",\"C Madan\",\"AG Paunikar\",\"MR Marsh\",\"AJ Finch\",\"STR Binny\",\"Harmeet Singh\",\"IR Jaggi\",\"DT Christian\",\"MA Agarwal\",\"RV Gomez\",\"AUK Pathan\",\"UBT Chand\",\"DJ Jacobs\",\"NJ Rimmington\",\"Sunny Singh\",\"AL Menaria\",\"WD Parnell\",\"JJ van der Wath\",\"R Ninan\",\"S Aravind\",\"MS Wade\",\"TD Paine\",\"JEC Franklin\",\"SB Wagh\",\"AC Thomas\",\"Shakib Al Hasan\",\"DH Yagnik\",\"S Randiv\",\"BJ Haddin\",\"NLTC Perera\",\"NL McCullum\",\"JE Taylor\",\"J Syed Mohammad\",\"RN ten Doeschate\",\"TR Birt\",\"AG Murtaza\",\"Harpreet Singh\",\"M Klinger\",\"AC Blizzard\",\"I Malhotra\",\"L Ablish\",\"CA Ingram\",\"S Nadeem\",\"P Parameswaran\",\"CJ Ferguson\",\"VR Aaron\",\"AA Chavan\",\"ND Doshi\",\"B Kumar\",\"Y Gnaneswara Rao\",\"S Rana\",\"BA Bhatt\",\"F du Plessis\",\"RE Levi\",\"GJ Maxwell\",\"SPD Smith\",\"SA Yadav\",\"MN Samuels\",\"KK Cooper\",\"JP Faulkner\",\"HV Patel\",\"DAJ Bracewell\",\"DJ Harris\",\"Ankit Sharma\",\"SP Narine\",\"GB Hogg\",\"RR Bhatkal\",\"CJ McKay\",\"N Saini\",\"DA Miller\",\"Azhar Mahmood\",\"P Negi\",\"RJ Peterson\",\"KMDN Kulasekara\",\"A Ashish Reddy\",\"V Pratap Singh\",\"BB Samantray\",\"MJ Clarke\",\"Gurkeerat Singh\",\"AP Majumdar\",\"PA Reddy\",\"K Upadhyay\",\"P Awana\",\"AD Russell\",\"A Chandila\",\"CA Lynn\",\"Sunny Gupta\",\"MC Juneja\",\"KK Nair\",\"GH Vihari\",\"R Shukla\",\"MDKJ Perera\",\"AS Rajpoot\",\"B Laughlin\",\"M Vohra\",\"JD Unadkat\",\"Mohammed Shami\",\"BMAJ Mendis\",\"R Rampaul\",\"CH Morris\",\"SV Samson\",\"SMSM Senanayake\",\"BJ Rohrer\",\"KL Rahul\",\"Q de Kock\",\"R Dhawan\",\"MG Johnson\",\"LJ Wright\",\"IC Pandey\",\"CM Gautam\",\"X Thalaivan Sargunam\",\"DJG Sammy\",\"KW Richardson\",\"MM Sharma\",\"UA Birla\",\"Parvez Rasool\",\"Sandeep Sharma\",\"S Kaul\",\"Sachin Baby\",\"PV Tambe\",\"NM Coulter-Nile\",\"CJ Anderson\",\"NJ Maddinson\",\"AR Patel\",\"JJ Bumrah\",\"JDS Neesham\",\"TG Southee\",\"MA Starc\",\"BR Dunk\",\"RR Rossouw\",\"Shivam Sharma\",\"YS Chahal\",\"LMP Simmons\",\"VH Zol\",\"Imran Tahir\",\"BCJ Cutting\",\"BE Hendricks\",\"S Gopal\",\"M de Lange\",\"R Tewatia\",\"JO Holder\",\"Karanveer Singh\",\"SS Iyer\",\"DJ Hooda\",\"Anureet Singh\",\"KS Williamson\",\"SA Abbott\",\"J Suchith\",\"RG More\",\"D Wiese\",\"HH Pandya\",\"SN Khan\",\"MJ McClenaghan\",\"DJ Muthuswami\",\"PJ Cummins\",\"SN Thakur\",\"JC Buttler\",\"CR Brathwaite\",\"MP Stoinis\",\"Ishan Kishan\",\"C Munro\",\"P Sahu\",\"KH Pandya\",\"AD Nath\",\"MJ Guptill\",\"KJ Abbott\",\"TM Head\",\"M Ashwin\",\"NS Naik\",\"RR Pant\",\"SW Billings\",\"KC Cariappa\",\"PSP Handscomb\",\"Swapnil Singh\",\"J Yadav\",\"UT Khawaja\",\"HM Amla\",\"F Behardien\",\"A Zampa\",\"BB Sran\",\"N Rana\",\"S Kaushik\",\"ER Dwivedi\",\"CJ Jordan\",\"A Choudhary\",\"TS Mills\",\"BA Stokes\",\"JJ Roy\",\"Vishnu Vinod\",\"Basil Thampi\",\"CR Woakes\",\"RA Tripathi\",\"DL Chahar\",\"V Shankar\",\"Rashid Khan\",\"LH Ferguson\",\"RD Chahar\",\"C de Grandhomme\",\"AF Milne\",\"S Badree\",\"Mohammad Nabi\",\"AJ Tye\",\"K Rabada\",\"Kuldeep Yadav\",\"Washington Sundar\",\"DM Bravo\",\"AR Bawne\",\"SP Jackson\",\"Ankit Soni\",\"TA Boult\",\"E Lewis\",\"MA Wood\",\"RK Singh\",\"DJM Short\",\"K Gowtham\",\"TK Curran\",\"M Markande\",\"B Stanlake\",\"Mujeeb Ur Rahman\",\"A Dananjaya\",\"Shivam Mavi\",\"Shubman Gill\",\"Mohammed Siraj\",\"H Klaasen\",\"RK Bhui\",\"JC Archer\",\"PP Shaw\",\"LE Plunkett\",\"Mustafizur Rahman\",\"AD Hales\",\"MK Lomror\",\"DR Shorey\",\"MM Ali\",\"M Prasidh Krishna\",\"P Chopra\",\"JPR Scantlebury-Searles\",\"Abhishek Sharma\",\"IS Sodhi\",\"SO Hetmyer\",\"S Dube\",\"NA Saini\",\"JM Bairstow\",\"Rasikh Salam\",\"KMA Paul\",\"N Pooran\",\"P Ray Barman\",\"S Lamichhane\",\"SM Curran\",\"GC Viljoen\",\"Avesh Khan\",\"HF Gurney\",\"SD Lad\",\"AS Joseph\",\"MJ Santner\",\"R Parag\",\"JL Denly\",\"LS Livingstone\",\"KK Ahmed\",\"AJ Turner\",\"SE Rutherford\",\"Harpreet Brar\",\"Y Prithvi Raj\",\"P Simran Singh\",\"JL Pattinson\",\"A Nortje\",\"T Banton\",\"D Padikkal\",\"YBK Jaiswal\",\"RD Gaikwad\",\"TU Deshpande\",\"Abdul Samad\",\"PK Garg\",\"JR Philippe\",\"Kartik Tyagi\",\"CV Varun\",\"KL Nagarkoti\",\"I Udana\",\"Ravi Bishnoi\",\"Shahbaz Ahmed\",\"AT Carey\",\"N Jagadeesan\",\"T Natarajan\",\"P Dubey\",\"SS Cottrell\",\"Arshdeep Singh\",\"DR Sams\"],\"xaxis\":\"x\",\"y\":[5.0,293.0,90.0,7.0,137.0,76.0,32.0,5.0,1.0,22.0,11.0,0.0,14.0,255.0,269.0,504.0,17.0,198.0,49.0,493.0,6.0,154.0,365.0,121.0,313.0,195.0,217.0,26.0,87.0,0.0,262.0,591.0,492.0,14.0,5.0,3.0,334.0,376.0,22.0,3.0,157.0,4.0,6.0,84.0,2.0,454.0,9.0,55.0,12.0,79.0,4.0,66.0,184.0,5.0,74.0,1.0,2.0,2.0,239.0,77.0,33.0,458.0,10.0,33.0,54.0,13.0,200.0,34.0,8.0,2.0,7.0,116.0,3.0,2.0,94.0,0.0,6.0,1.0,101.0,6.0,7.0,21.0,7.0,4.0,13.0,416.0,0.0,5.0,156.0,377.0,24.0,12.0,0.0,28.0,14.0,23.0,288.0,83.0,1.0,0.0,266.0,56.0,122.0,3.0,30.0,1.0,2.0,390.0,27.0,21.0,61.0,5.0,35.0,10.0,1.0,26.0,1.0,0.0,1.0,1.0,6.0,1.0,2.0,1.0,3.0,9.0,5.0,0.0,7.0,3.0,5.0,0.0,32.0,296.0,0.0,14.0,5.0,140.0,29.0,25.0,9.0,0.0,0.0,0.0,0.0,0.0,0.0,245.0,10.0,0.0,0.0,2.0,1.0,6.0,126.0,5.0,0.0,91.0,69.0,0.0,0.0,39.0,87.0,384.0,1.0,18.0,0.0,13.0,61.0,12.0,5.0,43.0,5.0,1.0,0.0,11.0,19.0,11.0,55.0,0.0,1.0,0.0,11.0,121.0,0.0,247.0,510.0,3.0,6.0,0.0,11.0,44.0,6.0,0.0,39.0,0.0,0.0,59.0,9.0,20.0,1.0,35.0,0.0,0.0,6.0,50.0,34.0,40.0,308.0,22.0,14.0,19.0,4.0,0.0,93.0,0.0,104.0,1.0,0.0,0.0,0.0,0.0,0.0,196.0,1.0,6.0,45.0,11.0,5.0,22.0,15.0,24.0,11.0,1.0,0.0,5.0,170.0,99.0,1.0,4.0,1.0,9.0,0.0,1.0,4.0,3.0,4.0,1.0,1.0,3.0,3.0,3.0,9.0,9.0,204.0,66.0,3.0,6.0,22.0,161.0,5.0,5.0,32.0,10.0,0.0,6.0,24.0,4.0,1.0,0.0,7.0,0.0,0.0,25.0,0.0,1.0,70.0,23.0,0.0,2.0,23.0,0.0,0.0,4.0,26.0,9.0,1.0,0.0,9.0,21.0,1.0,0.0,22.0,2.0,0.0,9.0,2.0,2.0,0.0,17.0,3.0,9.0,0.0,205.0,10.0,119.0,212.0,221.0,9.0,9.0,36.0,5.0,1.0,11.0,7.0,103.0,1.0,0.0,0.0,16.0,126.0,39.0,27.0,3.0,1.0,16.0,0.0,13.0,12.0,55.0,7.0,15.0,0.0,0.0,105.0,0.0,128.0,0.0,11.0,160.0,23.0,2.0,3.0,2.0,0.0,97.0,6.0,5.0,0.0,3.0,39.0,191.0,0.0,21.0,234.0,201.0,13.0,10.0,16.0,0.0,17.0,0.0,15.0,2.0,9.0,1.0,1.0,3.0,0.0,11.0,1.0,7.0,40.0,4.0,53.0,2.0,3.0,8.0,10.0,7.0,3.0,1.0,0.0,109.0,3.0,5.0,15.0,0.0,17.0,0.0,24.0,9.0,1.0,189.0,32.0,2.0,137.0,1.0,4.0,0.0,12.0,86.0,50.0,5.0,0.0,14.0,5.0,167.0,10.0,65.0,100.0,19.0,1.0,95.0,7.0,24.0,0.0,12.0,0.0,2.0,184.0,31.0,0.0,0.0,0.0,0.0,14.0,60.0,2.0,1.0,0.0,127.0,0.0,2.0,2.0,1.0,0.0,79.0,18.0,1.0,1.0,5.0,95.0,2.0,44.0,8.0,4.0,2.0,18.0,0.0,0.0,13.0,6.0,9.0,5.0,15.0,1.0,1.0,5.0,0.0,0.0,36.0,0.0,6.0,11.0,13.0,8.0,3.0,1.0,2.0,0.0,2.0,87.0,4.0,5.0,0.0,11.0,99.0,0.0,0.0,13.0,5.0,0.0,21.0,0.0,2.0,0.0,10.0,0.0,15.0,6.0,3.0,79.0,0.0,1.0,33.0,2.0,0.0,25.0,0.0,1.0,0.0,1.0,2.0,0.0,23.0,0.0,6.0,0.0,0.0,2.0,2.0,0.0,3.0,2.0,0.0,1.0,51.0,2.0,16.0,2.0,8.0,9.0,9.0,0.0,0.0,1.0,1.0,1.0,0.0,0.0,4.0,0.0,0.0,0.0,0.0,0.0],\"yaxis\":\"y\",\"type\":\"bar\"}],                        {\"template\":{\"data\":{\"bar\":[{\"error_x\":{\"color\":\"#2a3f5f\"},\"error_y\":{\"color\":\"#2a3f5f\"},\"marker\":{\"line\":{\"color\":\"#E5ECF6\",\"width\":0.5},\"pattern\":{\"fillmode\":\"overlay\",\"size\":10,\"solidity\":0.2}},\"type\":\"bar\"}],\"barpolar\":[{\"marker\":{\"line\":{\"color\":\"#E5ECF6\",\"width\":0.5},\"pattern\":{\"fillmode\":\"overlay\",\"size\":10,\"solidity\":0.2}},\"type\":\"barpolar\"}],\"carpet\":[{\"aaxis\":{\"endlinecolor\":\"#2a3f5f\",\"gridcolor\":\"white\",\"linecolor\":\"white\",\"minorgridcolor\":\"white\",\"startlinecolor\":\"#2a3f5f\"},\"baxis\":{\"endlinecolor\":\"#2a3f5f\",\"gridcolor\":\"white\",\"linecolor\":\"white\",\"minorgridcolor\":\"white\",\"startlinecolor\":\"#2a3f5f\"},\"type\":\"carpet\"}],\"choropleth\":[{\"colorbar\":{\"outlinewidth\":0,\"ticks\":\"\"},\"type\":\"choropleth\"}],\"contour\":[{\"colorbar\":{\"outlinewidth\":0,\"ticks\":\"\"},\"colorscale\":[[0.0,\"#0d0887\"],[0.1111111111111111,\"#46039f\"],[0.2222222222222222,\"#7201a8\"],[0.3333333333333333,\"#9c179e\"],[0.4444444444444444,\"#bd3786\"],[0.5555555555555556,\"#d8576b\"],[0.6666666666666666,\"#ed7953\"],[0.7777777777777778,\"#fb9f3a\"],[0.8888888888888888,\"#fdca26\"],[1.0,\"#f0f921\"]],\"type\":\"contour\"}],\"contourcarpet\":[{\"colorbar\":{\"outlinewidth\":0,\"ticks\":\"\"},\"type\":\"contourcarpet\"}],\"heatmap\":[{\"colorbar\":{\"outlinewidth\":0,\"ticks\":\"\"},\"colorscale\":[[0.0,\"#0d0887\"],[0.1111111111111111,\"#46039f\"],[0.2222222222222222,\"#7201a8\"],[0.3333333333333333,\"#9c179e\"],[0.4444444444444444,\"#bd3786\"],[0.5555555555555556,\"#d8576b\"],[0.6666666666666666,\"#ed7953\"],[0.7777777777777778,\"#fb9f3a\"],[0.8888888888888888,\"#fdca26\"],[1.0,\"#f0f921\"]],\"type\":\"heatmap\"}],\"heatmapgl\":[{\"colorbar\":{\"outlinewidth\":0,\"ticks\":\"\"},\"colorscale\":[[0.0,\"#0d0887\"],[0.1111111111111111,\"#46039f\"],[0.2222222222222222,\"#7201a8\"],[0.3333333333333333,\"#9c179e\"],[0.4444444444444444,\"#bd3786\"],[0.5555555555555556,\"#d8576b\"],[0.6666666666666666,\"#ed7953\"],[0.7777777777777778,\"#fb9f3a\"],[0.8888888888888888,\"#fdca26\"],[1.0,\"#f0f921\"]],\"type\":\"heatmapgl\"}],\"histogram\":[{\"marker\":{\"pattern\":{\"fillmode\":\"overlay\",\"size\":10,\"solidity\":0.2}},\"type\":\"histogram\"}],\"histogram2d\":[{\"colorbar\":{\"outlinewidth\":0,\"ticks\":\"\"},\"colorscale\":[[0.0,\"#0d0887\"],[0.1111111111111111,\"#46039f\"],[0.2222222222222222,\"#7201a8\"],[0.3333333333333333,\"#9c179e\"],[0.4444444444444444,\"#bd3786\"],[0.5555555555555556,\"#d8576b\"],[0.6666666666666666,\"#ed7953\"],[0.7777777777777778,\"#fb9f3a\"],[0.8888888888888888,\"#fdca26\"],[1.0,\"#f0f921\"]],\"type\":\"histogram2d\"}],\"histogram2dcontour\":[{\"colorbar\":{\"outlinewidth\":0,\"ticks\":\"\"},\"colorscale\":[[0.0,\"#0d0887\"],[0.1111111111111111,\"#46039f\"],[0.2222222222222222,\"#7201a8\"],[0.3333333333333333,\"#9c179e\"],[0.4444444444444444,\"#bd3786\"],[0.5555555555555556,\"#d8576b\"],[0.6666666666666666,\"#ed7953\"],[0.7777777777777778,\"#fb9f3a\"],[0.8888888888888888,\"#fdca26\"],[1.0,\"#f0f921\"]],\"type\":\"histogram2dcontour\"}],\"mesh3d\":[{\"colorbar\":{\"outlinewidth\":0,\"ticks\":\"\"},\"type\":\"mesh3d\"}],\"parcoords\":[{\"line\":{\"colorbar\":{\"outlinewidth\":0,\"ticks\":\"\"}},\"type\":\"parcoords\"}],\"pie\":[{\"automargin\":true,\"type\":\"pie\"}],\"scatter\":[{\"marker\":{\"colorbar\":{\"outlinewidth\":0,\"ticks\":\"\"}},\"type\":\"scatter\"}],\"scatter3d\":[{\"line\":{\"colorbar\":{\"outlinewidth\":0,\"ticks\":\"\"}},\"marker\":{\"colorbar\":{\"outlinewidth\":0,\"ticks\":\"\"}},\"type\":\"scatter3d\"}],\"scattercarpet\":[{\"marker\":{\"colorbar\":{\"outlinewidth\":0,\"ticks\":\"\"}},\"type\":\"scattercarpet\"}],\"scattergeo\":[{\"marker\":{\"colorbar\":{\"outlinewidth\":0,\"ticks\":\"\"}},\"type\":\"scattergeo\"}],\"scattergl\":[{\"marker\":{\"colorbar\":{\"outlinewidth\":0,\"ticks\":\"\"}},\"type\":\"scattergl\"}],\"scattermapbox\":[{\"marker\":{\"colorbar\":{\"outlinewidth\":0,\"ticks\":\"\"}},\"type\":\"scattermapbox\"}],\"scatterpolar\":[{\"marker\":{\"colorbar\":{\"outlinewidth\":0,\"ticks\":\"\"}},\"type\":\"scatterpolar\"}],\"scatterpolargl\":[{\"marker\":{\"colorbar\":{\"outlinewidth\":0,\"ticks\":\"\"}},\"type\":\"scatterpolargl\"}],\"scatterternary\":[{\"marker\":{\"colorbar\":{\"outlinewidth\":0,\"ticks\":\"\"}},\"type\":\"scatterternary\"}],\"surface\":[{\"colorbar\":{\"outlinewidth\":0,\"ticks\":\"\"},\"colorscale\":[[0.0,\"#0d0887\"],[0.1111111111111111,\"#46039f\"],[0.2222222222222222,\"#7201a8\"],[0.3333333333333333,\"#9c179e\"],[0.4444444444444444,\"#bd3786\"],[0.5555555555555556,\"#d8576b\"],[0.6666666666666666,\"#ed7953\"],[0.7777777777777778,\"#fb9f3a\"],[0.8888888888888888,\"#fdca26\"],[1.0,\"#f0f921\"]],\"type\":\"surface\"}],\"table\":[{\"cells\":{\"fill\":{\"color\":\"#EBF0F8\"},\"line\":{\"color\":\"white\"}},\"header\":{\"fill\":{\"color\":\"#C8D4E3\"},\"line\":{\"color\":\"white\"}},\"type\":\"table\"}]},\"layout\":{\"annotationdefaults\":{\"arrowcolor\":\"#2a3f5f\",\"arrowhead\":0,\"arrowwidth\":1},\"autotypenumbers\":\"strict\",\"coloraxis\":{\"colorbar\":{\"outlinewidth\":0,\"ticks\":\"\"}},\"colorscale\":{\"diverging\":[[0,\"#8e0152\"],[0.1,\"#c51b7d\"],[0.2,\"#de77ae\"],[0.3,\"#f1b6da\"],[0.4,\"#fde0ef\"],[0.5,\"#f7f7f7\"],[0.6,\"#e6f5d0\"],[0.7,\"#b8e186\"],[0.8,\"#7fbc41\"],[0.9,\"#4d9221\"],[1,\"#276419\"]],\"sequential\":[[0.0,\"#0d0887\"],[0.1111111111111111,\"#46039f\"],[0.2222222222222222,\"#7201a8\"],[0.3333333333333333,\"#9c179e\"],[0.4444444444444444,\"#bd3786\"],[0.5555555555555556,\"#d8576b\"],[0.6666666666666666,\"#ed7953\"],[0.7777777777777778,\"#fb9f3a\"],[0.8888888888888888,\"#fdca26\"],[1.0,\"#f0f921\"]],\"sequentialminus\":[[0.0,\"#0d0887\"],[0.1111111111111111,\"#46039f\"],[0.2222222222222222,\"#7201a8\"],[0.3333333333333333,\"#9c179e\"],[0.4444444444444444,\"#bd3786\"],[0.5555555555555556,\"#d8576b\"],[0.6666666666666666,\"#ed7953\"],[0.7777777777777778,\"#fb9f3a\"],[0.8888888888888888,\"#fdca26\"],[1.0,\"#f0f921\"]]},\"colorway\":[\"#636efa\",\"#EF553B\",\"#00cc96\",\"#ab63fa\",\"#FFA15A\",\"#19d3f3\",\"#FF6692\",\"#B6E880\",\"#FF97FF\",\"#FECB52\"],\"font\":{\"color\":\"#2a3f5f\"},\"geo\":{\"bgcolor\":\"white\",\"lakecolor\":\"white\",\"landcolor\":\"#E5ECF6\",\"showlakes\":true,\"showland\":true,\"subunitcolor\":\"white\"},\"hoverlabel\":{\"align\":\"left\"},\"hovermode\":\"closest\",\"mapbox\":{\"style\":\"light\"},\"paper_bgcolor\":\"white\",\"plot_bgcolor\":\"#E5ECF6\",\"polar\":{\"angularaxis\":{\"gridcolor\":\"white\",\"linecolor\":\"white\",\"ticks\":\"\"},\"bgcolor\":\"#E5ECF6\",\"radialaxis\":{\"gridcolor\":\"white\",\"linecolor\":\"white\",\"ticks\":\"\"}},\"scene\":{\"xaxis\":{\"backgroundcolor\":\"#E5ECF6\",\"gridcolor\":\"white\",\"gridwidth\":2,\"linecolor\":\"white\",\"showbackground\":true,\"ticks\":\"\",\"zerolinecolor\":\"white\"},\"yaxis\":{\"backgroundcolor\":\"#E5ECF6\",\"gridcolor\":\"white\",\"gridwidth\":2,\"linecolor\":\"white\",\"showbackground\":true,\"ticks\":\"\",\"zerolinecolor\":\"white\"},\"zaxis\":{\"backgroundcolor\":\"#E5ECF6\",\"gridcolor\":\"white\",\"gridwidth\":2,\"linecolor\":\"white\",\"showbackground\":true,\"ticks\":\"\",\"zerolinecolor\":\"white\"}},\"shapedefaults\":{\"line\":{\"color\":\"#2a3f5f\"}},\"ternary\":{\"aaxis\":{\"gridcolor\":\"white\",\"linecolor\":\"white\",\"ticks\":\"\"},\"baxis\":{\"gridcolor\":\"white\",\"linecolor\":\"white\",\"ticks\":\"\"},\"bgcolor\":\"#E5ECF6\",\"caxis\":{\"gridcolor\":\"white\",\"linecolor\":\"white\",\"ticks\":\"\"}},\"title\":{\"x\":0.05},\"xaxis\":{\"automargin\":true,\"gridcolor\":\"white\",\"linecolor\":\"white\",\"ticks\":\"\",\"title\":{\"standoff\":15},\"zerolinecolor\":\"white\",\"zerolinewidth\":2},\"yaxis\":{\"automargin\":true,\"gridcolor\":\"white\",\"linecolor\":\"white\",\"ticks\":\"\",\"title\":{\"standoff\":15},\"zerolinecolor\":\"white\",\"zerolinewidth\":2}}},\"xaxis\":{\"anchor\":\"y\",\"domain\":[0.0,1.0],\"title\":{\"text\":\"BATSMAN\"}},\"yaxis\":{\"anchor\":\"x\",\"domain\":[0.0,1.0],\"title\":{\"text\":\"NUMBER_OF_FOURS\"}},\"legend\":{\"tracegroupgap\":0},\"margin\":{\"t\":60},\"barmode\":\"relative\"},                        {\"responsive\": true}                    ).then(function(){\n",
       "                            \n",
       "var gd = document.getElementById('32d6f9ce-dba2-4341-80c2-b614c93bc6a4');\n",
       "var x = new MutationObserver(function (mutations, observer) {{\n",
       "        var display = window.getComputedStyle(gd).display;\n",
       "        if (!display || display === 'none') {{\n",
       "            console.log([gd, 'removed!']);\n",
       "            Plotly.purge(gd);\n",
       "            observer.disconnect();\n",
       "        }}\n",
       "}});\n",
       "\n",
       "// Listen for the removal of the full notebook cells\n",
       "var notebookContainer = gd.closest('#notebook-container');\n",
       "if (notebookContainer) {{\n",
       "    x.observe(notebookContainer, {childList: true});\n",
       "}}\n",
       "\n",
       "// Listen for the clearing of the current output cell\n",
       "var outputEl = gd.closest('.output');\n",
       "if (outputEl) {{\n",
       "    x.observe(outputEl, {childList: true});\n",
       "}}\n",
       "\n",
       "                        })                };                });            </script>        </div>"
      ]
     },
     "metadata": {},
     "output_type": "display_data"
    }
   ],
   "source": [
    "bds_data = pd.DataFrame(dict(BATSMAN = bds_by_batsman.keys(),NUMBER_OF_FOURS = bds_by_batsman.values()))\n",
    "bds_graph = px.bar(bds_data , x = 'BATSMAN',y='NUMBER_OF_FOURS')\n",
    "bds_graph"
   ]
  },
  {
   "cell_type": "markdown",
   "metadata": {},
   "source": [
    "NUMBER OF SIXES"
   ]
  },
  {
   "cell_type": "code",
   "execution_count": 86,
   "metadata": {},
   "outputs": [],
   "source": [
    "six_by_batsman = dict(zip(batsman,np.zeros(len(batsman))))\n",
    "# print(runs_by_batsman)\n",
    "for i in range(0,len(match)):\n",
    "    if(match['batsman_runs'][i] == 6 ):\n",
    "        six_by_batsman[match['batsman'][i]] += 1"
   ]
  },
  {
   "cell_type": "code",
   "execution_count": 87,
   "metadata": {},
   "outputs": [
    {
     "data": {
      "application/vnd.plotly.v1+json": {
       "config": {
        "plotlyServerURL": "https://plot.ly"
       },
       "data": [
        {
         "alignmentgroup": "True",
         "hovertemplate": "BATSMAN=%{x}<br>NUMBER_OF_SIXES=%{y}<extra></extra>",
         "legendgroup": "",
         "marker": {
          "color": "#636efa",
          "pattern": {
           "shape": ""
          }
         },
         "name": "",
         "offsetgroup": "",
         "orientation": "v",
         "showlegend": false,
         "textposition": "auto",
         "type": "bar",
         "x": [
          "RT Ponting",
          "BB McCullum",
          "DJ Hussey",
          "Mohammad Hafeez",
          "SC Ganguly",
          "CL White",
          "MV Boucher",
          "B Akhil",
          "AA Noffke",
          "P Kumar",
          "Z Khan",
          "SB Joshi",
          "W Jaffer",
          "JH Kallis",
          "R Dravid",
          "V Kohli",
          "K Goel",
          "MEK Hussey",
          "JR Hopes",
          "SK Raina",
          "JDP Oram",
          "S Badrinath",
          "PA Patel",
          "ML Hayden",
          "MS Dhoni",
          "KC Sangakkara",
          "Yuvraj Singh",
          "SM Katich",
          "IK Pathan",
          "T Kohli",
          "YK Pathan",
          "S Dhawan",
          "G Gambhir",
          "SK Warne",
          "D Salunkhe",
          "SK Trivedi",
          "V Sehwag",
          "SR Watson",
          "M Kaif",
          "DS Lehmann",
          "RA Jadeja",
          "M Rawat",
          "L Ronchi",
          "ST Jayasuriya",
          "DJ Thornely",
          "RV Uthappa",
          "PR Shah",
          "AM Nayar",
          "SM Pollock",
          "Harbhajan Singh",
          "S Chanderpaul",
          "LRPL Taylor",
          "WP Saha",
          "AS Yadav",
          "A Symonds",
          "SB Bangar",
          "WPUJC Vaas",
          "RP Singh",
          "AC Gilchrist",
          "Y Venugopal Rao",
          "VVS Laxman",
          "RG Sharma",
          "SB Styris",
          "LR Shukla",
          "PP Chawla",
          "Kamran Akmal",
          "DPMD Jayawardene",
          "S Sohal",
          "B Lee",
          "WA Mota",
          "Shahid Afridi",
          "DJ Bravo",
          "A Nehra",
          "MA Khote",
          "GC Smith",
          "Pankaj Singh",
          "S Sreesanth",
          "VRV Singh",
          "SS Tiwary",
          "RR Sarwan",
          "DS Kulkarni",
          "R Vinay Kumar",
          "M Kartik",
          "I Sharma",
          "AB Agarkar",
          "AM Rahane",
          "TM Srivastava",
          "Shoaib Malik",
          "MK Tiwary",
          "KD Karthik",
          "R Bhatia",
          "MF Maharoof",
          "VY Mahesh",
          "B Chipli",
          "DW Steyn",
          "DB Das",
          "MK Pandey",
          "HH Gibbs",
          "DNT Zoysa",
          "D Kalyankrishna",
          "SE Marsh",
          "SA Asnodkar",
          "BJ Hodge",
          "Sohail Tanvir",
          "Salman Butt",
          "Umar Gul",
          "AB Dinda",
          "AB de Villiers",
          "SP Fleming",
          "S Vidyut",
          "JA Morkel",
          "LPC Silva",
          "DB Ravi Teja",
          "Misbah-ul-Haq",
          "PJ Sangwan",
          "YV Takawale",
          "RR Raje",
          "Mohammad Asif",
          "GD McGrath",
          "Joginder Sharma",
          "MS Gony",
          "M Muralitharan",
          "M Ntini",
          "DT Patil",
          "A Kumble",
          "S Anirudha",
          "MM Patel",
          "CK Kapugedera",
          "A Chopra",
          "T Taibu",
          "J Arunkumar",
          "PP Ojha",
          "SP Goswami",
          "SR Tendulkar",
          "U Kaul",
          "Niraj Patel",
          "AD Mascarenhas",
          "TM Dilshan",
          "A Mishra",
          "LA Pomersbach",
          "Iqbal Abdulla",
          "Younis Khan",
          "PM Sarvesh Kumar",
          "DP Vijaykumar",
          "Shoaib Akhtar",
          "Abdur Razzak",
          "H Das",
          "DR Smith",
          "SD Chitnis",
          "CRD Fernando",
          "VS Yeligati",
          "L Balaji",
          "A Mukund",
          "RR Powar",
          "JP Duminy",
          "A Flintoff",
          "T Thushara",
          "KP Pietersen",
          "JD Ryder",
          "T Henderson",
          "Kamran Khan",
          "RS Bopara",
          "MC Henriques",
          "CH Gayle",
          "R Bishnoi",
          "KV Sharma",
          "FH Edwards",
          "AS Raut",
          "PC Valthaty",
          "RJ Quiney",
          "Yashpal Singh",
          "M Manhas",
          "AA Bilakhia",
          "AN Ghosh",
          "BAW Mendis",
          "DL Vettori",
          "MN van Wyk",
          "RE van der Merwe",
          "TL Suman",
          "Shoaib Ahmed",
          "GR Napier",
          "KP Appanna",
          "LA Carseldine",
          "NV Ojha",
          "SM Harwood",
          "M Vijay",
          "DA Warner",
          "SB Jakati",
          "RJ Harris",
          "D du Preez",
          "M Morkel",
          "AD Mathews",
          "SL Malinga",
          "C Nanda",
          "J Botha",
          "Mashrafe Mortaza",
          "A Singh",
          "GJ Bailey",
          "AB McDonald",
          "Y Nagar",
          "SS Shaikh",
          "R Ashwin",
          "Mohammad Ashraful",
          "Jaskaran Singh",
          "Anirudh Singh",
          "CA Pujara",
          "OA Shah",
          "AP Tare",
          "AT Rayudu",
          "R Sathish",
          "R McLaren",
          "AA Jhunjhunwala",
          "P Dogra",
          "A Uniyal",
          "MS Bisla",
          "YA Abdulla",
          "EJG Morgan",
          "JM Kemp",
          "S Tyagi",
          "RS Gavaskar",
          "SE Bond",
          "S Ladda",
          "DP Nannes",
          "KA Pollard",
          "DR Martyn",
          "S Narwal",
          "MJ Lumb",
          "Bipul Sharma",
          "AB Barath",
          "FY Fazal",
          "AC Voges",
          "MD Mishra",
          "UT Yadav",
          "J Theron",
          "SJ Srivastava",
          "R Sharma",
          "Mandeep Singh",
          "KM Jadhav",
          "SW Tait",
          "KB Arun Karthik",
          "KAJ Roach",
          "PD Collingwood",
          "CK Langeveldt",
          "VS Malik",
          "A Mithun",
          "AP Dole",
          "AN Ahmed",
          "RS Sodhi",
          "DE Bollinger",
          "S Sriram",
          "B Sumanth",
          "C Madan",
          "AG Paunikar",
          "MR Marsh",
          "AJ Finch",
          "STR Binny",
          "Harmeet Singh",
          "IR Jaggi",
          "DT Christian",
          "MA Agarwal",
          "RV Gomez",
          "AUK Pathan",
          "UBT Chand",
          "DJ Jacobs",
          "NJ Rimmington",
          "Sunny Singh",
          "AL Menaria",
          "WD Parnell",
          "JJ van der Wath",
          "R Ninan",
          "S Aravind",
          "MS Wade",
          "TD Paine",
          "JEC Franklin",
          "SB Wagh",
          "AC Thomas",
          "Shakib Al Hasan",
          "DH Yagnik",
          "S Randiv",
          "BJ Haddin",
          "NLTC Perera",
          "NL McCullum",
          "JE Taylor",
          "J Syed Mohammad",
          "RN ten Doeschate",
          "TR Birt",
          "AG Murtaza",
          "Harpreet Singh",
          "M Klinger",
          "AC Blizzard",
          "I Malhotra",
          "L Ablish",
          "CA Ingram",
          "S Nadeem",
          "P Parameswaran",
          "CJ Ferguson",
          "VR Aaron",
          "AA Chavan",
          "ND Doshi",
          "B Kumar",
          "Y Gnaneswara Rao",
          "S Rana",
          "BA Bhatt",
          "F du Plessis",
          "RE Levi",
          "GJ Maxwell",
          "SPD Smith",
          "SA Yadav",
          "MN Samuels",
          "KK Cooper",
          "JP Faulkner",
          "HV Patel",
          "DAJ Bracewell",
          "DJ Harris",
          "Ankit Sharma",
          "SP Narine",
          "GB Hogg",
          "RR Bhatkal",
          "CJ McKay",
          "N Saini",
          "DA Miller",
          "Azhar Mahmood",
          "P Negi",
          "RJ Peterson",
          "KMDN Kulasekara",
          "A Ashish Reddy",
          "V Pratap Singh",
          "BB Samantray",
          "MJ Clarke",
          "Gurkeerat Singh",
          "AP Majumdar",
          "PA Reddy",
          "K Upadhyay",
          "P Awana",
          "AD Russell",
          "A Chandila",
          "CA Lynn",
          "Sunny Gupta",
          "MC Juneja",
          "KK Nair",
          "GH Vihari",
          "R Shukla",
          "MDKJ Perera",
          "AS Rajpoot",
          "B Laughlin",
          "M Vohra",
          "JD Unadkat",
          "Mohammed Shami",
          "BMAJ Mendis",
          "R Rampaul",
          "CH Morris",
          "SV Samson",
          "SMSM Senanayake",
          "BJ Rohrer",
          "KL Rahul",
          "Q de Kock",
          "R Dhawan",
          "MG Johnson",
          "LJ Wright",
          "IC Pandey",
          "CM Gautam",
          "X Thalaivan Sargunam",
          "DJG Sammy",
          "KW Richardson",
          "MM Sharma",
          "UA Birla",
          "Parvez Rasool",
          "Sandeep Sharma",
          "S Kaul",
          "Sachin Baby",
          "PV Tambe",
          "NM Coulter-Nile",
          "CJ Anderson",
          "NJ Maddinson",
          "AR Patel",
          "JJ Bumrah",
          "JDS Neesham",
          "TG Southee",
          "MA Starc",
          "BR Dunk",
          "RR Rossouw",
          "Shivam Sharma",
          "YS Chahal",
          "LMP Simmons",
          "VH Zol",
          "Imran Tahir",
          "BCJ Cutting",
          "BE Hendricks",
          "S Gopal",
          "M de Lange",
          "R Tewatia",
          "JO Holder",
          "Karanveer Singh",
          "SS Iyer",
          "DJ Hooda",
          "Anureet Singh",
          "KS Williamson",
          "SA Abbott",
          "J Suchith",
          "RG More",
          "D Wiese",
          "HH Pandya",
          "SN Khan",
          "MJ McClenaghan",
          "DJ Muthuswami",
          "PJ Cummins",
          "SN Thakur",
          "JC Buttler",
          "CR Brathwaite",
          "MP Stoinis",
          "Ishan Kishan",
          "C Munro",
          "P Sahu",
          "KH Pandya",
          "AD Nath",
          "MJ Guptill",
          "KJ Abbott",
          "TM Head",
          "M Ashwin",
          "NS Naik",
          "RR Pant",
          "SW Billings",
          "KC Cariappa",
          "PSP Handscomb",
          "Swapnil Singh",
          "J Yadav",
          "UT Khawaja",
          "HM Amla",
          "F Behardien",
          "A Zampa",
          "BB Sran",
          "N Rana",
          "S Kaushik",
          "ER Dwivedi",
          "CJ Jordan",
          "A Choudhary",
          "TS Mills",
          "BA Stokes",
          "JJ Roy",
          "Vishnu Vinod",
          "Basil Thampi",
          "CR Woakes",
          "RA Tripathi",
          "DL Chahar",
          "V Shankar",
          "Rashid Khan",
          "LH Ferguson",
          "RD Chahar",
          "C de Grandhomme",
          "AF Milne",
          "S Badree",
          "Mohammad Nabi",
          "AJ Tye",
          "K Rabada",
          "Kuldeep Yadav",
          "Washington Sundar",
          "DM Bravo",
          "AR Bawne",
          "SP Jackson",
          "Ankit Soni",
          "TA Boult",
          "E Lewis",
          "MA Wood",
          "RK Singh",
          "DJM Short",
          "K Gowtham",
          "TK Curran",
          "M Markande",
          "B Stanlake",
          "Mujeeb Ur Rahman",
          "A Dananjaya",
          "Shivam Mavi",
          "Shubman Gill",
          "Mohammed Siraj",
          "H Klaasen",
          "RK Bhui",
          "JC Archer",
          "PP Shaw",
          "LE Plunkett",
          "Mustafizur Rahman",
          "AD Hales",
          "MK Lomror",
          "DR Shorey",
          "MM Ali",
          "M Prasidh Krishna",
          "P Chopra",
          "JPR Scantlebury-Searles",
          "Abhishek Sharma",
          "IS Sodhi",
          "SO Hetmyer",
          "S Dube",
          "NA Saini",
          "JM Bairstow",
          "Rasikh Salam",
          "KMA Paul",
          "N Pooran",
          "P Ray Barman",
          "S Lamichhane",
          "SM Curran",
          "GC Viljoen",
          "Avesh Khan",
          "HF Gurney",
          "SD Lad",
          "AS Joseph",
          "MJ Santner",
          "R Parag",
          "JL Denly",
          "LS Livingstone",
          "KK Ahmed",
          "AJ Turner",
          "SE Rutherford",
          "Harpreet Brar",
          "Y Prithvi Raj",
          "P Simran Singh",
          "JL Pattinson",
          "A Nortje",
          "T Banton",
          "D Padikkal",
          "YBK Jaiswal",
          "RD Gaikwad",
          "TU Deshpande",
          "Abdul Samad",
          "PK Garg",
          "JR Philippe",
          "Kartik Tyagi",
          "CV Varun",
          "KL Nagarkoti",
          "I Udana",
          "Ravi Bishnoi",
          "Shahbaz Ahmed",
          "AT Carey",
          "N Jagadeesan",
          "T Natarajan",
          "P Dubey",
          "SS Cottrell",
          "Arshdeep Singh",
          "DR Sams"
         ],
         "xaxis": "x",
         "y": [
          2,
          130,
          60,
          2,
          42,
          36,
          13,
          5,
          0,
          17,
          2,
          0,
          3,
          44,
          28,
          202,
          9,
          52,
          11,
          194,
          5,
          28,
          49,
          44,
          216,
          27,
          149,
          8,
          37,
          1,
          159,
          109,
          59,
          6,
          0,
          1,
          106,
          190,
          6,
          0,
          76,
          1,
          1,
          39,
          2,
          163,
          2,
          20,
          8,
          42,
          0,
          46,
          64,
          2,
          41,
          3,
          3,
          1,
          92,
          37,
          5,
          214,
          3,
          16,
          18,
          8,
          39,
          18,
          8,
          0,
          6,
          61,
          1,
          1,
          9,
          0,
          0,
          0,
          48,
          1,
          2,
          9,
          1,
          2,
          5,
          76,
          0,
          0,
          40,
          105,
          13,
          9,
          0,
          7,
          3,
          16,
          93,
          31,
          0,
          0,
          78,
          10,
          43,
          1,
          2,
          5,
          0,
          235,
          3,
          3,
          55,
          1,
          9,
          6,
          0,
          3,
          1,
          0,
          0,
          2,
          8,
          0,
          0,
          0,
          0,
          7,
          0,
          0,
          0,
          0,
          0,
          0,
          3,
          29,
          0,
          1,
          1,
          24,
          5,
          13,
          1,
          0,
          0,
          0,
          0,
          0,
          0,
          117,
          2,
          0,
          0,
          1,
          0,
          1,
          79,
          2,
          0,
          40,
          19,
          1,
          0,
          16,
          27,
          349,
          2,
          14,
          0,
          7,
          20,
          3,
          0,
          10,
          0,
          0,
          0,
          2,
          1,
          8,
          26,
          0,
          0,
          0,
          0,
          79,
          0,
          91,
          195,
          0,
          3,
          0,
          5,
          29,
          5,
          0,
          5,
          0,
          0,
          19,
          4,
          9,
          0,
          11,
          0,
          0,
          1,
          4,
          23,
          11,
          132,
          6,
          1,
          5,
          5,
          0,
          23,
          0,
          58,
          1,
          0,
          0,
          0,
          0,
          0,
          198,
          0,
          0,
          6,
          9,
          1,
          1,
          3,
          8,
          4,
          0,
          0,
          3,
          37,
          38,
          1,
          1,
          0,
          13,
          1,
          0,
          1,
          1,
          1,
          0,
          1,
          0,
          0,
          0,
          0,
          14,
          75,
          35,
          0,
          0,
          19,
          67,
          1,
          2,
          9,
          4,
          0,
          1,
          18,
          1,
          1,
          0,
          0,
          0,
          0,
          9,
          0,
          1,
          20,
          2,
          0,
          1,
          26,
          1,
          0,
          0,
          15,
          2,
          0,
          0,
          0,
          2,
          0,
          0,
          5,
          0,
          0,
          0,
          2,
          0,
          0,
          3,
          0,
          1,
          1,
          73,
          4,
          91,
          58,
          58,
          7,
          8,
          23,
          9,
          0,
          5,
          4,
          52,
          0,
          0,
          0,
          0,
          87,
          13,
          16,
          1,
          0,
          15,
          0,
          2,
          0,
          11,
          2,
          2,
          1,
          0,
          129,
          0,
          63,
          0,
          1,
          39,
          1,
          0,
          0,
          1,
          0,
          39,
          1,
          2,
          0,
          2,
          30,
          115,
          0,
          5,
          104,
          76,
          4,
          7,
          3,
          0,
          6,
          0,
          18,
          1,
          4,
          0,
          0,
          0,
          0,
          5,
          0,
          4,
          31,
          0,
          43,
          1,
          2,
          4,
          0,
          0,
          3,
          0,
          0,
          44,
          1,
          0,
          19,
          0,
          1,
          0,
          20,
          5,
          0,
          83,
          29,
          1,
          54,
          1,
          2,
          0,
          4,
          93,
          11,
          7,
          0,
          12,
          1,
          77,
          16,
          34,
          64,
          8,
          1,
          40,
          2,
          15,
          1,
          8,
          0,
          0,
          103,
          10,
          2,
          0,
          0,
          0,
          3,
          21,
          0,
          0,
          0,
          72,
          0,
          2,
          0,
          1,
          1,
          32,
          8,
          1,
          1,
          2,
          37,
          6,
          25,
          11,
          1,
          0,
          18,
          0,
          0,
          7,
          5,
          4,
          0,
          6,
          0,
          0,
          0,
          1,
          1,
          26,
          0,
          2,
          5,
          12,
          3,
          0,
          0,
          0,
          0,
          0,
          24,
          1,
          1,
          0,
          14,
          27,
          0,
          0,
          6,
          3,
          1,
          23,
          0,
          0,
          1,
          8,
          0,
          19,
          12,
          0,
          31,
          0,
          1,
          39,
          0,
          0,
          15,
          0,
          0,
          0,
          1,
          0,
          3,
          8,
          0,
          5,
          0,
          0,
          7,
          1,
          0,
          1,
          0,
          0,
          1,
          8,
          2,
          6,
          1,
          6,
          4,
          1,
          0,
          0,
          0,
          1,
          0,
          0,
          1,
          0,
          0,
          0,
          0,
          0,
          0
         ],
         "yaxis": "y"
        }
       ],
       "layout": {
        "autosize": true,
        "barmode": "relative",
        "legend": {
         "tracegroupgap": 0
        },
        "margin": {
         "t": 60
        },
        "template": {
         "data": {
          "bar": [
           {
            "error_x": {
             "color": "#2a3f5f"
            },
            "error_y": {
             "color": "#2a3f5f"
            },
            "marker": {
             "line": {
              "color": "#E5ECF6",
              "width": 0.5
             },
             "pattern": {
              "fillmode": "overlay",
              "size": 10,
              "solidity": 0.2
             }
            },
            "type": "bar"
           }
          ],
          "barpolar": [
           {
            "marker": {
             "line": {
              "color": "#E5ECF6",
              "width": 0.5
             },
             "pattern": {
              "fillmode": "overlay",
              "size": 10,
              "solidity": 0.2
             }
            },
            "type": "barpolar"
           }
          ],
          "carpet": [
           {
            "aaxis": {
             "endlinecolor": "#2a3f5f",
             "gridcolor": "white",
             "linecolor": "white",
             "minorgridcolor": "white",
             "startlinecolor": "#2a3f5f"
            },
            "baxis": {
             "endlinecolor": "#2a3f5f",
             "gridcolor": "white",
             "linecolor": "white",
             "minorgridcolor": "white",
             "startlinecolor": "#2a3f5f"
            },
            "type": "carpet"
           }
          ],
          "choropleth": [
           {
            "colorbar": {
             "outlinewidth": 0,
             "ticks": ""
            },
            "type": "choropleth"
           }
          ],
          "contour": [
           {
            "colorbar": {
             "outlinewidth": 0,
             "ticks": ""
            },
            "colorscale": [
             [
              0,
              "#0d0887"
             ],
             [
              0.1111111111111111,
              "#46039f"
             ],
             [
              0.2222222222222222,
              "#7201a8"
             ],
             [
              0.3333333333333333,
              "#9c179e"
             ],
             [
              0.4444444444444444,
              "#bd3786"
             ],
             [
              0.5555555555555556,
              "#d8576b"
             ],
             [
              0.6666666666666666,
              "#ed7953"
             ],
             [
              0.7777777777777778,
              "#fb9f3a"
             ],
             [
              0.8888888888888888,
              "#fdca26"
             ],
             [
              1,
              "#f0f921"
             ]
            ],
            "type": "contour"
           }
          ],
          "contourcarpet": [
           {
            "colorbar": {
             "outlinewidth": 0,
             "ticks": ""
            },
            "type": "contourcarpet"
           }
          ],
          "heatmap": [
           {
            "colorbar": {
             "outlinewidth": 0,
             "ticks": ""
            },
            "colorscale": [
             [
              0,
              "#0d0887"
             ],
             [
              0.1111111111111111,
              "#46039f"
             ],
             [
              0.2222222222222222,
              "#7201a8"
             ],
             [
              0.3333333333333333,
              "#9c179e"
             ],
             [
              0.4444444444444444,
              "#bd3786"
             ],
             [
              0.5555555555555556,
              "#d8576b"
             ],
             [
              0.6666666666666666,
              "#ed7953"
             ],
             [
              0.7777777777777778,
              "#fb9f3a"
             ],
             [
              0.8888888888888888,
              "#fdca26"
             ],
             [
              1,
              "#f0f921"
             ]
            ],
            "type": "heatmap"
           }
          ],
          "heatmapgl": [
           {
            "colorbar": {
             "outlinewidth": 0,
             "ticks": ""
            },
            "colorscale": [
             [
              0,
              "#0d0887"
             ],
             [
              0.1111111111111111,
              "#46039f"
             ],
             [
              0.2222222222222222,
              "#7201a8"
             ],
             [
              0.3333333333333333,
              "#9c179e"
             ],
             [
              0.4444444444444444,
              "#bd3786"
             ],
             [
              0.5555555555555556,
              "#d8576b"
             ],
             [
              0.6666666666666666,
              "#ed7953"
             ],
             [
              0.7777777777777778,
              "#fb9f3a"
             ],
             [
              0.8888888888888888,
              "#fdca26"
             ],
             [
              1,
              "#f0f921"
             ]
            ],
            "type": "heatmapgl"
           }
          ],
          "histogram": [
           {
            "marker": {
             "pattern": {
              "fillmode": "overlay",
              "size": 10,
              "solidity": 0.2
             }
            },
            "type": "histogram"
           }
          ],
          "histogram2d": [
           {
            "colorbar": {
             "outlinewidth": 0,
             "ticks": ""
            },
            "colorscale": [
             [
              0,
              "#0d0887"
             ],
             [
              0.1111111111111111,
              "#46039f"
             ],
             [
              0.2222222222222222,
              "#7201a8"
             ],
             [
              0.3333333333333333,
              "#9c179e"
             ],
             [
              0.4444444444444444,
              "#bd3786"
             ],
             [
              0.5555555555555556,
              "#d8576b"
             ],
             [
              0.6666666666666666,
              "#ed7953"
             ],
             [
              0.7777777777777778,
              "#fb9f3a"
             ],
             [
              0.8888888888888888,
              "#fdca26"
             ],
             [
              1,
              "#f0f921"
             ]
            ],
            "type": "histogram2d"
           }
          ],
          "histogram2dcontour": [
           {
            "colorbar": {
             "outlinewidth": 0,
             "ticks": ""
            },
            "colorscale": [
             [
              0,
              "#0d0887"
             ],
             [
              0.1111111111111111,
              "#46039f"
             ],
             [
              0.2222222222222222,
              "#7201a8"
             ],
             [
              0.3333333333333333,
              "#9c179e"
             ],
             [
              0.4444444444444444,
              "#bd3786"
             ],
             [
              0.5555555555555556,
              "#d8576b"
             ],
             [
              0.6666666666666666,
              "#ed7953"
             ],
             [
              0.7777777777777778,
              "#fb9f3a"
             ],
             [
              0.8888888888888888,
              "#fdca26"
             ],
             [
              1,
              "#f0f921"
             ]
            ],
            "type": "histogram2dcontour"
           }
          ],
          "mesh3d": [
           {
            "colorbar": {
             "outlinewidth": 0,
             "ticks": ""
            },
            "type": "mesh3d"
           }
          ],
          "parcoords": [
           {
            "line": {
             "colorbar": {
              "outlinewidth": 0,
              "ticks": ""
             }
            },
            "type": "parcoords"
           }
          ],
          "pie": [
           {
            "automargin": true,
            "type": "pie"
           }
          ],
          "scatter": [
           {
            "marker": {
             "colorbar": {
              "outlinewidth": 0,
              "ticks": ""
             }
            },
            "type": "scatter"
           }
          ],
          "scatter3d": [
           {
            "line": {
             "colorbar": {
              "outlinewidth": 0,
              "ticks": ""
             }
            },
            "marker": {
             "colorbar": {
              "outlinewidth": 0,
              "ticks": ""
             }
            },
            "type": "scatter3d"
           }
          ],
          "scattercarpet": [
           {
            "marker": {
             "colorbar": {
              "outlinewidth": 0,
              "ticks": ""
             }
            },
            "type": "scattercarpet"
           }
          ],
          "scattergeo": [
           {
            "marker": {
             "colorbar": {
              "outlinewidth": 0,
              "ticks": ""
             }
            },
            "type": "scattergeo"
           }
          ],
          "scattergl": [
           {
            "marker": {
             "colorbar": {
              "outlinewidth": 0,
              "ticks": ""
             }
            },
            "type": "scattergl"
           }
          ],
          "scattermapbox": [
           {
            "marker": {
             "colorbar": {
              "outlinewidth": 0,
              "ticks": ""
             }
            },
            "type": "scattermapbox"
           }
          ],
          "scatterpolar": [
           {
            "marker": {
             "colorbar": {
              "outlinewidth": 0,
              "ticks": ""
             }
            },
            "type": "scatterpolar"
           }
          ],
          "scatterpolargl": [
           {
            "marker": {
             "colorbar": {
              "outlinewidth": 0,
              "ticks": ""
             }
            },
            "type": "scatterpolargl"
           }
          ],
          "scatterternary": [
           {
            "marker": {
             "colorbar": {
              "outlinewidth": 0,
              "ticks": ""
             }
            },
            "type": "scatterternary"
           }
          ],
          "surface": [
           {
            "colorbar": {
             "outlinewidth": 0,
             "ticks": ""
            },
            "colorscale": [
             [
              0,
              "#0d0887"
             ],
             [
              0.1111111111111111,
              "#46039f"
             ],
             [
              0.2222222222222222,
              "#7201a8"
             ],
             [
              0.3333333333333333,
              "#9c179e"
             ],
             [
              0.4444444444444444,
              "#bd3786"
             ],
             [
              0.5555555555555556,
              "#d8576b"
             ],
             [
              0.6666666666666666,
              "#ed7953"
             ],
             [
              0.7777777777777778,
              "#fb9f3a"
             ],
             [
              0.8888888888888888,
              "#fdca26"
             ],
             [
              1,
              "#f0f921"
             ]
            ],
            "type": "surface"
           }
          ],
          "table": [
           {
            "cells": {
             "fill": {
              "color": "#EBF0F8"
             },
             "line": {
              "color": "white"
             }
            },
            "header": {
             "fill": {
              "color": "#C8D4E3"
             },
             "line": {
              "color": "white"
             }
            },
            "type": "table"
           }
          ]
         },
         "layout": {
          "annotationdefaults": {
           "arrowcolor": "#2a3f5f",
           "arrowhead": 0,
           "arrowwidth": 1
          },
          "autotypenumbers": "strict",
          "coloraxis": {
           "colorbar": {
            "outlinewidth": 0,
            "ticks": ""
           }
          },
          "colorscale": {
           "diverging": [
            [
             0,
             "#8e0152"
            ],
            [
             0.1,
             "#c51b7d"
            ],
            [
             0.2,
             "#de77ae"
            ],
            [
             0.3,
             "#f1b6da"
            ],
            [
             0.4,
             "#fde0ef"
            ],
            [
             0.5,
             "#f7f7f7"
            ],
            [
             0.6,
             "#e6f5d0"
            ],
            [
             0.7,
             "#b8e186"
            ],
            [
             0.8,
             "#7fbc41"
            ],
            [
             0.9,
             "#4d9221"
            ],
            [
             1,
             "#276419"
            ]
           ],
           "sequential": [
            [
             0,
             "#0d0887"
            ],
            [
             0.1111111111111111,
             "#46039f"
            ],
            [
             0.2222222222222222,
             "#7201a8"
            ],
            [
             0.3333333333333333,
             "#9c179e"
            ],
            [
             0.4444444444444444,
             "#bd3786"
            ],
            [
             0.5555555555555556,
             "#d8576b"
            ],
            [
             0.6666666666666666,
             "#ed7953"
            ],
            [
             0.7777777777777778,
             "#fb9f3a"
            ],
            [
             0.8888888888888888,
             "#fdca26"
            ],
            [
             1,
             "#f0f921"
            ]
           ],
           "sequentialminus": [
            [
             0,
             "#0d0887"
            ],
            [
             0.1111111111111111,
             "#46039f"
            ],
            [
             0.2222222222222222,
             "#7201a8"
            ],
            [
             0.3333333333333333,
             "#9c179e"
            ],
            [
             0.4444444444444444,
             "#bd3786"
            ],
            [
             0.5555555555555556,
             "#d8576b"
            ],
            [
             0.6666666666666666,
             "#ed7953"
            ],
            [
             0.7777777777777778,
             "#fb9f3a"
            ],
            [
             0.8888888888888888,
             "#fdca26"
            ],
            [
             1,
             "#f0f921"
            ]
           ]
          },
          "colorway": [
           "#636efa",
           "#EF553B",
           "#00cc96",
           "#ab63fa",
           "#FFA15A",
           "#19d3f3",
           "#FF6692",
           "#B6E880",
           "#FF97FF",
           "#FECB52"
          ],
          "font": {
           "color": "#2a3f5f"
          },
          "geo": {
           "bgcolor": "white",
           "lakecolor": "white",
           "landcolor": "#E5ECF6",
           "showlakes": true,
           "showland": true,
           "subunitcolor": "white"
          },
          "hoverlabel": {
           "align": "left"
          },
          "hovermode": "closest",
          "mapbox": {
           "style": "light"
          },
          "paper_bgcolor": "white",
          "plot_bgcolor": "#E5ECF6",
          "polar": {
           "angularaxis": {
            "gridcolor": "white",
            "linecolor": "white",
            "ticks": ""
           },
           "bgcolor": "#E5ECF6",
           "radialaxis": {
            "gridcolor": "white",
            "linecolor": "white",
            "ticks": ""
           }
          },
          "scene": {
           "xaxis": {
            "backgroundcolor": "#E5ECF6",
            "gridcolor": "white",
            "gridwidth": 2,
            "linecolor": "white",
            "showbackground": true,
            "ticks": "",
            "zerolinecolor": "white"
           },
           "yaxis": {
            "backgroundcolor": "#E5ECF6",
            "gridcolor": "white",
            "gridwidth": 2,
            "linecolor": "white",
            "showbackground": true,
            "ticks": "",
            "zerolinecolor": "white"
           },
           "zaxis": {
            "backgroundcolor": "#E5ECF6",
            "gridcolor": "white",
            "gridwidth": 2,
            "linecolor": "white",
            "showbackground": true,
            "ticks": "",
            "zerolinecolor": "white"
           }
          },
          "shapedefaults": {
           "line": {
            "color": "#2a3f5f"
           }
          },
          "ternary": {
           "aaxis": {
            "gridcolor": "white",
            "linecolor": "white",
            "ticks": ""
           },
           "baxis": {
            "gridcolor": "white",
            "linecolor": "white",
            "ticks": ""
           },
           "bgcolor": "#E5ECF6",
           "caxis": {
            "gridcolor": "white",
            "linecolor": "white",
            "ticks": ""
           }
          },
          "title": {
           "x": 0.05
          },
          "xaxis": {
           "automargin": true,
           "gridcolor": "white",
           "linecolor": "white",
           "ticks": "",
           "title": {
            "standoff": 15
           },
           "zerolinecolor": "white",
           "zerolinewidth": 2
          },
          "yaxis": {
           "automargin": true,
           "gridcolor": "white",
           "linecolor": "white",
           "ticks": "",
           "title": {
            "standoff": 15
           },
           "zerolinecolor": "white",
           "zerolinewidth": 2
          }
         }
        },
        "xaxis": {
         "anchor": "y",
         "autorange": true,
         "domain": [
          0,
          1
         ],
         "range": [
          -0.5,
          536.5
         ],
         "title": {
          "text": "BATSMAN"
         },
         "type": "category"
        },
        "yaxis": {
         "anchor": "x",
         "autorange": true,
         "domain": [
          0,
          1
         ],
         "range": [
          0,
          367.36842105263156
         ],
         "title": {
          "text": "NUMBER_OF_SIXES"
         },
         "type": "linear"
        }
       }
      },
      "image/png": "[encoded data removed]",
      "text/html": [
       "<div>                            <div id=\"f5bad9f9-50c6-4bee-80d5-3efde615b353\" class=\"plotly-graph-div\" style=\"height:525px; width:100%;\"></div>            <script type=\"text/javascript\">                require([\"plotly\"], function(Plotly) {                    window.PLOTLYENV=window.PLOTLYENV || {};                                    if (document.getElementById(\"f5bad9f9-50c6-4bee-80d5-3efde615b353\")) {                    Plotly.newPlot(                        \"f5bad9f9-50c6-4bee-80d5-3efde615b353\",                        [{\"alignmentgroup\":\"True\",\"hovertemplate\":\"BATSMAN=%{x}<br>NUMBER_OF_SIXES=%{y}<extra></extra>\",\"legendgroup\":\"\",\"marker\":{\"color\":\"#636efa\",\"pattern\":{\"shape\":\"\"}},\"name\":\"\",\"offsetgroup\":\"\",\"orientation\":\"v\",\"showlegend\":false,\"textposition\":\"auto\",\"x\":[\"RT Ponting\",\"BB McCullum\",\"DJ Hussey\",\"Mohammad Hafeez\",\"SC Ganguly\",\"CL White\",\"MV Boucher\",\"B Akhil\",\"AA Noffke\",\"P Kumar\",\"Z Khan\",\"SB Joshi\",\"W Jaffer\",\"JH Kallis\",\"R Dravid\",\"V Kohli\",\"K Goel\",\"MEK Hussey\",\"JR Hopes\",\"SK Raina\",\"JDP Oram\",\"S Badrinath\",\"PA Patel\",\"ML Hayden\",\"MS Dhoni\",\"KC Sangakkara\",\"Yuvraj Singh\",\"SM Katich\",\"IK Pathan\",\"T Kohli\",\"YK Pathan\",\"S Dhawan\",\"G Gambhir\",\"SK Warne\",\"D Salunkhe\",\"SK Trivedi\",\"V Sehwag\",\"SR Watson\",\"M Kaif\",\"DS Lehmann\",\"RA Jadeja\",\"M Rawat\",\"L Ronchi\",\"ST Jayasuriya\",\"DJ Thornely\",\"RV Uthappa\",\"PR Shah\",\"AM Nayar\",\"SM Pollock\",\"Harbhajan Singh\",\"S Chanderpaul\",\"LRPL Taylor\",\"WP Saha\",\"AS Yadav\",\"A Symonds\",\"SB Bangar\",\"WPUJC Vaas\",\"RP Singh\",\"AC Gilchrist\",\"Y Venugopal Rao\",\"VVS Laxman\",\"RG Sharma\",\"SB Styris\",\"LR Shukla\",\"PP Chawla\",\"Kamran Akmal\",\"DPMD Jayawardene\",\"S Sohal\",\"B Lee\",\"WA Mota\",\"Shahid Afridi\",\"DJ Bravo\",\"A Nehra\",\"MA Khote\",\"GC Smith\",\"Pankaj Singh\",\"S Sreesanth\",\"VRV Singh\",\"SS Tiwary\",\"RR Sarwan\",\"DS Kulkarni\",\"R Vinay Kumar\",\"M Kartik\",\"I Sharma\",\"AB Agarkar\",\"AM Rahane\",\"TM Srivastava\",\"Shoaib Malik\",\"MK Tiwary\",\"KD Karthik\",\"R Bhatia\",\"MF Maharoof\",\"VY Mahesh\",\"B Chipli\",\"DW Steyn\",\"DB Das\",\"MK Pandey\",\"HH Gibbs\",\"DNT Zoysa\",\"D Kalyankrishna\",\"SE Marsh\",\"SA Asnodkar\",\"BJ Hodge\",\"Sohail Tanvir\",\"Salman Butt\",\"Umar Gul\",\"AB Dinda\",\"AB de Villiers\",\"SP Fleming\",\"S Vidyut\",\"JA Morkel\",\"LPC Silva\",\"DB Ravi Teja\",\"Misbah-ul-Haq\",\"PJ Sangwan\",\"YV Takawale\",\"RR Raje\",\"Mohammad Asif\",\"GD McGrath\",\"Joginder Sharma\",\"MS Gony\",\"M Muralitharan\",\"M Ntini\",\"DT Patil\",\"A Kumble\",\"S Anirudha\",\"MM Patel\",\"CK Kapugedera\",\"A Chopra\",\"T Taibu\",\"J Arunkumar\",\"PP Ojha\",\"SP Goswami\",\"SR Tendulkar\",\"U Kaul\",\"Niraj Patel\",\"AD Mascarenhas\",\"TM Dilshan\",\"A Mishra\",\"LA Pomersbach\",\"Iqbal Abdulla\",\"Younis Khan\",\"PM Sarvesh Kumar\",\"DP Vijaykumar\",\"Shoaib Akhtar\",\"Abdur Razzak\",\"H Das\",\"DR Smith\",\"SD Chitnis\",\"CRD Fernando\",\"VS Yeligati\",\"L Balaji\",\"A Mukund\",\"RR Powar\",\"JP Duminy\",\"A Flintoff\",\"T Thushara\",\"KP Pietersen\",\"JD Ryder\",\"T Henderson\",\"Kamran Khan\",\"RS Bopara\",\"MC Henriques\",\"CH Gayle\",\"R Bishnoi\",\"KV Sharma\",\"FH Edwards\",\"AS Raut\",\"PC Valthaty\",\"RJ Quiney\",\"Yashpal Singh\",\"M Manhas\",\"AA Bilakhia\",\"AN Ghosh\",\"BAW Mendis\",\"DL Vettori\",\"MN van Wyk\",\"RE van der Merwe\",\"TL Suman\",\"Shoaib Ahmed\",\"GR Napier\",\"KP Appanna\",\"LA Carseldine\",\"NV Ojha\",\"SM Harwood\",\"M Vijay\",\"DA Warner\",\"SB Jakati\",\"RJ Harris\",\"D du Preez\",\"M Morkel\",\"AD Mathews\",\"SL Malinga\",\"C Nanda\",\"J Botha\",\"Mashrafe Mortaza\",\"A Singh\",\"GJ Bailey\",\"AB McDonald\",\"Y Nagar\",\"SS Shaikh\",\"R Ashwin\",\"Mohammad Ashraful\",\"Jaskaran Singh\",\"Anirudh Singh\",\"CA Pujara\",\"OA Shah\",\"AP Tare\",\"AT Rayudu\",\"R Sathish\",\"R McLaren\",\"AA Jhunjhunwala\",\"P Dogra\",\"A Uniyal\",\"MS Bisla\",\"YA Abdulla\",\"EJG Morgan\",\"JM Kemp\",\"S Tyagi\",\"RS Gavaskar\",\"SE Bond\",\"S Ladda\",\"DP Nannes\",\"KA Pollard\",\"DR Martyn\",\"S Narwal\",\"MJ Lumb\",\"Bipul Sharma\",\"AB Barath\",\"FY Fazal\",\"AC Voges\",\"MD Mishra\",\"UT Yadav\",\"J Theron\",\"SJ Srivastava\",\"R Sharma\",\"Mandeep Singh\",\"KM Jadhav\",\"SW Tait\",\"KB Arun Karthik\",\"KAJ Roach\",\"PD Collingwood\",\"CK Langeveldt\",\"VS Malik\",\"A Mithun\",\"AP Dole\",\"AN Ahmed\",\"RS Sodhi\",\"DE Bollinger\",\"S Sriram\",\"B Sumanth\",\"C Madan\",\"AG Paunikar\",\"MR Marsh\",\"AJ Finch\",\"STR Binny\",\"Harmeet Singh\",\"IR Jaggi\",\"DT Christian\",\"MA Agarwal\",\"RV Gomez\",\"AUK Pathan\",\"UBT Chand\",\"DJ Jacobs\",\"NJ Rimmington\",\"Sunny Singh\",\"AL Menaria\",\"WD Parnell\",\"JJ van der Wath\",\"R Ninan\",\"S Aravind\",\"MS Wade\",\"TD Paine\",\"JEC Franklin\",\"SB Wagh\",\"AC Thomas\",\"Shakib Al Hasan\",\"DH Yagnik\",\"S Randiv\",\"BJ Haddin\",\"NLTC Perera\",\"NL McCullum\",\"JE Taylor\",\"J Syed Mohammad\",\"RN ten Doeschate\",\"TR Birt\",\"AG Murtaza\",\"Harpreet Singh\",\"M Klinger\",\"AC Blizzard\",\"I Malhotra\",\"L Ablish\",\"CA Ingram\",\"S Nadeem\",\"P Parameswaran\",\"CJ Ferguson\",\"VR Aaron\",\"AA Chavan\",\"ND Doshi\",\"B Kumar\",\"Y Gnaneswara Rao\",\"S Rana\",\"BA Bhatt\",\"F du Plessis\",\"RE Levi\",\"GJ Maxwell\",\"SPD Smith\",\"SA Yadav\",\"MN Samuels\",\"KK Cooper\",\"JP Faulkner\",\"HV Patel\",\"DAJ Bracewell\",\"DJ Harris\",\"Ankit Sharma\",\"SP Narine\",\"GB Hogg\",\"RR Bhatkal\",\"CJ McKay\",\"N Saini\",\"DA Miller\",\"Azhar Mahmood\",\"P Negi\",\"RJ Peterson\",\"KMDN Kulasekara\",\"A Ashish Reddy\",\"V Pratap Singh\",\"BB Samantray\",\"MJ Clarke\",\"Gurkeerat Singh\",\"AP Majumdar\",\"PA Reddy\",\"K Upadhyay\",\"P Awana\",\"AD Russell\",\"A Chandila\",\"CA Lynn\",\"Sunny Gupta\",\"MC Juneja\",\"KK Nair\",\"GH Vihari\",\"R Shukla\",\"MDKJ Perera\",\"AS Rajpoot\",\"B Laughlin\",\"M Vohra\",\"JD Unadkat\",\"Mohammed Shami\",\"BMAJ Mendis\",\"R Rampaul\",\"CH Morris\",\"SV Samson\",\"SMSM Senanayake\",\"BJ Rohrer\",\"KL Rahul\",\"Q de Kock\",\"R Dhawan\",\"MG Johnson\",\"LJ Wright\",\"IC Pandey\",\"CM Gautam\",\"X Thalaivan Sargunam\",\"DJG Sammy\",\"KW Richardson\",\"MM Sharma\",\"UA Birla\",\"Parvez Rasool\",\"Sandeep Sharma\",\"S Kaul\",\"Sachin Baby\",\"PV Tambe\",\"NM Coulter-Nile\",\"CJ Anderson\",\"NJ Maddinson\",\"AR Patel\",\"JJ Bumrah\",\"JDS Neesham\",\"TG Southee\",\"MA Starc\",\"BR Dunk\",\"RR Rossouw\",\"Shivam Sharma\",\"YS Chahal\",\"LMP Simmons\",\"VH Zol\",\"Imran Tahir\",\"BCJ Cutting\",\"BE Hendricks\",\"S Gopal\",\"M de Lange\",\"R Tewatia\",\"JO Holder\",\"Karanveer Singh\",\"SS Iyer\",\"DJ Hooda\",\"Anureet Singh\",\"KS Williamson\",\"SA Abbott\",\"J Suchith\",\"RG More\",\"D Wiese\",\"HH Pandya\",\"SN Khan\",\"MJ McClenaghan\",\"DJ Muthuswami\",\"PJ Cummins\",\"SN Thakur\",\"JC Buttler\",\"CR Brathwaite\",\"MP Stoinis\",\"Ishan Kishan\",\"C Munro\",\"P Sahu\",\"KH Pandya\",\"AD Nath\",\"MJ Guptill\",\"KJ Abbott\",\"TM Head\",\"M Ashwin\",\"NS Naik\",\"RR Pant\",\"SW Billings\",\"KC Cariappa\",\"PSP Handscomb\",\"Swapnil Singh\",\"J Yadav\",\"UT Khawaja\",\"HM Amla\",\"F Behardien\",\"A Zampa\",\"BB Sran\",\"N Rana\",\"S Kaushik\",\"ER Dwivedi\",\"CJ Jordan\",\"A Choudhary\",\"TS Mills\",\"BA Stokes\",\"JJ Roy\",\"Vishnu Vinod\",\"Basil Thampi\",\"CR Woakes\",\"RA Tripathi\",\"DL Chahar\",\"V Shankar\",\"Rashid Khan\",\"LH Ferguson\",\"RD Chahar\",\"C de Grandhomme\",\"AF Milne\",\"S Badree\",\"Mohammad Nabi\",\"AJ Tye\",\"K Rabada\",\"Kuldeep Yadav\",\"Washington Sundar\",\"DM Bravo\",\"AR Bawne\",\"SP Jackson\",\"Ankit Soni\",\"TA Boult\",\"E Lewis\",\"MA Wood\",\"RK Singh\",\"DJM Short\",\"K Gowtham\",\"TK Curran\",\"M Markande\",\"B Stanlake\",\"Mujeeb Ur Rahman\",\"A Dananjaya\",\"Shivam Mavi\",\"Shubman Gill\",\"Mohammed Siraj\",\"H Klaasen\",\"RK Bhui\",\"JC Archer\",\"PP Shaw\",\"LE Plunkett\",\"Mustafizur Rahman\",\"AD Hales\",\"MK Lomror\",\"DR Shorey\",\"MM Ali\",\"M Prasidh Krishna\",\"P Chopra\",\"JPR Scantlebury-Searles\",\"Abhishek Sharma\",\"IS Sodhi\",\"SO Hetmyer\",\"S Dube\",\"NA Saini\",\"JM Bairstow\",\"Rasikh Salam\",\"KMA Paul\",\"N Pooran\",\"P Ray Barman\",\"S Lamichhane\",\"SM Curran\",\"GC Viljoen\",\"Avesh Khan\",\"HF Gurney\",\"SD Lad\",\"AS Joseph\",\"MJ Santner\",\"R Parag\",\"JL Denly\",\"LS Livingstone\",\"KK Ahmed\",\"AJ Turner\",\"SE Rutherford\",\"Harpreet Brar\",\"Y Prithvi Raj\",\"P Simran Singh\",\"JL Pattinson\",\"A Nortje\",\"T Banton\",\"D Padikkal\",\"YBK Jaiswal\",\"RD Gaikwad\",\"TU Deshpande\",\"Abdul Samad\",\"PK Garg\",\"JR Philippe\",\"Kartik Tyagi\",\"CV Varun\",\"KL Nagarkoti\",\"I Udana\",\"Ravi Bishnoi\",\"Shahbaz Ahmed\",\"AT Carey\",\"N Jagadeesan\",\"T Natarajan\",\"P Dubey\",\"SS Cottrell\",\"Arshdeep Singh\",\"DR Sams\"],\"xaxis\":\"x\",\"y\":[2.0,130.0,60.0,2.0,42.0,36.0,13.0,5.0,0.0,17.0,2.0,0.0,3.0,44.0,28.0,202.0,9.0,52.0,11.0,194.0,5.0,28.0,49.0,44.0,216.0,27.0,149.0,8.0,37.0,1.0,159.0,109.0,59.0,6.0,0.0,1.0,106.0,190.0,6.0,0.0,76.0,1.0,1.0,39.0,2.0,163.0,2.0,20.0,8.0,42.0,0.0,46.0,64.0,2.0,41.0,3.0,3.0,1.0,92.0,37.0,5.0,214.0,3.0,16.0,18.0,8.0,39.0,18.0,8.0,0.0,6.0,61.0,1.0,1.0,9.0,0.0,0.0,0.0,48.0,1.0,2.0,9.0,1.0,2.0,5.0,76.0,0.0,0.0,40.0,105.0,13.0,9.0,0.0,7.0,3.0,16.0,93.0,31.0,0.0,0.0,78.0,10.0,43.0,1.0,2.0,5.0,0.0,235.0,3.0,3.0,55.0,1.0,9.0,6.0,0.0,3.0,1.0,0.0,0.0,2.0,8.0,0.0,0.0,0.0,0.0,7.0,0.0,0.0,0.0,0.0,0.0,0.0,3.0,29.0,0.0,1.0,1.0,24.0,5.0,13.0,1.0,0.0,0.0,0.0,0.0,0.0,0.0,117.0,2.0,0.0,0.0,1.0,0.0,1.0,79.0,2.0,0.0,40.0,19.0,1.0,0.0,16.0,27.0,349.0,2.0,14.0,0.0,7.0,20.0,3.0,0.0,10.0,0.0,0.0,0.0,2.0,1.0,8.0,26.0,0.0,0.0,0.0,0.0,79.0,0.0,91.0,195.0,0.0,3.0,0.0,5.0,29.0,5.0,0.0,5.0,0.0,0.0,19.0,4.0,9.0,0.0,11.0,0.0,0.0,1.0,4.0,23.0,11.0,132.0,6.0,1.0,5.0,5.0,0.0,23.0,0.0,58.0,1.0,0.0,0.0,0.0,0.0,0.0,198.0,0.0,0.0,6.0,9.0,1.0,1.0,3.0,8.0,4.0,0.0,0.0,3.0,37.0,38.0,1.0,1.0,0.0,13.0,1.0,0.0,1.0,1.0,1.0,0.0,1.0,0.0,0.0,0.0,0.0,14.0,75.0,35.0,0.0,0.0,19.0,67.0,1.0,2.0,9.0,4.0,0.0,1.0,18.0,1.0,1.0,0.0,0.0,0.0,0.0,9.0,0.0,1.0,20.0,2.0,0.0,1.0,26.0,1.0,0.0,0.0,15.0,2.0,0.0,0.0,0.0,2.0,0.0,0.0,5.0,0.0,0.0,0.0,2.0,0.0,0.0,3.0,0.0,1.0,1.0,73.0,4.0,91.0,58.0,58.0,7.0,8.0,23.0,9.0,0.0,5.0,4.0,52.0,0.0,0.0,0.0,0.0,87.0,13.0,16.0,1.0,0.0,15.0,0.0,2.0,0.0,11.0,2.0,2.0,1.0,0.0,129.0,0.0,63.0,0.0,1.0,39.0,1.0,0.0,0.0,1.0,0.0,39.0,1.0,2.0,0.0,2.0,30.0,115.0,0.0,5.0,104.0,76.0,4.0,7.0,3.0,0.0,6.0,0.0,18.0,1.0,4.0,0.0,0.0,0.0,0.0,5.0,0.0,4.0,31.0,0.0,43.0,1.0,2.0,4.0,0.0,0.0,3.0,0.0,0.0,44.0,1.0,0.0,19.0,0.0,1.0,0.0,20.0,5.0,0.0,83.0,29.0,1.0,54.0,1.0,2.0,0.0,4.0,93.0,11.0,7.0,0.0,12.0,1.0,77.0,16.0,34.0,64.0,8.0,1.0,40.0,2.0,15.0,1.0,8.0,0.0,0.0,103.0,10.0,2.0,0.0,0.0,0.0,3.0,21.0,0.0,0.0,0.0,72.0,0.0,2.0,0.0,1.0,1.0,32.0,8.0,1.0,1.0,2.0,37.0,6.0,25.0,11.0,1.0,0.0,18.0,0.0,0.0,7.0,5.0,4.0,0.0,6.0,0.0,0.0,0.0,1.0,1.0,26.0,0.0,2.0,5.0,12.0,3.0,0.0,0.0,0.0,0.0,0.0,24.0,1.0,1.0,0.0,14.0,27.0,0.0,0.0,6.0,3.0,1.0,23.0,0.0,0.0,1.0,8.0,0.0,19.0,12.0,0.0,31.0,0.0,1.0,39.0,0.0,0.0,15.0,0.0,0.0,0.0,1.0,0.0,3.0,8.0,0.0,5.0,0.0,0.0,7.0,1.0,0.0,1.0,0.0,0.0,1.0,8.0,2.0,6.0,1.0,6.0,4.0,1.0,0.0,0.0,0.0,1.0,0.0,0.0,1.0,0.0,0.0,0.0,0.0,0.0,0.0],\"yaxis\":\"y\",\"type\":\"bar\"}],                        {\"template\":{\"data\":{\"bar\":[{\"error_x\":{\"color\":\"#2a3f5f\"},\"error_y\":{\"color\":\"#2a3f5f\"},\"marker\":{\"line\":{\"color\":\"#E5ECF6\",\"width\":0.5},\"pattern\":{\"fillmode\":\"overlay\",\"size\":10,\"solidity\":0.2}},\"type\":\"bar\"}],\"barpolar\":[{\"marker\":{\"line\":{\"color\":\"#E5ECF6\",\"width\":0.5},\"pattern\":{\"fillmode\":\"overlay\",\"size\":10,\"solidity\":0.2}},\"type\":\"barpolar\"}],\"carpet\":[{\"aaxis\":{\"endlinecolor\":\"#2a3f5f\",\"gridcolor\":\"white\",\"linecolor\":\"white\",\"minorgridcolor\":\"white\",\"startlinecolor\":\"#2a3f5f\"},\"baxis\":{\"endlinecolor\":\"#2a3f5f\",\"gridcolor\":\"white\",\"linecolor\":\"white\",\"minorgridcolor\":\"white\",\"startlinecolor\":\"#2a3f5f\"},\"type\":\"carpet\"}],\"choropleth\":[{\"colorbar\":{\"outlinewidth\":0,\"ticks\":\"\"},\"type\":\"choropleth\"}],\"contour\":[{\"colorbar\":{\"outlinewidth\":0,\"ticks\":\"\"},\"colorscale\":[[0.0,\"#0d0887\"],[0.1111111111111111,\"#46039f\"],[0.2222222222222222,\"#7201a8\"],[0.3333333333333333,\"#9c179e\"],[0.4444444444444444,\"#bd3786\"],[0.5555555555555556,\"#d8576b\"],[0.6666666666666666,\"#ed7953\"],[0.7777777777777778,\"#fb9f3a\"],[0.8888888888888888,\"#fdca26\"],[1.0,\"#f0f921\"]],\"type\":\"contour\"}],\"contourcarpet\":[{\"colorbar\":{\"outlinewidth\":0,\"ticks\":\"\"},\"type\":\"contourcarpet\"}],\"heatmap\":[{\"colorbar\":{\"outlinewidth\":0,\"ticks\":\"\"},\"colorscale\":[[0.0,\"#0d0887\"],[0.1111111111111111,\"#46039f\"],[0.2222222222222222,\"#7201a8\"],[0.3333333333333333,\"#9c179e\"],[0.4444444444444444,\"#bd3786\"],[0.5555555555555556,\"#d8576b\"],[0.6666666666666666,\"#ed7953\"],[0.7777777777777778,\"#fb9f3a\"],[0.8888888888888888,\"#fdca26\"],[1.0,\"#f0f921\"]],\"type\":\"heatmap\"}],\"heatmapgl\":[{\"colorbar\":{\"outlinewidth\":0,\"ticks\":\"\"},\"colorscale\":[[0.0,\"#0d0887\"],[0.1111111111111111,\"#46039f\"],[0.2222222222222222,\"#7201a8\"],[0.3333333333333333,\"#9c179e\"],[0.4444444444444444,\"#bd3786\"],[0.5555555555555556,\"#d8576b\"],[0.6666666666666666,\"#ed7953\"],[0.7777777777777778,\"#fb9f3a\"],[0.8888888888888888,\"#fdca26\"],[1.0,\"#f0f921\"]],\"type\":\"heatmapgl\"}],\"histogram\":[{\"marker\":{\"pattern\":{\"fillmode\":\"overlay\",\"size\":10,\"solidity\":0.2}},\"type\":\"histogram\"}],\"histogram2d\":[{\"colorbar\":{\"outlinewidth\":0,\"ticks\":\"\"},\"colorscale\":[[0.0,\"#0d0887\"],[0.1111111111111111,\"#46039f\"],[0.2222222222222222,\"#7201a8\"],[0.3333333333333333,\"#9c179e\"],[0.4444444444444444,\"#bd3786\"],[0.5555555555555556,\"#d8576b\"],[0.6666666666666666,\"#ed7953\"],[0.7777777777777778,\"#fb9f3a\"],[0.8888888888888888,\"#fdca26\"],[1.0,\"#f0f921\"]],\"type\":\"histogram2d\"}],\"histogram2dcontour\":[{\"colorbar\":{\"outlinewidth\":0,\"ticks\":\"\"},\"colorscale\":[[0.0,\"#0d0887\"],[0.1111111111111111,\"#46039f\"],[0.2222222222222222,\"#7201a8\"],[0.3333333333333333,\"#9c179e\"],[0.4444444444444444,\"#bd3786\"],[0.5555555555555556,\"#d8576b\"],[0.6666666666666666,\"#ed7953\"],[0.7777777777777778,\"#fb9f3a\"],[0.8888888888888888,\"#fdca26\"],[1.0,\"#f0f921\"]],\"type\":\"histogram2dcontour\"}],\"mesh3d\":[{\"colorbar\":{\"outlinewidth\":0,\"ticks\":\"\"},\"type\":\"mesh3d\"}],\"parcoords\":[{\"line\":{\"colorbar\":{\"outlinewidth\":0,\"ticks\":\"\"}},\"type\":\"parcoords\"}],\"pie\":[{\"automargin\":true,\"type\":\"pie\"}],\"scatter\":[{\"marker\":{\"colorbar\":{\"outlinewidth\":0,\"ticks\":\"\"}},\"type\":\"scatter\"}],\"scatter3d\":[{\"line\":{\"colorbar\":{\"outlinewidth\":0,\"ticks\":\"\"}},\"marker\":{\"colorbar\":{\"outlinewidth\":0,\"ticks\":\"\"}},\"type\":\"scatter3d\"}],\"scattercarpet\":[{\"marker\":{\"colorbar\":{\"outlinewidth\":0,\"ticks\":\"\"}},\"type\":\"scattercarpet\"}],\"scattergeo\":[{\"marker\":{\"colorbar\":{\"outlinewidth\":0,\"ticks\":\"\"}},\"type\":\"scattergeo\"}],\"scattergl\":[{\"marker\":{\"colorbar\":{\"outlinewidth\":0,\"ticks\":\"\"}},\"type\":\"scattergl\"}],\"scattermapbox\":[{\"marker\":{\"colorbar\":{\"outlinewidth\":0,\"ticks\":\"\"}},\"type\":\"scattermapbox\"}],\"scatterpolar\":[{\"marker\":{\"colorbar\":{\"outlinewidth\":0,\"ticks\":\"\"}},\"type\":\"scatterpolar\"}],\"scatterpolargl\":[{\"marker\":{\"colorbar\":{\"outlinewidth\":0,\"ticks\":\"\"}},\"type\":\"scatterpolargl\"}],\"scatterternary\":[{\"marker\":{\"colorbar\":{\"outlinewidth\":0,\"ticks\":\"\"}},\"type\":\"scatterternary\"}],\"surface\":[{\"colorbar\":{\"outlinewidth\":0,\"ticks\":\"\"},\"colorscale\":[[0.0,\"#0d0887\"],[0.1111111111111111,\"#46039f\"],[0.2222222222222222,\"#7201a8\"],[0.3333333333333333,\"#9c179e\"],[0.4444444444444444,\"#bd3786\"],[0.5555555555555556,\"#d8576b\"],[0.6666666666666666,\"#ed7953\"],[0.7777777777777778,\"#fb9f3a\"],[0.8888888888888888,\"#fdca26\"],[1.0,\"#f0f921\"]],\"type\":\"surface\"}],\"table\":[{\"cells\":{\"fill\":{\"color\":\"#EBF0F8\"},\"line\":{\"color\":\"white\"}},\"header\":{\"fill\":{\"color\":\"#C8D4E3\"},\"line\":{\"color\":\"white\"}},\"type\":\"table\"}]},\"layout\":{\"annotationdefaults\":{\"arrowcolor\":\"#2a3f5f\",\"arrowhead\":0,\"arrowwidth\":1},\"autotypenumbers\":\"strict\",\"coloraxis\":{\"colorbar\":{\"outlinewidth\":0,\"ticks\":\"\"}},\"colorscale\":{\"diverging\":[[0,\"#8e0152\"],[0.1,\"#c51b7d\"],[0.2,\"#de77ae\"],[0.3,\"#f1b6da\"],[0.4,\"#fde0ef\"],[0.5,\"#f7f7f7\"],[0.6,\"#e6f5d0\"],[0.7,\"#b8e186\"],[0.8,\"#7fbc41\"],[0.9,\"#4d9221\"],[1,\"#276419\"]],\"sequential\":[[0.0,\"#0d0887\"],[0.1111111111111111,\"#46039f\"],[0.2222222222222222,\"#7201a8\"],[0.3333333333333333,\"#9c179e\"],[0.4444444444444444,\"#bd3786\"],[0.5555555555555556,\"#d8576b\"],[0.6666666666666666,\"#ed7953\"],[0.7777777777777778,\"#fb9f3a\"],[0.8888888888888888,\"#fdca26\"],[1.0,\"#f0f921\"]],\"sequentialminus\":[[0.0,\"#0d0887\"],[0.1111111111111111,\"#46039f\"],[0.2222222222222222,\"#7201a8\"],[0.3333333333333333,\"#9c179e\"],[0.4444444444444444,\"#bd3786\"],[0.5555555555555556,\"#d8576b\"],[0.6666666666666666,\"#ed7953\"],[0.7777777777777778,\"#fb9f3a\"],[0.8888888888888888,\"#fdca26\"],[1.0,\"#f0f921\"]]},\"colorway\":[\"#636efa\",\"#EF553B\",\"#00cc96\",\"#ab63fa\",\"#FFA15A\",\"#19d3f3\",\"#FF6692\",\"#B6E880\",\"#FF97FF\",\"#FECB52\"],\"font\":{\"color\":\"#2a3f5f\"},\"geo\":{\"bgcolor\":\"white\",\"lakecolor\":\"white\",\"landcolor\":\"#E5ECF6\",\"showlakes\":true,\"showland\":true,\"subunitcolor\":\"white\"},\"hoverlabel\":{\"align\":\"left\"},\"hovermode\":\"closest\",\"mapbox\":{\"style\":\"light\"},\"paper_bgcolor\":\"white\",\"plot_bgcolor\":\"#E5ECF6\",\"polar\":{\"angularaxis\":{\"gridcolor\":\"white\",\"linecolor\":\"white\",\"ticks\":\"\"},\"bgcolor\":\"#E5ECF6\",\"radialaxis\":{\"gridcolor\":\"white\",\"linecolor\":\"white\",\"ticks\":\"\"}},\"scene\":{\"xaxis\":{\"backgroundcolor\":\"#E5ECF6\",\"gridcolor\":\"white\",\"gridwidth\":2,\"linecolor\":\"white\",\"showbackground\":true,\"ticks\":\"\",\"zerolinecolor\":\"white\"},\"yaxis\":{\"backgroundcolor\":\"#E5ECF6\",\"gridcolor\":\"white\",\"gridwidth\":2,\"linecolor\":\"white\",\"showbackground\":true,\"ticks\":\"\",\"zerolinecolor\":\"white\"},\"zaxis\":{\"backgroundcolor\":\"#E5ECF6\",\"gridcolor\":\"white\",\"gridwidth\":2,\"linecolor\":\"white\",\"showbackground\":true,\"ticks\":\"\",\"zerolinecolor\":\"white\"}},\"shapedefaults\":{\"line\":{\"color\":\"#2a3f5f\"}},\"ternary\":{\"aaxis\":{\"gridcolor\":\"white\",\"linecolor\":\"white\",\"ticks\":\"\"},\"baxis\":{\"gridcolor\":\"white\",\"linecolor\":\"white\",\"ticks\":\"\"},\"bgcolor\":\"#E5ECF6\",\"caxis\":{\"gridcolor\":\"white\",\"linecolor\":\"white\",\"ticks\":\"\"}},\"title\":{\"x\":0.05},\"xaxis\":{\"automargin\":true,\"gridcolor\":\"white\",\"linecolor\":\"white\",\"ticks\":\"\",\"title\":{\"standoff\":15},\"zerolinecolor\":\"white\",\"zerolinewidth\":2},\"yaxis\":{\"automargin\":true,\"gridcolor\":\"white\",\"linecolor\":\"white\",\"ticks\":\"\",\"title\":{\"standoff\":15},\"zerolinecolor\":\"white\",\"zerolinewidth\":2}}},\"xaxis\":{\"anchor\":\"y\",\"domain\":[0.0,1.0],\"title\":{\"text\":\"BATSMAN\"}},\"yaxis\":{\"anchor\":\"x\",\"domain\":[0.0,1.0],\"title\":{\"text\":\"NUMBER_OF_SIXES\"}},\"legend\":{\"tracegroupgap\":0},\"margin\":{\"t\":60},\"barmode\":\"relative\"},                        {\"responsive\": true}                    ).then(function(){\n",
       "                            \n",
       "var gd = document.getElementById('f5bad9f9-50c6-4bee-80d5-3efde615b353');\n",
       "var x = new MutationObserver(function (mutations, observer) {{\n",
       "        var display = window.getComputedStyle(gd).display;\n",
       "        if (!display || display === 'none') {{\n",
       "            console.log([gd, 'removed!']);\n",
       "            Plotly.purge(gd);\n",
       "            observer.disconnect();\n",
       "        }}\n",
       "}});\n",
       "\n",
       "// Listen for the removal of the full notebook cells\n",
       "var notebookContainer = gd.closest('#notebook-container');\n",
       "if (notebookContainer) {{\n",
       "    x.observe(notebookContainer, {childList: true});\n",
       "}}\n",
       "\n",
       "// Listen for the clearing of the current output cell\n",
       "var outputEl = gd.closest('.output');\n",
       "if (outputEl) {{\n",
       "    x.observe(outputEl, {childList: true});\n",
       "}}\n",
       "\n",
       "                        })                };                });            </script>        </div>"
      ]
     },
     "metadata": {},
     "output_type": "display_data"
    }
   ],
   "source": [
    "six_data = pd.DataFrame(dict(BATSMAN = six_by_batsman.keys(),NUMBER_OF_SIXES = six_by_batsman.values()))\n",
    "six_graph = px.bar(six_data , x = 'BATSMAN',y='NUMBER_OF_SIXES')\n",
    "six_graph"
   ]
  },
  {
   "cell_type": "code",
   "execution_count": 88,
   "metadata": {},
   "outputs": [],
   "source": [
    "self_out = ['obstructing the field','retired hurt','run out']"
   ]
  },
  {
   "cell_type": "markdown",
   "metadata": {},
   "source": [
    "BOWLER STATS"
   ]
  },
  {
   "cell_type": "code",
   "execution_count": 89,
   "metadata": {},
   "outputs": [],
   "source": [
    "bowler = match.bowler.unique()"
   ]
  },
  {
   "cell_type": "code",
   "execution_count": 90,
   "metadata": {},
   "outputs": [],
   "source": [
    "wicks = dict(zip(bowler,np.zeros(len(bowler))))\n",
    "for i in range(0,len(match)):\n",
    "    if(match['is_wicket'][i] == 1 and match['dismissal_kind'][i] != 'run out' and match['dismissal_kind'][i] != 'hit wicket' and match['dismissal_kind'][i] != 'obstructing the field' and match['dismissal_kind'][i] != 'retired hurt' and match['dismissal_kind'][i] != 'nan'):\n",
    "        wicks[match['bowler'][i]] += 1"
   ]
  },
  {
   "cell_type": "code",
   "execution_count": 91,
   "metadata": {},
   "outputs": [
    {
     "data": {
      "application/vnd.plotly.v1+json": {
       "config": {
        "plotlyServerURL": "https://plot.ly"
       },
       "data": [
        {
         "alignmentgroup": "True",
         "hovertemplate": "BATSMAN=%{x}<br>NUMBER_OF_WICKETS=%{y}<extra></extra>",
         "legendgroup": "",
         "marker": {
          "color": "#636efa",
          "pattern": {
           "shape": ""
          }
         },
         "name": "",
         "offsetgroup": "",
         "orientation": "v",
         "showlegend": false,
         "textposition": "auto",
         "type": "bar",
         "x": [
          "AA Noffke",
          "Z Khan",
          "JH Kallis",
          "SB Joshi",
          "CL White",
          "P Kumar",
          "AB Agarkar",
          "SC Ganguly",
          "LR Shukla",
          "I Sharma",
          "AB Dinda",
          "JDP Oram",
          "JR Hopes",
          "MS Gony",
          "K Goel",
          "PP Chawla",
          "WA Mota",
          "IK Pathan",
          "S Sreesanth",
          "B Lee",
          "M Muralitharan",
          "P Amarnath",
          "Joginder Sharma",
          "GD McGrath",
          "B Geeves",
          "SK Warne",
          "YK Pathan",
          "D Salunkhe",
          "SR Watson",
          "SK Trivedi",
          "DL Vettori",
          "MF Maharoof",
          "MM Patel",
          "R Bhatia",
          "B Akhil",
          "R Vinay Kumar",
          "A Nehra",
          "SM Pollock",
          "DS Kulkarni",
          "AM Nayar",
          "Harbhajan Singh",
          "ST Jayasuriya",
          "WPUJC Vaas",
          "RP Singh",
          "SB Styris",
          "SB Bangar",
          "DJ Hussey",
          "Mohammad Hafeez",
          "M Kartik",
          "PP Ojha",
          "A Symonds",
          "Pankaj Singh",
          "Mohammad Asif",
          "VY Mahesh",
          "Shahid Afridi",
          "MA Khote",
          "DJ Bravo",
          "VS Yeligati",
          "D Kalyankrishna",
          "VRV Singh",
          "A Kumble",
          "Sohail Tanvir",
          "DNT Zoysa",
          "SD Chitnis",
          "Shoaib Malik",
          "Yuvraj Singh",
          "DW Steyn",
          "JA Morkel",
          "CRD Fernando",
          "V Sehwag",
          "V Kohli",
          "Gagandeep Singh",
          "Y Venugopal Rao",
          "Umar Gul",
          "M Ntini",
          "PJ Sangwan",
          "DP Vijaykumar",
          "DB Ravi Teja",
          "LPC Silva",
          "DJ Thornely",
          "RR Raje",
          "SK Raina",
          "S Vidyut",
          "L Balaji",
          "CK Kapugedera",
          "DR Smith",
          "AD Mascarenhas",
          "A Mishra",
          "Shoaib Akhtar",
          "Iqbal Abdulla",
          "RR Powar",
          "PM Sarvesh Kumar",
          "Abdur Razzak",
          "RA Jadeja",
          "TM Dilshan",
          "RG Sharma",
          "A Nel",
          "BAW Mendis",
          "A Flintoff",
          "T Thushara",
          "SL Malinga",
          "T Henderson",
          "Kamran Khan",
          "JD Ryder",
          "DP Nannes",
          "AM Salvi",
          "YA Abdulla",
          "VS Malik",
          "Harmeet Singh",
          "FH Edwards",
          "MC Henriques",
          "CH Gayle",
          "KP Pietersen",
          "LRPL Taylor",
          "RS Bopara",
          "MK Tiwary",
          "Anureet Singh",
          "RR Bose",
          "KP Appanna",
          "Shoaib Ahmed",
          "BJ Hodge",
          "SR Tendulkar",
          "RE van der Merwe",
          "JP Duminy",
          "S Tyagi",
          "GR Napier",
          "SM Harwood",
          "AS Raut",
          "SB Jakati",
          "D du Preez",
          "TL Suman",
          "RJ Harris",
          "A Singh",
          "M Morkel",
          "LA Carseldine",
          "A Mithun",
          "C Nanda",
          "SS Sarkar",
          "AD Mathews",
          "AM Rahane",
          "J Botha",
          "Mashrafe Mortaza",
          "AB McDonald",
          "Y Nagar",
          "CK Langeveldt",
          "R Ashwin",
          "RA Shaikh",
          "Jaskaran Singh",
          "AA Jhunjhunwala",
          "A Uniyal",
          "SW Tait",
          "AG Murtaza",
          "R Sathish",
          "R McLaren",
          "RS Gavaskar",
          "JM Kemp",
          "S Ladda",
          "Bipul Sharma",
          "SE Bond",
          "KA Pollard",
          "S Narwal",
          "UT Yadav",
          "SJ Srivastava",
          "AC Voges",
          "R Sharma",
          "J Theron",
          "NLTC Perera",
          "KAJ Roach",
          "PD Collingwood",
          "C Ganapathy",
          "MB Parmar",
          "DE Bollinger",
          "SB Wagh",
          "JD Unadkat",
          "AP Dole",
          "AN Ahmed",
          "FY Fazal",
          "MR Marsh",
          "L Ablish",
          "S Sriram",
          "AJ Finch",
          "STR Binny",
          "ND Doshi",
          "S Randiv",
          "TG Southee",
          "AL Menaria",
          "DT Christian",
          "AUK Pathan",
          "RV Gomez",
          "JEC Franklin",
          "WD Parnell",
          "M Manhas",
          "AC Thomas",
          "NJ Rimmington",
          "RN ten Doeschate",
          "S Nadeem",
          "BA Bhatt",
          "R Ninan",
          "JJ van der Wath",
          "S Aravind",
          "Shakib Al Hasan",
          "PC Valthaty",
          "S Dhawan",
          "J Syed Mohammad",
          "VR Aaron",
          "JE Taylor",
          "NL McCullum",
          "KMDN Kulasekara",
          "P Parameswaran",
          "I Malhotra",
          "B Chipli",
          "B Kumar",
          "AA Kazi",
          "Anand Rajan",
          "AA Chavan",
          "P Prasanth",
          "Y Gnaneswara Rao",
          "S Rana",
          "JP Faulkner",
          "SS Mundhe",
          "RW Price",
          "GJ Maxwell",
          "M de Lange",
          "MN Samuels",
          "KK Cooper",
          "DAJ Bracewell",
          "HV Patel",
          "Ankit Sharma",
          "DJ Harris",
          "TP Sudhindra",
          "F du Plessis",
          "SP Narine",
          "GB Hogg",
          "RR Bhatkal",
          "P Awana",
          "V Pratap Singh",
          "CJ McKay",
          "A Ashish Reddy",
          "AD Russell",
          "Azhar Mahmood",
          "A Chandila",
          "P Negi",
          "LJ Wright",
          "RJ Peterson",
          "R Shukla",
          "MJ Clarke",
          "BW Hilfenhaus",
          "SPD Smith",
          "K Upadhyay",
          "Sunny Gupta",
          "MG Johnson",
          "JJ Bumrah",
          "S Badree",
          "AS Rajpoot",
          "B Laughlin",
          "GH Vihari",
          "Mohammed Shami",
          "BMAJ Mendis",
          "CH Morris",
          "Harmeet Singh (2)",
          "S Kaul",
          "R Dhawan",
          "MM Sharma",
          "R Rampaul",
          "SMSM Senanayake",
          "KV Sharma",
          "JO Holder",
          "IC Pandey",
          "Sandeep Sharma",
          "YS Chahal",
          "DJG Sammy",
          "KW Richardson",
          "P Suyal",
          "PV Tambe",
          "BJ Rohrer",
          "Parvez Rasool",
          "MG Neser",
          "NM Coulter-Nile",
          "AC Gilchrist",
          "CJ Anderson",
          "MA Starc",
          "JDS Neesham",
          "AR Patel",
          "M Vijay",
          "R Tewatia",
          "SA Yadav",
          "Shivam Sharma",
          "Imran Tahir",
          "V Shankar",
          "LMP Simmons",
          "BCJ Cutting",
          "S Gopal",
          "K Santokie",
          "BE Hendricks",
          "PJ Cummins",
          "JW Hastings",
          "Karanveer Singh",
          "DJ Muthuswami",
          "TA Boult",
          "SA Abbott",
          "KC Cariappa",
          "DJ Hooda",
          "J Suchith",
          "RG More",
          "MJ McClenaghan",
          "D Wiese",
          "HH Pandya",
          "SN Thakur",
          "GS Sandhu",
          "Gurkeerat Singh",
          "J Yadav",
          "BB Sran",
          "M Ashwin",
          "CR Brathwaite",
          "C Munro",
          "MP Stoinis",
          "P Sahu",
          "Mustafizur Rahman",
          "AF Milne",
          "Kuldeep Yadav",
          "KH Pandya",
          "KJ Abbott",
          "T Shamsi",
          "S Kaushik",
          "SM Boland",
          "Swapnil Singh",
          "CJ Jordan",
          "A Zampa",
          "Sachin Baby",
          "N Rana",
          "DL Chahar",
          "KS Williamson",
          "TM Head",
          "A Choudhary",
          "TS Mills",
          "Rashid Khan",
          "BA Stokes",
          "CR Woakes",
          "T Natarajan",
          "RD Chahar",
          "B Stanlake",
          "Basil Thampi",
          "Tejas Baroka",
          "C de Grandhomme",
          "AJ Tye",
          "LH Ferguson",
          "Mohammad Nabi",
          "Mohammed Siraj",
          "K Rabada",
          "Washington Sundar",
          "SS Agarwal",
          "NB Singh",
          "RA Tripathi",
          "Ankit Soni",
          "MJ Henry",
          "Avesh Khan",
          "MA Wood",
          "M Markande",
          "Mujeeb Ur Rahman",
          "K Khejroliya",
          "K Gowtham",
          "DJM Short",
          "TK Curran",
          "A Dananjaya",
          "Shivam Mavi",
          "JC Archer",
          "LE Plunkett",
          "IS Sodhi",
          "MK Lomror",
          "KM Asif",
          "L Ngidi",
          "DJ Willey",
          "M Prasidh Krishna",
          "MM Ali",
          "JPR Scantlebury-Searles",
          "S Lamichhane",
          "CJ Dala",
          "KK Ahmed",
          "NA Saini",
          "S Dube",
          "Rasikh Salam",
          "KMA Paul",
          "SM Curran",
          "CV Varun",
          "GC Viljoen",
          "Mandeep Singh",
          "P Ray Barman",
          "MJ Santner",
          "JP Behrendorff",
          "SC Kuggeleijn",
          "AS Joseph",
          "HF Gurney",
          "S Midhun",
          "R Parag",
          "LS Livingstone",
          "SN Khan",
          "Abhishek Sharma",
          "Arshdeep Singh",
          "Harpreet Brar",
          "SE Rutherford",
          "Y Prithvi Raj",
          "O Thomas",
          "AS Roy",
          "S Sandeep Warrier",
          "JL Pattinson",
          "SS Cottrell",
          "A Nortje",
          "Ravi Bishnoi",
          "I Udana",
          "TU Deshpande",
          "KL Nagarkoti",
          "Kartik Tyagi",
          "DR Sams",
          "Shahbaz Ahmed",
          "Abdul Samad",
          "JR Hazlewood",
          "DA Warner",
          "CJ Green",
          "P Dubey",
          "Monu Kumar"
         ],
         "xaxis": "x",
         "y": [
          1,
          102,
          65,
          1,
          1,
          90,
          29,
          10,
          15,
          71,
          69,
          9,
          14,
          37,
          0,
          156,
          4,
          80,
          38,
          25,
          63,
          7,
          12,
          12,
          1,
          57,
          42,
          1,
          92,
          65,
          28,
          27,
          74,
          71,
          6,
          105,
          106,
          11,
          86,
          9,
          149,
          13,
          18,
          90,
          8,
          4,
          8,
          2,
          31,
          89,
          20,
          11,
          8,
          21,
          9,
          2,
          153,
          0,
          2,
          12,
          45,
          22,
          2,
          2,
          2,
          36,
          96,
          84,
          17,
          6,
          4,
          3,
          6,
          12,
          7,
          35,
          4,
          1,
          0,
          3,
          6,
          25,
          1,
          76,
          0,
          26,
          19,
          160,
          5,
          40,
          13,
          1,
          0,
          114,
          5,
          15,
          1,
          8,
          2,
          8,
          170,
          1,
          9,
          8,
          28,
          7,
          15,
          6,
          26,
          5,
          38,
          18,
          7,
          0,
          11,
          1,
          18,
          0,
          9,
          5,
          17,
          0,
          21,
          23,
          6,
          1,
          3,
          0,
          47,
          4,
          6,
          45,
          28,
          77,
          1,
          7,
          2,
          1,
          27,
          1,
          25,
          0,
          11,
          4,
          13,
          138,
          0,
          6,
          1,
          2,
          23,
          9,
          3,
          12,
          0,
          3,
          5,
          17,
          9,
          60,
          5,
          119,
          14,
          0,
          40,
          9,
          31,
          0,
          5,
          0,
          0,
          37,
          5,
          81,
          5,
          12,
          0,
          20,
          3,
          0,
          1,
          22,
          2,
          6,
          28,
          3,
          34,
          0,
          5,
          9,
          26,
          0,
          14,
          0,
          2,
          47,
          12,
          3,
          3,
          45,
          59,
          7,
          4,
          8,
          42,
          6,
          0,
          5,
          9,
          0,
          0,
          136,
          0,
          8,
          8,
          0,
          0,
          0,
          59,
          1,
          0,
          19,
          5,
          9,
          33,
          3,
          46,
          12,
          0,
          1,
          0,
          127,
          23,
          0,
          39,
          10,
          1,
          18,
          59,
          29,
          11,
          34,
          2,
          3,
          5,
          2,
          22,
          0,
          0,
          0,
          61,
          109,
          11,
          24,
          10,
          1,
          60,
          1,
          80,
          1,
          51,
          18,
          92,
          14,
          9,
          59,
          19,
          18,
          109,
          121,
          11,
          18,
          2,
          28,
          0,
          4,
          0,
          40,
          1,
          11,
          34,
          3,
          79,
          0,
          24,
          0,
          4,
          80,
          6,
          1,
          10,
          48,
          3,
          9,
          29,
          3,
          12,
          4,
          63,
          0,
          8,
          7,
          12,
          1,
          70,
          16,
          42,
          45,
          1,
          5,
          6,
          18,
          25,
          13,
          0,
          28,
          3,
          24,
          4,
          40,
          46,
          2,
          3,
          6,
          2,
          1,
          21,
          21,
          2,
          7,
          45,
          0,
          2,
          5,
          5,
          75,
          28,
          25,
          18,
          30,
          7,
          17,
          0,
          6,
          40,
          11,
          11,
          39,
          61,
          23,
          1,
          1,
          0,
          2,
          1,
          5,
          0,
          16,
          17,
          3,
          13,
          1,
          9,
          0,
          14,
          46,
          4,
          9,
          0,
          3,
          20,
          2,
          18,
          10,
          2,
          13,
          0,
          27,
          17,
          4,
          0,
          9,
          23,
          18,
          7,
          0,
          0,
          6,
          5,
          2,
          6,
          7,
          0,
          2,
          0,
          0,
          3,
          12,
          0,
          1,
          1,
          5,
          1,
          2,
          11,
          6,
          22,
          12,
          8,
          3,
          5,
          9,
          0,
          2,
          1,
          1,
          0,
          0,
          0,
          0
         ],
         "yaxis": "y"
        }
       ],
       "layout": {
        "autosize": true,
        "barmode": "relative",
        "legend": {
         "tracegroupgap": 0
        },
        "margin": {
         "t": 60
        },
        "template": {
         "data": {
          "bar": [
           {
            "error_x": {
             "color": "#2a3f5f"
            },
            "error_y": {
             "color": "#2a3f5f"
            },
            "marker": {
             "line": {
              "color": "#E5ECF6",
              "width": 0.5
             },
             "pattern": {
              "fillmode": "overlay",
              "size": 10,
              "solidity": 0.2
             }
            },
            "type": "bar"
           }
          ],
          "barpolar": [
           {
            "marker": {
             "line": {
              "color": "#E5ECF6",
              "width": 0.5
             },
             "pattern": {
              "fillmode": "overlay",
              "size": 10,
              "solidity": 0.2
             }
            },
            "type": "barpolar"
           }
          ],
          "carpet": [
           {
            "aaxis": {
             "endlinecolor": "#2a3f5f",
             "gridcolor": "white",
             "linecolor": "white",
             "minorgridcolor": "white",
             "startlinecolor": "#2a3f5f"
            },
            "baxis": {
             "endlinecolor": "#2a3f5f",
             "gridcolor": "white",
             "linecolor": "white",
             "minorgridcolor": "white",
             "startlinecolor": "#2a3f5f"
            },
            "type": "carpet"
           }
          ],
          "choropleth": [
           {
            "colorbar": {
             "outlinewidth": 0,
             "ticks": ""
            },
            "type": "choropleth"
           }
          ],
          "contour": [
           {
            "colorbar": {
             "outlinewidth": 0,
             "ticks": ""
            },
            "colorscale": [
             [
              0,
              "#0d0887"
             ],
             [
              0.1111111111111111,
              "#46039f"
             ],
             [
              0.2222222222222222,
              "#7201a8"
             ],
             [
              0.3333333333333333,
              "#9c179e"
             ],
             [
              0.4444444444444444,
              "#bd3786"
             ],
             [
              0.5555555555555556,
              "#d8576b"
             ],
             [
              0.6666666666666666,
              "#ed7953"
             ],
             [
              0.7777777777777778,
              "#fb9f3a"
             ],
             [
              0.8888888888888888,
              "#fdca26"
             ],
             [
              1,
              "#f0f921"
             ]
            ],
            "type": "contour"
           }
          ],
          "contourcarpet": [
           {
            "colorbar": {
             "outlinewidth": 0,
             "ticks": ""
            },
            "type": "contourcarpet"
           }
          ],
          "heatmap": [
           {
            "colorbar": {
             "outlinewidth": 0,
             "ticks": ""
            },
            "colorscale": [
             [
              0,
              "#0d0887"
             ],
             [
              0.1111111111111111,
              "#46039f"
             ],
             [
              0.2222222222222222,
              "#7201a8"
             ],
             [
              0.3333333333333333,
              "#9c179e"
             ],
             [
              0.4444444444444444,
              "#bd3786"
             ],
             [
              0.5555555555555556,
              "#d8576b"
             ],
             [
              0.6666666666666666,
              "#ed7953"
             ],
             [
              0.7777777777777778,
              "#fb9f3a"
             ],
             [
              0.8888888888888888,
              "#fdca26"
             ],
             [
              1,
              "#f0f921"
             ]
            ],
            "type": "heatmap"
           }
          ],
          "heatmapgl": [
           {
            "colorbar": {
             "outlinewidth": 0,
             "ticks": ""
            },
            "colorscale": [
             [
              0,
              "#0d0887"
             ],
             [
              0.1111111111111111,
              "#46039f"
             ],
             [
              0.2222222222222222,
              "#7201a8"
             ],
             [
              0.3333333333333333,
              "#9c179e"
             ],
             [
              0.4444444444444444,
              "#bd3786"
             ],
             [
              0.5555555555555556,
              "#d8576b"
             ],
             [
              0.6666666666666666,
              "#ed7953"
             ],
             [
              0.7777777777777778,
              "#fb9f3a"
             ],
             [
              0.8888888888888888,
              "#fdca26"
             ],
             [
              1,
              "#f0f921"
             ]
            ],
            "type": "heatmapgl"
           }
          ],
          "histogram": [
           {
            "marker": {
             "pattern": {
              "fillmode": "overlay",
              "size": 10,
              "solidity": 0.2
             }
            },
            "type": "histogram"
           }
          ],
          "histogram2d": [
           {
            "colorbar": {
             "outlinewidth": 0,
             "ticks": ""
            },
            "colorscale": [
             [
              0,
              "#0d0887"
             ],
             [
              0.1111111111111111,
              "#46039f"
             ],
             [
              0.2222222222222222,
              "#7201a8"
             ],
             [
              0.3333333333333333,
              "#9c179e"
             ],
             [
              0.4444444444444444,
              "#bd3786"
             ],
             [
              0.5555555555555556,
              "#d8576b"
             ],
             [
              0.6666666666666666,
              "#ed7953"
             ],
             [
              0.7777777777777778,
              "#fb9f3a"
             ],
             [
              0.8888888888888888,
              "#fdca26"
             ],
             [
              1,
              "#f0f921"
             ]
            ],
            "type": "histogram2d"
           }
          ],
          "histogram2dcontour": [
           {
            "colorbar": {
             "outlinewidth": 0,
             "ticks": ""
            },
            "colorscale": [
             [
              0,
              "#0d0887"
             ],
             [
              0.1111111111111111,
              "#46039f"
             ],
             [
              0.2222222222222222,
              "#7201a8"
             ],
             [
              0.3333333333333333,
              "#9c179e"
             ],
             [
              0.4444444444444444,
              "#bd3786"
             ],
             [
              0.5555555555555556,
              "#d8576b"
             ],
             [
              0.6666666666666666,
              "#ed7953"
             ],
             [
              0.7777777777777778,
              "#fb9f3a"
             ],
             [
              0.8888888888888888,
              "#fdca26"
             ],
             [
              1,
              "#f0f921"
             ]
            ],
            "type": "histogram2dcontour"
           }
          ],
          "mesh3d": [
           {
            "colorbar": {
             "outlinewidth": 0,
             "ticks": ""
            },
            "type": "mesh3d"
           }
          ],
          "parcoords": [
           {
            "line": {
             "colorbar": {
              "outlinewidth": 0,
              "ticks": ""
             }
            },
            "type": "parcoords"
           }
          ],
          "pie": [
           {
            "automargin": true,
            "type": "pie"
           }
          ],
          "scatter": [
           {
            "marker": {
             "colorbar": {
              "outlinewidth": 0,
              "ticks": ""
             }
            },
            "type": "scatter"
           }
          ],
          "scatter3d": [
           {
            "line": {
             "colorbar": {
              "outlinewidth": 0,
              "ticks": ""
             }
            },
            "marker": {
             "colorbar": {
              "outlinewidth": 0,
              "ticks": ""
             }
            },
            "type": "scatter3d"
           }
          ],
          "scattercarpet": [
           {
            "marker": {
             "colorbar": {
              "outlinewidth": 0,
              "ticks": ""
             }
            },
            "type": "scattercarpet"
           }
          ],
          "scattergeo": [
           {
            "marker": {
             "colorbar": {
              "outlinewidth": 0,
              "ticks": ""
             }
            },
            "type": "scattergeo"
           }
          ],
          "scattergl": [
           {
            "marker": {
             "colorbar": {
              "outlinewidth": 0,
              "ticks": ""
             }
            },
            "type": "scattergl"
           }
          ],
          "scattermapbox": [
           {
            "marker": {
             "colorbar": {
              "outlinewidth": 0,
              "ticks": ""
             }
            },
            "type": "scattermapbox"
           }
          ],
          "scatterpolar": [
           {
            "marker": {
             "colorbar": {
              "outlinewidth": 0,
              "ticks": ""
             }
            },
            "type": "scatterpolar"
           }
          ],
          "scatterpolargl": [
           {
            "marker": {
             "colorbar": {
              "outlinewidth": 0,
              "ticks": ""
             }
            },
            "type": "scatterpolargl"
           }
          ],
          "scatterternary": [
           {
            "marker": {
             "colorbar": {
              "outlinewidth": 0,
              "ticks": ""
             }
            },
            "type": "scatterternary"
           }
          ],
          "surface": [
           {
            "colorbar": {
             "outlinewidth": 0,
             "ticks": ""
            },
            "colorscale": [
             [
              0,
              "#0d0887"
             ],
             [
              0.1111111111111111,
              "#46039f"
             ],
             [
              0.2222222222222222,
              "#7201a8"
             ],
             [
              0.3333333333333333,
              "#9c179e"
             ],
             [
              0.4444444444444444,
              "#bd3786"
             ],
             [
              0.5555555555555556,
              "#d8576b"
             ],
             [
              0.6666666666666666,
              "#ed7953"
             ],
             [
              0.7777777777777778,
              "#fb9f3a"
             ],
             [
              0.8888888888888888,
              "#fdca26"
             ],
             [
              1,
              "#f0f921"
             ]
            ],
            "type": "surface"
           }
          ],
          "table": [
           {
            "cells": {
             "fill": {
              "color": "#EBF0F8"
             },
             "line": {
              "color": "white"
             }
            },
            "header": {
             "fill": {
              "color": "#C8D4E3"
             },
             "line": {
              "color": "white"
             }
            },
            "type": "table"
           }
          ]
         },
         "layout": {
          "annotationdefaults": {
           "arrowcolor": "#2a3f5f",
           "arrowhead": 0,
           "arrowwidth": 1
          },
          "autotypenumbers": "strict",
          "coloraxis": {
           "colorbar": {
            "outlinewidth": 0,
            "ticks": ""
           }
          },
          "colorscale": {
           "diverging": [
            [
             0,
             "#8e0152"
            ],
            [
             0.1,
             "#c51b7d"
            ],
            [
             0.2,
             "#de77ae"
            ],
            [
             0.3,
             "#f1b6da"
            ],
            [
             0.4,
             "#fde0ef"
            ],
            [
             0.5,
             "#f7f7f7"
            ],
            [
             0.6,
             "#e6f5d0"
            ],
            [
             0.7,
             "#b8e186"
            ],
            [
             0.8,
             "#7fbc41"
            ],
            [
             0.9,
             "#4d9221"
            ],
            [
             1,
             "#276419"
            ]
           ],
           "sequential": [
            [
             0,
             "#0d0887"
            ],
            [
             0.1111111111111111,
             "#46039f"
            ],
            [
             0.2222222222222222,
             "#7201a8"
            ],
            [
             0.3333333333333333,
             "#9c179e"
            ],
            [
             0.4444444444444444,
             "#bd3786"
            ],
            [
             0.5555555555555556,
             "#d8576b"
            ],
            [
             0.6666666666666666,
             "#ed7953"
            ],
            [
             0.7777777777777778,
             "#fb9f3a"
            ],
            [
             0.8888888888888888,
             "#fdca26"
            ],
            [
             1,
             "#f0f921"
            ]
           ],
           "sequentialminus": [
            [
             0,
             "#0d0887"
            ],
            [
             0.1111111111111111,
             "#46039f"
            ],
            [
             0.2222222222222222,
             "#7201a8"
            ],
            [
             0.3333333333333333,
             "#9c179e"
            ],
            [
             0.4444444444444444,
             "#bd3786"
            ],
            [
             0.5555555555555556,
             "#d8576b"
            ],
            [
             0.6666666666666666,
             "#ed7953"
            ],
            [
             0.7777777777777778,
             "#fb9f3a"
            ],
            [
             0.8888888888888888,
             "#fdca26"
            ],
            [
             1,
             "#f0f921"
            ]
           ]
          },
          "colorway": [
           "#636efa",
           "#EF553B",
           "#00cc96",
           "#ab63fa",
           "#FFA15A",
           "#19d3f3",
           "#FF6692",
           "#B6E880",
           "#FF97FF",
           "#FECB52"
          ],
          "font": {
           "color": "#2a3f5f"
          },
          "geo": {
           "bgcolor": "white",
           "lakecolor": "white",
           "landcolor": "#E5ECF6",
           "showlakes": true,
           "showland": true,
           "subunitcolor": "white"
          },
          "hoverlabel": {
           "align": "left"
          },
          "hovermode": "closest",
          "mapbox": {
           "style": "light"
          },
          "paper_bgcolor": "white",
          "plot_bgcolor": "#E5ECF6",
          "polar": {
           "angularaxis": {
            "gridcolor": "white",
            "linecolor": "white",
            "ticks": ""
           },
           "bgcolor": "#E5ECF6",
           "radialaxis": {
            "gridcolor": "white",
            "linecolor": "white",
            "ticks": ""
           }
          },
          "scene": {
           "xaxis": {
            "backgroundcolor": "#E5ECF6",
            "gridcolor": "white",
            "gridwidth": 2,
            "linecolor": "white",
            "showbackground": true,
            "ticks": "",
            "zerolinecolor": "white"
           },
           "yaxis": {
            "backgroundcolor": "#E5ECF6",
            "gridcolor": "white",
            "gridwidth": 2,
            "linecolor": "white",
            "showbackground": true,
            "ticks": "",
            "zerolinecolor": "white"
           },
           "zaxis": {
            "backgroundcolor": "#E5ECF6",
            "gridcolor": "white",
            "gridwidth": 2,
            "linecolor": "white",
            "showbackground": true,
            "ticks": "",
            "zerolinecolor": "white"
           }
          },
          "shapedefaults": {
           "line": {
            "color": "#2a3f5f"
           }
          },
          "ternary": {
           "aaxis": {
            "gridcolor": "white",
            "linecolor": "white",
            "ticks": ""
           },
           "baxis": {
            "gridcolor": "white",
            "linecolor": "white",
            "ticks": ""
           },
           "bgcolor": "#E5ECF6",
           "caxis": {
            "gridcolor": "white",
            "linecolor": "white",
            "ticks": ""
           }
          },
          "title": {
           "x": 0.05
          },
          "xaxis": {
           "automargin": true,
           "gridcolor": "white",
           "linecolor": "white",
           "ticks": "",
           "title": {
            "standoff": 15
           },
           "zerolinecolor": "white",
           "zerolinewidth": 2
          },
          "yaxis": {
           "automargin": true,
           "gridcolor": "white",
           "linecolor": "white",
           "ticks": "",
           "title": {
            "standoff": 15
           },
           "zerolinecolor": "white",
           "zerolinewidth": 2
          }
         }
        },
        "xaxis": {
         "anchor": "y",
         "autorange": true,
         "domain": [
          0,
          1
         ],
         "range": [
          -0.5,
          419.5
         ],
         "title": {
          "text": "BATSMAN"
         },
         "type": "category"
        },
        "yaxis": {
         "anchor": "x",
         "autorange": true,
         "domain": [
          0,
          1
         ],
         "range": [
          0,
          178.94736842105263
         ],
         "title": {
          "text": "NUMBER_OF_WICKETS"
         },
         "type": "linear"
        }
       }
      },
      "image/png": "[encoded data removed]",
      "text/html": [
       "<div>                            <div id=\"f8a6e85d-4a5d-4f88-b1b0-a150d83a8c26\" class=\"plotly-graph-div\" style=\"height:525px; width:100%;\"></div>            <script type=\"text/javascript\">                require([\"plotly\"], function(Plotly) {                    window.PLOTLYENV=window.PLOTLYENV || {};                                    if (document.getElementById(\"f8a6e85d-4a5d-4f88-b1b0-a150d83a8c26\")) {                    Plotly.newPlot(                        \"f8a6e85d-4a5d-4f88-b1b0-a150d83a8c26\",                        [{\"alignmentgroup\":\"True\",\"hovertemplate\":\"BATSMAN=%{x}<br>NUMBER_OF_WICKETS=%{y}<extra></extra>\",\"legendgroup\":\"\",\"marker\":{\"color\":\"#636efa\",\"pattern\":{\"shape\":\"\"}},\"name\":\"\",\"offsetgroup\":\"\",\"orientation\":\"v\",\"showlegend\":false,\"textposition\":\"auto\",\"x\":[\"AA Noffke\",\"Z Khan\",\"JH Kallis\",\"SB Joshi\",\"CL White\",\"P Kumar\",\"AB Agarkar\",\"SC Ganguly\",\"LR Shukla\",\"I Sharma\",\"AB Dinda\",\"JDP Oram\",\"JR Hopes\",\"MS Gony\",\"K Goel\",\"PP Chawla\",\"WA Mota\",\"IK Pathan\",\"S Sreesanth\",\"B Lee\",\"M Muralitharan\",\"P Amarnath\",\"Joginder Sharma\",\"GD McGrath\",\"B Geeves\",\"SK Warne\",\"YK Pathan\",\"D Salunkhe\",\"SR Watson\",\"SK Trivedi\",\"DL Vettori\",\"MF Maharoof\",\"MM Patel\",\"R Bhatia\",\"B Akhil\",\"R Vinay Kumar\",\"A Nehra\",\"SM Pollock\",\"DS Kulkarni\",\"AM Nayar\",\"Harbhajan Singh\",\"ST Jayasuriya\",\"WPUJC Vaas\",\"RP Singh\",\"SB Styris\",\"SB Bangar\",\"DJ Hussey\",\"Mohammad Hafeez\",\"M Kartik\",\"PP Ojha\",\"A Symonds\",\"Pankaj Singh\",\"Mohammad Asif\",\"VY Mahesh\",\"Shahid Afridi\",\"MA Khote\",\"DJ Bravo\",\"VS Yeligati\",\"D Kalyankrishna\",\"VRV Singh\",\"A Kumble\",\"Sohail Tanvir\",\"DNT Zoysa\",\"SD Chitnis\",\"Shoaib Malik\",\"Yuvraj Singh\",\"DW Steyn\",\"JA Morkel\",\"CRD Fernando\",\"V Sehwag\",\"V Kohli\",\"Gagandeep Singh\",\"Y Venugopal Rao\",\"Umar Gul\",\"M Ntini\",\"PJ Sangwan\",\"DP Vijaykumar\",\"DB Ravi Teja\",\"LPC Silva\",\"DJ Thornely\",\"RR Raje\",\"SK Raina\",\"S Vidyut\",\"L Balaji\",\"CK Kapugedera\",\"DR Smith\",\"AD Mascarenhas\",\"A Mishra\",\"Shoaib Akhtar\",\"Iqbal Abdulla\",\"RR Powar\",\"PM Sarvesh Kumar\",\"Abdur Razzak\",\"RA Jadeja\",\"TM Dilshan\",\"RG Sharma\",\"A Nel\",\"BAW Mendis\",\"A Flintoff\",\"T Thushara\",\"SL Malinga\",\"T Henderson\",\"Kamran Khan\",\"JD Ryder\",\"DP Nannes\",\"AM Salvi\",\"YA Abdulla\",\"VS Malik\",\"Harmeet Singh\",\"FH Edwards\",\"MC Henriques\",\"CH Gayle\",\"KP Pietersen\",\"LRPL Taylor\",\"RS Bopara\",\"MK Tiwary\",\"Anureet Singh\",\"RR Bose\",\"KP Appanna\",\"Shoaib Ahmed\",\"BJ Hodge\",\"SR Tendulkar\",\"RE van der Merwe\",\"JP Duminy\",\"S Tyagi\",\"GR Napier\",\"SM Harwood\",\"AS Raut\",\"SB Jakati\",\"D du Preez\",\"TL Suman\",\"RJ Harris\",\"A Singh\",\"M Morkel\",\"LA Carseldine\",\"A Mithun\",\"C Nanda\",\"SS Sarkar\",\"AD Mathews\",\"AM Rahane\",\"J Botha\",\"Mashrafe Mortaza\",\"AB McDonald\",\"Y Nagar\",\"CK Langeveldt\",\"R Ashwin\",\"RA Shaikh\",\"Jaskaran Singh\",\"AA Jhunjhunwala\",\"A Uniyal\",\"SW Tait\",\"AG Murtaza\",\"R Sathish\",\"R McLaren\",\"RS Gavaskar\",\"JM Kemp\",\"S Ladda\",\"Bipul Sharma\",\"SE Bond\",\"KA Pollard\",\"S Narwal\",\"UT Yadav\",\"SJ Srivastava\",\"AC Voges\",\"R Sharma\",\"J Theron\",\"NLTC Perera\",\"KAJ Roach\",\"PD Collingwood\",\"C Ganapathy\",\"MB Parmar\",\"DE Bollinger\",\"SB Wagh\",\"JD Unadkat\",\"AP Dole\",\"AN Ahmed\",\"FY Fazal\",\"MR Marsh\",\"L Ablish\",\"S Sriram\",\"AJ Finch\",\"STR Binny\",\"ND Doshi\",\"S Randiv\",\"TG Southee\",\"AL Menaria\",\"DT Christian\",\"AUK Pathan\",\"RV Gomez\",\"JEC Franklin\",\"WD Parnell\",\"M Manhas\",\"AC Thomas\",\"NJ Rimmington\",\"RN ten Doeschate\",\"S Nadeem\",\"BA Bhatt\",\"R Ninan\",\"JJ van der Wath\",\"S Aravind\",\"Shakib Al Hasan\",\"PC Valthaty\",\"S Dhawan\",\"J Syed Mohammad\",\"VR Aaron\",\"JE Taylor\",\"NL McCullum\",\"KMDN Kulasekara\",\"P Parameswaran\",\"I Malhotra\",\"B Chipli\",\"B Kumar\",\"AA Kazi\",\"Anand Rajan\",\"AA Chavan\",\"P Prasanth\",\"Y Gnaneswara Rao\",\"S Rana\",\"JP Faulkner\",\"SS Mundhe\",\"RW Price\",\"GJ Maxwell\",\"M de Lange\",\"MN Samuels\",\"KK Cooper\",\"DAJ Bracewell\",\"HV Patel\",\"Ankit Sharma\",\"DJ Harris\",\"TP Sudhindra\",\"F du Plessis\",\"SP Narine\",\"GB Hogg\",\"RR Bhatkal\",\"P Awana\",\"V Pratap Singh\",\"CJ McKay\",\"A Ashish Reddy\",\"AD Russell\",\"Azhar Mahmood\",\"A Chandila\",\"P Negi\",\"LJ Wright\",\"RJ Peterson\",\"R Shukla\",\"MJ Clarke\",\"BW Hilfenhaus\",\"SPD Smith\",\"K Upadhyay\",\"Sunny Gupta\",\"MG Johnson\",\"JJ Bumrah\",\"S Badree\",\"AS Rajpoot\",\"B Laughlin\",\"GH Vihari\",\"Mohammed Shami\",\"BMAJ Mendis\",\"CH Morris\",\"Harmeet Singh (2)\",\"S Kaul\",\"R Dhawan\",\"MM Sharma\",\"R Rampaul\",\"SMSM Senanayake\",\"KV Sharma\",\"JO Holder\",\"IC Pandey\",\"Sandeep Sharma\",\"YS Chahal\",\"DJG Sammy\",\"KW Richardson\",\"P Suyal\",\"PV Tambe\",\"BJ Rohrer\",\"Parvez Rasool\",\"MG Neser\",\"NM Coulter-Nile\",\"AC Gilchrist\",\"CJ Anderson\",\"MA Starc\",\"JDS Neesham\",\"AR Patel\",\"M Vijay\",\"R Tewatia\",\"SA Yadav\",\"Shivam Sharma\",\"Imran Tahir\",\"V Shankar\",\"LMP Simmons\",\"BCJ Cutting\",\"S Gopal\",\"K Santokie\",\"BE Hendricks\",\"PJ Cummins\",\"JW Hastings\",\"Karanveer Singh\",\"DJ Muthuswami\",\"TA Boult\",\"SA Abbott\",\"KC Cariappa\",\"DJ Hooda\",\"J Suchith\",\"RG More\",\"MJ McClenaghan\",\"D Wiese\",\"HH Pandya\",\"SN Thakur\",\"GS Sandhu\",\"Gurkeerat Singh\",\"J Yadav\",\"BB Sran\",\"M Ashwin\",\"CR Brathwaite\",\"C Munro\",\"MP Stoinis\",\"P Sahu\",\"Mustafizur Rahman\",\"AF Milne\",\"Kuldeep Yadav\",\"KH Pandya\",\"KJ Abbott\",\"T Shamsi\",\"S Kaushik\",\"SM Boland\",\"Swapnil Singh\",\"CJ Jordan\",\"A Zampa\",\"Sachin Baby\",\"N Rana\",\"DL Chahar\",\"KS Williamson\",\"TM Head\",\"A Choudhary\",\"TS Mills\",\"Rashid Khan\",\"BA Stokes\",\"CR Woakes\",\"T Natarajan\",\"RD Chahar\",\"B Stanlake\",\"Basil Thampi\",\"Tejas Baroka\",\"C de Grandhomme\",\"AJ Tye\",\"LH Ferguson\",\"Mohammad Nabi\",\"Mohammed Siraj\",\"K Rabada\",\"Washington Sundar\",\"SS Agarwal\",\"NB Singh\",\"RA Tripathi\",\"Ankit Soni\",\"MJ Henry\",\"Avesh Khan\",\"MA Wood\",\"M Markande\",\"Mujeeb Ur Rahman\",\"K Khejroliya\",\"K Gowtham\",\"DJM Short\",\"TK Curran\",\"A Dananjaya\",\"Shivam Mavi\",\"JC Archer\",\"LE Plunkett\",\"IS Sodhi\",\"MK Lomror\",\"KM Asif\",\"L Ngidi\",\"DJ Willey\",\"M Prasidh Krishna\",\"MM Ali\",\"JPR Scantlebury-Searles\",\"S Lamichhane\",\"CJ Dala\",\"KK Ahmed\",\"NA Saini\",\"S Dube\",\"Rasikh Salam\",\"KMA Paul\",\"SM Curran\",\"CV Varun\",\"GC Viljoen\",\"Mandeep Singh\",\"P Ray Barman\",\"MJ Santner\",\"JP Behrendorff\",\"SC Kuggeleijn\",\"AS Joseph\",\"HF Gurney\",\"S Midhun\",\"R Parag\",\"LS Livingstone\",\"SN Khan\",\"Abhishek Sharma\",\"Arshdeep Singh\",\"Harpreet Brar\",\"SE Rutherford\",\"Y Prithvi Raj\",\"O Thomas\",\"AS Roy\",\"S Sandeep Warrier\",\"JL Pattinson\",\"SS Cottrell\",\"A Nortje\",\"Ravi Bishnoi\",\"I Udana\",\"TU Deshpande\",\"KL Nagarkoti\",\"Kartik Tyagi\",\"DR Sams\",\"Shahbaz Ahmed\",\"Abdul Samad\",\"JR Hazlewood\",\"DA Warner\",\"CJ Green\",\"P Dubey\",\"Monu Kumar\"],\"xaxis\":\"x\",\"y\":[1.0,102.0,65.0,1.0,1.0,90.0,29.0,10.0,15.0,71.0,69.0,9.0,14.0,37.0,0.0,156.0,4.0,80.0,38.0,25.0,63.0,7.0,12.0,12.0,1.0,57.0,42.0,1.0,92.0,65.0,28.0,27.0,74.0,71.0,6.0,105.0,106.0,11.0,86.0,9.0,149.0,13.0,18.0,90.0,8.0,4.0,8.0,2.0,31.0,89.0,20.0,11.0,8.0,21.0,9.0,2.0,153.0,0.0,2.0,12.0,45.0,22.0,2.0,2.0,2.0,36.0,96.0,84.0,17.0,6.0,4.0,3.0,6.0,12.0,7.0,35.0,4.0,1.0,0.0,3.0,6.0,25.0,1.0,76.0,0.0,26.0,19.0,160.0,5.0,40.0,13.0,1.0,0.0,114.0,5.0,15.0,1.0,8.0,2.0,8.0,170.0,1.0,9.0,8.0,28.0,7.0,15.0,6.0,26.0,5.0,38.0,18.0,7.0,0.0,11.0,1.0,18.0,0.0,9.0,5.0,17.0,0.0,21.0,23.0,6.0,1.0,3.0,0.0,47.0,4.0,6.0,45.0,28.0,77.0,1.0,7.0,2.0,1.0,27.0,1.0,25.0,0.0,11.0,4.0,13.0,138.0,0.0,6.0,1.0,2.0,23.0,9.0,3.0,12.0,0.0,3.0,5.0,17.0,9.0,60.0,5.0,119.0,14.0,0.0,40.0,9.0,31.0,0.0,5.0,0.0,0.0,37.0,5.0,81.0,5.0,12.0,0.0,20.0,3.0,0.0,1.0,22.0,2.0,6.0,28.0,3.0,34.0,0.0,5.0,9.0,26.0,0.0,14.0,0.0,2.0,47.0,12.0,3.0,3.0,45.0,59.0,7.0,4.0,8.0,42.0,6.0,0.0,5.0,9.0,0.0,0.0,136.0,0.0,8.0,8.0,0.0,0.0,0.0,59.0,1.0,0.0,19.0,5.0,9.0,33.0,3.0,46.0,12.0,0.0,1.0,0.0,127.0,23.0,0.0,39.0,10.0,1.0,18.0,59.0,29.0,11.0,34.0,2.0,3.0,5.0,2.0,22.0,0.0,0.0,0.0,61.0,109.0,11.0,24.0,10.0,1.0,60.0,1.0,80.0,1.0,51.0,18.0,92.0,14.0,9.0,59.0,19.0,18.0,109.0,121.0,11.0,18.0,2.0,28.0,0.0,4.0,0.0,40.0,1.0,11.0,34.0,3.0,79.0,0.0,24.0,0.0,4.0,80.0,6.0,1.0,10.0,48.0,3.0,9.0,29.0,3.0,12.0,4.0,63.0,0.0,8.0,7.0,12.0,1.0,70.0,16.0,42.0,45.0,1.0,5.0,6.0,18.0,25.0,13.0,0.0,28.0,3.0,24.0,4.0,40.0,46.0,2.0,3.0,6.0,2.0,1.0,21.0,21.0,2.0,7.0,45.0,0.0,2.0,5.0,5.0,75.0,28.0,25.0,18.0,30.0,7.0,17.0,0.0,6.0,40.0,11.0,11.0,39.0,61.0,23.0,1.0,1.0,0.0,2.0,1.0,5.0,0.0,16.0,17.0,3.0,13.0,1.0,9.0,0.0,14.0,46.0,4.0,9.0,0.0,3.0,20.0,2.0,18.0,10.0,2.0,13.0,0.0,27.0,17.0,4.0,0.0,9.0,23.0,18.0,7.0,0.0,0.0,6.0,5.0,2.0,6.0,7.0,0.0,2.0,0.0,0.0,3.0,12.0,0.0,1.0,1.0,5.0,1.0,2.0,11.0,6.0,22.0,12.0,8.0,3.0,5.0,9.0,0.0,2.0,1.0,1.0,0.0,0.0,0.0,0.0],\"yaxis\":\"y\",\"type\":\"bar\"}],                        {\"template\":{\"data\":{\"bar\":[{\"error_x\":{\"color\":\"#2a3f5f\"},\"error_y\":{\"color\":\"#2a3f5f\"},\"marker\":{\"line\":{\"color\":\"#E5ECF6\",\"width\":0.5},\"pattern\":{\"fillmode\":\"overlay\",\"size\":10,\"solidity\":0.2}},\"type\":\"bar\"}],\"barpolar\":[{\"marker\":{\"line\":{\"color\":\"#E5ECF6\",\"width\":0.5},\"pattern\":{\"fillmode\":\"overlay\",\"size\":10,\"solidity\":0.2}},\"type\":\"barpolar\"}],\"carpet\":[{\"aaxis\":{\"endlinecolor\":\"#2a3f5f\",\"gridcolor\":\"white\",\"linecolor\":\"white\",\"minorgridcolor\":\"white\",\"startlinecolor\":\"#2a3f5f\"},\"baxis\":{\"endlinecolor\":\"#2a3f5f\",\"gridcolor\":\"white\",\"linecolor\":\"white\",\"minorgridcolor\":\"white\",\"startlinecolor\":\"#2a3f5f\"},\"type\":\"carpet\"}],\"choropleth\":[{\"colorbar\":{\"outlinewidth\":0,\"ticks\":\"\"},\"type\":\"choropleth\"}],\"contour\":[{\"colorbar\":{\"outlinewidth\":0,\"ticks\":\"\"},\"colorscale\":[[0.0,\"#0d0887\"],[0.1111111111111111,\"#46039f\"],[0.2222222222222222,\"#7201a8\"],[0.3333333333333333,\"#9c179e\"],[0.4444444444444444,\"#bd3786\"],[0.5555555555555556,\"#d8576b\"],[0.6666666666666666,\"#ed7953\"],[0.7777777777777778,\"#fb9f3a\"],[0.8888888888888888,\"#fdca26\"],[1.0,\"#f0f921\"]],\"type\":\"contour\"}],\"contourcarpet\":[{\"colorbar\":{\"outlinewidth\":0,\"ticks\":\"\"},\"type\":\"contourcarpet\"}],\"heatmap\":[{\"colorbar\":{\"outlinewidth\":0,\"ticks\":\"\"},\"colorscale\":[[0.0,\"#0d0887\"],[0.1111111111111111,\"#46039f\"],[0.2222222222222222,\"#7201a8\"],[0.3333333333333333,\"#9c179e\"],[0.4444444444444444,\"#bd3786\"],[0.5555555555555556,\"#d8576b\"],[0.6666666666666666,\"#ed7953\"],[0.7777777777777778,\"#fb9f3a\"],[0.8888888888888888,\"#fdca26\"],[1.0,\"#f0f921\"]],\"type\":\"heatmap\"}],\"heatmapgl\":[{\"colorbar\":{\"outlinewidth\":0,\"ticks\":\"\"},\"colorscale\":[[0.0,\"#0d0887\"],[0.1111111111111111,\"#46039f\"],[0.2222222222222222,\"#7201a8\"],[0.3333333333333333,\"#9c179e\"],[0.4444444444444444,\"#bd3786\"],[0.5555555555555556,\"#d8576b\"],[0.6666666666666666,\"#ed7953\"],[0.7777777777777778,\"#fb9f3a\"],[0.8888888888888888,\"#fdca26\"],[1.0,\"#f0f921\"]],\"type\":\"heatmapgl\"}],\"histogram\":[{\"marker\":{\"pattern\":{\"fillmode\":\"overlay\",\"size\":10,\"solidity\":0.2}},\"type\":\"histogram\"}],\"histogram2d\":[{\"colorbar\":{\"outlinewidth\":0,\"ticks\":\"\"},\"colorscale\":[[0.0,\"#0d0887\"],[0.1111111111111111,\"#46039f\"],[0.2222222222222222,\"#7201a8\"],[0.3333333333333333,\"#9c179e\"],[0.4444444444444444,\"#bd3786\"],[0.5555555555555556,\"#d8576b\"],[0.6666666666666666,\"#ed7953\"],[0.7777777777777778,\"#fb9f3a\"],[0.8888888888888888,\"#fdca26\"],[1.0,\"#f0f921\"]],\"type\":\"histogram2d\"}],\"histogram2dcontour\":[{\"colorbar\":{\"outlinewidth\":0,\"ticks\":\"\"},\"colorscale\":[[0.0,\"#0d0887\"],[0.1111111111111111,\"#46039f\"],[0.2222222222222222,\"#7201a8\"],[0.3333333333333333,\"#9c179e\"],[0.4444444444444444,\"#bd3786\"],[0.5555555555555556,\"#d8576b\"],[0.6666666666666666,\"#ed7953\"],[0.7777777777777778,\"#fb9f3a\"],[0.8888888888888888,\"#fdca26\"],[1.0,\"#f0f921\"]],\"type\":\"histogram2dcontour\"}],\"mesh3d\":[{\"colorbar\":{\"outlinewidth\":0,\"ticks\":\"\"},\"type\":\"mesh3d\"}],\"parcoords\":[{\"line\":{\"colorbar\":{\"outlinewidth\":0,\"ticks\":\"\"}},\"type\":\"parcoords\"}],\"pie\":[{\"automargin\":true,\"type\":\"pie\"}],\"scatter\":[{\"marker\":{\"colorbar\":{\"outlinewidth\":0,\"ticks\":\"\"}},\"type\":\"scatter\"}],\"scatter3d\":[{\"line\":{\"colorbar\":{\"outlinewidth\":0,\"ticks\":\"\"}},\"marker\":{\"colorbar\":{\"outlinewidth\":0,\"ticks\":\"\"}},\"type\":\"scatter3d\"}],\"scattercarpet\":[{\"marker\":{\"colorbar\":{\"outlinewidth\":0,\"ticks\":\"\"}},\"type\":\"scattercarpet\"}],\"scattergeo\":[{\"marker\":{\"colorbar\":{\"outlinewidth\":0,\"ticks\":\"\"}},\"type\":\"scattergeo\"}],\"scattergl\":[{\"marker\":{\"colorbar\":{\"outlinewidth\":0,\"ticks\":\"\"}},\"type\":\"scattergl\"}],\"scattermapbox\":[{\"marker\":{\"colorbar\":{\"outlinewidth\":0,\"ticks\":\"\"}},\"type\":\"scattermapbox\"}],\"scatterpolar\":[{\"marker\":{\"colorbar\":{\"outlinewidth\":0,\"ticks\":\"\"}},\"type\":\"scatterpolar\"}],\"scatterpolargl\":[{\"marker\":{\"colorbar\":{\"outlinewidth\":0,\"ticks\":\"\"}},\"type\":\"scatterpolargl\"}],\"scatterternary\":[{\"marker\":{\"colorbar\":{\"outlinewidth\":0,\"ticks\":\"\"}},\"type\":\"scatterternary\"}],\"surface\":[{\"colorbar\":{\"outlinewidth\":0,\"ticks\":\"\"},\"colorscale\":[[0.0,\"#0d0887\"],[0.1111111111111111,\"#46039f\"],[0.2222222222222222,\"#7201a8\"],[0.3333333333333333,\"#9c179e\"],[0.4444444444444444,\"#bd3786\"],[0.5555555555555556,\"#d8576b\"],[0.6666666666666666,\"#ed7953\"],[0.7777777777777778,\"#fb9f3a\"],[0.8888888888888888,\"#fdca26\"],[1.0,\"#f0f921\"]],\"type\":\"surface\"}],\"table\":[{\"cells\":{\"fill\":{\"color\":\"#EBF0F8\"},\"line\":{\"color\":\"white\"}},\"header\":{\"fill\":{\"color\":\"#C8D4E3\"},\"line\":{\"color\":\"white\"}},\"type\":\"table\"}]},\"layout\":{\"annotationdefaults\":{\"arrowcolor\":\"#2a3f5f\",\"arrowhead\":0,\"arrowwidth\":1},\"autotypenumbers\":\"strict\",\"coloraxis\":{\"colorbar\":{\"outlinewidth\":0,\"ticks\":\"\"}},\"colorscale\":{\"diverging\":[[0,\"#8e0152\"],[0.1,\"#c51b7d\"],[0.2,\"#de77ae\"],[0.3,\"#f1b6da\"],[0.4,\"#fde0ef\"],[0.5,\"#f7f7f7\"],[0.6,\"#e6f5d0\"],[0.7,\"#b8e186\"],[0.8,\"#7fbc41\"],[0.9,\"#4d9221\"],[1,\"#276419\"]],\"sequential\":[[0.0,\"#0d0887\"],[0.1111111111111111,\"#46039f\"],[0.2222222222222222,\"#7201a8\"],[0.3333333333333333,\"#9c179e\"],[0.4444444444444444,\"#bd3786\"],[0.5555555555555556,\"#d8576b\"],[0.6666666666666666,\"#ed7953\"],[0.7777777777777778,\"#fb9f3a\"],[0.8888888888888888,\"#fdca26\"],[1.0,\"#f0f921\"]],\"sequentialminus\":[[0.0,\"#0d0887\"],[0.1111111111111111,\"#46039f\"],[0.2222222222222222,\"#7201a8\"],[0.3333333333333333,\"#9c179e\"],[0.4444444444444444,\"#bd3786\"],[0.5555555555555556,\"#d8576b\"],[0.6666666666666666,\"#ed7953\"],[0.7777777777777778,\"#fb9f3a\"],[0.8888888888888888,\"#fdca26\"],[1.0,\"#f0f921\"]]},\"colorway\":[\"#636efa\",\"#EF553B\",\"#00cc96\",\"#ab63fa\",\"#FFA15A\",\"#19d3f3\",\"#FF6692\",\"#B6E880\",\"#FF97FF\",\"#FECB52\"],\"font\":{\"color\":\"#2a3f5f\"},\"geo\":{\"bgcolor\":\"white\",\"lakecolor\":\"white\",\"landcolor\":\"#E5ECF6\",\"showlakes\":true,\"showland\":true,\"subunitcolor\":\"white\"},\"hoverlabel\":{\"align\":\"left\"},\"hovermode\":\"closest\",\"mapbox\":{\"style\":\"light\"},\"paper_bgcolor\":\"white\",\"plot_bgcolor\":\"#E5ECF6\",\"polar\":{\"angularaxis\":{\"gridcolor\":\"white\",\"linecolor\":\"white\",\"ticks\":\"\"},\"bgcolor\":\"#E5ECF6\",\"radialaxis\":{\"gridcolor\":\"white\",\"linecolor\":\"white\",\"ticks\":\"\"}},\"scene\":{\"xaxis\":{\"backgroundcolor\":\"#E5ECF6\",\"gridcolor\":\"white\",\"gridwidth\":2,\"linecolor\":\"white\",\"showbackground\":true,\"ticks\":\"\",\"zerolinecolor\":\"white\"},\"yaxis\":{\"backgroundcolor\":\"#E5ECF6\",\"gridcolor\":\"white\",\"gridwidth\":2,\"linecolor\":\"white\",\"showbackground\":true,\"ticks\":\"\",\"zerolinecolor\":\"white\"},\"zaxis\":{\"backgroundcolor\":\"#E5ECF6\",\"gridcolor\":\"white\",\"gridwidth\":2,\"linecolor\":\"white\",\"showbackground\":true,\"ticks\":\"\",\"zerolinecolor\":\"white\"}},\"shapedefaults\":{\"line\":{\"color\":\"#2a3f5f\"}},\"ternary\":{\"aaxis\":{\"gridcolor\":\"white\",\"linecolor\":\"white\",\"ticks\":\"\"},\"baxis\":{\"gridcolor\":\"white\",\"linecolor\":\"white\",\"ticks\":\"\"},\"bgcolor\":\"#E5ECF6\",\"caxis\":{\"gridcolor\":\"white\",\"linecolor\":\"white\",\"ticks\":\"\"}},\"title\":{\"x\":0.05},\"xaxis\":{\"automargin\":true,\"gridcolor\":\"white\",\"linecolor\":\"white\",\"ticks\":\"\",\"title\":{\"standoff\":15},\"zerolinecolor\":\"white\",\"zerolinewidth\":2},\"yaxis\":{\"automargin\":true,\"gridcolor\":\"white\",\"linecolor\":\"white\",\"ticks\":\"\",\"title\":{\"standoff\":15},\"zerolinecolor\":\"white\",\"zerolinewidth\":2}}},\"xaxis\":{\"anchor\":\"y\",\"domain\":[0.0,1.0],\"title\":{\"text\":\"BATSMAN\"}},\"yaxis\":{\"anchor\":\"x\",\"domain\":[0.0,1.0],\"title\":{\"text\":\"NUMBER_OF_WICKETS\"}},\"legend\":{\"tracegroupgap\":0},\"margin\":{\"t\":60},\"barmode\":\"relative\"},                        {\"responsive\": true}                    ).then(function(){\n",
       "                            \n",
       "var gd = document.getElementById('f8a6e85d-4a5d-4f88-b1b0-a150d83a8c26');\n",
       "var x = new MutationObserver(function (mutations, observer) {{\n",
       "        var display = window.getComputedStyle(gd).display;\n",
       "        if (!display || display === 'none') {{\n",
       "            console.log([gd, 'removed!']);\n",
       "            Plotly.purge(gd);\n",
       "            observer.disconnect();\n",
       "        }}\n",
       "}});\n",
       "\n",
       "// Listen for the removal of the full notebook cells\n",
       "var notebookContainer = gd.closest('#notebook-container');\n",
       "if (notebookContainer) {{\n",
       "    x.observe(notebookContainer, {childList: true});\n",
       "}}\n",
       "\n",
       "// Listen for the clearing of the current output cell\n",
       "var outputEl = gd.closest('.output');\n",
       "if (outputEl) {{\n",
       "    x.observe(outputEl, {childList: true});\n",
       "}}\n",
       "\n",
       "                        })                };                });            </script>        </div>"
      ]
     },
     "metadata": {},
     "output_type": "display_data"
    }
   ],
   "source": [
    "wicks_data = pd.DataFrame(dict(BATSMAN = wicks.keys(),NUMBER_OF_WICKETS = wicks.values()))\n",
    "wicks_graph = px.bar(wicks_data , x = 'BATSMAN',y='NUMBER_OF_WICKETS')\n",
    "wicks_graph"
   ]
  },
  {
   "cell_type": "code",
   "execution_count": 92,
   "metadata": {},
   "outputs": [],
   "source": [
    "extras_data = match.extras_type.unique()\n",
    "extras = dict(zip(extras_data,np.zeros(len(extras_data))))\n",
    "for i in range(0,len(match)):\n",
    "    if(match['extras_type'][i] != 'Nan'):\n",
    "        extras[match['extras_type'][i] ]+= 1"
   ]
  },
  {
   "cell_type": "code",
   "execution_count": 93,
   "metadata": {},
   "outputs": [
    {
     "data": {
      "application/vnd.plotly.v1+json": {
       "config": {
        "plotlyServerURL": "https://plot.ly"
       },
       "data": [
        {
         "alignmentgroup": "True",
         "hovertemplate": "TYPE=%{x}<br>FREQUENCY=%{y}<extra></extra>",
         "legendgroup": "",
         "marker": {
          "color": "#636efa",
          "pattern": {
           "shape": ""
          }
         },
         "name": "",
         "offsetgroup": "",
         "orientation": "v",
         "showlegend": false,
         "textposition": "auto",
         "type": "bar",
         "x": [
          null,
          "byes",
          "wides",
          "legbyes",
          "noballs",
          "penalty"
         ],
         "xaxis": "x",
         "y": [
          183235,
          508,
          5858,
          3107,
          758,
          2
         ],
         "yaxis": "y"
        }
       ],
       "layout": {
        "autosize": true,
        "barmode": "relative",
        "legend": {
         "tracegroupgap": 0
        },
        "margin": {
         "t": 60
        },
        "template": {
         "data": {
          "bar": [
           {
            "error_x": {
             "color": "#2a3f5f"
            },
            "error_y": {
             "color": "#2a3f5f"
            },
            "marker": {
             "line": {
              "color": "#E5ECF6",
              "width": 0.5
             },
             "pattern": {
              "fillmode": "overlay",
              "size": 10,
              "solidity": 0.2
             }
            },
            "type": "bar"
           }
          ],
          "barpolar": [
           {
            "marker": {
             "line": {
              "color": "#E5ECF6",
              "width": 0.5
             },
             "pattern": {
              "fillmode": "overlay",
              "size": 10,
              "solidity": 0.2
             }
            },
            "type": "barpolar"
           }
          ],
          "carpet": [
           {
            "aaxis": {
             "endlinecolor": "#2a3f5f",
             "gridcolor": "white",
             "linecolor": "white",
             "minorgridcolor": "white",
             "startlinecolor": "#2a3f5f"
            },
            "baxis": {
             "endlinecolor": "#2a3f5f",
             "gridcolor": "white",
             "linecolor": "white",
             "minorgridcolor": "white",
             "startlinecolor": "#2a3f5f"
            },
            "type": "carpet"
           }
          ],
          "choropleth": [
           {
            "colorbar": {
             "outlinewidth": 0,
             "ticks": ""
            },
            "type": "choropleth"
           }
          ],
          "contour": [
           {
            "colorbar": {
             "outlinewidth": 0,
             "ticks": ""
            },
            "colorscale": [
             [
              0,
              "#0d0887"
             ],
             [
              0.1111111111111111,
              "#46039f"
             ],
             [
              0.2222222222222222,
              "#7201a8"
             ],
             [
              0.3333333333333333,
              "#9c179e"
             ],
             [
              0.4444444444444444,
              "#bd3786"
             ],
             [
              0.5555555555555556,
              "#d8576b"
             ],
             [
              0.6666666666666666,
              "#ed7953"
             ],
             [
              0.7777777777777778,
              "#fb9f3a"
             ],
             [
              0.8888888888888888,
              "#fdca26"
             ],
             [
              1,
              "#f0f921"
             ]
            ],
            "type": "contour"
           }
          ],
          "contourcarpet": [
           {
            "colorbar": {
             "outlinewidth": 0,
             "ticks": ""
            },
            "type": "contourcarpet"
           }
          ],
          "heatmap": [
           {
            "colorbar": {
             "outlinewidth": 0,
             "ticks": ""
            },
            "colorscale": [
             [
              0,
              "#0d0887"
             ],
             [
              0.1111111111111111,
              "#46039f"
             ],
             [
              0.2222222222222222,
              "#7201a8"
             ],
             [
              0.3333333333333333,
              "#9c179e"
             ],
             [
              0.4444444444444444,
              "#bd3786"
             ],
             [
              0.5555555555555556,
              "#d8576b"
             ],
             [
              0.6666666666666666,
              "#ed7953"
             ],
             [
              0.7777777777777778,
              "#fb9f3a"
             ],
             [
              0.8888888888888888,
              "#fdca26"
             ],
             [
              1,
              "#f0f921"
             ]
            ],
            "type": "heatmap"
           }
          ],
          "heatmapgl": [
           {
            "colorbar": {
             "outlinewidth": 0,
             "ticks": ""
            },
            "colorscale": [
             [
              0,
              "#0d0887"
             ],
             [
              0.1111111111111111,
              "#46039f"
             ],
             [
              0.2222222222222222,
              "#7201a8"
             ],
             [
              0.3333333333333333,
              "#9c179e"
             ],
             [
              0.4444444444444444,
              "#bd3786"
             ],
             [
              0.5555555555555556,
              "#d8576b"
             ],
             [
              0.6666666666666666,
              "#ed7953"
             ],
             [
              0.7777777777777778,
              "#fb9f3a"
             ],
             [
              0.8888888888888888,
              "#fdca26"
             ],
             [
              1,
              "#f0f921"
             ]
            ],
            "type": "heatmapgl"
           }
          ],
          "histogram": [
           {
            "marker": {
             "pattern": {
              "fillmode": "overlay",
              "size": 10,
              "solidity": 0.2
             }
            },
            "type": "histogram"
           }
          ],
          "histogram2d": [
           {
            "colorbar": {
             "outlinewidth": 0,
             "ticks": ""
            },
            "colorscale": [
             [
              0,
              "#0d0887"
             ],
             [
              0.1111111111111111,
              "#46039f"
             ],
             [
              0.2222222222222222,
              "#7201a8"
             ],
             [
              0.3333333333333333,
              "#9c179e"
             ],
             [
              0.4444444444444444,
              "#bd3786"
             ],
             [
              0.5555555555555556,
              "#d8576b"
             ],
             [
              0.6666666666666666,
              "#ed7953"
             ],
             [
              0.7777777777777778,
              "#fb9f3a"
             ],
             [
              0.8888888888888888,
              "#fdca26"
             ],
             [
              1,
              "#f0f921"
             ]
            ],
            "type": "histogram2d"
           }
          ],
          "histogram2dcontour": [
           {
            "colorbar": {
             "outlinewidth": 0,
             "ticks": ""
            },
            "colorscale": [
             [
              0,
              "#0d0887"
             ],
             [
              0.1111111111111111,
              "#46039f"
             ],
             [
              0.2222222222222222,
              "#7201a8"
             ],
             [
              0.3333333333333333,
              "#9c179e"
             ],
             [
              0.4444444444444444,
              "#bd3786"
             ],
             [
              0.5555555555555556,
              "#d8576b"
             ],
             [
              0.6666666666666666,
              "#ed7953"
             ],
             [
              0.7777777777777778,
              "#fb9f3a"
             ],
             [
              0.8888888888888888,
              "#fdca26"
             ],
             [
              1,
              "#f0f921"
             ]
            ],
            "type": "histogram2dcontour"
           }
          ],
          "mesh3d": [
           {
            "colorbar": {
             "outlinewidth": 0,
             "ticks": ""
            },
            "type": "mesh3d"
           }
          ],
          "parcoords": [
           {
            "line": {
             "colorbar": {
              "outlinewidth": 0,
              "ticks": ""
             }
            },
            "type": "parcoords"
           }
          ],
          "pie": [
           {
            "automargin": true,
            "type": "pie"
           }
          ],
          "scatter": [
           {
            "marker": {
             "colorbar": {
              "outlinewidth": 0,
              "ticks": ""
             }
            },
            "type": "scatter"
           }
          ],
          "scatter3d": [
           {
            "line": {
             "colorbar": {
              "outlinewidth": 0,
              "ticks": ""
             }
            },
            "marker": {
             "colorbar": {
              "outlinewidth": 0,
              "ticks": ""
             }
            },
            "type": "scatter3d"
           }
          ],
          "scattercarpet": [
           {
            "marker": {
             "colorbar": {
              "outlinewidth": 0,
              "ticks": ""
             }
            },
            "type": "scattercarpet"
           }
          ],
          "scattergeo": [
           {
            "marker": {
             "colorbar": {
              "outlinewidth": 0,
              "ticks": ""
             }
            },
            "type": "scattergeo"
           }
          ],
          "scattergl": [
           {
            "marker": {
             "colorbar": {
              "outlinewidth": 0,
              "ticks": ""
             }
            },
            "type": "scattergl"
           }
          ],
          "scattermapbox": [
           {
            "marker": {
             "colorbar": {
              "outlinewidth": 0,
              "ticks": ""
             }
            },
            "type": "scattermapbox"
           }
          ],
          "scatterpolar": [
           {
            "marker": {
             "colorbar": {
              "outlinewidth": 0,
              "ticks": ""
             }
            },
            "type": "scatterpolar"
           }
          ],
          "scatterpolargl": [
           {
            "marker": {
             "colorbar": {
              "outlinewidth": 0,
              "ticks": ""
             }
            },
            "type": "scatterpolargl"
           }
          ],
          "scatterternary": [
           {
            "marker": {
             "colorbar": {
              "outlinewidth": 0,
              "ticks": ""
             }
            },
            "type": "scatterternary"
           }
          ],
          "surface": [
           {
            "colorbar": {
             "outlinewidth": 0,
             "ticks": ""
            },
            "colorscale": [
             [
              0,
              "#0d0887"
             ],
             [
              0.1111111111111111,
              "#46039f"
             ],
             [
              0.2222222222222222,
              "#7201a8"
             ],
             [
              0.3333333333333333,
              "#9c179e"
             ],
             [
              0.4444444444444444,
              "#bd3786"
             ],
             [
              0.5555555555555556,
              "#d8576b"
             ],
             [
              0.6666666666666666,
              "#ed7953"
             ],
             [
              0.7777777777777778,
              "#fb9f3a"
             ],
             [
              0.8888888888888888,
              "#fdca26"
             ],
             [
              1,
              "#f0f921"
             ]
            ],
            "type": "surface"
           }
          ],
          "table": [
           {
            "cells": {
             "fill": {
              "color": "#EBF0F8"
             },
             "line": {
              "color": "white"
             }
            },
            "header": {
             "fill": {
              "color": "#C8D4E3"
             },
             "line": {
              "color": "white"
             }
            },
            "type": "table"
           }
          ]
         },
         "layout": {
          "annotationdefaults": {
           "arrowcolor": "#2a3f5f",
           "arrowhead": 0,
           "arrowwidth": 1
          },
          "autotypenumbers": "strict",
          "coloraxis": {
           "colorbar": {
            "outlinewidth": 0,
            "ticks": ""
           }
          },
          "colorscale": {
           "diverging": [
            [
             0,
             "#8e0152"
            ],
            [
             0.1,
             "#c51b7d"
            ],
            [
             0.2,
             "#de77ae"
            ],
            [
             0.3,
             "#f1b6da"
            ],
            [
             0.4,
             "#fde0ef"
            ],
            [
             0.5,
             "#f7f7f7"
            ],
            [
             0.6,
             "#e6f5d0"
            ],
            [
             0.7,
             "#b8e186"
            ],
            [
             0.8,
             "#7fbc41"
            ],
            [
             0.9,
             "#4d9221"
            ],
            [
             1,
             "#276419"
            ]
           ],
           "sequential": [
            [
             0,
             "#0d0887"
            ],
            [
             0.1111111111111111,
             "#46039f"
            ],
            [
             0.2222222222222222,
             "#7201a8"
            ],
            [
             0.3333333333333333,
             "#9c179e"
            ],
            [
             0.4444444444444444,
             "#bd3786"
            ],
            [
             0.5555555555555556,
             "#d8576b"
            ],
            [
             0.6666666666666666,
             "#ed7953"
            ],
            [
             0.7777777777777778,
             "#fb9f3a"
            ],
            [
             0.8888888888888888,
             "#fdca26"
            ],
            [
             1,
             "#f0f921"
            ]
           ],
           "sequentialminus": [
            [
             0,
             "#0d0887"
            ],
            [
             0.1111111111111111,
             "#46039f"
            ],
            [
             0.2222222222222222,
             "#7201a8"
            ],
            [
             0.3333333333333333,
             "#9c179e"
            ],
            [
             0.4444444444444444,
             "#bd3786"
            ],
            [
             0.5555555555555556,
             "#d8576b"
            ],
            [
             0.6666666666666666,
             "#ed7953"
            ],
            [
             0.7777777777777778,
             "#fb9f3a"
            ],
            [
             0.8888888888888888,
             "#fdca26"
            ],
            [
             1,
             "#f0f921"
            ]
           ]
          },
          "colorway": [
           "#636efa",
           "#EF553B",
           "#00cc96",
           "#ab63fa",
           "#FFA15A",
           "#19d3f3",
           "#FF6692",
           "#B6E880",
           "#FF97FF",
           "#FECB52"
          ],
          "font": {
           "color": "#2a3f5f"
          },
          "geo": {
           "bgcolor": "white",
           "lakecolor": "white",
           "landcolor": "#E5ECF6",
           "showlakes": true,
           "showland": true,
           "subunitcolor": "white"
          },
          "hoverlabel": {
           "align": "left"
          },
          "hovermode": "closest",
          "mapbox": {
           "style": "light"
          },
          "paper_bgcolor": "white",
          "plot_bgcolor": "#E5ECF6",
          "polar": {
           "angularaxis": {
            "gridcolor": "white",
            "linecolor": "white",
            "ticks": ""
           },
           "bgcolor": "#E5ECF6",
           "radialaxis": {
            "gridcolor": "white",
            "linecolor": "white",
            "ticks": ""
           }
          },
          "scene": {
           "xaxis": {
            "backgroundcolor": "#E5ECF6",
            "gridcolor": "white",
            "gridwidth": 2,
            "linecolor": "white",
            "showbackground": true,
            "ticks": "",
            "zerolinecolor": "white"
           },
           "yaxis": {
            "backgroundcolor": "#E5ECF6",
            "gridcolor": "white",
            "gridwidth": 2,
            "linecolor": "white",
            "showbackground": true,
            "ticks": "",
            "zerolinecolor": "white"
           },
           "zaxis": {
            "backgroundcolor": "#E5ECF6",
            "gridcolor": "white",
            "gridwidth": 2,
            "linecolor": "white",
            "showbackground": true,
            "ticks": "",
            "zerolinecolor": "white"
           }
          },
          "shapedefaults": {
           "line": {
            "color": "#2a3f5f"
           }
          },
          "ternary": {
           "aaxis": {
            "gridcolor": "white",
            "linecolor": "white",
            "ticks": ""
           },
           "baxis": {
            "gridcolor": "white",
            "linecolor": "white",
            "ticks": ""
           },
           "bgcolor": "#E5ECF6",
           "caxis": {
            "gridcolor": "white",
            "linecolor": "white",
            "ticks": ""
           }
          },
          "title": {
           "x": 0.05
          },
          "xaxis": {
           "automargin": true,
           "gridcolor": "white",
           "linecolor": "white",
           "ticks": "",
           "title": {
            "standoff": 15
           },
           "zerolinecolor": "white",
           "zerolinewidth": 2
          },
          "yaxis": {
           "automargin": true,
           "gridcolor": "white",
           "linecolor": "white",
           "ticks": "",
           "title": {
            "standoff": 15
           },
           "zerolinecolor": "white",
           "zerolinewidth": 2
          }
         }
        },
        "xaxis": {
         "anchor": "y",
         "autorange": true,
         "domain": [
          0,
          1
         ],
         "range": [
          -0.5,
          4.5
         ],
         "title": {
          "text": "TYPE"
         },
         "type": "category"
        },
        "yaxis": {
         "anchor": "x",
         "autorange": false,
         "domain": [
          0,
          1
         ],
         "range": [
          0,
          6000
         ],
         "title": {
          "text": "FREQUENCY"
         },
         "type": "linear"
        }
       }
      },
      "image/png": "[encoded data removed]",
      "text/html": [
       "<div>                            <div id=\"98c4d9de-3102-43fa-966d-1b57c6925227\" class=\"plotly-graph-div\" style=\"height:525px; width:100%;\"></div>            <script type=\"text/javascript\">                require([\"plotly\"], function(Plotly) {                    window.PLOTLYENV=window.PLOTLYENV || {};                                    if (document.getElementById(\"98c4d9de-3102-43fa-966d-1b57c6925227\")) {                    Plotly.newPlot(                        \"98c4d9de-3102-43fa-966d-1b57c6925227\",                        [{\"alignmentgroup\":\"True\",\"hovertemplate\":\"TYPE=%{x}<br>FREQUENCY=%{y}<extra></extra>\",\"legendgroup\":\"\",\"marker\":{\"color\":\"#636efa\",\"pattern\":{\"shape\":\"\"}},\"name\":\"\",\"offsetgroup\":\"\",\"orientation\":\"v\",\"showlegend\":false,\"textposition\":\"auto\",\"x\":[null,\"byes\",\"wides\",\"legbyes\",\"noballs\",\"penalty\"],\"xaxis\":\"x\",\"y\":[183235.0,508.0,5858.0,3107.0,758.0,2.0],\"yaxis\":\"y\",\"type\":\"bar\"}],                        {\"template\":{\"data\":{\"bar\":[{\"error_x\":{\"color\":\"#2a3f5f\"},\"error_y\":{\"color\":\"#2a3f5f\"},\"marker\":{\"line\":{\"color\":\"#E5ECF6\",\"width\":0.5},\"pattern\":{\"fillmode\":\"overlay\",\"size\":10,\"solidity\":0.2}},\"type\":\"bar\"}],\"barpolar\":[{\"marker\":{\"line\":{\"color\":\"#E5ECF6\",\"width\":0.5},\"pattern\":{\"fillmode\":\"overlay\",\"size\":10,\"solidity\":0.2}},\"type\":\"barpolar\"}],\"carpet\":[{\"aaxis\":{\"endlinecolor\":\"#2a3f5f\",\"gridcolor\":\"white\",\"linecolor\":\"white\",\"minorgridcolor\":\"white\",\"startlinecolor\":\"#2a3f5f\"},\"baxis\":{\"endlinecolor\":\"#2a3f5f\",\"gridcolor\":\"white\",\"linecolor\":\"white\",\"minorgridcolor\":\"white\",\"startlinecolor\":\"#2a3f5f\"},\"type\":\"carpet\"}],\"choropleth\":[{\"colorbar\":{\"outlinewidth\":0,\"ticks\":\"\"},\"type\":\"choropleth\"}],\"contour\":[{\"colorbar\":{\"outlinewidth\":0,\"ticks\":\"\"},\"colorscale\":[[0.0,\"#0d0887\"],[0.1111111111111111,\"#46039f\"],[0.2222222222222222,\"#7201a8\"],[0.3333333333333333,\"#9c179e\"],[0.4444444444444444,\"#bd3786\"],[0.5555555555555556,\"#d8576b\"],[0.6666666666666666,\"#ed7953\"],[0.7777777777777778,\"#fb9f3a\"],[0.8888888888888888,\"#fdca26\"],[1.0,\"#f0f921\"]],\"type\":\"contour\"}],\"contourcarpet\":[{\"colorbar\":{\"outlinewidth\":0,\"ticks\":\"\"},\"type\":\"contourcarpet\"}],\"heatmap\":[{\"colorbar\":{\"outlinewidth\":0,\"ticks\":\"\"},\"colorscale\":[[0.0,\"#0d0887\"],[0.1111111111111111,\"#46039f\"],[0.2222222222222222,\"#7201a8\"],[0.3333333333333333,\"#9c179e\"],[0.4444444444444444,\"#bd3786\"],[0.5555555555555556,\"#d8576b\"],[0.6666666666666666,\"#ed7953\"],[0.7777777777777778,\"#fb9f3a\"],[0.8888888888888888,\"#fdca26\"],[1.0,\"#f0f921\"]],\"type\":\"heatmap\"}],\"heatmapgl\":[{\"colorbar\":{\"outlinewidth\":0,\"ticks\":\"\"},\"colorscale\":[[0.0,\"#0d0887\"],[0.1111111111111111,\"#46039f\"],[0.2222222222222222,\"#7201a8\"],[0.3333333333333333,\"#9c179e\"],[0.4444444444444444,\"#bd3786\"],[0.5555555555555556,\"#d8576b\"],[0.6666666666666666,\"#ed7953\"],[0.7777777777777778,\"#fb9f3a\"],[0.8888888888888888,\"#fdca26\"],[1.0,\"#f0f921\"]],\"type\":\"heatmapgl\"}],\"histogram\":[{\"marker\":{\"pattern\":{\"fillmode\":\"overlay\",\"size\":10,\"solidity\":0.2}},\"type\":\"histogram\"}],\"histogram2d\":[{\"colorbar\":{\"outlinewidth\":0,\"ticks\":\"\"},\"colorscale\":[[0.0,\"#0d0887\"],[0.1111111111111111,\"#46039f\"],[0.2222222222222222,\"#7201a8\"],[0.3333333333333333,\"#9c179e\"],[0.4444444444444444,\"#bd3786\"],[0.5555555555555556,\"#d8576b\"],[0.6666666666666666,\"#ed7953\"],[0.7777777777777778,\"#fb9f3a\"],[0.8888888888888888,\"#fdca26\"],[1.0,\"#f0f921\"]],\"type\":\"histogram2d\"}],\"histogram2dcontour\":[{\"colorbar\":{\"outlinewidth\":0,\"ticks\":\"\"},\"colorscale\":[[0.0,\"#0d0887\"],[0.1111111111111111,\"#46039f\"],[0.2222222222222222,\"#7201a8\"],[0.3333333333333333,\"#9c179e\"],[0.4444444444444444,\"#bd3786\"],[0.5555555555555556,\"#d8576b\"],[0.6666666666666666,\"#ed7953\"],[0.7777777777777778,\"#fb9f3a\"],[0.8888888888888888,\"#fdca26\"],[1.0,\"#f0f921\"]],\"type\":\"histogram2dcontour\"}],\"mesh3d\":[{\"colorbar\":{\"outlinewidth\":0,\"ticks\":\"\"},\"type\":\"mesh3d\"}],\"parcoords\":[{\"line\":{\"colorbar\":{\"outlinewidth\":0,\"ticks\":\"\"}},\"type\":\"parcoords\"}],\"pie\":[{\"automargin\":true,\"type\":\"pie\"}],\"scatter\":[{\"marker\":{\"colorbar\":{\"outlinewidth\":0,\"ticks\":\"\"}},\"type\":\"scatter\"}],\"scatter3d\":[{\"line\":{\"colorbar\":{\"outlinewidth\":0,\"ticks\":\"\"}},\"marker\":{\"colorbar\":{\"outlinewidth\":0,\"ticks\":\"\"}},\"type\":\"scatter3d\"}],\"scattercarpet\":[{\"marker\":{\"colorbar\":{\"outlinewidth\":0,\"ticks\":\"\"}},\"type\":\"scattercarpet\"}],\"scattergeo\":[{\"marker\":{\"colorbar\":{\"outlinewidth\":0,\"ticks\":\"\"}},\"type\":\"scattergeo\"}],\"scattergl\":[{\"marker\":{\"colorbar\":{\"outlinewidth\":0,\"ticks\":\"\"}},\"type\":\"scattergl\"}],\"scattermapbox\":[{\"marker\":{\"colorbar\":{\"outlinewidth\":0,\"ticks\":\"\"}},\"type\":\"scattermapbox\"}],\"scatterpolar\":[{\"marker\":{\"colorbar\":{\"outlinewidth\":0,\"ticks\":\"\"}},\"type\":\"scatterpolar\"}],\"scatterpolargl\":[{\"marker\":{\"colorbar\":{\"outlinewidth\":0,\"ticks\":\"\"}},\"type\":\"scatterpolargl\"}],\"scatterternary\":[{\"marker\":{\"colorbar\":{\"outlinewidth\":0,\"ticks\":\"\"}},\"type\":\"scatterternary\"}],\"surface\":[{\"colorbar\":{\"outlinewidth\":0,\"ticks\":\"\"},\"colorscale\":[[0.0,\"#0d0887\"],[0.1111111111111111,\"#46039f\"],[0.2222222222222222,\"#7201a8\"],[0.3333333333333333,\"#9c179e\"],[0.4444444444444444,\"#bd3786\"],[0.5555555555555556,\"#d8576b\"],[0.6666666666666666,\"#ed7953\"],[0.7777777777777778,\"#fb9f3a\"],[0.8888888888888888,\"#fdca26\"],[1.0,\"#f0f921\"]],\"type\":\"surface\"}],\"table\":[{\"cells\":{\"fill\":{\"color\":\"#EBF0F8\"},\"line\":{\"color\":\"white\"}},\"header\":{\"fill\":{\"color\":\"#C8D4E3\"},\"line\":{\"color\":\"white\"}},\"type\":\"table\"}]},\"layout\":{\"annotationdefaults\":{\"arrowcolor\":\"#2a3f5f\",\"arrowhead\":0,\"arrowwidth\":1},\"autotypenumbers\":\"strict\",\"coloraxis\":{\"colorbar\":{\"outlinewidth\":0,\"ticks\":\"\"}},\"colorscale\":{\"diverging\":[[0,\"#8e0152\"],[0.1,\"#c51b7d\"],[0.2,\"#de77ae\"],[0.3,\"#f1b6da\"],[0.4,\"#fde0ef\"],[0.5,\"#f7f7f7\"],[0.6,\"#e6f5d0\"],[0.7,\"#b8e186\"],[0.8,\"#7fbc41\"],[0.9,\"#4d9221\"],[1,\"#276419\"]],\"sequential\":[[0.0,\"#0d0887\"],[0.1111111111111111,\"#46039f\"],[0.2222222222222222,\"#7201a8\"],[0.3333333333333333,\"#9c179e\"],[0.4444444444444444,\"#bd3786\"],[0.5555555555555556,\"#d8576b\"],[0.6666666666666666,\"#ed7953\"],[0.7777777777777778,\"#fb9f3a\"],[0.8888888888888888,\"#fdca26\"],[1.0,\"#f0f921\"]],\"sequentialminus\":[[0.0,\"#0d0887\"],[0.1111111111111111,\"#46039f\"],[0.2222222222222222,\"#7201a8\"],[0.3333333333333333,\"#9c179e\"],[0.4444444444444444,\"#bd3786\"],[0.5555555555555556,\"#d8576b\"],[0.6666666666666666,\"#ed7953\"],[0.7777777777777778,\"#fb9f3a\"],[0.8888888888888888,\"#fdca26\"],[1.0,\"#f0f921\"]]},\"colorway\":[\"#636efa\",\"#EF553B\",\"#00cc96\",\"#ab63fa\",\"#FFA15A\",\"#19d3f3\",\"#FF6692\",\"#B6E880\",\"#FF97FF\",\"#FECB52\"],\"font\":{\"color\":\"#2a3f5f\"},\"geo\":{\"bgcolor\":\"white\",\"lakecolor\":\"white\",\"landcolor\":\"#E5ECF6\",\"showlakes\":true,\"showland\":true,\"subunitcolor\":\"white\"},\"hoverlabel\":{\"align\":\"left\"},\"hovermode\":\"closest\",\"mapbox\":{\"style\":\"light\"},\"paper_bgcolor\":\"white\",\"plot_bgcolor\":\"#E5ECF6\",\"polar\":{\"angularaxis\":{\"gridcolor\":\"white\",\"linecolor\":\"white\",\"ticks\":\"\"},\"bgcolor\":\"#E5ECF6\",\"radialaxis\":{\"gridcolor\":\"white\",\"linecolor\":\"white\",\"ticks\":\"\"}},\"scene\":{\"xaxis\":{\"backgroundcolor\":\"#E5ECF6\",\"gridcolor\":\"white\",\"gridwidth\":2,\"linecolor\":\"white\",\"showbackground\":true,\"ticks\":\"\",\"zerolinecolor\":\"white\"},\"yaxis\":{\"backgroundcolor\":\"#E5ECF6\",\"gridcolor\":\"white\",\"gridwidth\":2,\"linecolor\":\"white\",\"showbackground\":true,\"ticks\":\"\",\"zerolinecolor\":\"white\"},\"zaxis\":{\"backgroundcolor\":\"#E5ECF6\",\"gridcolor\":\"white\",\"gridwidth\":2,\"linecolor\":\"white\",\"showbackground\":true,\"ticks\":\"\",\"zerolinecolor\":\"white\"}},\"shapedefaults\":{\"line\":{\"color\":\"#2a3f5f\"}},\"ternary\":{\"aaxis\":{\"gridcolor\":\"white\",\"linecolor\":\"white\",\"ticks\":\"\"},\"baxis\":{\"gridcolor\":\"white\",\"linecolor\":\"white\",\"ticks\":\"\"},\"bgcolor\":\"#E5ECF6\",\"caxis\":{\"gridcolor\":\"white\",\"linecolor\":\"white\",\"ticks\":\"\"}},\"title\":{\"x\":0.05},\"xaxis\":{\"automargin\":true,\"gridcolor\":\"white\",\"linecolor\":\"white\",\"ticks\":\"\",\"title\":{\"standoff\":15},\"zerolinecolor\":\"white\",\"zerolinewidth\":2},\"yaxis\":{\"automargin\":true,\"gridcolor\":\"white\",\"linecolor\":\"white\",\"ticks\":\"\",\"title\":{\"standoff\":15},\"zerolinecolor\":\"white\",\"zerolinewidth\":2}}},\"xaxis\":{\"anchor\":\"y\",\"domain\":[0.0,1.0],\"title\":{\"text\":\"TYPE\"}},\"yaxis\":{\"anchor\":\"x\",\"domain\":[0.0,1.0],\"title\":{\"text\":\"FREQUENCY\"},\"range\":[0,6000],\"autorange\":false},\"legend\":{\"tracegroupgap\":0},\"margin\":{\"t\":60},\"barmode\":\"relative\"},                        {\"responsive\": true}                    ).then(function(){\n",
       "                            \n",
       "var gd = document.getElementById('98c4d9de-3102-43fa-966d-1b57c6925227');\n",
       "var x = new MutationObserver(function (mutations, observer) {{\n",
       "        var display = window.getComputedStyle(gd).display;\n",
       "        if (!display || display === 'none') {{\n",
       "            console.log([gd, 'removed!']);\n",
       "            Plotly.purge(gd);\n",
       "            observer.disconnect();\n",
       "        }}\n",
       "}});\n",
       "\n",
       "// Listen for the removal of the full notebook cells\n",
       "var notebookContainer = gd.closest('#notebook-container');\n",
       "if (notebookContainer) {{\n",
       "    x.observe(notebookContainer, {childList: true});\n",
       "}}\n",
       "\n",
       "// Listen for the clearing of the current output cell\n",
       "var outputEl = gd.closest('.output');\n",
       "if (outputEl) {{\n",
       "    x.observe(outputEl, {childList: true});\n",
       "}}\n",
       "\n",
       "                        })                };                });            </script>        </div>"
      ]
     },
     "metadata": {},
     "output_type": "display_data"
    }
   ],
   "source": [
    "extras_data = pd.DataFrame(dict(TYPE = extras.keys(),FREQUENCY = extras.values()))\n",
    "extras_graph = px.bar(extras_data , x = 'TYPE',y='FREQUENCY')\n",
    "extras_graph.update_yaxes(range = [0,6000],autorange=False)"
   ]
  },
  {
   "cell_type": "code",
   "execution_count": 94,
   "metadata": {},
   "outputs": [],
   "source": [
    "extras_per_bowler = dict(zip(bowler,np.zeros(len(bowler))))\n",
    "for i in range(0,len(match)):\n",
    "    if(match['extra_runs'][i] != 0):\n",
    "        extras_per_bowler[match['bowler'][i]] += 1\n",
    "# print(extras_per_bowler)"
   ]
  },
  {
   "cell_type": "code",
   "execution_count": 95,
   "metadata": {},
   "outputs": [
    {
     "data": {
      "application/vnd.plotly.v1+json": {
       "config": {
        "plotlyServerURL": "https://plot.ly"
       },
       "data": [
        {
         "alignmentgroup": "True",
         "hovertemplate": "BOWLER=%{x}<br>EXTRAS=%{y}<extra></extra>",
         "legendgroup": "",
         "marker": {
          "color": "#636efa",
          "pattern": {
           "shape": ""
          }
         },
         "name": "",
         "offsetgroup": "",
         "orientation": "v",
         "showlegend": false,
         "textposition": "auto",
         "type": "bar",
         "x": [
          "AA Noffke",
          "Z Khan",
          "JH Kallis",
          "SB Joshi",
          "CL White",
          "P Kumar",
          "AB Agarkar",
          "SC Ganguly",
          "LR Shukla",
          "I Sharma",
          "AB Dinda",
          "JDP Oram",
          "JR Hopes",
          "MS Gony",
          "K Goel",
          "PP Chawla",
          "WA Mota",
          "IK Pathan",
          "S Sreesanth",
          "B Lee",
          "M Muralitharan",
          "P Amarnath",
          "Joginder Sharma",
          "GD McGrath",
          "B Geeves",
          "SK Warne",
          "YK Pathan",
          "D Salunkhe",
          "SR Watson",
          "SK Trivedi",
          "DL Vettori",
          "MF Maharoof",
          "MM Patel",
          "R Bhatia",
          "B Akhil",
          "R Vinay Kumar",
          "A Nehra",
          "SM Pollock",
          "DS Kulkarni",
          "AM Nayar",
          "Harbhajan Singh",
          "ST Jayasuriya",
          "WPUJC Vaas",
          "RP Singh",
          "SB Styris",
          "SB Bangar",
          "DJ Hussey",
          "Mohammad Hafeez",
          "M Kartik",
          "PP Ojha",
          "A Symonds",
          "Pankaj Singh",
          "Mohammad Asif",
          "VY Mahesh",
          "Shahid Afridi",
          "MA Khote",
          "DJ Bravo",
          "VS Yeligati",
          "D Kalyankrishna",
          "VRV Singh",
          "A Kumble",
          "Sohail Tanvir",
          "DNT Zoysa",
          "SD Chitnis",
          "Shoaib Malik",
          "Yuvraj Singh",
          "DW Steyn",
          "JA Morkel",
          "CRD Fernando",
          "V Sehwag",
          "V Kohli",
          "Gagandeep Singh",
          "Y Venugopal Rao",
          "Umar Gul",
          "M Ntini",
          "PJ Sangwan",
          "DP Vijaykumar",
          "DB Ravi Teja",
          "LPC Silva",
          "DJ Thornely",
          "RR Raje",
          "SK Raina",
          "S Vidyut",
          "L Balaji",
          "CK Kapugedera",
          "DR Smith",
          "AD Mascarenhas",
          "A Mishra",
          "Shoaib Akhtar",
          "Iqbal Abdulla",
          "RR Powar",
          "PM Sarvesh Kumar",
          "Abdur Razzak",
          "RA Jadeja",
          "TM Dilshan",
          "RG Sharma",
          "A Nel",
          "BAW Mendis",
          "A Flintoff",
          "T Thushara",
          "SL Malinga",
          "T Henderson",
          "Kamran Khan",
          "JD Ryder",
          "DP Nannes",
          "AM Salvi",
          "YA Abdulla",
          "VS Malik",
          "Harmeet Singh",
          "FH Edwards",
          "MC Henriques",
          "CH Gayle",
          "KP Pietersen",
          "LRPL Taylor",
          "RS Bopara",
          "MK Tiwary",
          "Anureet Singh",
          "RR Bose",
          "KP Appanna",
          "Shoaib Ahmed",
          "BJ Hodge",
          "SR Tendulkar",
          "RE van der Merwe",
          "JP Duminy",
          "S Tyagi",
          "GR Napier",
          "SM Harwood",
          "AS Raut",
          "SB Jakati",
          "D du Preez",
          "TL Suman",
          "RJ Harris",
          "A Singh",
          "M Morkel",
          "LA Carseldine",
          "A Mithun",
          "C Nanda",
          "SS Sarkar",
          "AD Mathews",
          "AM Rahane",
          "J Botha",
          "Mashrafe Mortaza",
          "AB McDonald",
          "Y Nagar",
          "CK Langeveldt",
          "R Ashwin",
          "RA Shaikh",
          "Jaskaran Singh",
          "AA Jhunjhunwala",
          "A Uniyal",
          "SW Tait",
          "AG Murtaza",
          "R Sathish",
          "R McLaren",
          "RS Gavaskar",
          "JM Kemp",
          "S Ladda",
          "Bipul Sharma",
          "SE Bond",
          "KA Pollard",
          "S Narwal",
          "UT Yadav",
          "SJ Srivastava",
          "AC Voges",
          "R Sharma",
          "J Theron",
          "NLTC Perera",
          "KAJ Roach",
          "PD Collingwood",
          "C Ganapathy",
          "MB Parmar",
          "DE Bollinger",
          "SB Wagh",
          "JD Unadkat",
          "AP Dole",
          "AN Ahmed",
          "FY Fazal",
          "MR Marsh",
          "L Ablish",
          "S Sriram",
          "AJ Finch",
          "STR Binny",
          "ND Doshi",
          "S Randiv",
          "TG Southee",
          "AL Menaria",
          "DT Christian",
          "AUK Pathan",
          "RV Gomez",
          "JEC Franklin",
          "WD Parnell",
          "M Manhas",
          "AC Thomas",
          "NJ Rimmington",
          "RN ten Doeschate",
          "S Nadeem",
          "BA Bhatt",
          "R Ninan",
          "JJ van der Wath",
          "S Aravind",
          "Shakib Al Hasan",
          "PC Valthaty",
          "S Dhawan",
          "J Syed Mohammad",
          "VR Aaron",
          "JE Taylor",
          "NL McCullum",
          "KMDN Kulasekara",
          "P Parameswaran",
          "I Malhotra",
          "B Chipli",
          "B Kumar",
          "AA Kazi",
          "Anand Rajan",
          "AA Chavan",
          "P Prasanth",
          "Y Gnaneswara Rao",
          "S Rana",
          "JP Faulkner",
          "SS Mundhe",
          "RW Price",
          "GJ Maxwell",
          "M de Lange",
          "MN Samuels",
          "KK Cooper",
          "DAJ Bracewell",
          "HV Patel",
          "Ankit Sharma",
          "DJ Harris",
          "TP Sudhindra",
          "F du Plessis",
          "SP Narine",
          "GB Hogg",
          "RR Bhatkal",
          "P Awana",
          "V Pratap Singh",
          "CJ McKay",
          "A Ashish Reddy",
          "AD Russell",
          "Azhar Mahmood",
          "A Chandila",
          "P Negi",
          "LJ Wright",
          "RJ Peterson",
          "R Shukla",
          "MJ Clarke",
          "BW Hilfenhaus",
          "SPD Smith",
          "K Upadhyay",
          "Sunny Gupta",
          "MG Johnson",
          "JJ Bumrah",
          "S Badree",
          "AS Rajpoot",
          "B Laughlin",
          "GH Vihari",
          "Mohammed Shami",
          "BMAJ Mendis",
          "CH Morris",
          "Harmeet Singh (2)",
          "S Kaul",
          "R Dhawan",
          "MM Sharma",
          "R Rampaul",
          "SMSM Senanayake",
          "KV Sharma",
          "JO Holder",
          "IC Pandey",
          "Sandeep Sharma",
          "YS Chahal",
          "DJG Sammy",
          "KW Richardson",
          "P Suyal",
          "PV Tambe",
          "BJ Rohrer",
          "Parvez Rasool",
          "MG Neser",
          "NM Coulter-Nile",
          "AC Gilchrist",
          "CJ Anderson",
          "MA Starc",
          "JDS Neesham",
          "AR Patel",
          "M Vijay",
          "R Tewatia",
          "SA Yadav",
          "Shivam Sharma",
          "Imran Tahir",
          "V Shankar",
          "LMP Simmons",
          "BCJ Cutting",
          "S Gopal",
          "K Santokie",
          "BE Hendricks",
          "PJ Cummins",
          "JW Hastings",
          "Karanveer Singh",
          "DJ Muthuswami",
          "TA Boult",
          "SA Abbott",
          "KC Cariappa",
          "DJ Hooda",
          "J Suchith",
          "RG More",
          "MJ McClenaghan",
          "D Wiese",
          "HH Pandya",
          "SN Thakur",
          "GS Sandhu",
          "Gurkeerat Singh",
          "J Yadav",
          "BB Sran",
          "M Ashwin",
          "CR Brathwaite",
          "C Munro",
          "MP Stoinis",
          "P Sahu",
          "Mustafizur Rahman",
          "AF Milne",
          "Kuldeep Yadav",
          "KH Pandya",
          "KJ Abbott",
          "T Shamsi",
          "S Kaushik",
          "SM Boland",
          "Swapnil Singh",
          "CJ Jordan",
          "A Zampa",
          "Sachin Baby",
          "N Rana",
          "DL Chahar",
          "KS Williamson",
          "TM Head",
          "A Choudhary",
          "TS Mills",
          "Rashid Khan",
          "BA Stokes",
          "CR Woakes",
          "T Natarajan",
          "RD Chahar",
          "B Stanlake",
          "Basil Thampi",
          "Tejas Baroka",
          "C de Grandhomme",
          "AJ Tye",
          "LH Ferguson",
          "Mohammad Nabi",
          "Mohammed Siraj",
          "K Rabada",
          "Washington Sundar",
          "SS Agarwal",
          "NB Singh",
          "RA Tripathi",
          "Ankit Soni",
          "MJ Henry",
          "Avesh Khan",
          "MA Wood",
          "M Markande",
          "Mujeeb Ur Rahman",
          "K Khejroliya",
          "K Gowtham",
          "DJM Short",
          "TK Curran",
          "A Dananjaya",
          "Shivam Mavi",
          "JC Archer",
          "LE Plunkett",
          "IS Sodhi",
          "MK Lomror",
          "KM Asif",
          "L Ngidi",
          "DJ Willey",
          "M Prasidh Krishna",
          "MM Ali",
          "JPR Scantlebury-Searles",
          "S Lamichhane",
          "CJ Dala",
          "KK Ahmed",
          "NA Saini",
          "S Dube",
          "Rasikh Salam",
          "KMA Paul",
          "SM Curran",
          "CV Varun",
          "GC Viljoen",
          "Mandeep Singh",
          "P Ray Barman",
          "MJ Santner",
          "JP Behrendorff",
          "SC Kuggeleijn",
          "AS Joseph",
          "HF Gurney",
          "S Midhun",
          "R Parag",
          "LS Livingstone",
          "SN Khan",
          "Abhishek Sharma",
          "Arshdeep Singh",
          "Harpreet Brar",
          "SE Rutherford",
          "Y Prithvi Raj",
          "O Thomas",
          "AS Roy",
          "S Sandeep Warrier",
          "JL Pattinson",
          "SS Cottrell",
          "A Nortje",
          "Ravi Bishnoi",
          "I Udana",
          "TU Deshpande",
          "KL Nagarkoti",
          "Kartik Tyagi",
          "DR Sams",
          "Shahbaz Ahmed",
          "Abdul Samad",
          "JR Hazlewood",
          "DA Warner",
          "CJ Green",
          "P Dubey",
          "Monu Kumar"
         ],
         "xaxis": "x",
         "y": [
          2,
          132,
          96,
          0,
          4,
          185,
          57,
          11,
          20,
          153,
          94,
          14,
          23,
          55,
          2,
          67,
          4,
          120,
          84,
          67,
          96,
          5,
          18,
          14,
          1,
          45,
          63,
          6,
          155,
          87,
          21,
          33,
          49,
          56,
          9,
          96,
          96,
          6,
          110,
          11,
          126,
          10,
          12,
          145,
          8,
          5,
          12,
          6,
          56,
          87,
          29,
          15,
          14,
          27,
          13,
          1,
          185,
          4,
          3,
          18,
          41,
          27,
          4,
          4,
          9,
          24,
          145,
          121,
          23,
          3,
          16,
          1,
          7,
          26,
          12,
          65,
          13,
          0,
          0,
          2,
          7,
          41,
          1,
          107,
          0,
          29,
          8,
          105,
          4,
          38,
          25,
          1,
          2,
          86,
          6,
          16,
          0,
          7,
          1,
          12,
          221,
          1,
          18,
          10,
          64,
          10,
          17,
          11,
          36,
          15,
          35,
          46,
          9,
          1,
          12,
          3,
          31,
          0,
          8,
          3,
          8,
          2,
          23,
          31,
          17,
          1,
          8,
          1,
          34,
          1,
          3,
          59,
          24,
          100,
          1,
          29,
          3,
          0,
          29,
          0,
          29,
          5,
          4,
          6,
          15,
          141,
          0,
          12,
          4,
          3,
          83,
          10,
          6,
          30,
          0,
          6,
          4,
          18,
          6,
          104,
          8,
          185,
          27,
          2,
          17,
          21,
          28,
          4,
          1,
          0,
          1,
          40,
          11,
          61,
          8,
          29,
          0,
          18,
          4,
          0,
          1,
          22,
          1,
          6,
          63,
          3,
          54,
          2,
          2,
          6,
          44,
          0,
          19,
          1,
          5,
          45,
          12,
          0,
          6,
          40,
          48,
          4,
          4,
          7,
          95,
          11,
          1,
          7,
          7,
          0,
          0,
          166,
          1,
          18,
          17,
          0,
          0,
          0,
          89,
          1,
          0,
          18,
          10,
          6,
          49,
          1,
          62,
          10,
          0,
          5,
          0,
          83,
          19,
          0,
          41,
          11,
          0,
          12,
          60,
          22,
          2,
          29,
          5,
          0,
          16,
          2,
          29,
          0,
          2,
          1,
          87,
          117,
          10,
          59,
          13,
          2,
          90,
          0,
          89,
          1,
          48,
          34,
          59,
          17,
          5,
          42,
          27,
          18,
          99,
          93,
          11,
          16,
          14,
          25,
          1,
          4,
          1,
          46,
          0,
          25,
          56,
          9,
          70,
          1,
          19,
          0,
          0,
          36,
          13,
          0,
          8,
          18,
          4,
          10,
          51,
          3,
          11,
          3,
          59,
          2,
          9,
          14,
          8,
          3,
          99,
          15,
          63,
          60,
          1,
          4,
          5,
          40,
          25,
          16,
          0,
          30,
          5,
          21,
          12,
          28,
          54,
          8,
          4,
          10,
          2,
          1,
          39,
          8,
          0,
          5,
          60,
          0,
          0,
          7,
          8,
          39,
          56,
          31,
          32,
          21,
          6,
          20,
          0,
          18,
          40,
          27,
          8,
          54,
          53,
          15,
          0,
          4,
          0,
          4,
          1,
          7,
          2,
          12,
          20,
          10,
          13,
          1,
          12,
          1,
          22,
          49,
          7,
          3,
          0,
          2,
          22,
          2,
          33,
          6,
          3,
          3,
          1,
          26,
          34,
          3,
          3,
          19,
          28,
          2,
          12,
          0,
          0,
          4,
          6,
          2,
          5,
          8,
          2,
          1,
          0,
          0,
          3,
          20,
          1,
          6,
          3,
          8,
          3,
          5,
          10,
          12,
          21,
          15,
          12,
          9,
          6,
          17,
          5,
          2,
          1,
          3,
          1,
          0,
          0,
          4
         ],
         "yaxis": "y"
        }
       ],
       "layout": {
        "autosize": true,
        "barmode": "relative",
        "legend": {
         "tracegroupgap": 0
        },
        "margin": {
         "t": 60
        },
        "template": {
         "data": {
          "bar": [
           {
            "error_x": {
             "color": "#2a3f5f"
            },
            "error_y": {
             "color": "#2a3f5f"
            },
            "marker": {
             "line": {
              "color": "#E5ECF6",
              "width": 0.5
             },
             "pattern": {
              "fillmode": "overlay",
              "size": 10,
              "solidity": 0.2
             }
            },
            "type": "bar"
           }
          ],
          "barpolar": [
           {
            "marker": {
             "line": {
              "color": "#E5ECF6",
              "width": 0.5
             },
             "pattern": {
              "fillmode": "overlay",
              "size": 10,
              "solidity": 0.2
             }
            },
            "type": "barpolar"
           }
          ],
          "carpet": [
           {
            "aaxis": {
             "endlinecolor": "#2a3f5f",
             "gridcolor": "white",
             "linecolor": "white",
             "minorgridcolor": "white",
             "startlinecolor": "#2a3f5f"
            },
            "baxis": {
             "endlinecolor": "#2a3f5f",
             "gridcolor": "white",
             "linecolor": "white",
             "minorgridcolor": "white",
             "startlinecolor": "#2a3f5f"
            },
            "type": "carpet"
           }
          ],
          "choropleth": [
           {
            "colorbar": {
             "outlinewidth": 0,
             "ticks": ""
            },
            "type": "choropleth"
           }
          ],
          "contour": [
           {
            "colorbar": {
             "outlinewidth": 0,
             "ticks": ""
            },
            "colorscale": [
             [
              0,
              "#0d0887"
             ],
             [
              0.1111111111111111,
              "#46039f"
             ],
             [
              0.2222222222222222,
              "#7201a8"
             ],
             [
              0.3333333333333333,
              "#9c179e"
             ],
             [
              0.4444444444444444,
              "#bd3786"
             ],
             [
              0.5555555555555556,
              "#d8576b"
             ],
             [
              0.6666666666666666,
              "#ed7953"
             ],
             [
              0.7777777777777778,
              "#fb9f3a"
             ],
             [
              0.8888888888888888,
              "#fdca26"
             ],
             [
              1,
              "#f0f921"
             ]
            ],
            "type": "contour"
           }
          ],
          "contourcarpet": [
           {
            "colorbar": {
             "outlinewidth": 0,
             "ticks": ""
            },
            "type": "contourcarpet"
           }
          ],
          "heatmap": [
           {
            "colorbar": {
             "outlinewidth": 0,
             "ticks": ""
            },
            "colorscale": [
             [
              0,
              "#0d0887"
             ],
             [
              0.1111111111111111,
              "#46039f"
             ],
             [
              0.2222222222222222,
              "#7201a8"
             ],
             [
              0.3333333333333333,
              "#9c179e"
             ],
             [
              0.4444444444444444,
              "#bd3786"
             ],
             [
              0.5555555555555556,
              "#d8576b"
             ],
             [
              0.6666666666666666,
              "#ed7953"
             ],
             [
              0.7777777777777778,
              "#fb9f3a"
             ],
             [
              0.8888888888888888,
              "#fdca26"
             ],
             [
              1,
              "#f0f921"
             ]
            ],
            "type": "heatmap"
           }
          ],
          "heatmapgl": [
           {
            "colorbar": {
             "outlinewidth": 0,
             "ticks": ""
            },
            "colorscale": [
             [
              0,
              "#0d0887"
             ],
             [
              0.1111111111111111,
              "#46039f"
             ],
             [
              0.2222222222222222,
              "#7201a8"
             ],
             [
              0.3333333333333333,
              "#9c179e"
             ],
             [
              0.4444444444444444,
              "#bd3786"
             ],
             [
              0.5555555555555556,
              "#d8576b"
             ],
             [
              0.6666666666666666,
              "#ed7953"
             ],
             [
              0.7777777777777778,
              "#fb9f3a"
             ],
             [
              0.8888888888888888,
              "#fdca26"
             ],
             [
              1,
              "#f0f921"
             ]
            ],
            "type": "heatmapgl"
           }
          ],
          "histogram": [
           {
            "marker": {
             "pattern": {
              "fillmode": "overlay",
              "size": 10,
              "solidity": 0.2
             }
            },
            "type": "histogram"
           }
          ],
          "histogram2d": [
           {
            "colorbar": {
             "outlinewidth": 0,
             "ticks": ""
            },
            "colorscale": [
             [
              0,
              "#0d0887"
             ],
             [
              0.1111111111111111,
              "#46039f"
             ],
             [
              0.2222222222222222,
              "#7201a8"
             ],
             [
              0.3333333333333333,
              "#9c179e"
             ],
             [
              0.4444444444444444,
              "#bd3786"
             ],
             [
              0.5555555555555556,
              "#d8576b"
             ],
             [
              0.6666666666666666,
              "#ed7953"
             ],
             [
              0.7777777777777778,
              "#fb9f3a"
             ],
             [
              0.8888888888888888,
              "#fdca26"
             ],
             [
              1,
              "#f0f921"
             ]
            ],
            "type": "histogram2d"
           }
          ],
          "histogram2dcontour": [
           {
            "colorbar": {
             "outlinewidth": 0,
             "ticks": ""
            },
            "colorscale": [
             [
              0,
              "#0d0887"
             ],
             [
              0.1111111111111111,
              "#46039f"
             ],
             [
              0.2222222222222222,
              "#7201a8"
             ],
             [
              0.3333333333333333,
              "#9c179e"
             ],
             [
              0.4444444444444444,
              "#bd3786"
             ],
             [
              0.5555555555555556,
              "#d8576b"
             ],
             [
              0.6666666666666666,
              "#ed7953"
             ],
             [
              0.7777777777777778,
              "#fb9f3a"
             ],
             [
              0.8888888888888888,
              "#fdca26"
             ],
             [
              1,
              "#f0f921"
             ]
            ],
            "type": "histogram2dcontour"
           }
          ],
          "mesh3d": [
           {
            "colorbar": {
             "outlinewidth": 0,
             "ticks": ""
            },
            "type": "mesh3d"
           }
          ],
          "parcoords": [
           {
            "line": {
             "colorbar": {
              "outlinewidth": 0,
              "ticks": ""
             }
            },
            "type": "parcoords"
           }
          ],
          "pie": [
           {
            "automargin": true,
            "type": "pie"
           }
          ],
          "scatter": [
           {
            "marker": {
             "colorbar": {
              "outlinewidth": 0,
              "ticks": ""
             }
            },
            "type": "scatter"
           }
          ],
          "scatter3d": [
           {
            "line": {
             "colorbar": {
              "outlinewidth": 0,
              "ticks": ""
             }
            },
            "marker": {
             "colorbar": {
              "outlinewidth": 0,
              "ticks": ""
             }
            },
            "type": "scatter3d"
           }
          ],
          "scattercarpet": [
           {
            "marker": {
             "colorbar": {
              "outlinewidth": 0,
              "ticks": ""
             }
            },
            "type": "scattercarpet"
           }
          ],
          "scattergeo": [
           {
            "marker": {
             "colorbar": {
              "outlinewidth": 0,
              "ticks": ""
             }
            },
            "type": "scattergeo"
           }
          ],
          "scattergl": [
           {
            "marker": {
             "colorbar": {
              "outlinewidth": 0,
              "ticks": ""
             }
            },
            "type": "scattergl"
           }
          ],
          "scattermapbox": [
           {
            "marker": {
             "colorbar": {
              "outlinewidth": 0,
              "ticks": ""
             }
            },
            "type": "scattermapbox"
           }
          ],
          "scatterpolar": [
           {
            "marker": {
             "colorbar": {
              "outlinewidth": 0,
              "ticks": ""
             }
            },
            "type": "scatterpolar"
           }
          ],
          "scatterpolargl": [
           {
            "marker": {
             "colorbar": {
              "outlinewidth": 0,
              "ticks": ""
             }
            },
            "type": "scatterpolargl"
           }
          ],
          "scatterternary": [
           {
            "marker": {
             "colorbar": {
              "outlinewidth": 0,
              "ticks": ""
             }
            },
            "type": "scatterternary"
           }
          ],
          "surface": [
           {
            "colorbar": {
             "outlinewidth": 0,
             "ticks": ""
            },
            "colorscale": [
             [
              0,
              "#0d0887"
             ],
             [
              0.1111111111111111,
              "#46039f"
             ],
             [
              0.2222222222222222,
              "#7201a8"
             ],
             [
              0.3333333333333333,
              "#9c179e"
             ],
             [
              0.4444444444444444,
              "#bd3786"
             ],
             [
              0.5555555555555556,
              "#d8576b"
             ],
             [
              0.6666666666666666,
              "#ed7953"
             ],
             [
              0.7777777777777778,
              "#fb9f3a"
             ],
             [
              0.8888888888888888,
              "#fdca26"
             ],
             [
              1,
              "#f0f921"
             ]
            ],
            "type": "surface"
           }
          ],
          "table": [
           {
            "cells": {
             "fill": {
              "color": "#EBF0F8"
             },
             "line": {
              "color": "white"
             }
            },
            "header": {
             "fill": {
              "color": "#C8D4E3"
             },
             "line": {
              "color": "white"
             }
            },
            "type": "table"
           }
          ]
         },
         "layout": {
          "annotationdefaults": {
           "arrowcolor": "#2a3f5f",
           "arrowhead": 0,
           "arrowwidth": 1
          },
          "autotypenumbers": "strict",
          "coloraxis": {
           "colorbar": {
            "outlinewidth": 0,
            "ticks": ""
           }
          },
          "colorscale": {
           "diverging": [
            [
             0,
             "#8e0152"
            ],
            [
             0.1,
             "#c51b7d"
            ],
            [
             0.2,
             "#de77ae"
            ],
            [
             0.3,
             "#f1b6da"
            ],
            [
             0.4,
             "#fde0ef"
            ],
            [
             0.5,
             "#f7f7f7"
            ],
            [
             0.6,
             "#e6f5d0"
            ],
            [
             0.7,
             "#b8e186"
            ],
            [
             0.8,
             "#7fbc41"
            ],
            [
             0.9,
             "#4d9221"
            ],
            [
             1,
             "#276419"
            ]
           ],
           "sequential": [
            [
             0,
             "#0d0887"
            ],
            [
             0.1111111111111111,
             "#46039f"
            ],
            [
             0.2222222222222222,
             "#7201a8"
            ],
            [
             0.3333333333333333,
             "#9c179e"
            ],
            [
             0.4444444444444444,
             "#bd3786"
            ],
            [
             0.5555555555555556,
             "#d8576b"
            ],
            [
             0.6666666666666666,
             "#ed7953"
            ],
            [
             0.7777777777777778,
             "#fb9f3a"
            ],
            [
             0.8888888888888888,
             "#fdca26"
            ],
            [
             1,
             "#f0f921"
            ]
           ],
           "sequentialminus": [
            [
             0,
             "#0d0887"
            ],
            [
             0.1111111111111111,
             "#46039f"
            ],
            [
             0.2222222222222222,
             "#7201a8"
            ],
            [
             0.3333333333333333,
             "#9c179e"
            ],
            [
             0.4444444444444444,
             "#bd3786"
            ],
            [
             0.5555555555555556,
             "#d8576b"
            ],
            [
             0.6666666666666666,
             "#ed7953"
            ],
            [
             0.7777777777777778,
             "#fb9f3a"
            ],
            [
             0.8888888888888888,
             "#fdca26"
            ],
            [
             1,
             "#f0f921"
            ]
           ]
          },
          "colorway": [
           "#636efa",
           "#EF553B",
           "#00cc96",
           "#ab63fa",
           "#FFA15A",
           "#19d3f3",
           "#FF6692",
           "#B6E880",
           "#FF97FF",
           "#FECB52"
          ],
          "font": {
           "color": "#2a3f5f"
          },
          "geo": {
           "bgcolor": "white",
           "lakecolor": "white",
           "landcolor": "#E5ECF6",
           "showlakes": true,
           "showland": true,
           "subunitcolor": "white"
          },
          "hoverlabel": {
           "align": "left"
          },
          "hovermode": "closest",
          "mapbox": {
           "style": "light"
          },
          "paper_bgcolor": "white",
          "plot_bgcolor": "#E5ECF6",
          "polar": {
           "angularaxis": {
            "gridcolor": "white",
            "linecolor": "white",
            "ticks": ""
           },
           "bgcolor": "#E5ECF6",
           "radialaxis": {
            "gridcolor": "white",
            "linecolor": "white",
            "ticks": ""
           }
          },
          "scene": {
           "xaxis": {
            "backgroundcolor": "#E5ECF6",
            "gridcolor": "white",
            "gridwidth": 2,
            "linecolor": "white",
            "showbackground": true,
            "ticks": "",
            "zerolinecolor": "white"
           },
           "yaxis": {
            "backgroundcolor": "#E5ECF6",
            "gridcolor": "white",
            "gridwidth": 2,
            "linecolor": "white",
            "showbackground": true,
            "ticks": "",
            "zerolinecolor": "white"
           },
           "zaxis": {
            "backgroundcolor": "#E5ECF6",
            "gridcolor": "white",
            "gridwidth": 2,
            "linecolor": "white",
            "showbackground": true,
            "ticks": "",
            "zerolinecolor": "white"
           }
          },
          "shapedefaults": {
           "line": {
            "color": "#2a3f5f"
           }
          },
          "ternary": {
           "aaxis": {
            "gridcolor": "white",
            "linecolor": "white",
            "ticks": ""
           },
           "baxis": {
            "gridcolor": "white",
            "linecolor": "white",
            "ticks": ""
           },
           "bgcolor": "#E5ECF6",
           "caxis": {
            "gridcolor": "white",
            "linecolor": "white",
            "ticks": ""
           }
          },
          "title": {
           "x": 0.05
          },
          "xaxis": {
           "automargin": true,
           "gridcolor": "white",
           "linecolor": "white",
           "ticks": "",
           "title": {
            "standoff": 15
           },
           "zerolinecolor": "white",
           "zerolinewidth": 2
          },
          "yaxis": {
           "automargin": true,
           "gridcolor": "white",
           "linecolor": "white",
           "ticks": "",
           "title": {
            "standoff": 15
           },
           "zerolinecolor": "white",
           "zerolinewidth": 2
          }
         }
        },
        "xaxis": {
         "anchor": "y",
         "autorange": true,
         "domain": [
          0,
          1
         ],
         "range": [
          -0.5,
          419.5
         ],
         "title": {
          "text": "BOWLER"
         },
         "type": "category"
        },
        "yaxis": {
         "anchor": "x",
         "autorange": true,
         "domain": [
          0,
          1
         ],
         "range": [
          0,
          232.6315789473684
         ],
         "title": {
          "text": "EXTRAS"
         },
         "type": "linear"
        }
       }
      },
      "image/png": "[encoded data removed]",
      "text/html": [
       "<div>                            <div id=\"c5ff0e96-7686-44f9-add9-07eb2dd04961\" class=\"plotly-graph-div\" style=\"height:525px; width:100%;\"></div>            <script type=\"text/javascript\">                require([\"plotly\"], function(Plotly) {                    window.PLOTLYENV=window.PLOTLYENV || {};                                    if (document.getElementById(\"c5ff0e96-7686-44f9-add9-07eb2dd04961\")) {                    Plotly.newPlot(                        \"c5ff0e96-7686-44f9-add9-07eb2dd04961\",                        [{\"alignmentgroup\":\"True\",\"hovertemplate\":\"BOWLER=%{x}<br>EXTRAS=%{y}<extra></extra>\",\"legendgroup\":\"\",\"marker\":{\"color\":\"#636efa\",\"pattern\":{\"shape\":\"\"}},\"name\":\"\",\"offsetgroup\":\"\",\"orientation\":\"v\",\"showlegend\":false,\"textposition\":\"auto\",\"x\":[\"AA Noffke\",\"Z Khan\",\"JH Kallis\",\"SB Joshi\",\"CL White\",\"P Kumar\",\"AB Agarkar\",\"SC Ganguly\",\"LR Shukla\",\"I Sharma\",\"AB Dinda\",\"JDP Oram\",\"JR Hopes\",\"MS Gony\",\"K Goel\",\"PP Chawla\",\"WA Mota\",\"IK Pathan\",\"S Sreesanth\",\"B Lee\",\"M Muralitharan\",\"P Amarnath\",\"Joginder Sharma\",\"GD McGrath\",\"B Geeves\",\"SK Warne\",\"YK Pathan\",\"D Salunkhe\",\"SR Watson\",\"SK Trivedi\",\"DL Vettori\",\"MF Maharoof\",\"MM Patel\",\"R Bhatia\",\"B Akhil\",\"R Vinay Kumar\",\"A Nehra\",\"SM Pollock\",\"DS Kulkarni\",\"AM Nayar\",\"Harbhajan Singh\",\"ST Jayasuriya\",\"WPUJC Vaas\",\"RP Singh\",\"SB Styris\",\"SB Bangar\",\"DJ Hussey\",\"Mohammad Hafeez\",\"M Kartik\",\"PP Ojha\",\"A Symonds\",\"Pankaj Singh\",\"Mohammad Asif\",\"VY Mahesh\",\"Shahid Afridi\",\"MA Khote\",\"DJ Bravo\",\"VS Yeligati\",\"D Kalyankrishna\",\"VRV Singh\",\"A Kumble\",\"Sohail Tanvir\",\"DNT Zoysa\",\"SD Chitnis\",\"Shoaib Malik\",\"Yuvraj Singh\",\"DW Steyn\",\"JA Morkel\",\"CRD Fernando\",\"V Sehwag\",\"V Kohli\",\"Gagandeep Singh\",\"Y Venugopal Rao\",\"Umar Gul\",\"M Ntini\",\"PJ Sangwan\",\"DP Vijaykumar\",\"DB Ravi Teja\",\"LPC Silva\",\"DJ Thornely\",\"RR Raje\",\"SK Raina\",\"S Vidyut\",\"L Balaji\",\"CK Kapugedera\",\"DR Smith\",\"AD Mascarenhas\",\"A Mishra\",\"Shoaib Akhtar\",\"Iqbal Abdulla\",\"RR Powar\",\"PM Sarvesh Kumar\",\"Abdur Razzak\",\"RA Jadeja\",\"TM Dilshan\",\"RG Sharma\",\"A Nel\",\"BAW Mendis\",\"A Flintoff\",\"T Thushara\",\"SL Malinga\",\"T Henderson\",\"Kamran Khan\",\"JD Ryder\",\"DP Nannes\",\"AM Salvi\",\"YA Abdulla\",\"VS Malik\",\"Harmeet Singh\",\"FH Edwards\",\"MC Henriques\",\"CH Gayle\",\"KP Pietersen\",\"LRPL Taylor\",\"RS Bopara\",\"MK Tiwary\",\"Anureet Singh\",\"RR Bose\",\"KP Appanna\",\"Shoaib Ahmed\",\"BJ Hodge\",\"SR Tendulkar\",\"RE van der Merwe\",\"JP Duminy\",\"S Tyagi\",\"GR Napier\",\"SM Harwood\",\"AS Raut\",\"SB Jakati\",\"D du Preez\",\"TL Suman\",\"RJ Harris\",\"A Singh\",\"M Morkel\",\"LA Carseldine\",\"A Mithun\",\"C Nanda\",\"SS Sarkar\",\"AD Mathews\",\"AM Rahane\",\"J Botha\",\"Mashrafe Mortaza\",\"AB McDonald\",\"Y Nagar\",\"CK Langeveldt\",\"R Ashwin\",\"RA Shaikh\",\"Jaskaran Singh\",\"AA Jhunjhunwala\",\"A Uniyal\",\"SW Tait\",\"AG Murtaza\",\"R Sathish\",\"R McLaren\",\"RS Gavaskar\",\"JM Kemp\",\"S Ladda\",\"Bipul Sharma\",\"SE Bond\",\"KA Pollard\",\"S Narwal\",\"UT Yadav\",\"SJ Srivastava\",\"AC Voges\",\"R Sharma\",\"J Theron\",\"NLTC Perera\",\"KAJ Roach\",\"PD Collingwood\",\"C Ganapathy\",\"MB Parmar\",\"DE Bollinger\",\"SB Wagh\",\"JD Unadkat\",\"AP Dole\",\"AN Ahmed\",\"FY Fazal\",\"MR Marsh\",\"L Ablish\",\"S Sriram\",\"AJ Finch\",\"STR Binny\",\"ND Doshi\",\"S Randiv\",\"TG Southee\",\"AL Menaria\",\"DT Christian\",\"AUK Pathan\",\"RV Gomez\",\"JEC Franklin\",\"WD Parnell\",\"M Manhas\",\"AC Thomas\",\"NJ Rimmington\",\"RN ten Doeschate\",\"S Nadeem\",\"BA Bhatt\",\"R Ninan\",\"JJ van der Wath\",\"S Aravind\",\"Shakib Al Hasan\",\"PC Valthaty\",\"S Dhawan\",\"J Syed Mohammad\",\"VR Aaron\",\"JE Taylor\",\"NL McCullum\",\"KMDN Kulasekara\",\"P Parameswaran\",\"I Malhotra\",\"B Chipli\",\"B Kumar\",\"AA Kazi\",\"Anand Rajan\",\"AA Chavan\",\"P Prasanth\",\"Y Gnaneswara Rao\",\"S Rana\",\"JP Faulkner\",\"SS Mundhe\",\"RW Price\",\"GJ Maxwell\",\"M de Lange\",\"MN Samuels\",\"KK Cooper\",\"DAJ Bracewell\",\"HV Patel\",\"Ankit Sharma\",\"DJ Harris\",\"TP Sudhindra\",\"F du Plessis\",\"SP Narine\",\"GB Hogg\",\"RR Bhatkal\",\"P Awana\",\"V Pratap Singh\",\"CJ McKay\",\"A Ashish Reddy\",\"AD Russell\",\"Azhar Mahmood\",\"A Chandila\",\"P Negi\",\"LJ Wright\",\"RJ Peterson\",\"R Shukla\",\"MJ Clarke\",\"BW Hilfenhaus\",\"SPD Smith\",\"K Upadhyay\",\"Sunny Gupta\",\"MG Johnson\",\"JJ Bumrah\",\"S Badree\",\"AS Rajpoot\",\"B Laughlin\",\"GH Vihari\",\"Mohammed Shami\",\"BMAJ Mendis\",\"CH Morris\",\"Harmeet Singh (2)\",\"S Kaul\",\"R Dhawan\",\"MM Sharma\",\"R Rampaul\",\"SMSM Senanayake\",\"KV Sharma\",\"JO Holder\",\"IC Pandey\",\"Sandeep Sharma\",\"YS Chahal\",\"DJG Sammy\",\"KW Richardson\",\"P Suyal\",\"PV Tambe\",\"BJ Rohrer\",\"Parvez Rasool\",\"MG Neser\",\"NM Coulter-Nile\",\"AC Gilchrist\",\"CJ Anderson\",\"MA Starc\",\"JDS Neesham\",\"AR Patel\",\"M Vijay\",\"R Tewatia\",\"SA Yadav\",\"Shivam Sharma\",\"Imran Tahir\",\"V Shankar\",\"LMP Simmons\",\"BCJ Cutting\",\"S Gopal\",\"K Santokie\",\"BE Hendricks\",\"PJ Cummins\",\"JW Hastings\",\"Karanveer Singh\",\"DJ Muthuswami\",\"TA Boult\",\"SA Abbott\",\"KC Cariappa\",\"DJ Hooda\",\"J Suchith\",\"RG More\",\"MJ McClenaghan\",\"D Wiese\",\"HH Pandya\",\"SN Thakur\",\"GS Sandhu\",\"Gurkeerat Singh\",\"J Yadav\",\"BB Sran\",\"M Ashwin\",\"CR Brathwaite\",\"C Munro\",\"MP Stoinis\",\"P Sahu\",\"Mustafizur Rahman\",\"AF Milne\",\"Kuldeep Yadav\",\"KH Pandya\",\"KJ Abbott\",\"T Shamsi\",\"S Kaushik\",\"SM Boland\",\"Swapnil Singh\",\"CJ Jordan\",\"A Zampa\",\"Sachin Baby\",\"N Rana\",\"DL Chahar\",\"KS Williamson\",\"TM Head\",\"A Choudhary\",\"TS Mills\",\"Rashid Khan\",\"BA Stokes\",\"CR Woakes\",\"T Natarajan\",\"RD Chahar\",\"B Stanlake\",\"Basil Thampi\",\"Tejas Baroka\",\"C de Grandhomme\",\"AJ Tye\",\"LH Ferguson\",\"Mohammad Nabi\",\"Mohammed Siraj\",\"K Rabada\",\"Washington Sundar\",\"SS Agarwal\",\"NB Singh\",\"RA Tripathi\",\"Ankit Soni\",\"MJ Henry\",\"Avesh Khan\",\"MA Wood\",\"M Markande\",\"Mujeeb Ur Rahman\",\"K Khejroliya\",\"K Gowtham\",\"DJM Short\",\"TK Curran\",\"A Dananjaya\",\"Shivam Mavi\",\"JC Archer\",\"LE Plunkett\",\"IS Sodhi\",\"MK Lomror\",\"KM Asif\",\"L Ngidi\",\"DJ Willey\",\"M Prasidh Krishna\",\"MM Ali\",\"JPR Scantlebury-Searles\",\"S Lamichhane\",\"CJ Dala\",\"KK Ahmed\",\"NA Saini\",\"S Dube\",\"Rasikh Salam\",\"KMA Paul\",\"SM Curran\",\"CV Varun\",\"GC Viljoen\",\"Mandeep Singh\",\"P Ray Barman\",\"MJ Santner\",\"JP Behrendorff\",\"SC Kuggeleijn\",\"AS Joseph\",\"HF Gurney\",\"S Midhun\",\"R Parag\",\"LS Livingstone\",\"SN Khan\",\"Abhishek Sharma\",\"Arshdeep Singh\",\"Harpreet Brar\",\"SE Rutherford\",\"Y Prithvi Raj\",\"O Thomas\",\"AS Roy\",\"S Sandeep Warrier\",\"JL Pattinson\",\"SS Cottrell\",\"A Nortje\",\"Ravi Bishnoi\",\"I Udana\",\"TU Deshpande\",\"KL Nagarkoti\",\"Kartik Tyagi\",\"DR Sams\",\"Shahbaz Ahmed\",\"Abdul Samad\",\"JR Hazlewood\",\"DA Warner\",\"CJ Green\",\"P Dubey\",\"Monu Kumar\"],\"xaxis\":\"x\",\"y\":[2.0,132.0,96.0,0.0,4.0,185.0,57.0,11.0,20.0,153.0,94.0,14.0,23.0,55.0,2.0,67.0,4.0,120.0,84.0,67.0,96.0,5.0,18.0,14.0,1.0,45.0,63.0,6.0,155.0,87.0,21.0,33.0,49.0,56.0,9.0,96.0,96.0,6.0,110.0,11.0,126.0,10.0,12.0,145.0,8.0,5.0,12.0,6.0,56.0,87.0,29.0,15.0,14.0,27.0,13.0,1.0,185.0,4.0,3.0,18.0,41.0,27.0,4.0,4.0,9.0,24.0,145.0,121.0,23.0,3.0,16.0,1.0,7.0,26.0,12.0,65.0,13.0,0.0,0.0,2.0,7.0,41.0,1.0,107.0,0.0,29.0,8.0,105.0,4.0,38.0,25.0,1.0,2.0,86.0,6.0,16.0,0.0,7.0,1.0,12.0,221.0,1.0,18.0,10.0,64.0,10.0,17.0,11.0,36.0,15.0,35.0,46.0,9.0,1.0,12.0,3.0,31.0,0.0,8.0,3.0,8.0,2.0,23.0,31.0,17.0,1.0,8.0,1.0,34.0,1.0,3.0,59.0,24.0,100.0,1.0,29.0,3.0,0.0,29.0,0.0,29.0,5.0,4.0,6.0,15.0,141.0,0.0,12.0,4.0,3.0,83.0,10.0,6.0,30.0,0.0,6.0,4.0,18.0,6.0,104.0,8.0,185.0,27.0,2.0,17.0,21.0,28.0,4.0,1.0,0.0,1.0,40.0,11.0,61.0,8.0,29.0,0.0,18.0,4.0,0.0,1.0,22.0,1.0,6.0,63.0,3.0,54.0,2.0,2.0,6.0,44.0,0.0,19.0,1.0,5.0,45.0,12.0,0.0,6.0,40.0,48.0,4.0,4.0,7.0,95.0,11.0,1.0,7.0,7.0,0.0,0.0,166.0,1.0,18.0,17.0,0.0,0.0,0.0,89.0,1.0,0.0,18.0,10.0,6.0,49.0,1.0,62.0,10.0,0.0,5.0,0.0,83.0,19.0,0.0,41.0,11.0,0.0,12.0,60.0,22.0,2.0,29.0,5.0,0.0,16.0,2.0,29.0,0.0,2.0,1.0,87.0,117.0,10.0,59.0,13.0,2.0,90.0,0.0,89.0,1.0,48.0,34.0,59.0,17.0,5.0,42.0,27.0,18.0,99.0,93.0,11.0,16.0,14.0,25.0,1.0,4.0,1.0,46.0,0.0,25.0,56.0,9.0,70.0,1.0,19.0,0.0,0.0,36.0,13.0,0.0,8.0,18.0,4.0,10.0,51.0,3.0,11.0,3.0,59.0,2.0,9.0,14.0,8.0,3.0,99.0,15.0,63.0,60.0,1.0,4.0,5.0,40.0,25.0,16.0,0.0,30.0,5.0,21.0,12.0,28.0,54.0,8.0,4.0,10.0,2.0,1.0,39.0,8.0,0.0,5.0,60.0,0.0,0.0,7.0,8.0,39.0,56.0,31.0,32.0,21.0,6.0,20.0,0.0,18.0,40.0,27.0,8.0,54.0,53.0,15.0,0.0,4.0,0.0,4.0,1.0,7.0,2.0,12.0,20.0,10.0,13.0,1.0,12.0,1.0,22.0,49.0,7.0,3.0,0.0,2.0,22.0,2.0,33.0,6.0,3.0,3.0,1.0,26.0,34.0,3.0,3.0,19.0,28.0,2.0,12.0,0.0,0.0,4.0,6.0,2.0,5.0,8.0,2.0,1.0,0.0,0.0,3.0,20.0,1.0,6.0,3.0,8.0,3.0,5.0,10.0,12.0,21.0,15.0,12.0,9.0,6.0,17.0,5.0,2.0,1.0,3.0,1.0,0.0,0.0,4.0],\"yaxis\":\"y\",\"type\":\"bar\"}],                        {\"template\":{\"data\":{\"bar\":[{\"error_x\":{\"color\":\"#2a3f5f\"},\"error_y\":{\"color\":\"#2a3f5f\"},\"marker\":{\"line\":{\"color\":\"#E5ECF6\",\"width\":0.5},\"pattern\":{\"fillmode\":\"overlay\",\"size\":10,\"solidity\":0.2}},\"type\":\"bar\"}],\"barpolar\":[{\"marker\":{\"line\":{\"color\":\"#E5ECF6\",\"width\":0.5},\"pattern\":{\"fillmode\":\"overlay\",\"size\":10,\"solidity\":0.2}},\"type\":\"barpolar\"}],\"carpet\":[{\"aaxis\":{\"endlinecolor\":\"#2a3f5f\",\"gridcolor\":\"white\",\"linecolor\":\"white\",\"minorgridcolor\":\"white\",\"startlinecolor\":\"#2a3f5f\"},\"baxis\":{\"endlinecolor\":\"#2a3f5f\",\"gridcolor\":\"white\",\"linecolor\":\"white\",\"minorgridcolor\":\"white\",\"startlinecolor\":\"#2a3f5f\"},\"type\":\"carpet\"}],\"choropleth\":[{\"colorbar\":{\"outlinewidth\":0,\"ticks\":\"\"},\"type\":\"choropleth\"}],\"contour\":[{\"colorbar\":{\"outlinewidth\":0,\"ticks\":\"\"},\"colorscale\":[[0.0,\"#0d0887\"],[0.1111111111111111,\"#46039f\"],[0.2222222222222222,\"#7201a8\"],[0.3333333333333333,\"#9c179e\"],[0.4444444444444444,\"#bd3786\"],[0.5555555555555556,\"#d8576b\"],[0.6666666666666666,\"#ed7953\"],[0.7777777777777778,\"#fb9f3a\"],[0.8888888888888888,\"#fdca26\"],[1.0,\"#f0f921\"]],\"type\":\"contour\"}],\"contourcarpet\":[{\"colorbar\":{\"outlinewidth\":0,\"ticks\":\"\"},\"type\":\"contourcarpet\"}],\"heatmap\":[{\"colorbar\":{\"outlinewidth\":0,\"ticks\":\"\"},\"colorscale\":[[0.0,\"#0d0887\"],[0.1111111111111111,\"#46039f\"],[0.2222222222222222,\"#7201a8\"],[0.3333333333333333,\"#9c179e\"],[0.4444444444444444,\"#bd3786\"],[0.5555555555555556,\"#d8576b\"],[0.6666666666666666,\"#ed7953\"],[0.7777777777777778,\"#fb9f3a\"],[0.8888888888888888,\"#fdca26\"],[1.0,\"#f0f921\"]],\"type\":\"heatmap\"}],\"heatmapgl\":[{\"colorbar\":{\"outlinewidth\":0,\"ticks\":\"\"},\"colorscale\":[[0.0,\"#0d0887\"],[0.1111111111111111,\"#46039f\"],[0.2222222222222222,\"#7201a8\"],[0.3333333333333333,\"#9c179e\"],[0.4444444444444444,\"#bd3786\"],[0.5555555555555556,\"#d8576b\"],[0.6666666666666666,\"#ed7953\"],[0.7777777777777778,\"#fb9f3a\"],[0.8888888888888888,\"#fdca26\"],[1.0,\"#f0f921\"]],\"type\":\"heatmapgl\"}],\"histogram\":[{\"marker\":{\"pattern\":{\"fillmode\":\"overlay\",\"size\":10,\"solidity\":0.2}},\"type\":\"histogram\"}],\"histogram2d\":[{\"colorbar\":{\"outlinewidth\":0,\"ticks\":\"\"},\"colorscale\":[[0.0,\"#0d0887\"],[0.1111111111111111,\"#46039f\"],[0.2222222222222222,\"#7201a8\"],[0.3333333333333333,\"#9c179e\"],[0.4444444444444444,\"#bd3786\"],[0.5555555555555556,\"#d8576b\"],[0.6666666666666666,\"#ed7953\"],[0.7777777777777778,\"#fb9f3a\"],[0.8888888888888888,\"#fdca26\"],[1.0,\"#f0f921\"]],\"type\":\"histogram2d\"}],\"histogram2dcontour\":[{\"colorbar\":{\"outlinewidth\":0,\"ticks\":\"\"},\"colorscale\":[[0.0,\"#0d0887\"],[0.1111111111111111,\"#46039f\"],[0.2222222222222222,\"#7201a8\"],[0.3333333333333333,\"#9c179e\"],[0.4444444444444444,\"#bd3786\"],[0.5555555555555556,\"#d8576b\"],[0.6666666666666666,\"#ed7953\"],[0.7777777777777778,\"#fb9f3a\"],[0.8888888888888888,\"#fdca26\"],[1.0,\"#f0f921\"]],\"type\":\"histogram2dcontour\"}],\"mesh3d\":[{\"colorbar\":{\"outlinewidth\":0,\"ticks\":\"\"},\"type\":\"mesh3d\"}],\"parcoords\":[{\"line\":{\"colorbar\":{\"outlinewidth\":0,\"ticks\":\"\"}},\"type\":\"parcoords\"}],\"pie\":[{\"automargin\":true,\"type\":\"pie\"}],\"scatter\":[{\"marker\":{\"colorbar\":{\"outlinewidth\":0,\"ticks\":\"\"}},\"type\":\"scatter\"}],\"scatter3d\":[{\"line\":{\"colorbar\":{\"outlinewidth\":0,\"ticks\":\"\"}},\"marker\":{\"colorbar\":{\"outlinewidth\":0,\"ticks\":\"\"}},\"type\":\"scatter3d\"}],\"scattercarpet\":[{\"marker\":{\"colorbar\":{\"outlinewidth\":0,\"ticks\":\"\"}},\"type\":\"scattercarpet\"}],\"scattergeo\":[{\"marker\":{\"colorbar\":{\"outlinewidth\":0,\"ticks\":\"\"}},\"type\":\"scattergeo\"}],\"scattergl\":[{\"marker\":{\"colorbar\":{\"outlinewidth\":0,\"ticks\":\"\"}},\"type\":\"scattergl\"}],\"scattermapbox\":[{\"marker\":{\"colorbar\":{\"outlinewidth\":0,\"ticks\":\"\"}},\"type\":\"scattermapbox\"}],\"scatterpolar\":[{\"marker\":{\"colorbar\":{\"outlinewidth\":0,\"ticks\":\"\"}},\"type\":\"scatterpolar\"}],\"scatterpolargl\":[{\"marker\":{\"colorbar\":{\"outlinewidth\":0,\"ticks\":\"\"}},\"type\":\"scatterpolargl\"}],\"scatterternary\":[{\"marker\":{\"colorbar\":{\"outlinewidth\":0,\"ticks\":\"\"}},\"type\":\"scatterternary\"}],\"surface\":[{\"colorbar\":{\"outlinewidth\":0,\"ticks\":\"\"},\"colorscale\":[[0.0,\"#0d0887\"],[0.1111111111111111,\"#46039f\"],[0.2222222222222222,\"#7201a8\"],[0.3333333333333333,\"#9c179e\"],[0.4444444444444444,\"#bd3786\"],[0.5555555555555556,\"#d8576b\"],[0.6666666666666666,\"#ed7953\"],[0.7777777777777778,\"#fb9f3a\"],[0.8888888888888888,\"#fdca26\"],[1.0,\"#f0f921\"]],\"type\":\"surface\"}],\"table\":[{\"cells\":{\"fill\":{\"color\":\"#EBF0F8\"},\"line\":{\"color\":\"white\"}},\"header\":{\"fill\":{\"color\":\"#C8D4E3\"},\"line\":{\"color\":\"white\"}},\"type\":\"table\"}]},\"layout\":{\"annotationdefaults\":{\"arrowcolor\":\"#2a3f5f\",\"arrowhead\":0,\"arrowwidth\":1},\"autotypenumbers\":\"strict\",\"coloraxis\":{\"colorbar\":{\"outlinewidth\":0,\"ticks\":\"\"}},\"colorscale\":{\"diverging\":[[0,\"#8e0152\"],[0.1,\"#c51b7d\"],[0.2,\"#de77ae\"],[0.3,\"#f1b6da\"],[0.4,\"#fde0ef\"],[0.5,\"#f7f7f7\"],[0.6,\"#e6f5d0\"],[0.7,\"#b8e186\"],[0.8,\"#7fbc41\"],[0.9,\"#4d9221\"],[1,\"#276419\"]],\"sequential\":[[0.0,\"#0d0887\"],[0.1111111111111111,\"#46039f\"],[0.2222222222222222,\"#7201a8\"],[0.3333333333333333,\"#9c179e\"],[0.4444444444444444,\"#bd3786\"],[0.5555555555555556,\"#d8576b\"],[0.6666666666666666,\"#ed7953\"],[0.7777777777777778,\"#fb9f3a\"],[0.8888888888888888,\"#fdca26\"],[1.0,\"#f0f921\"]],\"sequentialminus\":[[0.0,\"#0d0887\"],[0.1111111111111111,\"#46039f\"],[0.2222222222222222,\"#7201a8\"],[0.3333333333333333,\"#9c179e\"],[0.4444444444444444,\"#bd3786\"],[0.5555555555555556,\"#d8576b\"],[0.6666666666666666,\"#ed7953\"],[0.7777777777777778,\"#fb9f3a\"],[0.8888888888888888,\"#fdca26\"],[1.0,\"#f0f921\"]]},\"colorway\":[\"#636efa\",\"#EF553B\",\"#00cc96\",\"#ab63fa\",\"#FFA15A\",\"#19d3f3\",\"#FF6692\",\"#B6E880\",\"#FF97FF\",\"#FECB52\"],\"font\":{\"color\":\"#2a3f5f\"},\"geo\":{\"bgcolor\":\"white\",\"lakecolor\":\"white\",\"landcolor\":\"#E5ECF6\",\"showlakes\":true,\"showland\":true,\"subunitcolor\":\"white\"},\"hoverlabel\":{\"align\":\"left\"},\"hovermode\":\"closest\",\"mapbox\":{\"style\":\"light\"},\"paper_bgcolor\":\"white\",\"plot_bgcolor\":\"#E5ECF6\",\"polar\":{\"angularaxis\":{\"gridcolor\":\"white\",\"linecolor\":\"white\",\"ticks\":\"\"},\"bgcolor\":\"#E5ECF6\",\"radialaxis\":{\"gridcolor\":\"white\",\"linecolor\":\"white\",\"ticks\":\"\"}},\"scene\":{\"xaxis\":{\"backgroundcolor\":\"#E5ECF6\",\"gridcolor\":\"white\",\"gridwidth\":2,\"linecolor\":\"white\",\"showbackground\":true,\"ticks\":\"\",\"zerolinecolor\":\"white\"},\"yaxis\":{\"backgroundcolor\":\"#E5ECF6\",\"gridcolor\":\"white\",\"gridwidth\":2,\"linecolor\":\"white\",\"showbackground\":true,\"ticks\":\"\",\"zerolinecolor\":\"white\"},\"zaxis\":{\"backgroundcolor\":\"#E5ECF6\",\"gridcolor\":\"white\",\"gridwidth\":2,\"linecolor\":\"white\",\"showbackground\":true,\"ticks\":\"\",\"zerolinecolor\":\"white\"}},\"shapedefaults\":{\"line\":{\"color\":\"#2a3f5f\"}},\"ternary\":{\"aaxis\":{\"gridcolor\":\"white\",\"linecolor\":\"white\",\"ticks\":\"\"},\"baxis\":{\"gridcolor\":\"white\",\"linecolor\":\"white\",\"ticks\":\"\"},\"bgcolor\":\"#E5ECF6\",\"caxis\":{\"gridcolor\":\"white\",\"linecolor\":\"white\",\"ticks\":\"\"}},\"title\":{\"x\":0.05},\"xaxis\":{\"automargin\":true,\"gridcolor\":\"white\",\"linecolor\":\"white\",\"ticks\":\"\",\"title\":{\"standoff\":15},\"zerolinecolor\":\"white\",\"zerolinewidth\":2},\"yaxis\":{\"automargin\":true,\"gridcolor\":\"white\",\"linecolor\":\"white\",\"ticks\":\"\",\"title\":{\"standoff\":15},\"zerolinecolor\":\"white\",\"zerolinewidth\":2}}},\"xaxis\":{\"anchor\":\"y\",\"domain\":[0.0,1.0],\"title\":{\"text\":\"BOWLER\"}},\"yaxis\":{\"anchor\":\"x\",\"domain\":[0.0,1.0],\"title\":{\"text\":\"EXTRAS\"}},\"legend\":{\"tracegroupgap\":0},\"margin\":{\"t\":60},\"barmode\":\"relative\"},                        {\"responsive\": true}                    ).then(function(){\n",
       "                            \n",
       "var gd = document.getElementById('c5ff0e96-7686-44f9-add9-07eb2dd04961');\n",
       "var x = new MutationObserver(function (mutations, observer) {{\n",
       "        var display = window.getComputedStyle(gd).display;\n",
       "        if (!display || display === 'none') {{\n",
       "            console.log([gd, 'removed!']);\n",
       "            Plotly.purge(gd);\n",
       "            observer.disconnect();\n",
       "        }}\n",
       "}});\n",
       "\n",
       "// Listen for the removal of the full notebook cells\n",
       "var notebookContainer = gd.closest('#notebook-container');\n",
       "if (notebookContainer) {{\n",
       "    x.observe(notebookContainer, {childList: true});\n",
       "}}\n",
       "\n",
       "// Listen for the clearing of the current output cell\n",
       "var outputEl = gd.closest('.output');\n",
       "if (outputEl) {{\n",
       "    x.observe(outputEl, {childList: true});\n",
       "}}\n",
       "\n",
       "                        })                };                });            </script>        </div>"
      ]
     },
     "metadata": {},
     "output_type": "display_data"
    }
   ],
   "source": [
    "extra_data = pd.DataFrame(dict(BOWLER = extras_per_bowler.keys(),EXTRAS = extras_per_bowler.values()))\n",
    "extra_graph = px.bar(extra_data , x = 'BOWLER',y='EXTRAS')\n",
    "extra_graph"
   ]
  },
  {
   "cell_type": "markdown",
   "metadata": {},
   "source": [
    "PLAYER AGAINST A TEAM"
   ]
  },
  {
   "cell_type": "code",
   "execution_count": null,
   "metadata": {},
   "outputs": [],
   "source": [
    "#Player vs Team\n",
    "player = input(\"Enter the name of the player: \")\n",
    "team = input(\"Enter the name of the team :\")\n",
    "runs_scored = 0\n",
    "for i in range(0,len(match)):\n",
    "    if(match['batsman'][i]==player and match['bowling_team'][i] == team):\n",
    "        runs_scored += match['batsman_runs'][i]\n",
    "print(player.upper(),\"scored\", runs_scored,\"runs against\",team)"
   ]
  },
  {
   "cell_type": "code",
   "execution_count": 24,
   "metadata": {},
   "outputs": [
    {
     "name": "stdin",
     "output_type": "stream",
     "text": [
      "Enter the name of the player:  MS Dhoni\n",
      "Enter the name of the team : Rajasthan Royals\n"
     ]
    },
    {
     "name": "stdout",
     "output_type": "stream",
     "text": [
      "MS DHONI was dismissed 13 times by Rajasthan Royals\n"
     ]
    }
   ],
   "source": [
    "player = input(\"Enter the name of the player: \")\n",
    "team = input(\"Enter the name of the team :\")\n",
    "times_dismissed = 0\n",
    "for i in range(0,len(match)):\n",
    "    if(match['batsman'][i]==player and match['bowling_team'][i] == team and match['is_wicket'][i] == 1):\n",
    "        times_dismissed += 1\n",
    "print(player.upper(),\"was dismissed\", times_dismissed,\"times by\",team)"
   ]
  },
  {
   "cell_type": "markdown",
   "metadata": {},
   "source": [
    "BATSMAN AGAINST A BOWLER"
   ]
  },
  {
   "cell_type": "code",
   "execution_count": 25,
   "metadata": {},
   "outputs": [
    {
     "name": "stdin",
     "output_type": "stream",
     "text": [
      "Enter the name of the batsman:  MS Dhoni\n",
      "Enter the name of the bowler : SL Malinga\n"
     ]
    },
    {
     "name": "stdout",
     "output_type": "stream",
     "text": [
      "SL MALINGA  had dismissed MS DHONI on 2 occassions\n",
      "MS DHONI scored 89 runs against SL Malinga\n"
     ]
    }
   ],
   "source": [
    "#BATSMAN VS BOWLER\n",
    "batsman = input(\"Enter the name of the batsman: \")\n",
    "bowler = input(\"Enter the name of the bowler :\")\n",
    "times_dismissed = 0\n",
    "runs_scored = 0\n",
    "for i in range(0,len(match)):\n",
    "    if(match['batsman'][i] == batsman and match['bowler'][i] == bowler and match['is_wicket'][i] == 1):\n",
    "        times_dismissed += 1\n",
    "    if(match['batsman'][i] == batsman and match['bowler'][i] == bowler and match['is_wicket'][i] == 0):\n",
    "        runs_scored += match['batsman_runs'][i]\n",
    "print(bowler.upper(),\" had dismissed\",batsman.upper(),\"on\",times_dismissed,\"occassions\")\n",
    "print(batsman.upper(),\"scored\",runs_scored,\"runs against\",bowler)"
   ]
  },
  {
   "cell_type": "markdown",
   "metadata": {},
   "source": [
    "PERFORMANCE OF A PLAYER IN THE DEATH OVERS"
   ]
  },
  {
   "cell_type": "code",
   "execution_count": 26,
   "metadata": {},
   "outputs": [
    {
     "name": "stdin",
     "output_type": "stream",
     "text": [
      "Enter the name of the batsman:  MS Dhoni\n",
      "Enter the name of the bowler : SL Malinga\n"
     ]
    },
    {
     "name": "stdout",
     "output_type": "stream",
     "text": [
      "Runs scored by MS DHONI in the death overs: 2303\n",
      "Runs conceeded by SL MALINGA in the death overs: 1252\n",
      "Wickets in the death overs by SL Malinga : 90\n"
     ]
    }
   ],
   "source": [
    "#death overs\n",
    "\n",
    "batsman = input(\"Enter the name of the batsman: \")\n",
    "bowler = input(\"Enter the name of the bowler :\")\n",
    "runs_bats=0\n",
    "runs_bowls = 0\n",
    "wicks_in_death=0\n",
    "for i in range(0,len(match)):\n",
    "    if(match['over'][i] >= 16 and match['batsman'][i] == batsman):\n",
    "        runs_bats += match['batsman_runs'][i]\n",
    "    if(match['over'][i] >= 16 and match['bowler'][i] == bowler):\n",
    "        runs_bowls += match['batsman_runs'][i] + match['extra_runs'][i]\n",
    "    if(match['over'][i] >= 16 and match['bowler'][i] == bowler and match['is_wicket'][i] == 1 and match['dismissal_kind'][i] != 'run out' and match['dismissal_kind'][i] != 'hit wicket' and match['dismissal_kind'][i] != 'obstructing the field' and match['dismissal_kind'][i] != 'retired hurt' and match['dismissal_kind'][i] != 'nan'):\n",
    "        wicks_in_death+=1\n",
    "print('Runs scored by',batsman.upper(),\"in the death overs:\",runs_bats)\n",
    "print('Runs conceeded by',bowler.upper(),'in the death overs:',runs_bowls)\n",
    "print('Wickets in the death overs by',bowler,\":\",wicks_in_death)"
   ]
  },
  {
   "cell_type": "markdown",
   "metadata": {},
   "source": [
    "RUNS SCORED IN A PARTICULAR OVER"
   ]
  },
  {
   "cell_type": "code",
   "execution_count": 29,
   "metadata": {},
   "outputs": [
    {
     "name": "stdin",
     "output_type": "stream",
     "text": [
      "Enter the name of the batsman: V Kohli\n",
      "Over number : 10\n"
     ]
    },
    {
     "name": "stdout",
     "output_type": "stream",
     "text": [
      "V Kohli has scored 356 runs in over number: 10\n"
     ]
    }
   ],
   "source": [
    "#runs scored by a player in a particular over\n",
    "\n",
    "player = input(\"Enter the name of the batsman:\")\n",
    "over = int(input(\"Over number :\"))\n",
    "runs_scored = 0\n",
    "\n",
    "for i in range(0,len(match)):\n",
    "    if(match['over'][i] == over and match['batsman'][i] == player):\n",
    "        runs_scored += match['batsman_runs'][i]\n",
    "print(player,\"has scored\",runs_scored,\"runs in over number:\",over)"
   ]
  },
  {
   "cell_type": "markdown",
   "metadata": {},
   "source": [
    "DISMISSAL TYPE OF A BATSMAN"
   ]
  },
  {
   "cell_type": "code",
   "execution_count": 41,
   "metadata": {},
   "outputs": [
    {
     "name": "stdin",
     "output_type": "stream",
     "text": [
      "Enter the name of the batsman :  SK Raina\n"
     ]
    },
    {
     "data": {
      "application/vnd.plotly.v1+json": {
       "config": {
        "plotlyServerURL": "https://plot.ly"
       },
       "data": [
        {
         "alignmentgroup": "True",
         "hovertemplate": "TYPE=%{x}<br>NUMBER_OF_TIMES=%{y}<extra></extra>",
         "legendgroup": "",
         "marker": {
          "color": "#636efa",
          "pattern": {
           "shape": ""
          }
         },
         "name": "",
         "offsetgroup": "",
         "orientation": "v",
         "showlegend": false,
         "textposition": "auto",
         "type": "bar",
         "x": [
          null,
          "caught",
          "run out",
          "bowled",
          "lbw",
          "retired hurt",
          "stumped",
          "caught and bowled",
          "hit wicket",
          "obstructing the field"
         ],
         "xaxis": "x",
         "y": [
          3881,
          110,
          12,
          16,
          6,
          0,
          8,
          8,
          0,
          0
         ],
         "yaxis": "y"
        }
       ],
       "layout": {
        "autosize": true,
        "barmode": "relative",
        "legend": {
         "tracegroupgap": 0
        },
        "template": {
         "data": {
          "bar": [
           {
            "error_x": {
             "color": "#2a3f5f"
            },
            "error_y": {
             "color": "#2a3f5f"
            },
            "marker": {
             "line": {
              "color": "#E5ECF6",
              "width": 0.5
             },
             "pattern": {
              "fillmode": "overlay",
              "size": 10,
              "solidity": 0.2
             }
            },
            "type": "bar"
           }
          ],
          "barpolar": [
           {
            "marker": {
             "line": {
              "color": "#E5ECF6",
              "width": 0.5
             },
             "pattern": {
              "fillmode": "overlay",
              "size": 10,
              "solidity": 0.2
             }
            },
            "type": "barpolar"
           }
          ],
          "carpet": [
           {
            "aaxis": {
             "endlinecolor": "#2a3f5f",
             "gridcolor": "white",
             "linecolor": "white",
             "minorgridcolor": "white",
             "startlinecolor": "#2a3f5f"
            },
            "baxis": {
             "endlinecolor": "#2a3f5f",
             "gridcolor": "white",
             "linecolor": "white",
             "minorgridcolor": "white",
             "startlinecolor": "#2a3f5f"
            },
            "type": "carpet"
           }
          ],
          "choropleth": [
           {
            "colorbar": {
             "outlinewidth": 0,
             "ticks": ""
            },
            "type": "choropleth"
           }
          ],
          "contour": [
           {
            "colorbar": {
             "outlinewidth": 0,
             "ticks": ""
            },
            "colorscale": [
             [
              0,
              "#0d0887"
             ],
             [
              0.1111111111111111,
              "#46039f"
             ],
             [
              0.2222222222222222,
              "#7201a8"
             ],
             [
              0.3333333333333333,
              "#9c179e"
             ],
             [
              0.4444444444444444,
              "#bd3786"
             ],
             [
              0.5555555555555556,
              "#d8576b"
             ],
             [
              0.6666666666666666,
              "#ed7953"
             ],
             [
              0.7777777777777778,
              "#fb9f3a"
             ],
             [
              0.8888888888888888,
              "#fdca26"
             ],
             [
              1,
              "#f0f921"
             ]
            ],
            "type": "contour"
           }
          ],
          "contourcarpet": [
           {
            "colorbar": {
             "outlinewidth": 0,
             "ticks": ""
            },
            "type": "contourcarpet"
           }
          ],
          "heatmap": [
           {
            "colorbar": {
             "outlinewidth": 0,
             "ticks": ""
            },
            "colorscale": [
             [
              0,
              "#0d0887"
             ],
             [
              0.1111111111111111,
              "#46039f"
             ],
             [
              0.2222222222222222,
              "#7201a8"
             ],
             [
              0.3333333333333333,
              "#9c179e"
             ],
             [
              0.4444444444444444,
              "#bd3786"
             ],
             [
              0.5555555555555556,
              "#d8576b"
             ],
             [
              0.6666666666666666,
              "#ed7953"
             ],
             [
              0.7777777777777778,
              "#fb9f3a"
             ],
             [
              0.8888888888888888,
              "#fdca26"
             ],
             [
              1,
              "#f0f921"
             ]
            ],
            "type": "heatmap"
           }
          ],
          "heatmapgl": [
           {
            "colorbar": {
             "outlinewidth": 0,
             "ticks": ""
            },
            "colorscale": [
             [
              0,
              "#0d0887"
             ],
             [
              0.1111111111111111,
              "#46039f"
             ],
             [
              0.2222222222222222,
              "#7201a8"
             ],
             [
              0.3333333333333333,
              "#9c179e"
             ],
             [
              0.4444444444444444,
              "#bd3786"
             ],
             [
              0.5555555555555556,
              "#d8576b"
             ],
             [
              0.6666666666666666,
              "#ed7953"
             ],
             [
              0.7777777777777778,
              "#fb9f3a"
             ],
             [
              0.8888888888888888,
              "#fdca26"
             ],
             [
              1,
              "#f0f921"
             ]
            ],
            "type": "heatmapgl"
           }
          ],
          "histogram": [
           {
            "marker": {
             "pattern": {
              "fillmode": "overlay",
              "size": 10,
              "solidity": 0.2
             }
            },
            "type": "histogram"
           }
          ],
          "histogram2d": [
           {
            "colorbar": {
             "outlinewidth": 0,
             "ticks": ""
            },
            "colorscale": [
             [
              0,
              "#0d0887"
             ],
             [
              0.1111111111111111,
              "#46039f"
             ],
             [
              0.2222222222222222,
              "#7201a8"
             ],
             [
              0.3333333333333333,
              "#9c179e"
             ],
             [
              0.4444444444444444,
              "#bd3786"
             ],
             [
              0.5555555555555556,
              "#d8576b"
             ],
             [
              0.6666666666666666,
              "#ed7953"
             ],
             [
              0.7777777777777778,
              "#fb9f3a"
             ],
             [
              0.8888888888888888,
              "#fdca26"
             ],
             [
              1,
              "#f0f921"
             ]
            ],
            "type": "histogram2d"
           }
          ],
          "histogram2dcontour": [
           {
            "colorbar": {
             "outlinewidth": 0,
             "ticks": ""
            },
            "colorscale": [
             [
              0,
              "#0d0887"
             ],
             [
              0.1111111111111111,
              "#46039f"
             ],
             [
              0.2222222222222222,
              "#7201a8"
             ],
             [
              0.3333333333333333,
              "#9c179e"
             ],
             [
              0.4444444444444444,
              "#bd3786"
             ],
             [
              0.5555555555555556,
              "#d8576b"
             ],
             [
              0.6666666666666666,
              "#ed7953"
             ],
             [
              0.7777777777777778,
              "#fb9f3a"
             ],
             [
              0.8888888888888888,
              "#fdca26"
             ],
             [
              1,
              "#f0f921"
             ]
            ],
            "type": "histogram2dcontour"
           }
          ],
          "mesh3d": [
           {
            "colorbar": {
             "outlinewidth": 0,
             "ticks": ""
            },
            "type": "mesh3d"
           }
          ],
          "parcoords": [
           {
            "line": {
             "colorbar": {
              "outlinewidth": 0,
              "ticks": ""
             }
            },
            "type": "parcoords"
           }
          ],
          "pie": [
           {
            "automargin": true,
            "type": "pie"
           }
          ],
          "scatter": [
           {
            "marker": {
             "colorbar": {
              "outlinewidth": 0,
              "ticks": ""
             }
            },
            "type": "scatter"
           }
          ],
          "scatter3d": [
           {
            "line": {
             "colorbar": {
              "outlinewidth": 0,
              "ticks": ""
             }
            },
            "marker": {
             "colorbar": {
              "outlinewidth": 0,
              "ticks": ""
             }
            },
            "type": "scatter3d"
           }
          ],
          "scattercarpet": [
           {
            "marker": {
             "colorbar": {
              "outlinewidth": 0,
              "ticks": ""
             }
            },
            "type": "scattercarpet"
           }
          ],
          "scattergeo": [
           {
            "marker": {
             "colorbar": {
              "outlinewidth": 0,
              "ticks": ""
             }
            },
            "type": "scattergeo"
           }
          ],
          "scattergl": [
           {
            "marker": {
             "colorbar": {
              "outlinewidth": 0,
              "ticks": ""
             }
            },
            "type": "scattergl"
           }
          ],
          "scattermapbox": [
           {
            "marker": {
             "colorbar": {
              "outlinewidth": 0,
              "ticks": ""
             }
            },
            "type": "scattermapbox"
           }
          ],
          "scatterpolar": [
           {
            "marker": {
             "colorbar": {
              "outlinewidth": 0,
              "ticks": ""
             }
            },
            "type": "scatterpolar"
           }
          ],
          "scatterpolargl": [
           {
            "marker": {
             "colorbar": {
              "outlinewidth": 0,
              "ticks": ""
             }
            },
            "type": "scatterpolargl"
           }
          ],
          "scatterternary": [
           {
            "marker": {
             "colorbar": {
              "outlinewidth": 0,
              "ticks": ""
             }
            },
            "type": "scatterternary"
           }
          ],
          "surface": [
           {
            "colorbar": {
             "outlinewidth": 0,
             "ticks": ""
            },
            "colorscale": [
             [
              0,
              "#0d0887"
             ],
             [
              0.1111111111111111,
              "#46039f"
             ],
             [
              0.2222222222222222,
              "#7201a8"
             ],
             [
              0.3333333333333333,
              "#9c179e"
             ],
             [
              0.4444444444444444,
              "#bd3786"
             ],
             [
              0.5555555555555556,
              "#d8576b"
             ],
             [
              0.6666666666666666,
              "#ed7953"
             ],
             [
              0.7777777777777778,
              "#fb9f3a"
             ],
             [
              0.8888888888888888,
              "#fdca26"
             ],
             [
              1,
              "#f0f921"
             ]
            ],
            "type": "surface"
           }
          ],
          "table": [
           {
            "cells": {
             "fill": {
              "color": "#EBF0F8"
             },
             "line": {
              "color": "white"
             }
            },
            "header": {
             "fill": {
              "color": "#C8D4E3"
             },
             "line": {
              "color": "white"
             }
            },
            "type": "table"
           }
          ]
         },
         "layout": {
          "annotationdefaults": {
           "arrowcolor": "#2a3f5f",
           "arrowhead": 0,
           "arrowwidth": 1
          },
          "autotypenumbers": "strict",
          "coloraxis": {
           "colorbar": {
            "outlinewidth": 0,
            "ticks": ""
           }
          },
          "colorscale": {
           "diverging": [
            [
             0,
             "#8e0152"
            ],
            [
             0.1,
             "#c51b7d"
            ],
            [
             0.2,
             "#de77ae"
            ],
            [
             0.3,
             "#f1b6da"
            ],
            [
             0.4,
             "#fde0ef"
            ],
            [
             0.5,
             "#f7f7f7"
            ],
            [
             0.6,
             "#e6f5d0"
            ],
            [
             0.7,
             "#b8e186"
            ],
            [
             0.8,
             "#7fbc41"
            ],
            [
             0.9,
             "#4d9221"
            ],
            [
             1,
             "#276419"
            ]
           ],
           "sequential": [
            [
             0,
             "#0d0887"
            ],
            [
             0.1111111111111111,
             "#46039f"
            ],
            [
             0.2222222222222222,
             "#7201a8"
            ],
            [
             0.3333333333333333,
             "#9c179e"
            ],
            [
             0.4444444444444444,
             "#bd3786"
            ],
            [
             0.5555555555555556,
             "#d8576b"
            ],
            [
             0.6666666666666666,
             "#ed7953"
            ],
            [
             0.7777777777777778,
             "#fb9f3a"
            ],
            [
             0.8888888888888888,
             "#fdca26"
            ],
            [
             1,
             "#f0f921"
            ]
           ],
           "sequentialminus": [
            [
             0,
             "#0d0887"
            ],
            [
             0.1111111111111111,
             "#46039f"
            ],
            [
             0.2222222222222222,
             "#7201a8"
            ],
            [
             0.3333333333333333,
             "#9c179e"
            ],
            [
             0.4444444444444444,
             "#bd3786"
            ],
            [
             0.5555555555555556,
             "#d8576b"
            ],
            [
             0.6666666666666666,
             "#ed7953"
            ],
            [
             0.7777777777777778,
             "#fb9f3a"
            ],
            [
             0.8888888888888888,
             "#fdca26"
            ],
            [
             1,
             "#f0f921"
            ]
           ]
          },
          "colorway": [
           "#636efa",
           "#EF553B",
           "#00cc96",
           "#ab63fa",
           "#FFA15A",
           "#19d3f3",
           "#FF6692",
           "#B6E880",
           "#FF97FF",
           "#FECB52"
          ],
          "font": {
           "color": "#2a3f5f"
          },
          "geo": {
           "bgcolor": "white",
           "lakecolor": "white",
           "landcolor": "#E5ECF6",
           "showlakes": true,
           "showland": true,
           "subunitcolor": "white"
          },
          "hoverlabel": {
           "align": "left"
          },
          "hovermode": "closest",
          "mapbox": {
           "style": "light"
          },
          "paper_bgcolor": "white",
          "plot_bgcolor": "#E5ECF6",
          "polar": {
           "angularaxis": {
            "gridcolor": "white",
            "linecolor": "white",
            "ticks": ""
           },
           "bgcolor": "#E5ECF6",
           "radialaxis": {
            "gridcolor": "white",
            "linecolor": "white",
            "ticks": ""
           }
          },
          "scene": {
           "xaxis": {
            "backgroundcolor": "#E5ECF6",
            "gridcolor": "white",
            "gridwidth": 2,
            "linecolor": "white",
            "showbackground": true,
            "ticks": "",
            "zerolinecolor": "white"
           },
           "yaxis": {
            "backgroundcolor": "#E5ECF6",
            "gridcolor": "white",
            "gridwidth": 2,
            "linecolor": "white",
            "showbackground": true,
            "ticks": "",
            "zerolinecolor": "white"
           },
           "zaxis": {
            "backgroundcolor": "#E5ECF6",
            "gridcolor": "white",
            "gridwidth": 2,
            "linecolor": "white",
            "showbackground": true,
            "ticks": "",
            "zerolinecolor": "white"
           }
          },
          "shapedefaults": {
           "line": {
            "color": "#2a3f5f"
           }
          },
          "ternary": {
           "aaxis": {
            "gridcolor": "white",
            "linecolor": "white",
            "ticks": ""
           },
           "baxis": {
            "gridcolor": "white",
            "linecolor": "white",
            "ticks": ""
           },
           "bgcolor": "#E5ECF6",
           "caxis": {
            "gridcolor": "white",
            "linecolor": "white",
            "ticks": ""
           }
          },
          "title": {
           "x": 0.05
          },
          "xaxis": {
           "automargin": true,
           "gridcolor": "white",
           "linecolor": "white",
           "ticks": "",
           "title": {
            "standoff": 15
           },
           "zerolinecolor": "white",
           "zerolinewidth": 2
          },
          "yaxis": {
           "automargin": true,
           "gridcolor": "white",
           "linecolor": "white",
           "ticks": "",
           "title": {
            "standoff": 15
           },
           "zerolinecolor": "white",
           "zerolinewidth": 2
          }
         }
        },
        "title": {
         "text": "SK Raina's DISMISSALS"
        },
        "xaxis": {
         "anchor": "y",
         "autorange": true,
         "domain": [
          0,
          1
         ],
         "range": [
          -0.5,
          8.5
         ],
         "title": {
          "text": "TYPE"
         },
         "type": "category"
        },
        "yaxis": {
         "anchor": "x",
         "autorange": false,
         "domain": [
          0,
          1
         ],
         "range": [
          0,
          150
         ],
         "title": {
          "text": "NUMBER_OF_TIMES"
         },
         "type": "linear"
        }
       }
      },
      "image/png": "[encoded data removed]",
      "text/html": [
       "<div>                            <div id=\"9b97ffca-8cbb-40b5-8d6c-cd5d1561522a\" class=\"plotly-graph-div\" style=\"height:525px; width:100%;\"></div>            <script type=\"text/javascript\">                require([\"plotly\"], function(Plotly) {                    window.PLOTLYENV=window.PLOTLYENV || {};                                    if (document.getElementById(\"9b97ffca-8cbb-40b5-8d6c-cd5d1561522a\")) {                    Plotly.newPlot(                        \"9b97ffca-8cbb-40b5-8d6c-cd5d1561522a\",                        [{\"alignmentgroup\":\"True\",\"hovertemplate\":\"TYPE=%{x}<br>NUMBER_OF_TIMES=%{y}<extra></extra>\",\"legendgroup\":\"\",\"marker\":{\"color\":\"#636efa\",\"pattern\":{\"shape\":\"\"}},\"name\":\"\",\"offsetgroup\":\"\",\"orientation\":\"v\",\"showlegend\":false,\"textposition\":\"auto\",\"x\":[null,\"caught\",\"run out\",\"bowled\",\"lbw\",\"retired hurt\",\"stumped\",\"caught and bowled\",\"hit wicket\",\"obstructing the field\"],\"xaxis\":\"x\",\"y\":[3881.0,110.0,12.0,16.0,6.0,0.0,8.0,8.0,0.0,0.0],\"yaxis\":\"y\",\"type\":\"bar\"}],                        {\"template\":{\"data\":{\"bar\":[{\"error_x\":{\"color\":\"#2a3f5f\"},\"error_y\":{\"color\":\"#2a3f5f\"},\"marker\":{\"line\":{\"color\":\"#E5ECF6\",\"width\":0.5},\"pattern\":{\"fillmode\":\"overlay\",\"size\":10,\"solidity\":0.2}},\"type\":\"bar\"}],\"barpolar\":[{\"marker\":{\"line\":{\"color\":\"#E5ECF6\",\"width\":0.5},\"pattern\":{\"fillmode\":\"overlay\",\"size\":10,\"solidity\":0.2}},\"type\":\"barpolar\"}],\"carpet\":[{\"aaxis\":{\"endlinecolor\":\"#2a3f5f\",\"gridcolor\":\"white\",\"linecolor\":\"white\",\"minorgridcolor\":\"white\",\"startlinecolor\":\"#2a3f5f\"},\"baxis\":{\"endlinecolor\":\"#2a3f5f\",\"gridcolor\":\"white\",\"linecolor\":\"white\",\"minorgridcolor\":\"white\",\"startlinecolor\":\"#2a3f5f\"},\"type\":\"carpet\"}],\"choropleth\":[{\"colorbar\":{\"outlinewidth\":0,\"ticks\":\"\"},\"type\":\"choropleth\"}],\"contour\":[{\"colorbar\":{\"outlinewidth\":0,\"ticks\":\"\"},\"colorscale\":[[0.0,\"#0d0887\"],[0.1111111111111111,\"#46039f\"],[0.2222222222222222,\"#7201a8\"],[0.3333333333333333,\"#9c179e\"],[0.4444444444444444,\"#bd3786\"],[0.5555555555555556,\"#d8576b\"],[0.6666666666666666,\"#ed7953\"],[0.7777777777777778,\"#fb9f3a\"],[0.8888888888888888,\"#fdca26\"],[1.0,\"#f0f921\"]],\"type\":\"contour\"}],\"contourcarpet\":[{\"colorbar\":{\"outlinewidth\":0,\"ticks\":\"\"},\"type\":\"contourcarpet\"}],\"heatmap\":[{\"colorbar\":{\"outlinewidth\":0,\"ticks\":\"\"},\"colorscale\":[[0.0,\"#0d0887\"],[0.1111111111111111,\"#46039f\"],[0.2222222222222222,\"#7201a8\"],[0.3333333333333333,\"#9c179e\"],[0.4444444444444444,\"#bd3786\"],[0.5555555555555556,\"#d8576b\"],[0.6666666666666666,\"#ed7953\"],[0.7777777777777778,\"#fb9f3a\"],[0.8888888888888888,\"#fdca26\"],[1.0,\"#f0f921\"]],\"type\":\"heatmap\"}],\"heatmapgl\":[{\"colorbar\":{\"outlinewidth\":0,\"ticks\":\"\"},\"colorscale\":[[0.0,\"#0d0887\"],[0.1111111111111111,\"#46039f\"],[0.2222222222222222,\"#7201a8\"],[0.3333333333333333,\"#9c179e\"],[0.4444444444444444,\"#bd3786\"],[0.5555555555555556,\"#d8576b\"],[0.6666666666666666,\"#ed7953\"],[0.7777777777777778,\"#fb9f3a\"],[0.8888888888888888,\"#fdca26\"],[1.0,\"#f0f921\"]],\"type\":\"heatmapgl\"}],\"histogram\":[{\"marker\":{\"pattern\":{\"fillmode\":\"overlay\",\"size\":10,\"solidity\":0.2}},\"type\":\"histogram\"}],\"histogram2d\":[{\"colorbar\":{\"outlinewidth\":0,\"ticks\":\"\"},\"colorscale\":[[0.0,\"#0d0887\"],[0.1111111111111111,\"#46039f\"],[0.2222222222222222,\"#7201a8\"],[0.3333333333333333,\"#9c179e\"],[0.4444444444444444,\"#bd3786\"],[0.5555555555555556,\"#d8576b\"],[0.6666666666666666,\"#ed7953\"],[0.7777777777777778,\"#fb9f3a\"],[0.8888888888888888,\"#fdca26\"],[1.0,\"#f0f921\"]],\"type\":\"histogram2d\"}],\"histogram2dcontour\":[{\"colorbar\":{\"outlinewidth\":0,\"ticks\":\"\"},\"colorscale\":[[0.0,\"#0d0887\"],[0.1111111111111111,\"#46039f\"],[0.2222222222222222,\"#7201a8\"],[0.3333333333333333,\"#9c179e\"],[0.4444444444444444,\"#bd3786\"],[0.5555555555555556,\"#d8576b\"],[0.6666666666666666,\"#ed7953\"],[0.7777777777777778,\"#fb9f3a\"],[0.8888888888888888,\"#fdca26\"],[1.0,\"#f0f921\"]],\"type\":\"histogram2dcontour\"}],\"mesh3d\":[{\"colorbar\":{\"outlinewidth\":0,\"ticks\":\"\"},\"type\":\"mesh3d\"}],\"parcoords\":[{\"line\":{\"colorbar\":{\"outlinewidth\":0,\"ticks\":\"\"}},\"type\":\"parcoords\"}],\"pie\":[{\"automargin\":true,\"type\":\"pie\"}],\"scatter\":[{\"marker\":{\"colorbar\":{\"outlinewidth\":0,\"ticks\":\"\"}},\"type\":\"scatter\"}],\"scatter3d\":[{\"line\":{\"colorbar\":{\"outlinewidth\":0,\"ticks\":\"\"}},\"marker\":{\"colorbar\":{\"outlinewidth\":0,\"ticks\":\"\"}},\"type\":\"scatter3d\"}],\"scattercarpet\":[{\"marker\":{\"colorbar\":{\"outlinewidth\":0,\"ticks\":\"\"}},\"type\":\"scattercarpet\"}],\"scattergeo\":[{\"marker\":{\"colorbar\":{\"outlinewidth\":0,\"ticks\":\"\"}},\"type\":\"scattergeo\"}],\"scattergl\":[{\"marker\":{\"colorbar\":{\"outlinewidth\":0,\"ticks\":\"\"}},\"type\":\"scattergl\"}],\"scattermapbox\":[{\"marker\":{\"colorbar\":{\"outlinewidth\":0,\"ticks\":\"\"}},\"type\":\"scattermapbox\"}],\"scatterpolar\":[{\"marker\":{\"colorbar\":{\"outlinewidth\":0,\"ticks\":\"\"}},\"type\":\"scatterpolar\"}],\"scatterpolargl\":[{\"marker\":{\"colorbar\":{\"outlinewidth\":0,\"ticks\":\"\"}},\"type\":\"scatterpolargl\"}],\"scatterternary\":[{\"marker\":{\"colorbar\":{\"outlinewidth\":0,\"ticks\":\"\"}},\"type\":\"scatterternary\"}],\"surface\":[{\"colorbar\":{\"outlinewidth\":0,\"ticks\":\"\"},\"colorscale\":[[0.0,\"#0d0887\"],[0.1111111111111111,\"#46039f\"],[0.2222222222222222,\"#7201a8\"],[0.3333333333333333,\"#9c179e\"],[0.4444444444444444,\"#bd3786\"],[0.5555555555555556,\"#d8576b\"],[0.6666666666666666,\"#ed7953\"],[0.7777777777777778,\"#fb9f3a\"],[0.8888888888888888,\"#fdca26\"],[1.0,\"#f0f921\"]],\"type\":\"surface\"}],\"table\":[{\"cells\":{\"fill\":{\"color\":\"#EBF0F8\"},\"line\":{\"color\":\"white\"}},\"header\":{\"fill\":{\"color\":\"#C8D4E3\"},\"line\":{\"color\":\"white\"}},\"type\":\"table\"}]},\"layout\":{\"annotationdefaults\":{\"arrowcolor\":\"#2a3f5f\",\"arrowhead\":0,\"arrowwidth\":1},\"autotypenumbers\":\"strict\",\"coloraxis\":{\"colorbar\":{\"outlinewidth\":0,\"ticks\":\"\"}},\"colorscale\":{\"diverging\":[[0,\"#8e0152\"],[0.1,\"#c51b7d\"],[0.2,\"#de77ae\"],[0.3,\"#f1b6da\"],[0.4,\"#fde0ef\"],[0.5,\"#f7f7f7\"],[0.6,\"#e6f5d0\"],[0.7,\"#b8e186\"],[0.8,\"#7fbc41\"],[0.9,\"#4d9221\"],[1,\"#276419\"]],\"sequential\":[[0.0,\"#0d0887\"],[0.1111111111111111,\"#46039f\"],[0.2222222222222222,\"#7201a8\"],[0.3333333333333333,\"#9c179e\"],[0.4444444444444444,\"#bd3786\"],[0.5555555555555556,\"#d8576b\"],[0.6666666666666666,\"#ed7953\"],[0.7777777777777778,\"#fb9f3a\"],[0.8888888888888888,\"#fdca26\"],[1.0,\"#f0f921\"]],\"sequentialminus\":[[0.0,\"#0d0887\"],[0.1111111111111111,\"#46039f\"],[0.2222222222222222,\"#7201a8\"],[0.3333333333333333,\"#9c179e\"],[0.4444444444444444,\"#bd3786\"],[0.5555555555555556,\"#d8576b\"],[0.6666666666666666,\"#ed7953\"],[0.7777777777777778,\"#fb9f3a\"],[0.8888888888888888,\"#fdca26\"],[1.0,\"#f0f921\"]]},\"colorway\":[\"#636efa\",\"#EF553B\",\"#00cc96\",\"#ab63fa\",\"#FFA15A\",\"#19d3f3\",\"#FF6692\",\"#B6E880\",\"#FF97FF\",\"#FECB52\"],\"font\":{\"color\":\"#2a3f5f\"},\"geo\":{\"bgcolor\":\"white\",\"lakecolor\":\"white\",\"landcolor\":\"#E5ECF6\",\"showlakes\":true,\"showland\":true,\"subunitcolor\":\"white\"},\"hoverlabel\":{\"align\":\"left\"},\"hovermode\":\"closest\",\"mapbox\":{\"style\":\"light\"},\"paper_bgcolor\":\"white\",\"plot_bgcolor\":\"#E5ECF6\",\"polar\":{\"angularaxis\":{\"gridcolor\":\"white\",\"linecolor\":\"white\",\"ticks\":\"\"},\"bgcolor\":\"#E5ECF6\",\"radialaxis\":{\"gridcolor\":\"white\",\"linecolor\":\"white\",\"ticks\":\"\"}},\"scene\":{\"xaxis\":{\"backgroundcolor\":\"#E5ECF6\",\"gridcolor\":\"white\",\"gridwidth\":2,\"linecolor\":\"white\",\"showbackground\":true,\"ticks\":\"\",\"zerolinecolor\":\"white\"},\"yaxis\":{\"backgroundcolor\":\"#E5ECF6\",\"gridcolor\":\"white\",\"gridwidth\":2,\"linecolor\":\"white\",\"showbackground\":true,\"ticks\":\"\",\"zerolinecolor\":\"white\"},\"zaxis\":{\"backgroundcolor\":\"#E5ECF6\",\"gridcolor\":\"white\",\"gridwidth\":2,\"linecolor\":\"white\",\"showbackground\":true,\"ticks\":\"\",\"zerolinecolor\":\"white\"}},\"shapedefaults\":{\"line\":{\"color\":\"#2a3f5f\"}},\"ternary\":{\"aaxis\":{\"gridcolor\":\"white\",\"linecolor\":\"white\",\"ticks\":\"\"},\"baxis\":{\"gridcolor\":\"white\",\"linecolor\":\"white\",\"ticks\":\"\"},\"bgcolor\":\"#E5ECF6\",\"caxis\":{\"gridcolor\":\"white\",\"linecolor\":\"white\",\"ticks\":\"\"}},\"title\":{\"x\":0.05},\"xaxis\":{\"automargin\":true,\"gridcolor\":\"white\",\"linecolor\":\"white\",\"ticks\":\"\",\"title\":{\"standoff\":15},\"zerolinecolor\":\"white\",\"zerolinewidth\":2},\"yaxis\":{\"automargin\":true,\"gridcolor\":\"white\",\"linecolor\":\"white\",\"ticks\":\"\",\"title\":{\"standoff\":15},\"zerolinecolor\":\"white\",\"zerolinewidth\":2}}},\"xaxis\":{\"anchor\":\"y\",\"domain\":[0.0,1.0],\"title\":{\"text\":\"TYPE\"}},\"yaxis\":{\"anchor\":\"x\",\"domain\":[0.0,1.0],\"title\":{\"text\":\"NUMBER_OF_TIMES\"},\"range\":[0,150],\"autorange\":false},\"legend\":{\"tracegroupgap\":0},\"title\":{\"text\":\"SK Raina's DISMISSALS\"},\"barmode\":\"relative\"},                        {\"responsive\": true}                    ).then(function(){\n",
       "                            \n",
       "var gd = document.getElementById('9b97ffca-8cbb-40b5-8d6c-cd5d1561522a');\n",
       "var x = new MutationObserver(function (mutations, observer) {{\n",
       "        var display = window.getComputedStyle(gd).display;\n",
       "        if (!display || display === 'none') {{\n",
       "            console.log([gd, 'removed!']);\n",
       "            Plotly.purge(gd);\n",
       "            observer.disconnect();\n",
       "        }}\n",
       "}});\n",
       "\n",
       "// Listen for the removal of the full notebook cells\n",
       "var notebookContainer = gd.closest('#notebook-container');\n",
       "if (notebookContainer) {{\n",
       "    x.observe(notebookContainer, {childList: true});\n",
       "}}\n",
       "\n",
       "// Listen for the clearing of the current output cell\n",
       "var outputEl = gd.closest('.output');\n",
       "if (outputEl) {{\n",
       "    x.observe(outputEl, {childList: true});\n",
       "}}\n",
       "\n",
       "                        })                };                });            </script>        </div>"
      ]
     },
     "metadata": {},
     "output_type": "display_data"
    }
   ],
   "source": [
    "#dismissal type of a batsman\n",
    "player = input(\"Enter the name of the batsman : \")\n",
    "dismissal = match.dismissal_kind.unique()\n",
    "out = dict(zip(dismissal,np.zeros(len(dismissal))))\n",
    "for i in range(0,len(match)):\n",
    "    if(match['batsman'][i] == player):\n",
    "        out[match['dismissal_kind'][i]] += 1\n",
    "        \n",
    "\n",
    "plot_data = pd.DataFrame(dict(TYPE = out.keys(), NUMBER_OF_TIMES = out.values()))\n",
    "plot_graph = px.bar(plot_data , x = \"TYPE\" , y = \"NUMBER_OF_TIMES\",title = player+\"'s DISMISSALS\")\n",
    "plot_graph.update_yaxes(range=[0,150],autorange=False)"
   ]
  },
  {
   "cell_type": "markdown",
   "metadata": {},
   "source": [
    "NUMBER OF DOT BALLS BOWLED BY A PLAYER"
   ]
  },
  {
   "cell_type": "code",
   "execution_count": 47,
   "metadata": {},
   "outputs": [
    {
     "data": {
      "application/vnd.plotly.v1+json": {
       "config": {
        "plotlyServerURL": "https://plot.ly"
       },
       "data": [
        {
         "alignmentgroup": "True",
         "hovertemplate": "BOWLER=%{x}<br>DOT_BALLS=%{y}<extra></extra>",
         "legendgroup": "",
         "marker": {
          "color": "#636efa",
          "pattern": {
           "shape": ""
          }
         },
         "name": "",
         "offsetgroup": "",
         "orientation": "v",
         "showlegend": false,
         "textposition": "auto",
         "type": "bar",
         "x": [
          "AA Noffke",
          "Z Khan",
          "JH Kallis",
          "SB Joshi",
          "CL White",
          "P Kumar",
          "AB Agarkar",
          "SC Ganguly",
          "LR Shukla",
          "I Sharma",
          "AB Dinda",
          "JDP Oram",
          "JR Hopes",
          "MS Gony",
          "K Goel",
          "PP Chawla",
          "WA Mota",
          "IK Pathan",
          "S Sreesanth",
          "B Lee",
          "M Muralitharan",
          "P Amarnath",
          "Joginder Sharma",
          "GD McGrath",
          "B Geeves",
          "SK Warne",
          "YK Pathan",
          "D Salunkhe",
          "SR Watson",
          "SK Trivedi",
          "DL Vettori",
          "MF Maharoof",
          "MM Patel",
          "R Bhatia",
          "B Akhil",
          "R Vinay Kumar",
          "A Nehra",
          "SM Pollock",
          "DS Kulkarni",
          "AM Nayar",
          "Harbhajan Singh",
          "ST Jayasuriya",
          "WPUJC Vaas",
          "RP Singh",
          "SB Styris",
          "SB Bangar",
          "DJ Hussey",
          "Mohammad Hafeez",
          "M Kartik",
          "PP Ojha",
          "A Symonds",
          "Pankaj Singh",
          "Mohammad Asif",
          "VY Mahesh",
          "Shahid Afridi",
          "MA Khote",
          "DJ Bravo",
          "VS Yeligati",
          "D Kalyankrishna",
          "VRV Singh",
          "A Kumble",
          "Sohail Tanvir",
          "DNT Zoysa",
          "SD Chitnis",
          "Shoaib Malik",
          "Yuvraj Singh",
          "DW Steyn",
          "JA Morkel",
          "CRD Fernando",
          "V Sehwag",
          "V Kohli",
          "Gagandeep Singh",
          "Y Venugopal Rao",
          "Umar Gul",
          "M Ntini",
          "PJ Sangwan",
          "DP Vijaykumar",
          "DB Ravi Teja",
          "LPC Silva",
          "DJ Thornely",
          "RR Raje",
          "SK Raina",
          "S Vidyut",
          "L Balaji",
          "CK Kapugedera",
          "DR Smith",
          "AD Mascarenhas",
          "A Mishra",
          "Shoaib Akhtar",
          "Iqbal Abdulla",
          "RR Powar",
          "PM Sarvesh Kumar",
          "Abdur Razzak",
          "RA Jadeja",
          "TM Dilshan",
          "RG Sharma",
          "A Nel",
          "BAW Mendis",
          "A Flintoff",
          "T Thushara",
          "SL Malinga",
          "T Henderson",
          "Kamran Khan",
          "JD Ryder",
          "DP Nannes",
          "AM Salvi",
          "YA Abdulla",
          "VS Malik",
          "Harmeet Singh",
          "FH Edwards",
          "MC Henriques",
          "CH Gayle",
          "KP Pietersen",
          "LRPL Taylor",
          "RS Bopara",
          "MK Tiwary",
          "Anureet Singh",
          "RR Bose",
          "KP Appanna",
          "Shoaib Ahmed",
          "BJ Hodge",
          "SR Tendulkar",
          "RE van der Merwe",
          "JP Duminy",
          "S Tyagi",
          "GR Napier",
          "SM Harwood",
          "AS Raut",
          "SB Jakati",
          "D du Preez",
          "TL Suman",
          "RJ Harris",
          "A Singh",
          "M Morkel",
          "LA Carseldine",
          "A Mithun",
          "C Nanda",
          "SS Sarkar",
          "AD Mathews",
          "AM Rahane",
          "J Botha",
          "Mashrafe Mortaza",
          "AB McDonald",
          "Y Nagar",
          "CK Langeveldt",
          "R Ashwin",
          "RA Shaikh",
          "Jaskaran Singh",
          "AA Jhunjhunwala",
          "A Uniyal",
          "SW Tait",
          "AG Murtaza",
          "R Sathish",
          "R McLaren",
          "RS Gavaskar",
          "JM Kemp",
          "S Ladda",
          "Bipul Sharma",
          "SE Bond",
          "KA Pollard",
          "S Narwal",
          "UT Yadav",
          "SJ Srivastava",
          "AC Voges",
          "R Sharma",
          "J Theron",
          "NLTC Perera",
          "KAJ Roach",
          "PD Collingwood",
          "C Ganapathy",
          "MB Parmar",
          "DE Bollinger",
          "SB Wagh",
          "JD Unadkat",
          "AP Dole",
          "AN Ahmed",
          "FY Fazal",
          "MR Marsh",
          "L Ablish",
          "S Sriram",
          "AJ Finch",
          "STR Binny",
          "ND Doshi",
          "S Randiv",
          "TG Southee",
          "AL Menaria",
          "DT Christian",
          "AUK Pathan",
          "RV Gomez",
          "JEC Franklin",
          "WD Parnell",
          "M Manhas",
          "AC Thomas",
          "NJ Rimmington",
          "RN ten Doeschate",
          "S Nadeem",
          "BA Bhatt",
          "R Ninan",
          "JJ van der Wath",
          "S Aravind",
          "Shakib Al Hasan",
          "PC Valthaty",
          "S Dhawan",
          "J Syed Mohammad",
          "VR Aaron",
          "JE Taylor",
          "NL McCullum",
          "KMDN Kulasekara",
          "P Parameswaran",
          "I Malhotra",
          "B Chipli",
          "B Kumar",
          "AA Kazi",
          "Anand Rajan",
          "AA Chavan",
          "P Prasanth",
          "Y Gnaneswara Rao",
          "S Rana",
          "JP Faulkner",
          "SS Mundhe",
          "RW Price",
          "GJ Maxwell",
          "M de Lange",
          "MN Samuels",
          "KK Cooper",
          "DAJ Bracewell",
          "HV Patel",
          "Ankit Sharma",
          "DJ Harris",
          "TP Sudhindra",
          "F du Plessis",
          "SP Narine",
          "GB Hogg",
          "RR Bhatkal",
          "P Awana",
          "V Pratap Singh",
          "CJ McKay",
          "A Ashish Reddy",
          "AD Russell",
          "Azhar Mahmood",
          "A Chandila",
          "P Negi",
          "LJ Wright",
          "RJ Peterson",
          "R Shukla",
          "MJ Clarke",
          "BW Hilfenhaus",
          "SPD Smith",
          "K Upadhyay",
          "Sunny Gupta",
          "MG Johnson",
          "JJ Bumrah",
          "S Badree",
          "AS Rajpoot",
          "B Laughlin",
          "GH Vihari",
          "Mohammed Shami",
          "BMAJ Mendis",
          "CH Morris",
          "Harmeet Singh (2)",
          "S Kaul",
          "R Dhawan",
          "MM Sharma",
          "R Rampaul",
          "SMSM Senanayake",
          "KV Sharma",
          "JO Holder",
          "IC Pandey",
          "Sandeep Sharma",
          "YS Chahal",
          "DJG Sammy",
          "KW Richardson",
          "P Suyal",
          "PV Tambe",
          "BJ Rohrer",
          "Parvez Rasool",
          "MG Neser",
          "NM Coulter-Nile",
          "AC Gilchrist",
          "CJ Anderson",
          "MA Starc",
          "JDS Neesham",
          "AR Patel",
          "M Vijay",
          "R Tewatia",
          "SA Yadav",
          "Shivam Sharma",
          "Imran Tahir",
          "V Shankar",
          "LMP Simmons",
          "BCJ Cutting",
          "S Gopal",
          "K Santokie",
          "BE Hendricks",
          "PJ Cummins",
          "JW Hastings",
          "Karanveer Singh",
          "DJ Muthuswami",
          "TA Boult",
          "SA Abbott",
          "KC Cariappa",
          "DJ Hooda",
          "J Suchith",
          "RG More",
          "MJ McClenaghan",
          "D Wiese",
          "HH Pandya",
          "SN Thakur",
          "GS Sandhu",
          "Gurkeerat Singh",
          "J Yadav",
          "BB Sran",
          "M Ashwin",
          "CR Brathwaite",
          "C Munro",
          "MP Stoinis",
          "P Sahu",
          "Mustafizur Rahman",
          "AF Milne",
          "Kuldeep Yadav",
          "KH Pandya",
          "KJ Abbott",
          "T Shamsi",
          "S Kaushik",
          "SM Boland",
          "Swapnil Singh",
          "CJ Jordan",
          "A Zampa",
          "Sachin Baby",
          "N Rana",
          "DL Chahar",
          "KS Williamson",
          "TM Head",
          "A Choudhary",
          "TS Mills",
          "Rashid Khan",
          "BA Stokes",
          "CR Woakes",
          "T Natarajan",
          "RD Chahar",
          "B Stanlake",
          "Basil Thampi",
          "Tejas Baroka",
          "C de Grandhomme",
          "AJ Tye",
          "LH Ferguson",
          "Mohammad Nabi",
          "Mohammed Siraj",
          "K Rabada",
          "Washington Sundar",
          "SS Agarwal",
          "NB Singh",
          "RA Tripathi",
          "Ankit Soni",
          "MJ Henry",
          "Avesh Khan",
          "MA Wood",
          "M Markande",
          "Mujeeb Ur Rahman",
          "K Khejroliya",
          "K Gowtham",
          "DJM Short",
          "TK Curran",
          "A Dananjaya",
          "Shivam Mavi",
          "JC Archer",
          "LE Plunkett",
          "IS Sodhi",
          "MK Lomror",
          "KM Asif",
          "L Ngidi",
          "DJ Willey",
          "M Prasidh Krishna",
          "MM Ali",
          "JPR Scantlebury-Searles",
          "S Lamichhane",
          "CJ Dala",
          "KK Ahmed",
          "NA Saini",
          "S Dube",
          "Rasikh Salam",
          "KMA Paul",
          "SM Curran",
          "CV Varun",
          "GC Viljoen",
          "Mandeep Singh",
          "P Ray Barman",
          "MJ Santner",
          "JP Behrendorff",
          "SC Kuggeleijn",
          "AS Joseph",
          "HF Gurney",
          "S Midhun",
          "R Parag",
          "LS Livingstone",
          "SN Khan",
          "Abhishek Sharma",
          "Arshdeep Singh",
          "Harpreet Brar",
          "SE Rutherford",
          "Y Prithvi Raj",
          "O Thomas",
          "AS Roy",
          "S Sandeep Warrier",
          "JL Pattinson",
          "SS Cottrell",
          "A Nortje",
          "Ravi Bishnoi",
          "I Udana",
          "TU Deshpande",
          "KL Nagarkoti",
          "Kartik Tyagi",
          "DR Sams",
          "Shahbaz Ahmed",
          "Abdul Samad",
          "JR Hazlewood",
          "DA Warner",
          "CJ Green",
          "P Dubey",
          "Monu Kumar"
         ],
         "xaxis": "x",
         "y": [
          6,
          863,
          595,
          18,
          8,
          1066,
          252,
          75,
          107,
          816,
          617,
          77,
          105,
          347,
          19,
          1133,
          24,
          826,
          398,
          370,
          595,
          29,
          70,
          151,
          14,
          425,
          393,
          13,
          794,
          487,
          266,
          161,
          584,
          429,
          60,
          750,
          788,
          129,
          732,
          69,
          1240,
          81,
          124,
          737,
          82,
          53,
          84,
          22,
          377,
          661,
          188,
          111,
          64,
          120,
          57,
          5,
          847,
          6,
          10,
          112,
          371,
          120,
          24,
          9,
          15,
          256,
          1012,
          639,
          97,
          44,
          52,
          25,
          58,
          50,
          99,
          294,
          63,
          4,
          0,
          19,
          38,
          277,
          5,
          532,
          0,
          167,
          124,
          1119,
          23,
          326,
          165,
          11,
          5,
          866,
          79,
          88,
          7,
          75,
          20,
          56,
          1135,
          14,
          59,
          76,
          278,
          57,
          88,
          84,
          187,
          69,
          276,
          179,
          52,
          0,
          59,
          9,
          138,
          5,
          67,
          33,
          74,
          4,
          145,
          234,
          93,
          8,
          33,
          6,
          335,
          18,
          43,
          364,
          187,
          705,
          4,
          89,
          13,
          4,
          224,
          2,
          252,
          6,
          49,
          16,
          69,
          1160,
          1,
          39,
          27,
          7,
          199,
          99,
          28,
          115,
          2,
          15,
          48,
          128,
          75,
          353,
          36,
          946,
          103,
          14,
          333,
          64,
          222,
          20,
          24,
          1,
          4,
          252,
          45,
          537,
          20,
          117,
          1,
          113,
          8,
          2,
          13,
          195,
          24,
          59,
          325,
          40,
          267,
          9,
          36,
          39,
          240,
          15,
          124,
          9,
          21,
          440,
          92,
          8,
          29,
          287,
          451,
          44,
          17,
          46,
          380,
          48,
          10,
          45,
          64,
          0,
          1,
          1147,
          1,
          56,
          100,
          3,
          3,
          5,
          391,
          4,
          1,
          161,
          38,
          78,
          182,
          10,
          306,
          137,
          4,
          18,
          0,
          1090,
          157,
          0,
          291,
          70,
          14,
          78,
          396,
          199,
          103,
          236,
          14,
          21,
          36,
          21,
          172,
          0,
          20,
          0,
          531,
          803,
          109,
          192,
          42,
          17,
          479,
          11,
          579,
          12,
          312,
          149,
          637,
          127,
          73,
          406,
          131,
          211,
          841,
          750,
          71,
          124,
          36,
          205,
          1,
          60,
          5,
          315,
          1,
          78,
          227,
          39,
          652,
          8,
          201,
          2,
          37,
          422,
          54,
          2,
          75,
          288,
          15,
          50,
          249,
          31,
          62,
          44,
          443,
          6,
          61,
          61,
          81,
          4,
          503,
          78,
          286,
          323,
          9,
          26,
          102,
          167,
          199,
          72,
          5,
          138,
          24,
          194,
          32,
          262,
          394,
          28,
          26,
          68,
          14,
          10,
          118,
          90,
          4,
          34,
          438,
          2,
          7,
          42,
          41,
          602,
          223,
          130,
          145,
          239,
          64,
          112,
          6,
          58,
          184,
          110,
          115,
          273,
          300,
          238,
          7,
          13,
          0,
          35,
          7,
          68,
          5,
          91,
          137,
          25,
          132,
          7,
          38,
          6,
          121,
          376,
          39,
          64,
          2,
          16,
          106,
          19,
          181,
          94,
          7,
          75,
          7,
          147,
          246,
          16,
          8,
          52,
          143,
          118,
          42,
          1,
          2,
          49,
          51,
          17,
          23,
          50,
          3,
          21,
          3,
          0,
          11,
          68,
          13,
          7,
          8,
          17,
          4,
          37,
          77,
          58,
          149,
          117,
          45,
          28,
          44,
          78,
          22,
          8,
          9,
          29,
          0,
          6,
          12,
          4
         ],
         "yaxis": "y"
        }
       ],
       "layout": {
        "autosize": true,
        "barmode": "relative",
        "legend": {
         "tracegroupgap": 0
        },
        "margin": {
         "t": 60
        },
        "template": {
         "data": {
          "bar": [
           {
            "error_x": {
             "color": "#2a3f5f"
            },
            "error_y": {
             "color": "#2a3f5f"
            },
            "marker": {
             "line": {
              "color": "#E5ECF6",
              "width": 0.5
             },
             "pattern": {
              "fillmode": "overlay",
              "size": 10,
              "solidity": 0.2
             }
            },
            "type": "bar"
           }
          ],
          "barpolar": [
           {
            "marker": {
             "line": {
              "color": "#E5ECF6",
              "width": 0.5
             },
             "pattern": {
              "fillmode": "overlay",
              "size": 10,
              "solidity": 0.2
             }
            },
            "type": "barpolar"
           }
          ],
          "carpet": [
           {
            "aaxis": {
             "endlinecolor": "#2a3f5f",
             "gridcolor": "white",
             "linecolor": "white",
             "minorgridcolor": "white",
             "startlinecolor": "#2a3f5f"
            },
            "baxis": {
             "endlinecolor": "#2a3f5f",
             "gridcolor": "white",
             "linecolor": "white",
             "minorgridcolor": "white",
             "startlinecolor": "#2a3f5f"
            },
            "type": "carpet"
           }
          ],
          "choropleth": [
           {
            "colorbar": {
             "outlinewidth": 0,
             "ticks": ""
            },
            "type": "choropleth"
           }
          ],
          "contour": [
           {
            "colorbar": {
             "outlinewidth": 0,
             "ticks": ""
            },
            "colorscale": [
             [
              0,
              "#0d0887"
             ],
             [
              0.1111111111111111,
              "#46039f"
             ],
             [
              0.2222222222222222,
              "#7201a8"
             ],
             [
              0.3333333333333333,
              "#9c179e"
             ],
             [
              0.4444444444444444,
              "#bd3786"
             ],
             [
              0.5555555555555556,
              "#d8576b"
             ],
             [
              0.6666666666666666,
              "#ed7953"
             ],
             [
              0.7777777777777778,
              "#fb9f3a"
             ],
             [
              0.8888888888888888,
              "#fdca26"
             ],
             [
              1,
              "#f0f921"
             ]
            ],
            "type": "contour"
           }
          ],
          "contourcarpet": [
           {
            "colorbar": {
             "outlinewidth": 0,
             "ticks": ""
            },
            "type": "contourcarpet"
           }
          ],
          "heatmap": [
           {
            "colorbar": {
             "outlinewidth": 0,
             "ticks": ""
            },
            "colorscale": [
             [
              0,
              "#0d0887"
             ],
             [
              0.1111111111111111,
              "#46039f"
             ],
             [
              0.2222222222222222,
              "#7201a8"
             ],
             [
              0.3333333333333333,
              "#9c179e"
             ],
             [
              0.4444444444444444,
              "#bd3786"
             ],
             [
              0.5555555555555556,
              "#d8576b"
             ],
             [
              0.6666666666666666,
              "#ed7953"
             ],
             [
              0.7777777777777778,
              "#fb9f3a"
             ],
             [
              0.8888888888888888,
              "#fdca26"
             ],
             [
              1,
              "#f0f921"
             ]
            ],
            "type": "heatmap"
           }
          ],
          "heatmapgl": [
           {
            "colorbar": {
             "outlinewidth": 0,
             "ticks": ""
            },
            "colorscale": [
             [
              0,
              "#0d0887"
             ],
             [
              0.1111111111111111,
              "#46039f"
             ],
             [
              0.2222222222222222,
              "#7201a8"
             ],
             [
              0.3333333333333333,
              "#9c179e"
             ],
             [
              0.4444444444444444,
              "#bd3786"
             ],
             [
              0.5555555555555556,
              "#d8576b"
             ],
             [
              0.6666666666666666,
              "#ed7953"
             ],
             [
              0.7777777777777778,
              "#fb9f3a"
             ],
             [
              0.8888888888888888,
              "#fdca26"
             ],
             [
              1,
              "#f0f921"
             ]
            ],
            "type": "heatmapgl"
           }
          ],
          "histogram": [
           {
            "marker": {
             "pattern": {
              "fillmode": "overlay",
              "size": 10,
              "solidity": 0.2
             }
            },
            "type": "histogram"
           }
          ],
          "histogram2d": [
           {
            "colorbar": {
             "outlinewidth": 0,
             "ticks": ""
            },
            "colorscale": [
             [
              0,
              "#0d0887"
             ],
             [
              0.1111111111111111,
              "#46039f"
             ],
             [
              0.2222222222222222,
              "#7201a8"
             ],
             [
              0.3333333333333333,
              "#9c179e"
             ],
             [
              0.4444444444444444,
              "#bd3786"
             ],
             [
              0.5555555555555556,
              "#d8576b"
             ],
             [
              0.6666666666666666,
              "#ed7953"
             ],
             [
              0.7777777777777778,
              "#fb9f3a"
             ],
             [
              0.8888888888888888,
              "#fdca26"
             ],
             [
              1,
              "#f0f921"
             ]
            ],
            "type": "histogram2d"
           }
          ],
          "histogram2dcontour": [
           {
            "colorbar": {
             "outlinewidth": 0,
             "ticks": ""
            },
            "colorscale": [
             [
              0,
              "#0d0887"
             ],
             [
              0.1111111111111111,
              "#46039f"
             ],
             [
              0.2222222222222222,
              "#7201a8"
             ],
             [
              0.3333333333333333,
              "#9c179e"
             ],
             [
              0.4444444444444444,
              "#bd3786"
             ],
             [
              0.5555555555555556,
              "#d8576b"
             ],
             [
              0.6666666666666666,
              "#ed7953"
             ],
             [
              0.7777777777777778,
              "#fb9f3a"
             ],
             [
              0.8888888888888888,
              "#fdca26"
             ],
             [
              1,
              "#f0f921"
             ]
            ],
            "type": "histogram2dcontour"
           }
          ],
          "mesh3d": [
           {
            "colorbar": {
             "outlinewidth": 0,
             "ticks": ""
            },
            "type": "mesh3d"
           }
          ],
          "parcoords": [
           {
            "line": {
             "colorbar": {
              "outlinewidth": 0,
              "ticks": ""
             }
            },
            "type": "parcoords"
           }
          ],
          "pie": [
           {
            "automargin": true,
            "type": "pie"
           }
          ],
          "scatter": [
           {
            "marker": {
             "colorbar": {
              "outlinewidth": 0,
              "ticks": ""
             }
            },
            "type": "scatter"
           }
          ],
          "scatter3d": [
           {
            "line": {
             "colorbar": {
              "outlinewidth": 0,
              "ticks": ""
             }
            },
            "marker": {
             "colorbar": {
              "outlinewidth": 0,
              "ticks": ""
             }
            },
            "type": "scatter3d"
           }
          ],
          "scattercarpet": [
           {
            "marker": {
             "colorbar": {
              "outlinewidth": 0,
              "ticks": ""
             }
            },
            "type": "scattercarpet"
           }
          ],
          "scattergeo": [
           {
            "marker": {
             "colorbar": {
              "outlinewidth": 0,
              "ticks": ""
             }
            },
            "type": "scattergeo"
           }
          ],
          "scattergl": [
           {
            "marker": {
             "colorbar": {
              "outlinewidth": 0,
              "ticks": ""
             }
            },
            "type": "scattergl"
           }
          ],
          "scattermapbox": [
           {
            "marker": {
             "colorbar": {
              "outlinewidth": 0,
              "ticks": ""
             }
            },
            "type": "scattermapbox"
           }
          ],
          "scatterpolar": [
           {
            "marker": {
             "colorbar": {
              "outlinewidth": 0,
              "ticks": ""
             }
            },
            "type": "scatterpolar"
           }
          ],
          "scatterpolargl": [
           {
            "marker": {
             "colorbar": {
              "outlinewidth": 0,
              "ticks": ""
             }
            },
            "type": "scatterpolargl"
           }
          ],
          "scatterternary": [
           {
            "marker": {
             "colorbar": {
              "outlinewidth": 0,
              "ticks": ""
             }
            },
            "type": "scatterternary"
           }
          ],
          "surface": [
           {
            "colorbar": {
             "outlinewidth": 0,
             "ticks": ""
            },
            "colorscale": [
             [
              0,
              "#0d0887"
             ],
             [
              0.1111111111111111,
              "#46039f"
             ],
             [
              0.2222222222222222,
              "#7201a8"
             ],
             [
              0.3333333333333333,
              "#9c179e"
             ],
             [
              0.4444444444444444,
              "#bd3786"
             ],
             [
              0.5555555555555556,
              "#d8576b"
             ],
             [
              0.6666666666666666,
              "#ed7953"
             ],
             [
              0.7777777777777778,
              "#fb9f3a"
             ],
             [
              0.8888888888888888,
              "#fdca26"
             ],
             [
              1,
              "#f0f921"
             ]
            ],
            "type": "surface"
           }
          ],
          "table": [
           {
            "cells": {
             "fill": {
              "color": "#EBF0F8"
             },
             "line": {
              "color": "white"
             }
            },
            "header": {
             "fill": {
              "color": "#C8D4E3"
             },
             "line": {
              "color": "white"
             }
            },
            "type": "table"
           }
          ]
         },
         "layout": {
          "annotationdefaults": {
           "arrowcolor": "#2a3f5f",
           "arrowhead": 0,
           "arrowwidth": 1
          },
          "autotypenumbers": "strict",
          "coloraxis": {
           "colorbar": {
            "outlinewidth": 0,
            "ticks": ""
           }
          },
          "colorscale": {
           "diverging": [
            [
             0,
             "#8e0152"
            ],
            [
             0.1,
             "#c51b7d"
            ],
            [
             0.2,
             "#de77ae"
            ],
            [
             0.3,
             "#f1b6da"
            ],
            [
             0.4,
             "#fde0ef"
            ],
            [
             0.5,
             "#f7f7f7"
            ],
            [
             0.6,
             "#e6f5d0"
            ],
            [
             0.7,
             "#b8e186"
            ],
            [
             0.8,
             "#7fbc41"
            ],
            [
             0.9,
             "#4d9221"
            ],
            [
             1,
             "#276419"
            ]
           ],
           "sequential": [
            [
             0,
             "#0d0887"
            ],
            [
             0.1111111111111111,
             "#46039f"
            ],
            [
             0.2222222222222222,
             "#7201a8"
            ],
            [
             0.3333333333333333,
             "#9c179e"
            ],
            [
             0.4444444444444444,
             "#bd3786"
            ],
            [
             0.5555555555555556,
             "#d8576b"
            ],
            [
             0.6666666666666666,
             "#ed7953"
            ],
            [
             0.7777777777777778,
             "#fb9f3a"
            ],
            [
             0.8888888888888888,
             "#fdca26"
            ],
            [
             1,
             "#f0f921"
            ]
           ],
           "sequentialminus": [
            [
             0,
             "#0d0887"
            ],
            [
             0.1111111111111111,
             "#46039f"
            ],
            [
             0.2222222222222222,
             "#7201a8"
            ],
            [
             0.3333333333333333,
             "#9c179e"
            ],
            [
             0.4444444444444444,
             "#bd3786"
            ],
            [
             0.5555555555555556,
             "#d8576b"
            ],
            [
             0.6666666666666666,
             "#ed7953"
            ],
            [
             0.7777777777777778,
             "#fb9f3a"
            ],
            [
             0.8888888888888888,
             "#fdca26"
            ],
            [
             1,
             "#f0f921"
            ]
           ]
          },
          "colorway": [
           "#636efa",
           "#EF553B",
           "#00cc96",
           "#ab63fa",
           "#FFA15A",
           "#19d3f3",
           "#FF6692",
           "#B6E880",
           "#FF97FF",
           "#FECB52"
          ],
          "font": {
           "color": "#2a3f5f"
          },
          "geo": {
           "bgcolor": "white",
           "lakecolor": "white",
           "landcolor": "#E5ECF6",
           "showlakes": true,
           "showland": true,
           "subunitcolor": "white"
          },
          "hoverlabel": {
           "align": "left"
          },
          "hovermode": "closest",
          "mapbox": {
           "style": "light"
          },
          "paper_bgcolor": "white",
          "plot_bgcolor": "#E5ECF6",
          "polar": {
           "angularaxis": {
            "gridcolor": "white",
            "linecolor": "white",
            "ticks": ""
           },
           "bgcolor": "#E5ECF6",
           "radialaxis": {
            "gridcolor": "white",
            "linecolor": "white",
            "ticks": ""
           }
          },
          "scene": {
           "xaxis": {
            "backgroundcolor": "#E5ECF6",
            "gridcolor": "white",
            "gridwidth": 2,
            "linecolor": "white",
            "showbackground": true,
            "ticks": "",
            "zerolinecolor": "white"
           },
           "yaxis": {
            "backgroundcolor": "#E5ECF6",
            "gridcolor": "white",
            "gridwidth": 2,
            "linecolor": "white",
            "showbackground": true,
            "ticks": "",
            "zerolinecolor": "white"
           },
           "zaxis": {
            "backgroundcolor": "#E5ECF6",
            "gridcolor": "white",
            "gridwidth": 2,
            "linecolor": "white",
            "showbackground": true,
            "ticks": "",
            "zerolinecolor": "white"
           }
          },
          "shapedefaults": {
           "line": {
            "color": "#2a3f5f"
           }
          },
          "ternary": {
           "aaxis": {
            "gridcolor": "white",
            "linecolor": "white",
            "ticks": ""
           },
           "baxis": {
            "gridcolor": "white",
            "linecolor": "white",
            "ticks": ""
           },
           "bgcolor": "#E5ECF6",
           "caxis": {
            "gridcolor": "white",
            "linecolor": "white",
            "ticks": ""
           }
          },
          "title": {
           "x": 0.05
          },
          "xaxis": {
           "automargin": true,
           "gridcolor": "white",
           "linecolor": "white",
           "ticks": "",
           "title": {
            "standoff": 15
           },
           "zerolinecolor": "white",
           "zerolinewidth": 2
          },
          "yaxis": {
           "automargin": true,
           "gridcolor": "white",
           "linecolor": "white",
           "ticks": "",
           "title": {
            "standoff": 15
           },
           "zerolinecolor": "white",
           "zerolinewidth": 2
          }
         }
        },
        "xaxis": {
         "anchor": "y",
         "autorange": true,
         "domain": [
          0,
          1
         ],
         "range": [
          -0.5,
          419.5
         ],
         "title": {
          "text": "BOWLER"
         },
         "type": "category"
        },
        "yaxis": {
         "anchor": "x",
         "autorange": true,
         "domain": [
          0,
          1
         ],
         "range": [
          0,
          1305.2631578947369
         ],
         "title": {
          "text": "DOT_BALLS"
         },
         "type": "linear"
        }
       }
      },
      "image/png": "[encoded data removed]",
      "text/html": [
       "<div>                            <div id=\"184966ea-31e6-483c-a738-5e941d1ebaec\" class=\"plotly-graph-div\" style=\"height:525px; width:100%;\"></div>            <script type=\"text/javascript\">                require([\"plotly\"], function(Plotly) {                    window.PLOTLYENV=window.PLOTLYENV || {};                                    if (document.getElementById(\"184966ea-31e6-483c-a738-5e941d1ebaec\")) {                    Plotly.newPlot(                        \"184966ea-31e6-483c-a738-5e941d1ebaec\",                        [{\"alignmentgroup\":\"True\",\"hovertemplate\":\"BOWLER=%{x}<br>DOT_BALLS=%{y}<extra></extra>\",\"legendgroup\":\"\",\"marker\":{\"color\":\"#636efa\",\"pattern\":{\"shape\":\"\"}},\"name\":\"\",\"offsetgroup\":\"\",\"orientation\":\"v\",\"showlegend\":false,\"textposition\":\"auto\",\"x\":[\"AA Noffke\",\"Z Khan\",\"JH Kallis\",\"SB Joshi\",\"CL White\",\"P Kumar\",\"AB Agarkar\",\"SC Ganguly\",\"LR Shukla\",\"I Sharma\",\"AB Dinda\",\"JDP Oram\",\"JR Hopes\",\"MS Gony\",\"K Goel\",\"PP Chawla\",\"WA Mota\",\"IK Pathan\",\"S Sreesanth\",\"B Lee\",\"M Muralitharan\",\"P Amarnath\",\"Joginder Sharma\",\"GD McGrath\",\"B Geeves\",\"SK Warne\",\"YK Pathan\",\"D Salunkhe\",\"SR Watson\",\"SK Trivedi\",\"DL Vettori\",\"MF Maharoof\",\"MM Patel\",\"R Bhatia\",\"B Akhil\",\"R Vinay Kumar\",\"A Nehra\",\"SM Pollock\",\"DS Kulkarni\",\"AM Nayar\",\"Harbhajan Singh\",\"ST Jayasuriya\",\"WPUJC Vaas\",\"RP Singh\",\"SB Styris\",\"SB Bangar\",\"DJ Hussey\",\"Mohammad Hafeez\",\"M Kartik\",\"PP Ojha\",\"A Symonds\",\"Pankaj Singh\",\"Mohammad Asif\",\"VY Mahesh\",\"Shahid Afridi\",\"MA Khote\",\"DJ Bravo\",\"VS Yeligati\",\"D Kalyankrishna\",\"VRV Singh\",\"A Kumble\",\"Sohail Tanvir\",\"DNT Zoysa\",\"SD Chitnis\",\"Shoaib Malik\",\"Yuvraj Singh\",\"DW Steyn\",\"JA Morkel\",\"CRD Fernando\",\"V Sehwag\",\"V Kohli\",\"Gagandeep Singh\",\"Y Venugopal Rao\",\"Umar Gul\",\"M Ntini\",\"PJ Sangwan\",\"DP Vijaykumar\",\"DB Ravi Teja\",\"LPC Silva\",\"DJ Thornely\",\"RR Raje\",\"SK Raina\",\"S Vidyut\",\"L Balaji\",\"CK Kapugedera\",\"DR Smith\",\"AD Mascarenhas\",\"A Mishra\",\"Shoaib Akhtar\",\"Iqbal Abdulla\",\"RR Powar\",\"PM Sarvesh Kumar\",\"Abdur Razzak\",\"RA Jadeja\",\"TM Dilshan\",\"RG Sharma\",\"A Nel\",\"BAW Mendis\",\"A Flintoff\",\"T Thushara\",\"SL Malinga\",\"T Henderson\",\"Kamran Khan\",\"JD Ryder\",\"DP Nannes\",\"AM Salvi\",\"YA Abdulla\",\"VS Malik\",\"Harmeet Singh\",\"FH Edwards\",\"MC Henriques\",\"CH Gayle\",\"KP Pietersen\",\"LRPL Taylor\",\"RS Bopara\",\"MK Tiwary\",\"Anureet Singh\",\"RR Bose\",\"KP Appanna\",\"Shoaib Ahmed\",\"BJ Hodge\",\"SR Tendulkar\",\"RE van der Merwe\",\"JP Duminy\",\"S Tyagi\",\"GR Napier\",\"SM Harwood\",\"AS Raut\",\"SB Jakati\",\"D du Preez\",\"TL Suman\",\"RJ Harris\",\"A Singh\",\"M Morkel\",\"LA Carseldine\",\"A Mithun\",\"C Nanda\",\"SS Sarkar\",\"AD Mathews\",\"AM Rahane\",\"J Botha\",\"Mashrafe Mortaza\",\"AB McDonald\",\"Y Nagar\",\"CK Langeveldt\",\"R Ashwin\",\"RA Shaikh\",\"Jaskaran Singh\",\"AA Jhunjhunwala\",\"A Uniyal\",\"SW Tait\",\"AG Murtaza\",\"R Sathish\",\"R McLaren\",\"RS Gavaskar\",\"JM Kemp\",\"S Ladda\",\"Bipul Sharma\",\"SE Bond\",\"KA Pollard\",\"S Narwal\",\"UT Yadav\",\"SJ Srivastava\",\"AC Voges\",\"R Sharma\",\"J Theron\",\"NLTC Perera\",\"KAJ Roach\",\"PD Collingwood\",\"C Ganapathy\",\"MB Parmar\",\"DE Bollinger\",\"SB Wagh\",\"JD Unadkat\",\"AP Dole\",\"AN Ahmed\",\"FY Fazal\",\"MR Marsh\",\"L Ablish\",\"S Sriram\",\"AJ Finch\",\"STR Binny\",\"ND Doshi\",\"S Randiv\",\"TG Southee\",\"AL Menaria\",\"DT Christian\",\"AUK Pathan\",\"RV Gomez\",\"JEC Franklin\",\"WD Parnell\",\"M Manhas\",\"AC Thomas\",\"NJ Rimmington\",\"RN ten Doeschate\",\"S Nadeem\",\"BA Bhatt\",\"R Ninan\",\"JJ van der Wath\",\"S Aravind\",\"Shakib Al Hasan\",\"PC Valthaty\",\"S Dhawan\",\"J Syed Mohammad\",\"VR Aaron\",\"JE Taylor\",\"NL McCullum\",\"KMDN Kulasekara\",\"P Parameswaran\",\"I Malhotra\",\"B Chipli\",\"B Kumar\",\"AA Kazi\",\"Anand Rajan\",\"AA Chavan\",\"P Prasanth\",\"Y Gnaneswara Rao\",\"S Rana\",\"JP Faulkner\",\"SS Mundhe\",\"RW Price\",\"GJ Maxwell\",\"M de Lange\",\"MN Samuels\",\"KK Cooper\",\"DAJ Bracewell\",\"HV Patel\",\"Ankit Sharma\",\"DJ Harris\",\"TP Sudhindra\",\"F du Plessis\",\"SP Narine\",\"GB Hogg\",\"RR Bhatkal\",\"P Awana\",\"V Pratap Singh\",\"CJ McKay\",\"A Ashish Reddy\",\"AD Russell\",\"Azhar Mahmood\",\"A Chandila\",\"P Negi\",\"LJ Wright\",\"RJ Peterson\",\"R Shukla\",\"MJ Clarke\",\"BW Hilfenhaus\",\"SPD Smith\",\"K Upadhyay\",\"Sunny Gupta\",\"MG Johnson\",\"JJ Bumrah\",\"S Badree\",\"AS Rajpoot\",\"B Laughlin\",\"GH Vihari\",\"Mohammed Shami\",\"BMAJ Mendis\",\"CH Morris\",\"Harmeet Singh (2)\",\"S Kaul\",\"R Dhawan\",\"MM Sharma\",\"R Rampaul\",\"SMSM Senanayake\",\"KV Sharma\",\"JO Holder\",\"IC Pandey\",\"Sandeep Sharma\",\"YS Chahal\",\"DJG Sammy\",\"KW Richardson\",\"P Suyal\",\"PV Tambe\",\"BJ Rohrer\",\"Parvez Rasool\",\"MG Neser\",\"NM Coulter-Nile\",\"AC Gilchrist\",\"CJ Anderson\",\"MA Starc\",\"JDS Neesham\",\"AR Patel\",\"M Vijay\",\"R Tewatia\",\"SA Yadav\",\"Shivam Sharma\",\"Imran Tahir\",\"V Shankar\",\"LMP Simmons\",\"BCJ Cutting\",\"S Gopal\",\"K Santokie\",\"BE Hendricks\",\"PJ Cummins\",\"JW Hastings\",\"Karanveer Singh\",\"DJ Muthuswami\",\"TA Boult\",\"SA Abbott\",\"KC Cariappa\",\"DJ Hooda\",\"J Suchith\",\"RG More\",\"MJ McClenaghan\",\"D Wiese\",\"HH Pandya\",\"SN Thakur\",\"GS Sandhu\",\"Gurkeerat Singh\",\"J Yadav\",\"BB Sran\",\"M Ashwin\",\"CR Brathwaite\",\"C Munro\",\"MP Stoinis\",\"P Sahu\",\"Mustafizur Rahman\",\"AF Milne\",\"Kuldeep Yadav\",\"KH Pandya\",\"KJ Abbott\",\"T Shamsi\",\"S Kaushik\",\"SM Boland\",\"Swapnil Singh\",\"CJ Jordan\",\"A Zampa\",\"Sachin Baby\",\"N Rana\",\"DL Chahar\",\"KS Williamson\",\"TM Head\",\"A Choudhary\",\"TS Mills\",\"Rashid Khan\",\"BA Stokes\",\"CR Woakes\",\"T Natarajan\",\"RD Chahar\",\"B Stanlake\",\"Basil Thampi\",\"Tejas Baroka\",\"C de Grandhomme\",\"AJ Tye\",\"LH Ferguson\",\"Mohammad Nabi\",\"Mohammed Siraj\",\"K Rabada\",\"Washington Sundar\",\"SS Agarwal\",\"NB Singh\",\"RA Tripathi\",\"Ankit Soni\",\"MJ Henry\",\"Avesh Khan\",\"MA Wood\",\"M Markande\",\"Mujeeb Ur Rahman\",\"K Khejroliya\",\"K Gowtham\",\"DJM Short\",\"TK Curran\",\"A Dananjaya\",\"Shivam Mavi\",\"JC Archer\",\"LE Plunkett\",\"IS Sodhi\",\"MK Lomror\",\"KM Asif\",\"L Ngidi\",\"DJ Willey\",\"M Prasidh Krishna\",\"MM Ali\",\"JPR Scantlebury-Searles\",\"S Lamichhane\",\"CJ Dala\",\"KK Ahmed\",\"NA Saini\",\"S Dube\",\"Rasikh Salam\",\"KMA Paul\",\"SM Curran\",\"CV Varun\",\"GC Viljoen\",\"Mandeep Singh\",\"P Ray Barman\",\"MJ Santner\",\"JP Behrendorff\",\"SC Kuggeleijn\",\"AS Joseph\",\"HF Gurney\",\"S Midhun\",\"R Parag\",\"LS Livingstone\",\"SN Khan\",\"Abhishek Sharma\",\"Arshdeep Singh\",\"Harpreet Brar\",\"SE Rutherford\",\"Y Prithvi Raj\",\"O Thomas\",\"AS Roy\",\"S Sandeep Warrier\",\"JL Pattinson\",\"SS Cottrell\",\"A Nortje\",\"Ravi Bishnoi\",\"I Udana\",\"TU Deshpande\",\"KL Nagarkoti\",\"Kartik Tyagi\",\"DR Sams\",\"Shahbaz Ahmed\",\"Abdul Samad\",\"JR Hazlewood\",\"DA Warner\",\"CJ Green\",\"P Dubey\",\"Monu Kumar\"],\"xaxis\":\"x\",\"y\":[6.0,863.0,595.0,18.0,8.0,1066.0,252.0,75.0,107.0,816.0,617.0,77.0,105.0,347.0,19.0,1133.0,24.0,826.0,398.0,370.0,595.0,29.0,70.0,151.0,14.0,425.0,393.0,13.0,794.0,487.0,266.0,161.0,584.0,429.0,60.0,750.0,788.0,129.0,732.0,69.0,1240.0,81.0,124.0,737.0,82.0,53.0,84.0,22.0,377.0,661.0,188.0,111.0,64.0,120.0,57.0,5.0,847.0,6.0,10.0,112.0,371.0,120.0,24.0,9.0,15.0,256.0,1012.0,639.0,97.0,44.0,52.0,25.0,58.0,50.0,99.0,294.0,63.0,4.0,0.0,19.0,38.0,277.0,5.0,532.0,0.0,167.0,124.0,1119.0,23.0,326.0,165.0,11.0,5.0,866.0,79.0,88.0,7.0,75.0,20.0,56.0,1135.0,14.0,59.0,76.0,278.0,57.0,88.0,84.0,187.0,69.0,276.0,179.0,52.0,0.0,59.0,9.0,138.0,5.0,67.0,33.0,74.0,4.0,145.0,234.0,93.0,8.0,33.0,6.0,335.0,18.0,43.0,364.0,187.0,705.0,4.0,89.0,13.0,4.0,224.0,2.0,252.0,6.0,49.0,16.0,69.0,1160.0,1.0,39.0,27.0,7.0,199.0,99.0,28.0,115.0,2.0,15.0,48.0,128.0,75.0,353.0,36.0,946.0,103.0,14.0,333.0,64.0,222.0,20.0,24.0,1.0,4.0,252.0,45.0,537.0,20.0,117.0,1.0,113.0,8.0,2.0,13.0,195.0,24.0,59.0,325.0,40.0,267.0,9.0,36.0,39.0,240.0,15.0,124.0,9.0,21.0,440.0,92.0,8.0,29.0,287.0,451.0,44.0,17.0,46.0,380.0,48.0,10.0,45.0,64.0,0.0,1.0,1147.0,1.0,56.0,100.0,3.0,3.0,5.0,391.0,4.0,1.0,161.0,38.0,78.0,182.0,10.0,306.0,137.0,4.0,18.0,0.0,1090.0,157.0,0.0,291.0,70.0,14.0,78.0,396.0,199.0,103.0,236.0,14.0,21.0,36.0,21.0,172.0,0.0,20.0,0.0,531.0,803.0,109.0,192.0,42.0,17.0,479.0,11.0,579.0,12.0,312.0,149.0,637.0,127.0,73.0,406.0,131.0,211.0,841.0,750.0,71.0,124.0,36.0,205.0,1.0,60.0,5.0,315.0,1.0,78.0,227.0,39.0,652.0,8.0,201.0,2.0,37.0,422.0,54.0,2.0,75.0,288.0,15.0,50.0,249.0,31.0,62.0,44.0,443.0,6.0,61.0,61.0,81.0,4.0,503.0,78.0,286.0,323.0,9.0,26.0,102.0,167.0,199.0,72.0,5.0,138.0,24.0,194.0,32.0,262.0,394.0,28.0,26.0,68.0,14.0,10.0,118.0,90.0,4.0,34.0,438.0,2.0,7.0,42.0,41.0,602.0,223.0,130.0,145.0,239.0,64.0,112.0,6.0,58.0,184.0,110.0,115.0,273.0,300.0,238.0,7.0,13.0,0.0,35.0,7.0,68.0,5.0,91.0,137.0,25.0,132.0,7.0,38.0,6.0,121.0,376.0,39.0,64.0,2.0,16.0,106.0,19.0,181.0,94.0,7.0,75.0,7.0,147.0,246.0,16.0,8.0,52.0,143.0,118.0,42.0,1.0,2.0,49.0,51.0,17.0,23.0,50.0,3.0,21.0,3.0,0.0,11.0,68.0,13.0,7.0,8.0,17.0,4.0,37.0,77.0,58.0,149.0,117.0,45.0,28.0,44.0,78.0,22.0,8.0,9.0,29.0,0.0,6.0,12.0,4.0],\"yaxis\":\"y\",\"type\":\"bar\"}],                        {\"template\":{\"data\":{\"bar\":[{\"error_x\":{\"color\":\"#2a3f5f\"},\"error_y\":{\"color\":\"#2a3f5f\"},\"marker\":{\"line\":{\"color\":\"#E5ECF6\",\"width\":0.5},\"pattern\":{\"fillmode\":\"overlay\",\"size\":10,\"solidity\":0.2}},\"type\":\"bar\"}],\"barpolar\":[{\"marker\":{\"line\":{\"color\":\"#E5ECF6\",\"width\":0.5},\"pattern\":{\"fillmode\":\"overlay\",\"size\":10,\"solidity\":0.2}},\"type\":\"barpolar\"}],\"carpet\":[{\"aaxis\":{\"endlinecolor\":\"#2a3f5f\",\"gridcolor\":\"white\",\"linecolor\":\"white\",\"minorgridcolor\":\"white\",\"startlinecolor\":\"#2a3f5f\"},\"baxis\":{\"endlinecolor\":\"#2a3f5f\",\"gridcolor\":\"white\",\"linecolor\":\"white\",\"minorgridcolor\":\"white\",\"startlinecolor\":\"#2a3f5f\"},\"type\":\"carpet\"}],\"choropleth\":[{\"colorbar\":{\"outlinewidth\":0,\"ticks\":\"\"},\"type\":\"choropleth\"}],\"contour\":[{\"colorbar\":{\"outlinewidth\":0,\"ticks\":\"\"},\"colorscale\":[[0.0,\"#0d0887\"],[0.1111111111111111,\"#46039f\"],[0.2222222222222222,\"#7201a8\"],[0.3333333333333333,\"#9c179e\"],[0.4444444444444444,\"#bd3786\"],[0.5555555555555556,\"#d8576b\"],[0.6666666666666666,\"#ed7953\"],[0.7777777777777778,\"#fb9f3a\"],[0.8888888888888888,\"#fdca26\"],[1.0,\"#f0f921\"]],\"type\":\"contour\"}],\"contourcarpet\":[{\"colorbar\":{\"outlinewidth\":0,\"ticks\":\"\"},\"type\":\"contourcarpet\"}],\"heatmap\":[{\"colorbar\":{\"outlinewidth\":0,\"ticks\":\"\"},\"colorscale\":[[0.0,\"#0d0887\"],[0.1111111111111111,\"#46039f\"],[0.2222222222222222,\"#7201a8\"],[0.3333333333333333,\"#9c179e\"],[0.4444444444444444,\"#bd3786\"],[0.5555555555555556,\"#d8576b\"],[0.6666666666666666,\"#ed7953\"],[0.7777777777777778,\"#fb9f3a\"],[0.8888888888888888,\"#fdca26\"],[1.0,\"#f0f921\"]],\"type\":\"heatmap\"}],\"heatmapgl\":[{\"colorbar\":{\"outlinewidth\":0,\"ticks\":\"\"},\"colorscale\":[[0.0,\"#0d0887\"],[0.1111111111111111,\"#46039f\"],[0.2222222222222222,\"#7201a8\"],[0.3333333333333333,\"#9c179e\"],[0.4444444444444444,\"#bd3786\"],[0.5555555555555556,\"#d8576b\"],[0.6666666666666666,\"#ed7953\"],[0.7777777777777778,\"#fb9f3a\"],[0.8888888888888888,\"#fdca26\"],[1.0,\"#f0f921\"]],\"type\":\"heatmapgl\"}],\"histogram\":[{\"marker\":{\"pattern\":{\"fillmode\":\"overlay\",\"size\":10,\"solidity\":0.2}},\"type\":\"histogram\"}],\"histogram2d\":[{\"colorbar\":{\"outlinewidth\":0,\"ticks\":\"\"},\"colorscale\":[[0.0,\"#0d0887\"],[0.1111111111111111,\"#46039f\"],[0.2222222222222222,\"#7201a8\"],[0.3333333333333333,\"#9c179e\"],[0.4444444444444444,\"#bd3786\"],[0.5555555555555556,\"#d8576b\"],[0.6666666666666666,\"#ed7953\"],[0.7777777777777778,\"#fb9f3a\"],[0.8888888888888888,\"#fdca26\"],[1.0,\"#f0f921\"]],\"type\":\"histogram2d\"}],\"histogram2dcontour\":[{\"colorbar\":{\"outlinewidth\":0,\"ticks\":\"\"},\"colorscale\":[[0.0,\"#0d0887\"],[0.1111111111111111,\"#46039f\"],[0.2222222222222222,\"#7201a8\"],[0.3333333333333333,\"#9c179e\"],[0.4444444444444444,\"#bd3786\"],[0.5555555555555556,\"#d8576b\"],[0.6666666666666666,\"#ed7953\"],[0.7777777777777778,\"#fb9f3a\"],[0.8888888888888888,\"#fdca26\"],[1.0,\"#f0f921\"]],\"type\":\"histogram2dcontour\"}],\"mesh3d\":[{\"colorbar\":{\"outlinewidth\":0,\"ticks\":\"\"},\"type\":\"mesh3d\"}],\"parcoords\":[{\"line\":{\"colorbar\":{\"outlinewidth\":0,\"ticks\":\"\"}},\"type\":\"parcoords\"}],\"pie\":[{\"automargin\":true,\"type\":\"pie\"}],\"scatter\":[{\"marker\":{\"colorbar\":{\"outlinewidth\":0,\"ticks\":\"\"}},\"type\":\"scatter\"}],\"scatter3d\":[{\"line\":{\"colorbar\":{\"outlinewidth\":0,\"ticks\":\"\"}},\"marker\":{\"colorbar\":{\"outlinewidth\":0,\"ticks\":\"\"}},\"type\":\"scatter3d\"}],\"scattercarpet\":[{\"marker\":{\"colorbar\":{\"outlinewidth\":0,\"ticks\":\"\"}},\"type\":\"scattercarpet\"}],\"scattergeo\":[{\"marker\":{\"colorbar\":{\"outlinewidth\":0,\"ticks\":\"\"}},\"type\":\"scattergeo\"}],\"scattergl\":[{\"marker\":{\"colorbar\":{\"outlinewidth\":0,\"ticks\":\"\"}},\"type\":\"scattergl\"}],\"scattermapbox\":[{\"marker\":{\"colorbar\":{\"outlinewidth\":0,\"ticks\":\"\"}},\"type\":\"scattermapbox\"}],\"scatterpolar\":[{\"marker\":{\"colorbar\":{\"outlinewidth\":0,\"ticks\":\"\"}},\"type\":\"scatterpolar\"}],\"scatterpolargl\":[{\"marker\":{\"colorbar\":{\"outlinewidth\":0,\"ticks\":\"\"}},\"type\":\"scatterpolargl\"}],\"scatterternary\":[{\"marker\":{\"colorbar\":{\"outlinewidth\":0,\"ticks\":\"\"}},\"type\":\"scatterternary\"}],\"surface\":[{\"colorbar\":{\"outlinewidth\":0,\"ticks\":\"\"},\"colorscale\":[[0.0,\"#0d0887\"],[0.1111111111111111,\"#46039f\"],[0.2222222222222222,\"#7201a8\"],[0.3333333333333333,\"#9c179e\"],[0.4444444444444444,\"#bd3786\"],[0.5555555555555556,\"#d8576b\"],[0.6666666666666666,\"#ed7953\"],[0.7777777777777778,\"#fb9f3a\"],[0.8888888888888888,\"#fdca26\"],[1.0,\"#f0f921\"]],\"type\":\"surface\"}],\"table\":[{\"cells\":{\"fill\":{\"color\":\"#EBF0F8\"},\"line\":{\"color\":\"white\"}},\"header\":{\"fill\":{\"color\":\"#C8D4E3\"},\"line\":{\"color\":\"white\"}},\"type\":\"table\"}]},\"layout\":{\"annotationdefaults\":{\"arrowcolor\":\"#2a3f5f\",\"arrowhead\":0,\"arrowwidth\":1},\"autotypenumbers\":\"strict\",\"coloraxis\":{\"colorbar\":{\"outlinewidth\":0,\"ticks\":\"\"}},\"colorscale\":{\"diverging\":[[0,\"#8e0152\"],[0.1,\"#c51b7d\"],[0.2,\"#de77ae\"],[0.3,\"#f1b6da\"],[0.4,\"#fde0ef\"],[0.5,\"#f7f7f7\"],[0.6,\"#e6f5d0\"],[0.7,\"#b8e186\"],[0.8,\"#7fbc41\"],[0.9,\"#4d9221\"],[1,\"#276419\"]],\"sequential\":[[0.0,\"#0d0887\"],[0.1111111111111111,\"#46039f\"],[0.2222222222222222,\"#7201a8\"],[0.3333333333333333,\"#9c179e\"],[0.4444444444444444,\"#bd3786\"],[0.5555555555555556,\"#d8576b\"],[0.6666666666666666,\"#ed7953\"],[0.7777777777777778,\"#fb9f3a\"],[0.8888888888888888,\"#fdca26\"],[1.0,\"#f0f921\"]],\"sequentialminus\":[[0.0,\"#0d0887\"],[0.1111111111111111,\"#46039f\"],[0.2222222222222222,\"#7201a8\"],[0.3333333333333333,\"#9c179e\"],[0.4444444444444444,\"#bd3786\"],[0.5555555555555556,\"#d8576b\"],[0.6666666666666666,\"#ed7953\"],[0.7777777777777778,\"#fb9f3a\"],[0.8888888888888888,\"#fdca26\"],[1.0,\"#f0f921\"]]},\"colorway\":[\"#636efa\",\"#EF553B\",\"#00cc96\",\"#ab63fa\",\"#FFA15A\",\"#19d3f3\",\"#FF6692\",\"#B6E880\",\"#FF97FF\",\"#FECB52\"],\"font\":{\"color\":\"#2a3f5f\"},\"geo\":{\"bgcolor\":\"white\",\"lakecolor\":\"white\",\"landcolor\":\"#E5ECF6\",\"showlakes\":true,\"showland\":true,\"subunitcolor\":\"white\"},\"hoverlabel\":{\"align\":\"left\"},\"hovermode\":\"closest\",\"mapbox\":{\"style\":\"light\"},\"paper_bgcolor\":\"white\",\"plot_bgcolor\":\"#E5ECF6\",\"polar\":{\"angularaxis\":{\"gridcolor\":\"white\",\"linecolor\":\"white\",\"ticks\":\"\"},\"bgcolor\":\"#E5ECF6\",\"radialaxis\":{\"gridcolor\":\"white\",\"linecolor\":\"white\",\"ticks\":\"\"}},\"scene\":{\"xaxis\":{\"backgroundcolor\":\"#E5ECF6\",\"gridcolor\":\"white\",\"gridwidth\":2,\"linecolor\":\"white\",\"showbackground\":true,\"ticks\":\"\",\"zerolinecolor\":\"white\"},\"yaxis\":{\"backgroundcolor\":\"#E5ECF6\",\"gridcolor\":\"white\",\"gridwidth\":2,\"linecolor\":\"white\",\"showbackground\":true,\"ticks\":\"\",\"zerolinecolor\":\"white\"},\"zaxis\":{\"backgroundcolor\":\"#E5ECF6\",\"gridcolor\":\"white\",\"gridwidth\":2,\"linecolor\":\"white\",\"showbackground\":true,\"ticks\":\"\",\"zerolinecolor\":\"white\"}},\"shapedefaults\":{\"line\":{\"color\":\"#2a3f5f\"}},\"ternary\":{\"aaxis\":{\"gridcolor\":\"white\",\"linecolor\":\"white\",\"ticks\":\"\"},\"baxis\":{\"gridcolor\":\"white\",\"linecolor\":\"white\",\"ticks\":\"\"},\"bgcolor\":\"#E5ECF6\",\"caxis\":{\"gridcolor\":\"white\",\"linecolor\":\"white\",\"ticks\":\"\"}},\"title\":{\"x\":0.05},\"xaxis\":{\"automargin\":true,\"gridcolor\":\"white\",\"linecolor\":\"white\",\"ticks\":\"\",\"title\":{\"standoff\":15},\"zerolinecolor\":\"white\",\"zerolinewidth\":2},\"yaxis\":{\"automargin\":true,\"gridcolor\":\"white\",\"linecolor\":\"white\",\"ticks\":\"\",\"title\":{\"standoff\":15},\"zerolinecolor\":\"white\",\"zerolinewidth\":2}}},\"xaxis\":{\"anchor\":\"y\",\"domain\":[0.0,1.0],\"title\":{\"text\":\"BOWLER\"}},\"yaxis\":{\"anchor\":\"x\",\"domain\":[0.0,1.0],\"title\":{\"text\":\"DOT_BALLS\"}},\"legend\":{\"tracegroupgap\":0},\"margin\":{\"t\":60},\"barmode\":\"relative\"},                        {\"responsive\": true}                    ).then(function(){\n",
       "                            \n",
       "var gd = document.getElementById('184966ea-31e6-483c-a738-5e941d1ebaec');\n",
       "var x = new MutationObserver(function (mutations, observer) {{\n",
       "        var display = window.getComputedStyle(gd).display;\n",
       "        if (!display || display === 'none') {{\n",
       "            console.log([gd, 'removed!']);\n",
       "            Plotly.purge(gd);\n",
       "            observer.disconnect();\n",
       "        }}\n",
       "}});\n",
       "\n",
       "// Listen for the removal of the full notebook cells\n",
       "var notebookContainer = gd.closest('#notebook-container');\n",
       "if (notebookContainer) {{\n",
       "    x.observe(notebookContainer, {childList: true});\n",
       "}}\n",
       "\n",
       "// Listen for the clearing of the current output cell\n",
       "var outputEl = gd.closest('.output');\n",
       "if (outputEl) {{\n",
       "    x.observe(outputEl, {childList: true});\n",
       "}}\n",
       "\n",
       "                        })                };                });            </script>        </div>"
      ]
     },
     "metadata": {},
     "output_type": "display_data"
    }
   ],
   "source": [
    "#dot balls\n",
    "\n",
    "bowler = match.bowler.unique()\n",
    "dots_by_bowler = dict(zip(bowler,np.zeros(len(bowler))))\n",
    "\n",
    "\n",
    "for i in range(0,len(match)):\n",
    "    if((match['total_runs'][i] == 0 or match['is_wicket'][i] == 1) and (match['dismissal_kind'][i] != 'run out' and match['dismissal_kind'][i] != 'nan')):\n",
    "         dots_by_bowler[match['bowler'][i]] += 1\n",
    "                                                                        \n",
    "dot_data = pd.DataFrame(dict(BOWLER = dots_by_bowler.keys(),DOT_BALLS = dots_by_bowler.values()))\n",
    "dot_graph = px.bar(dot_data,x='BOWLER',y='DOT_BALLS')\n",
    "dot_graph\n",
    "                                                            "
   ]
  },
  {
   "cell_type": "code",
   "execution_count": null,
   "metadata": {},
   "outputs": [],
   "source": []
  }
 ],
 "metadata": {
  "colab": {
   "collapsed_sections": [],
   "name": "IPL_ball-ball.ipynb",
   "provenance": []
  },
  "kernelspec": {
   "display_name": "Python 3 (ipykernel)",
   "language": "python",
   "name": "python3"
  },
  "language_info": {
   "codemirror_mode": {
    "name": "ipython",
    "version": 3
   },
   "file_extension": ".py",
   "mimetype": "text/x-python",
   "name": "python",
   "nbconvert_exporter": "python",
   "pygments_lexer": "ipython3",
   "version": "3.9.7"
  }
 },
 "nbformat": 4,
 "nbformat_minor": 4
}
